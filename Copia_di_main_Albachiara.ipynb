{
  "nbformat": 4,
  "nbformat_minor": 0,
  "metadata": {
    "colab": {
      "provenance": [],
      "collapsed_sections": [],
      "include_colab_link": true
    },
    "kernelspec": {
      "name": "python3",
      "display_name": "Python 3"
    },
    "language_info": {
      "name": "python"
    }
  },
  "cells": [
    {
      "cell_type": "markdown",
      "metadata": {
        "id": "view-in-github",
        "colab_type": "text"
      },
      "source": [
        "<a href=\"https://colab.research.google.com/github/PaoloBarba/ADM_HW2-Group18/blob/main/Copia_di_main_Albachiara.ipynb\" target=\"_parent\"><img src=\"https://colab.research.google.com/assets/colab-badge.svg\" alt=\"Open In Colab\"/></a>"
      ]
    },
    {
      "cell_type": "markdown",
      "source": [
        "# **Algorithmic Methods of Data Mining**\n",
        "\n",
        "#Academic year 2022–2023\n",
        "\n",
        "# Homework 2 - Instagram Profiles & Posts\n",
        "\n",
        "Authors: Barba Paolo, Bellaroba Albachiara, Soukaina Alaoui, Navid"
      ],
      "metadata": {
        "id": "kYur1faNzt2h"
      }
    },
    {
      "cell_type": "markdown",
      "source": [
        "#Import the packages and upload datasets\n"
      ],
      "metadata": {
        "id": "z4aPRI3HA63g"
      }
    },
    {
      "cell_type": "code",
      "execution_count": 1,
      "metadata": {
        "id": "wLM1xak2KwOU"
      },
      "outputs": [],
      "source": [
        "import pandas as pd\n",
        "#import functions as fc\n",
        "import random\n",
        "import numpy as np\n",
        "import math\n",
        "import seaborn as sns\n",
        "import matplotlib.pyplot as plt\n",
        "from tqdm import tqdm\n",
        "%matplotlib inline     \n"
      ]
    },
    {
      "cell_type": "code",
      "source": [
        "from google.colab import drive \n",
        "drive.mount('/content/drive/')"
      ],
      "metadata": {
        "colab": {
          "base_uri": "https://localhost:8080/"
        },
        "id": "BGnoXZUTLWAw",
        "outputId": "ae40e265-a0cc-43eb-b3ab-5c776d305d69"
      },
      "execution_count": 2,
      "outputs": [
        {
          "output_type": "stream",
          "name": "stdout",
          "text": [
            "Drive already mounted at /content/drive/; to attempt to forcibly remount, call drive.mount(\"/content/drive/\", force_remount=True).\n"
          ]
        }
      ]
    },
    {
      "cell_type": "code",
      "source": [
        "locations =pd.read_csv('/content/drive/MyDrive/ADM_HW2/instagram_locations.csv',sep='\\t')\n",
        "profiles =pd.read_csv(\"/content/drive/MyDrive/ADM_HW2/instagram_profiles.csv\",sep='\\t')\n",
        "posts =pd.read_csv(\"/content/drive/MyDrive/ADM_HW2/instagram_posts.csv\",sep='\\t',nrows=1000000)\n",
        "#print(posts)"
      ],
      "metadata": {
        "id": "iX6V6SXCQ6tK"
      },
      "execution_count": 3,
      "outputs": []
    },
    {
      "cell_type": "markdown",
      "source": [
        "#Research question 1: Exploratory Data Analysis\n",
        "## Data summaritation"
      ],
      "metadata": {
        "id": "BpkqZqMECBDT"
      }
    },
    {
      "cell_type": "markdown",
      "source": [
        "In order to do an explanatory data analysis we will go through three different steps: Data Explorations, Data Manipulations and Data Summaritation.\n",
        "First we will show the firsts rows of the datasets we are analysing.\n"
      ],
      "metadata": {
        "id": "VXsKZDOdCIRo"
      }
    },
    {
      "cell_type": "code",
      "source": [
        "locations.head()"
      ],
      "metadata": {
        "id": "aVi6zjocbcK2",
        "outputId": "5fc9b383-9a58-4fc2-c5b2-d50a7a6ece3a",
        "colab": {
          "base_uri": "https://localhost:8080/",
          "height": 490
        }
      },
      "execution_count": null,
      "outputs": [
        {
          "output_type": "execute_result",
          "data": {
            "text/plain": [
              "      sid               id                                               name  \\\n",
              "0  719981  110296492939207                 Playa de Daimuz - Valencia, España   \n",
              "1  719983        274391278                                        Nová Vieska   \n",
              "2  719985  148885595789195                                      Everest Today   \n",
              "3  719987        263258277  BULAC - Bibliothèque universitaire des langues...   \n",
              "4  326443  406147529857708                           ABC Cable Networks Group   \n",
              "\n",
              "                       street    zip                 city region   cd  \\\n",
              "0                         NaN    NaN                  NaN    NaN  NaN   \n",
              "1                         NaN    NaN          Nová Vieska    NaN   SK   \n",
              "2                   Himalayas   +977     Kathmandu, Nepal    NaN   NP   \n",
              "3  65, rue des Grands-Moulins  75013        Paris, France    NaN   FR   \n",
              "4          3800 W Alameda Ave  91505  Burbank, California    NaN   US   \n",
              "\n",
              "            phone aj_exact_city_match  ...               dir_city_name  \\\n",
              "0             NaN               False  ...                         NaN   \n",
              "1             NaN                True  ...                  Kis-Újfalu   \n",
              "2             NaN               False  ...                    Pasupati   \n",
              "3  01 81 69 18 00               False  ...  13ème Arrondissement Paris   \n",
              "4  (818) 569-7500               False  ...                         NaN   \n",
              "\n",
              "                dir_city_slug dir_country_id dir_country_name         lat  \\\n",
              "0                         NaN            NaN              NaN   -0.139475   \n",
              "1                  kis-ujfalu             SK         Slovakia   18.466667   \n",
              "2                    pasupati             NP            Nepal   85.330150   \n",
              "3  13eme-arrondissement-paris             FR           France    2.375995   \n",
              "4                         NaN            NaN              NaN -118.341864   \n",
              "\n",
              "         lng primary_alias_on_fb  \\\n",
              "0  38.974391         daimuzplaya   \n",
              "1  47.866667                 NaN   \n",
              "2  27.701960        EverestToday   \n",
              "3  48.827240         BULAC.Paris   \n",
              "4  34.153265                 NaN   \n",
              "\n",
              "                                                slug  \\\n",
              "0                    playa-de-daimuz-valencia-espana   \n",
              "1                                        nova-vieska   \n",
              "2                                      everest-today   \n",
              "3  bulac-bibliotheque-universitaire-des-langues-e...   \n",
              "4                           abc-cable-networks-group   \n",
              "\n",
              "                                website                      cts  \n",
              "0  https://es.wikipedia.org/wiki/Daimuz  2019-05-29 01:21:29.987  \n",
              "1                                   NaN  2019-05-29 01:21:38.037  \n",
              "2                                   NaN  2019-05-29 01:21:46.295  \n",
              "3                          www.bulac.fr  2019-05-29 01:21:54.355  \n",
              "4                                   NaN  2019-04-02 15:22:55.703  \n",
              "\n",
              "[5 rows x 23 columns]"
            ],
            "text/html": [
              "\n",
              "  <div id=\"df-50f864e5-d615-4a23-82f1-c404611ebcf0\">\n",
              "    <div class=\"colab-df-container\">\n",
              "      <div>\n",
              "<style scoped>\n",
              "    .dataframe tbody tr th:only-of-type {\n",
              "        vertical-align: middle;\n",
              "    }\n",
              "\n",
              "    .dataframe tbody tr th {\n",
              "        vertical-align: top;\n",
              "    }\n",
              "\n",
              "    .dataframe thead th {\n",
              "        text-align: right;\n",
              "    }\n",
              "</style>\n",
              "<table border=\"1\" class=\"dataframe\">\n",
              "  <thead>\n",
              "    <tr style=\"text-align: right;\">\n",
              "      <th></th>\n",
              "      <th>sid</th>\n",
              "      <th>id</th>\n",
              "      <th>name</th>\n",
              "      <th>street</th>\n",
              "      <th>zip</th>\n",
              "      <th>city</th>\n",
              "      <th>region</th>\n",
              "      <th>cd</th>\n",
              "      <th>phone</th>\n",
              "      <th>aj_exact_city_match</th>\n",
              "      <th>...</th>\n",
              "      <th>dir_city_name</th>\n",
              "      <th>dir_city_slug</th>\n",
              "      <th>dir_country_id</th>\n",
              "      <th>dir_country_name</th>\n",
              "      <th>lat</th>\n",
              "      <th>lng</th>\n",
              "      <th>primary_alias_on_fb</th>\n",
              "      <th>slug</th>\n",
              "      <th>website</th>\n",
              "      <th>cts</th>\n",
              "    </tr>\n",
              "  </thead>\n",
              "  <tbody>\n",
              "    <tr>\n",
              "      <th>0</th>\n",
              "      <td>719981</td>\n",
              "      <td>110296492939207</td>\n",
              "      <td>Playa de Daimuz - Valencia, España</td>\n",
              "      <td>NaN</td>\n",
              "      <td>NaN</td>\n",
              "      <td>NaN</td>\n",
              "      <td>NaN</td>\n",
              "      <td>NaN</td>\n",
              "      <td>NaN</td>\n",
              "      <td>False</td>\n",
              "      <td>...</td>\n",
              "      <td>NaN</td>\n",
              "      <td>NaN</td>\n",
              "      <td>NaN</td>\n",
              "      <td>NaN</td>\n",
              "      <td>-0.139475</td>\n",
              "      <td>38.974391</td>\n",
              "      <td>daimuzplaya</td>\n",
              "      <td>playa-de-daimuz-valencia-espana</td>\n",
              "      <td>https://es.wikipedia.org/wiki/Daimuz</td>\n",
              "      <td>2019-05-29 01:21:29.987</td>\n",
              "    </tr>\n",
              "    <tr>\n",
              "      <th>1</th>\n",
              "      <td>719983</td>\n",
              "      <td>274391278</td>\n",
              "      <td>Nová Vieska</td>\n",
              "      <td>NaN</td>\n",
              "      <td>NaN</td>\n",
              "      <td>Nová Vieska</td>\n",
              "      <td>NaN</td>\n",
              "      <td>SK</td>\n",
              "      <td>NaN</td>\n",
              "      <td>True</td>\n",
              "      <td>...</td>\n",
              "      <td>Kis-Újfalu</td>\n",
              "      <td>kis-ujfalu</td>\n",
              "      <td>SK</td>\n",
              "      <td>Slovakia</td>\n",
              "      <td>18.466667</td>\n",
              "      <td>47.866667</td>\n",
              "      <td>NaN</td>\n",
              "      <td>nova-vieska</td>\n",
              "      <td>NaN</td>\n",
              "      <td>2019-05-29 01:21:38.037</td>\n",
              "    </tr>\n",
              "    <tr>\n",
              "      <th>2</th>\n",
              "      <td>719985</td>\n",
              "      <td>148885595789195</td>\n",
              "      <td>Everest Today</td>\n",
              "      <td>Himalayas</td>\n",
              "      <td>+977</td>\n",
              "      <td>Kathmandu, Nepal</td>\n",
              "      <td>NaN</td>\n",
              "      <td>NP</td>\n",
              "      <td>NaN</td>\n",
              "      <td>False</td>\n",
              "      <td>...</td>\n",
              "      <td>Pasupati</td>\n",
              "      <td>pasupati</td>\n",
              "      <td>NP</td>\n",
              "      <td>Nepal</td>\n",
              "      <td>85.330150</td>\n",
              "      <td>27.701960</td>\n",
              "      <td>EverestToday</td>\n",
              "      <td>everest-today</td>\n",
              "      <td>NaN</td>\n",
              "      <td>2019-05-29 01:21:46.295</td>\n",
              "    </tr>\n",
              "    <tr>\n",
              "      <th>3</th>\n",
              "      <td>719987</td>\n",
              "      <td>263258277</td>\n",
              "      <td>BULAC - Bibliothèque universitaire des langues...</td>\n",
              "      <td>65, rue des Grands-Moulins</td>\n",
              "      <td>75013</td>\n",
              "      <td>Paris, France</td>\n",
              "      <td>NaN</td>\n",
              "      <td>FR</td>\n",
              "      <td>01 81 69 18 00</td>\n",
              "      <td>False</td>\n",
              "      <td>...</td>\n",
              "      <td>13ème Arrondissement Paris</td>\n",
              "      <td>13eme-arrondissement-paris</td>\n",
              "      <td>FR</td>\n",
              "      <td>France</td>\n",
              "      <td>2.375995</td>\n",
              "      <td>48.827240</td>\n",
              "      <td>BULAC.Paris</td>\n",
              "      <td>bulac-bibliotheque-universitaire-des-langues-e...</td>\n",
              "      <td>www.bulac.fr</td>\n",
              "      <td>2019-05-29 01:21:54.355</td>\n",
              "    </tr>\n",
              "    <tr>\n",
              "      <th>4</th>\n",
              "      <td>326443</td>\n",
              "      <td>406147529857708</td>\n",
              "      <td>ABC Cable Networks Group</td>\n",
              "      <td>3800 W Alameda Ave</td>\n",
              "      <td>91505</td>\n",
              "      <td>Burbank, California</td>\n",
              "      <td>NaN</td>\n",
              "      <td>US</td>\n",
              "      <td>(818) 569-7500</td>\n",
              "      <td>False</td>\n",
              "      <td>...</td>\n",
              "      <td>NaN</td>\n",
              "      <td>NaN</td>\n",
              "      <td>NaN</td>\n",
              "      <td>NaN</td>\n",
              "      <td>-118.341864</td>\n",
              "      <td>34.153265</td>\n",
              "      <td>NaN</td>\n",
              "      <td>abc-cable-networks-group</td>\n",
              "      <td>NaN</td>\n",
              "      <td>2019-04-02 15:22:55.703</td>\n",
              "    </tr>\n",
              "  </tbody>\n",
              "</table>\n",
              "<p>5 rows × 23 columns</p>\n",
              "</div>\n",
              "      <button class=\"colab-df-convert\" onclick=\"convertToInteractive('df-50f864e5-d615-4a23-82f1-c404611ebcf0')\"\n",
              "              title=\"Convert this dataframe to an interactive table.\"\n",
              "              style=\"display:none;\">\n",
              "        \n",
              "  <svg xmlns=\"http://www.w3.org/2000/svg\" height=\"24px\"viewBox=\"0 0 24 24\"\n",
              "       width=\"24px\">\n",
              "    <path d=\"M0 0h24v24H0V0z\" fill=\"none\"/>\n",
              "    <path d=\"M18.56 5.44l.94 2.06.94-2.06 2.06-.94-2.06-.94-.94-2.06-.94 2.06-2.06.94zm-11 1L8.5 8.5l.94-2.06 2.06-.94-2.06-.94L8.5 2.5l-.94 2.06-2.06.94zm10 10l.94 2.06.94-2.06 2.06-.94-2.06-.94-.94-2.06-.94 2.06-2.06.94z\"/><path d=\"M17.41 7.96l-1.37-1.37c-.4-.4-.92-.59-1.43-.59-.52 0-1.04.2-1.43.59L10.3 9.45l-7.72 7.72c-.78.78-.78 2.05 0 2.83L4 21.41c.39.39.9.59 1.41.59.51 0 1.02-.2 1.41-.59l7.78-7.78 2.81-2.81c.8-.78.8-2.07 0-2.86zM5.41 20L4 18.59l7.72-7.72 1.47 1.35L5.41 20z\"/>\n",
              "  </svg>\n",
              "      </button>\n",
              "      \n",
              "  <style>\n",
              "    .colab-df-container {\n",
              "      display:flex;\n",
              "      flex-wrap:wrap;\n",
              "      gap: 12px;\n",
              "    }\n",
              "\n",
              "    .colab-df-convert {\n",
              "      background-color: #E8F0FE;\n",
              "      border: none;\n",
              "      border-radius: 50%;\n",
              "      cursor: pointer;\n",
              "      display: none;\n",
              "      fill: #1967D2;\n",
              "      height: 32px;\n",
              "      padding: 0 0 0 0;\n",
              "      width: 32px;\n",
              "    }\n",
              "\n",
              "    .colab-df-convert:hover {\n",
              "      background-color: #E2EBFA;\n",
              "      box-shadow: 0px 1px 2px rgba(60, 64, 67, 0.3), 0px 1px 3px 1px rgba(60, 64, 67, 0.15);\n",
              "      fill: #174EA6;\n",
              "    }\n",
              "\n",
              "    [theme=dark] .colab-df-convert {\n",
              "      background-color: #3B4455;\n",
              "      fill: #D2E3FC;\n",
              "    }\n",
              "\n",
              "    [theme=dark] .colab-df-convert:hover {\n",
              "      background-color: #434B5C;\n",
              "      box-shadow: 0px 1px 3px 1px rgba(0, 0, 0, 0.15);\n",
              "      filter: drop-shadow(0px 1px 2px rgba(0, 0, 0, 0.3));\n",
              "      fill: #FFFFFF;\n",
              "    }\n",
              "  </style>\n",
              "\n",
              "      <script>\n",
              "        const buttonEl =\n",
              "          document.querySelector('#df-50f864e5-d615-4a23-82f1-c404611ebcf0 button.colab-df-convert');\n",
              "        buttonEl.style.display =\n",
              "          google.colab.kernel.accessAllowed ? 'block' : 'none';\n",
              "\n",
              "        async function convertToInteractive(key) {\n",
              "          const element = document.querySelector('#df-50f864e5-d615-4a23-82f1-c404611ebcf0');\n",
              "          const dataTable =\n",
              "            await google.colab.kernel.invokeFunction('convertToInteractive',\n",
              "                                                     [key], {});\n",
              "          if (!dataTable) return;\n",
              "\n",
              "          const docLinkHtml = 'Like what you see? Visit the ' +\n",
              "            '<a target=\"_blank\" href=https://colab.research.google.com/notebooks/data_table.ipynb>data table notebook</a>'\n",
              "            + ' to learn more about interactive tables.';\n",
              "          element.innerHTML = '';\n",
              "          dataTable['output_type'] = 'display_data';\n",
              "          await google.colab.output.renderOutput(dataTable, element);\n",
              "          const docLink = document.createElement('div');\n",
              "          docLink.innerHTML = docLinkHtml;\n",
              "          element.appendChild(docLink);\n",
              "        }\n",
              "      </script>\n",
              "    </div>\n",
              "  </div>\n",
              "  "
            ]
          },
          "metadata": {},
          "execution_count": 6
        }
      ]
    },
    {
      "cell_type": "code",
      "source": [
        "profiles.head()"
      ],
      "metadata": {
        "id": "bj3WmAzyCMEy",
        "outputId": "016bfd98-fbfe-4972-9d54-37d8d1374c11",
        "colab": {
          "base_uri": "https://localhost:8080/",
          "height": 337
        }
      },
      "execution_count": null,
      "outputs": [
        {
          "output_type": "execute_result",
          "data": {
            "text/plain": [
              "       sid    profile_id      profile_name firstname_lastname  \\\n",
              "0  4184446  4.721050e+09       jphillip033        John Pierce   \n",
              "1  4184457  5.905830e+08         mama_haas             Deanna   \n",
              "2  4184460  1.074147e+09  yellowlightbreen         Eliza Gray   \n",
              "3  4184461  1.472039e+09           tec1025       Thomas Clark   \n",
              "4  4184462  3.531421e+09        luckyfluff                NaN   \n",
              "\n",
              "                                         description  following  followers  \\\n",
              "0                       \"Document Everything Always\"      250.0      146.0   \n",
              "1  Trying to enjoy the simple things in life. Kni...      534.0     1145.0   \n",
              "2                                Maine is for Lovers      469.0      324.0   \n",
              "3                                                NaN        NaN        NaN   \n",
              "4                                                NaN        NaN        NaN   \n",
              "\n",
              "   n_posts                           url                            cts  \\\n",
              "0    170.0                           NaN  2019-08-01 14:38:55.394 -0400   \n",
              "1   2878.0  www.etsy.com/shop/MamaHaas69  2019-08-01 14:39:36.526 -0400   \n",
              "2    431.0             elizajanegray.com  2019-08-01 14:39:54.407 -0400   \n",
              "3      NaN                           NaN  2019-08-01 14:40:06.472 -0400   \n",
              "4      NaN                           NaN  2019-08-01 14:40:07.806 -0400   \n",
              "\n",
              "  is_business_account  \n",
              "0               False  \n",
              "1               False  \n",
              "2               False  \n",
              "3                 NaN  \n",
              "4                 NaN  "
            ],
            "text/html": [
              "\n",
              "  <div id=\"df-087ec084-b0e5-492f-810f-c522086d87cb\">\n",
              "    <div class=\"colab-df-container\">\n",
              "      <div>\n",
              "<style scoped>\n",
              "    .dataframe tbody tr th:only-of-type {\n",
              "        vertical-align: middle;\n",
              "    }\n",
              "\n",
              "    .dataframe tbody tr th {\n",
              "        vertical-align: top;\n",
              "    }\n",
              "\n",
              "    .dataframe thead th {\n",
              "        text-align: right;\n",
              "    }\n",
              "</style>\n",
              "<table border=\"1\" class=\"dataframe\">\n",
              "  <thead>\n",
              "    <tr style=\"text-align: right;\">\n",
              "      <th></th>\n",
              "      <th>sid</th>\n",
              "      <th>profile_id</th>\n",
              "      <th>profile_name</th>\n",
              "      <th>firstname_lastname</th>\n",
              "      <th>description</th>\n",
              "      <th>following</th>\n",
              "      <th>followers</th>\n",
              "      <th>n_posts</th>\n",
              "      <th>url</th>\n",
              "      <th>cts</th>\n",
              "      <th>is_business_account</th>\n",
              "    </tr>\n",
              "  </thead>\n",
              "  <tbody>\n",
              "    <tr>\n",
              "      <th>0</th>\n",
              "      <td>4184446</td>\n",
              "      <td>4.721050e+09</td>\n",
              "      <td>jphillip033</td>\n",
              "      <td>John Pierce</td>\n",
              "      <td>\"Document Everything Always\"</td>\n",
              "      <td>250.0</td>\n",
              "      <td>146.0</td>\n",
              "      <td>170.0</td>\n",
              "      <td>NaN</td>\n",
              "      <td>2019-08-01 14:38:55.394 -0400</td>\n",
              "      <td>False</td>\n",
              "    </tr>\n",
              "    <tr>\n",
              "      <th>1</th>\n",
              "      <td>4184457</td>\n",
              "      <td>5.905830e+08</td>\n",
              "      <td>mama_haas</td>\n",
              "      <td>Deanna</td>\n",
              "      <td>Trying to enjoy the simple things in life. Kni...</td>\n",
              "      <td>534.0</td>\n",
              "      <td>1145.0</td>\n",
              "      <td>2878.0</td>\n",
              "      <td>www.etsy.com/shop/MamaHaas69</td>\n",
              "      <td>2019-08-01 14:39:36.526 -0400</td>\n",
              "      <td>False</td>\n",
              "    </tr>\n",
              "    <tr>\n",
              "      <th>2</th>\n",
              "      <td>4184460</td>\n",
              "      <td>1.074147e+09</td>\n",
              "      <td>yellowlightbreen</td>\n",
              "      <td>Eliza Gray</td>\n",
              "      <td>Maine is for Lovers</td>\n",
              "      <td>469.0</td>\n",
              "      <td>324.0</td>\n",
              "      <td>431.0</td>\n",
              "      <td>elizajanegray.com</td>\n",
              "      <td>2019-08-01 14:39:54.407 -0400</td>\n",
              "      <td>False</td>\n",
              "    </tr>\n",
              "    <tr>\n",
              "      <th>3</th>\n",
              "      <td>4184461</td>\n",
              "      <td>1.472039e+09</td>\n",
              "      <td>tec1025</td>\n",
              "      <td>Thomas Clark</td>\n",
              "      <td>NaN</td>\n",
              "      <td>NaN</td>\n",
              "      <td>NaN</td>\n",
              "      <td>NaN</td>\n",
              "      <td>NaN</td>\n",
              "      <td>2019-08-01 14:40:06.472 -0400</td>\n",
              "      <td>NaN</td>\n",
              "    </tr>\n",
              "    <tr>\n",
              "      <th>4</th>\n",
              "      <td>4184462</td>\n",
              "      <td>3.531421e+09</td>\n",
              "      <td>luckyfluff</td>\n",
              "      <td>NaN</td>\n",
              "      <td>NaN</td>\n",
              "      <td>NaN</td>\n",
              "      <td>NaN</td>\n",
              "      <td>NaN</td>\n",
              "      <td>NaN</td>\n",
              "      <td>2019-08-01 14:40:07.806 -0400</td>\n",
              "      <td>NaN</td>\n",
              "    </tr>\n",
              "  </tbody>\n",
              "</table>\n",
              "</div>\n",
              "      <button class=\"colab-df-convert\" onclick=\"convertToInteractive('df-087ec084-b0e5-492f-810f-c522086d87cb')\"\n",
              "              title=\"Convert this dataframe to an interactive table.\"\n",
              "              style=\"display:none;\">\n",
              "        \n",
              "  <svg xmlns=\"http://www.w3.org/2000/svg\" height=\"24px\"viewBox=\"0 0 24 24\"\n",
              "       width=\"24px\">\n",
              "    <path d=\"M0 0h24v24H0V0z\" fill=\"none\"/>\n",
              "    <path d=\"M18.56 5.44l.94 2.06.94-2.06 2.06-.94-2.06-.94-.94-2.06-.94 2.06-2.06.94zm-11 1L8.5 8.5l.94-2.06 2.06-.94-2.06-.94L8.5 2.5l-.94 2.06-2.06.94zm10 10l.94 2.06.94-2.06 2.06-.94-2.06-.94-.94-2.06-.94 2.06-2.06.94z\"/><path d=\"M17.41 7.96l-1.37-1.37c-.4-.4-.92-.59-1.43-.59-.52 0-1.04.2-1.43.59L10.3 9.45l-7.72 7.72c-.78.78-.78 2.05 0 2.83L4 21.41c.39.39.9.59 1.41.59.51 0 1.02-.2 1.41-.59l7.78-7.78 2.81-2.81c.8-.78.8-2.07 0-2.86zM5.41 20L4 18.59l7.72-7.72 1.47 1.35L5.41 20z\"/>\n",
              "  </svg>\n",
              "      </button>\n",
              "      \n",
              "  <style>\n",
              "    .colab-df-container {\n",
              "      display:flex;\n",
              "      flex-wrap:wrap;\n",
              "      gap: 12px;\n",
              "    }\n",
              "\n",
              "    .colab-df-convert {\n",
              "      background-color: #E8F0FE;\n",
              "      border: none;\n",
              "      border-radius: 50%;\n",
              "      cursor: pointer;\n",
              "      display: none;\n",
              "      fill: #1967D2;\n",
              "      height: 32px;\n",
              "      padding: 0 0 0 0;\n",
              "      width: 32px;\n",
              "    }\n",
              "\n",
              "    .colab-df-convert:hover {\n",
              "      background-color: #E2EBFA;\n",
              "      box-shadow: 0px 1px 2px rgba(60, 64, 67, 0.3), 0px 1px 3px 1px rgba(60, 64, 67, 0.15);\n",
              "      fill: #174EA6;\n",
              "    }\n",
              "\n",
              "    [theme=dark] .colab-df-convert {\n",
              "      background-color: #3B4455;\n",
              "      fill: #D2E3FC;\n",
              "    }\n",
              "\n",
              "    [theme=dark] .colab-df-convert:hover {\n",
              "      background-color: #434B5C;\n",
              "      box-shadow: 0px 1px 3px 1px rgba(0, 0, 0, 0.15);\n",
              "      filter: drop-shadow(0px 1px 2px rgba(0, 0, 0, 0.3));\n",
              "      fill: #FFFFFF;\n",
              "    }\n",
              "  </style>\n",
              "\n",
              "      <script>\n",
              "        const buttonEl =\n",
              "          document.querySelector('#df-087ec084-b0e5-492f-810f-c522086d87cb button.colab-df-convert');\n",
              "        buttonEl.style.display =\n",
              "          google.colab.kernel.accessAllowed ? 'block' : 'none';\n",
              "\n",
              "        async function convertToInteractive(key) {\n",
              "          const element = document.querySelector('#df-087ec084-b0e5-492f-810f-c522086d87cb');\n",
              "          const dataTable =\n",
              "            await google.colab.kernel.invokeFunction('convertToInteractive',\n",
              "                                                     [key], {});\n",
              "          if (!dataTable) return;\n",
              "\n",
              "          const docLinkHtml = 'Like what you see? Visit the ' +\n",
              "            '<a target=\"_blank\" href=https://colab.research.google.com/notebooks/data_table.ipynb>data table notebook</a>'\n",
              "            + ' to learn more about interactive tables.';\n",
              "          element.innerHTML = '';\n",
              "          dataTable['output_type'] = 'display_data';\n",
              "          await google.colab.output.renderOutput(dataTable, element);\n",
              "          const docLink = document.createElement('div');\n",
              "          docLink.innerHTML = docLinkHtml;\n",
              "          element.appendChild(docLink);\n",
              "        }\n",
              "      </script>\n",
              "    </div>\n",
              "  </div>\n",
              "  "
            ]
          },
          "metadata": {},
          "execution_count": 7
        }
      ]
    },
    {
      "cell_type": "code",
      "source": [
        "posts.head()"
      ],
      "metadata": {
        "id": "c5dDdZl7CMMG",
        "outputId": "f303e3fe-6fce-4997-ca46-87c7b0530284",
        "colab": {
          "base_uri": "https://localhost:8080/",
          "height": 206
        }
      },
      "execution_count": null,
      "outputs": [
        {
          "output_type": "execute_result",
          "data": {
            "text/plain": [
              "        sid  sid_profile      post_id    profile_id   location_id  \\\n",
              "0  28370919      3496776  BXdjjUlgcgq  2.237948e+09  1.022366e+15   \n",
              "1  28370932           -1  BVg0pbolYBC  5.579335e+09  4.574268e+14   \n",
              "2  28370933           -1  BRgkjcXFp3Q  3.134296e+08  4.574268e+14   \n",
              "3  28370934           -1  BKTKeNhjEA7  1.837593e+09  4.574268e+14   \n",
              "4  28370935           -1   8-NQrvoYLX  1.131527e+09  4.574268e+14   \n",
              "\n",
              "                       cts  post_type  \\\n",
              "0  2017-08-06 20:06:57.000          2   \n",
              "1  2017-06-19 09:31:16.000          1   \n",
              "2  2017-03-11 20:05:03.000          1   \n",
              "3  2016-09-13 16:27:16.000          1   \n",
              "4  2015-10-18 10:19:27.000          1   \n",
              "\n",
              "                                         description  numbr_likes  \\\n",
              "0  Wreckloose! Deevalley bike park laps on the @i...           80   \n",
              "1  🙌🏼 believe in ya dreams 🙌🏼 just like I believe...           25   \n",
              "2  #meraviglia #incensi #the #candele #profumo #a...            9   \n",
              "3  #teatime #scorpion #friends #love #mountains #...            4   \n",
              "4                   thE sky gavE mE a #constEllation            8   \n",
              "\n",
              "   number_comments  \n",
              "0                0  \n",
              "1                1  \n",
              "2                0  \n",
              "3                0  \n",
              "4                0  "
            ],
            "text/html": [
              "\n",
              "  <div id=\"df-c39e3e9f-ee2a-4d77-b8f1-23a61c669316\">\n",
              "    <div class=\"colab-df-container\">\n",
              "      <div>\n",
              "<style scoped>\n",
              "    .dataframe tbody tr th:only-of-type {\n",
              "        vertical-align: middle;\n",
              "    }\n",
              "\n",
              "    .dataframe tbody tr th {\n",
              "        vertical-align: top;\n",
              "    }\n",
              "\n",
              "    .dataframe thead th {\n",
              "        text-align: right;\n",
              "    }\n",
              "</style>\n",
              "<table border=\"1\" class=\"dataframe\">\n",
              "  <thead>\n",
              "    <tr style=\"text-align: right;\">\n",
              "      <th></th>\n",
              "      <th>sid</th>\n",
              "      <th>sid_profile</th>\n",
              "      <th>post_id</th>\n",
              "      <th>profile_id</th>\n",
              "      <th>location_id</th>\n",
              "      <th>cts</th>\n",
              "      <th>post_type</th>\n",
              "      <th>description</th>\n",
              "      <th>numbr_likes</th>\n",
              "      <th>number_comments</th>\n",
              "    </tr>\n",
              "  </thead>\n",
              "  <tbody>\n",
              "    <tr>\n",
              "      <th>0</th>\n",
              "      <td>28370919</td>\n",
              "      <td>3496776</td>\n",
              "      <td>BXdjjUlgcgq</td>\n",
              "      <td>2.237948e+09</td>\n",
              "      <td>1.022366e+15</td>\n",
              "      <td>2017-08-06 20:06:57.000</td>\n",
              "      <td>2</td>\n",
              "      <td>Wreckloose! Deevalley bike park laps on the @i...</td>\n",
              "      <td>80</td>\n",
              "      <td>0</td>\n",
              "    </tr>\n",
              "    <tr>\n",
              "      <th>1</th>\n",
              "      <td>28370932</td>\n",
              "      <td>-1</td>\n",
              "      <td>BVg0pbolYBC</td>\n",
              "      <td>5.579335e+09</td>\n",
              "      <td>4.574268e+14</td>\n",
              "      <td>2017-06-19 09:31:16.000</td>\n",
              "      <td>1</td>\n",
              "      <td>🙌🏼 believe in ya dreams 🙌🏼 just like I believe...</td>\n",
              "      <td>25</td>\n",
              "      <td>1</td>\n",
              "    </tr>\n",
              "    <tr>\n",
              "      <th>2</th>\n",
              "      <td>28370933</td>\n",
              "      <td>-1</td>\n",
              "      <td>BRgkjcXFp3Q</td>\n",
              "      <td>3.134296e+08</td>\n",
              "      <td>4.574268e+14</td>\n",
              "      <td>2017-03-11 20:05:03.000</td>\n",
              "      <td>1</td>\n",
              "      <td>#meraviglia #incensi #the #candele #profumo #a...</td>\n",
              "      <td>9</td>\n",
              "      <td>0</td>\n",
              "    </tr>\n",
              "    <tr>\n",
              "      <th>3</th>\n",
              "      <td>28370934</td>\n",
              "      <td>-1</td>\n",
              "      <td>BKTKeNhjEA7</td>\n",
              "      <td>1.837593e+09</td>\n",
              "      <td>4.574268e+14</td>\n",
              "      <td>2016-09-13 16:27:16.000</td>\n",
              "      <td>1</td>\n",
              "      <td>#teatime #scorpion #friends #love #mountains #...</td>\n",
              "      <td>4</td>\n",
              "      <td>0</td>\n",
              "    </tr>\n",
              "    <tr>\n",
              "      <th>4</th>\n",
              "      <td>28370935</td>\n",
              "      <td>-1</td>\n",
              "      <td>8-NQrvoYLX</td>\n",
              "      <td>1.131527e+09</td>\n",
              "      <td>4.574268e+14</td>\n",
              "      <td>2015-10-18 10:19:27.000</td>\n",
              "      <td>1</td>\n",
              "      <td>thE sky gavE mE a #constEllation</td>\n",
              "      <td>8</td>\n",
              "      <td>0</td>\n",
              "    </tr>\n",
              "  </tbody>\n",
              "</table>\n",
              "</div>\n",
              "      <button class=\"colab-df-convert\" onclick=\"convertToInteractive('df-c39e3e9f-ee2a-4d77-b8f1-23a61c669316')\"\n",
              "              title=\"Convert this dataframe to an interactive table.\"\n",
              "              style=\"display:none;\">\n",
              "        \n",
              "  <svg xmlns=\"http://www.w3.org/2000/svg\" height=\"24px\"viewBox=\"0 0 24 24\"\n",
              "       width=\"24px\">\n",
              "    <path d=\"M0 0h24v24H0V0z\" fill=\"none\"/>\n",
              "    <path d=\"M18.56 5.44l.94 2.06.94-2.06 2.06-.94-2.06-.94-.94-2.06-.94 2.06-2.06.94zm-11 1L8.5 8.5l.94-2.06 2.06-.94-2.06-.94L8.5 2.5l-.94 2.06-2.06.94zm10 10l.94 2.06.94-2.06 2.06-.94-2.06-.94-.94-2.06-.94 2.06-2.06.94z\"/><path d=\"M17.41 7.96l-1.37-1.37c-.4-.4-.92-.59-1.43-.59-.52 0-1.04.2-1.43.59L10.3 9.45l-7.72 7.72c-.78.78-.78 2.05 0 2.83L4 21.41c.39.39.9.59 1.41.59.51 0 1.02-.2 1.41-.59l7.78-7.78 2.81-2.81c.8-.78.8-2.07 0-2.86zM5.41 20L4 18.59l7.72-7.72 1.47 1.35L5.41 20z\"/>\n",
              "  </svg>\n",
              "      </button>\n",
              "      \n",
              "  <style>\n",
              "    .colab-df-container {\n",
              "      display:flex;\n",
              "      flex-wrap:wrap;\n",
              "      gap: 12px;\n",
              "    }\n",
              "\n",
              "    .colab-df-convert {\n",
              "      background-color: #E8F0FE;\n",
              "      border: none;\n",
              "      border-radius: 50%;\n",
              "      cursor: pointer;\n",
              "      display: none;\n",
              "      fill: #1967D2;\n",
              "      height: 32px;\n",
              "      padding: 0 0 0 0;\n",
              "      width: 32px;\n",
              "    }\n",
              "\n",
              "    .colab-df-convert:hover {\n",
              "      background-color: #E2EBFA;\n",
              "      box-shadow: 0px 1px 2px rgba(60, 64, 67, 0.3), 0px 1px 3px 1px rgba(60, 64, 67, 0.15);\n",
              "      fill: #174EA6;\n",
              "    }\n",
              "\n",
              "    [theme=dark] .colab-df-convert {\n",
              "      background-color: #3B4455;\n",
              "      fill: #D2E3FC;\n",
              "    }\n",
              "\n",
              "    [theme=dark] .colab-df-convert:hover {\n",
              "      background-color: #434B5C;\n",
              "      box-shadow: 0px 1px 3px 1px rgba(0, 0, 0, 0.15);\n",
              "      filter: drop-shadow(0px 1px 2px rgba(0, 0, 0, 0.3));\n",
              "      fill: #FFFFFF;\n",
              "    }\n",
              "  </style>\n",
              "\n",
              "      <script>\n",
              "        const buttonEl =\n",
              "          document.querySelector('#df-c39e3e9f-ee2a-4d77-b8f1-23a61c669316 button.colab-df-convert');\n",
              "        buttonEl.style.display =\n",
              "          google.colab.kernel.accessAllowed ? 'block' : 'none';\n",
              "\n",
              "        async function convertToInteractive(key) {\n",
              "          const element = document.querySelector('#df-c39e3e9f-ee2a-4d77-b8f1-23a61c669316');\n",
              "          const dataTable =\n",
              "            await google.colab.kernel.invokeFunction('convertToInteractive',\n",
              "                                                     [key], {});\n",
              "          if (!dataTable) return;\n",
              "\n",
              "          const docLinkHtml = 'Like what you see? Visit the ' +\n",
              "            '<a target=\"_blank\" href=https://colab.research.google.com/notebooks/data_table.ipynb>data table notebook</a>'\n",
              "            + ' to learn more about interactive tables.';\n",
              "          element.innerHTML = '';\n",
              "          dataTable['output_type'] = 'display_data';\n",
              "          await google.colab.output.renderOutput(dataTable, element);\n",
              "          const docLink = document.createElement('div');\n",
              "          docLink.innerHTML = docLinkHtml;\n",
              "          element.appendChild(docLink);\n",
              "        }\n",
              "      </script>\n",
              "    </div>\n",
              "  </div>\n",
              "  "
            ]
          },
          "metadata": {},
          "execution_count": 8
        }
      ]
    },
    {
      "cell_type": "markdown",
      "source": [
        "Now we can look at the columns of our datasets in order to understand which variables we are analsing.\n",
        "First of all we are going to first an info into the dataset to quickly understand the variables we are working with, get the numbers of rows and \n",
        "columns we have for each dataset"
      ],
      "metadata": {
        "id": "ChBPh66WZsXz"
      }
    },
    {
      "cell_type": "code",
      "source": [
        "locations.info()"
      ],
      "metadata": {
        "id": "0mY-XE9VZWuY",
        "colab": {
          "base_uri": "https://localhost:8080/"
        },
        "outputId": "78ef8c32-f76a-425c-e4ef-8af202072de5"
      },
      "execution_count": null,
      "outputs": [
        {
          "output_type": "stream",
          "name": "stdout",
          "text": [
            "<class 'pandas.core.frame.DataFrame'>\n",
            "RangeIndex: 1022658 entries, 0 to 1022657\n",
            "Data columns (total 23 columns):\n",
            " #   Column                  Non-Null Count    Dtype  \n",
            "---  ------                  --------------    -----  \n",
            " 0   sid                     1022658 non-null  int64  \n",
            " 1   id                      1022658 non-null  int64  \n",
            " 2   name                    1022658 non-null  object \n",
            " 3   street                  715704 non-null   object \n",
            " 4   zip                     715579 non-null   object \n",
            " 5   city                    937166 non-null   object \n",
            " 6   region                  1760 non-null     object \n",
            " 7   cd                      939010 non-null   object \n",
            " 8   phone                   601688 non-null   object \n",
            " 9   aj_exact_city_match     1000510 non-null  object \n",
            " 10  aj_exact_country_match  1000510 non-null  object \n",
            " 11  blurb                   406705 non-null   object \n",
            " 12  dir_city_id             495698 non-null   object \n",
            " 13  dir_city_name           495698 non-null   object \n",
            " 14  dir_city_slug           495221 non-null   object \n",
            " 15  dir_country_id          495628 non-null   object \n",
            " 16  dir_country_name        495698 non-null   object \n",
            " 17  lat                     1016495 non-null  float64\n",
            " 18  lng                     1016495 non-null  float64\n",
            " 19  primary_alias_on_fb     425531 non-null   object \n",
            " 20  slug                    941668 non-null   object \n",
            " 21  website                 623262 non-null   object \n",
            " 22  cts                     1022658 non-null  object \n",
            "dtypes: float64(2), int64(2), object(19)\n",
            "memory usage: 179.5+ MB\n"
          ]
        }
      ]
    },
    {
      "cell_type": "code",
      "source": [
        "profiles.info()"
      ],
      "metadata": {
        "id": "K_wy7BA9ZnI2",
        "outputId": "c6a7103b-4156-41f6-d14f-9feb4f973d0b",
        "colab": {
          "base_uri": "https://localhost:8080/",
          "height": 170
        }
      },
      "execution_count": 1,
      "outputs": [
        {
          "output_type": "error",
          "ename": "NameError",
          "evalue": "ignored",
          "traceback": [
            "\u001b[0;31m---------------------------------------------------------------------------\u001b[0m",
            "\u001b[0;31mNameError\u001b[0m                                 Traceback (most recent call last)",
            "\u001b[0;32m<ipython-input-1-1f11b6adba79>\u001b[0m in \u001b[0;36m<module>\u001b[0;34m\u001b[0m\n\u001b[0;32m----> 1\u001b[0;31m \u001b[0mprofiles\u001b[0m\u001b[0;34m.\u001b[0m\u001b[0minfo\u001b[0m\u001b[0;34m(\u001b[0m\u001b[0;34m)\u001b[0m\u001b[0;34m\u001b[0m\u001b[0;34m\u001b[0m\u001b[0m\n\u001b[0m",
            "\u001b[0;31mNameError\u001b[0m: name 'profiles' is not defined"
          ]
        }
      ]
    },
    {
      "cell_type": "code",
      "source": [
        "posts.info()"
      ],
      "metadata": {
        "id": "WNvx6U-bZnK3"
      },
      "execution_count": null,
      "outputs": []
    },
    {
      "cell_type": "code",
      "source": [
        "print(\"Locations dataframe has \" + str(locations.shape[0]) + \" observations and \"  + str(locations.shape[1]) + \" variables\")\n",
        "print(\"Profiles dataframe has \" + str(profiles.shape[0]) + \" observations and \"  + str(profiles.shape[1]) + \" variables\")\n",
        "print(\"Posts dataframe has \" + str(posts.shape[0]) + \" observations and \"  + str(posts.shape[1]) + \" variables\")"
      ],
      "metadata": {
        "id": "O0skTFSVCa9_"
      },
      "execution_count": null,
      "outputs": []
    },
    {
      "cell_type": "markdown",
      "source": [
        "We are going one step further, having a better understanding of the statistical properties of these dataframes by using describe method that give us basics statistics of all the numerical columns we have.We are doing a statistical summaritation at all the numeric variables that have sense to summarize"
      ],
      "metadata": {
        "id": "Su-C4-QVCehW"
      }
    },
    {
      "cell_type": "code",
      "source": [
        "profiles[[\"following\" , \"followers\" , \"n_posts\" ]].describe()"
      ],
      "metadata": {
        "id": "wnvtxA44CiZc"
      },
      "execution_count": null,
      "outputs": []
    },
    {
      "cell_type": "code",
      "source": [
        "posts[[\"numbr_likes\",\"number_comments\"]].describe()"
      ],
      "metadata": {
        "id": "rrdwvnsXCigt"
      },
      "execution_count": null,
      "outputs": []
    },
    {
      "cell_type": "markdown",
      "source": [
        "We can see for istance that the maximum is too far from the 75% percentile, this sounds as an error that can influence a lot the statistics.\n",
        "In order to do a better analysis we might clean the datasets as much as possible doing steps descibed as below. \n",
        "\n",
        "\n",
        "1.   **Dealing with duplicates rows**:\n",
        "      we drop every duplicates rows because contengono useless informations \n",
        "2.    **Dealing with missing values**:\n",
        "      we check the percentage of missing value in each columns, we drop a columns that contains missing values over a set trheshold. After we select some columns of interest and drop the NA (gli darò una spiegazione per sto motivo giuro :D)\n",
        "\n",
        "3. **Dealing with outliers:** It is risky to include outliers in data driven models For some variables of interest we actually have some mistyping or error data that influence so much the distribution, we want to eliminate them according to z-scores ( glie spiego pure questo tranqui  :p ). \n",
        "\n"
      ],
      "metadata": {
        "id": "s1r22STZeOiX"
      }
    },
    {
      "cell_type": "code",
      "source": [
        "#Duplicates rows\n",
        "profiles.drop_duplicates(inplace=True)\n",
        "posts.drop_duplicates(inplace=True)\n",
        "locations.drop_duplicates(inplace=True)"
      ],
      "metadata": {
        "id": "zLHqdQALQsvz"
      },
      "execution_count": null,
      "outputs": []
    },
    {
      "cell_type": "code",
      "source": [
        "#Dealing with missing values, columns that contains so much Na\n",
        "#check for null values / % of null values we have\n",
        "print('Null values percentage for locations dataset')\n",
        "print(locations.isnull().sum()/locations.shape[0])\n",
        "print('\\n')\n",
        "print('Null values percentage for profiles dataset')\n",
        "print(profiles.isnull().sum()/profiles.shape[0])\n",
        "print('\\n')\n",
        "print('Null values percentage for posts dataset')\n",
        "print(posts.isnull().sum()/posts.shape[0])"
      ],
      "metadata": {
        "id": "fuG5DEzWYUyt"
      },
      "execution_count": null,
      "outputs": []
    },
    {
      "cell_type": "code",
      "source": [
        "#remove null colums over the threshold\n",
        "profiles.dropna(thresh = len(profiles)*.6, axis=1)\n",
        "locations.dropna(thresh = len(locations)*.6, axis=1)"
      ],
      "metadata": {
        "id": "kA_1PN-EZF6F"
      },
      "execution_count": null,
      "outputs": []
    },
    {
      "cell_type": "markdown",
      "source": [
        "Let's have a look at the distributions of some variables of interest "
      ],
      "metadata": {
        "id": "6Y1Je5cqvS25"
      }
    },
    {
      "cell_type": "code",
      "source": [
        "fig, axes = plt.subplots(nrows=1, ncols=2, figsize=(12, 6))  \n",
        "axes = axes.ravel() \n",
        "cols = [\"numbr_likes\", \"number_comments\"]  \n",
        "colors = ['tab:blue', 'tab:orange']  \n",
        "\n",
        "for col, color, ax in zip(cols, colors, axes):\n",
        "    posts[col].plot(kind= 'hist', ax=ax, color=color, label=col, title=col,grid=False,fontsize=7)\n",
        "    ax.legend()\n",
        "fig.tight_layout()\n",
        "plt.show()"
      ],
      "metadata": {
        "id": "I-4SeA6df_on"
      },
      "execution_count": null,
      "outputs": []
    },
    {
      "cell_type": "code",
      "source": [
        "fig, axes = plt.subplots(nrows=1, ncols=2, figsize=(12, 6))  \n",
        "axes = axes.ravel() \n",
        "cols = [\"numbr_likes\", \"number_comments\"]  \n",
        "colors = ['tab:blue', 'tab:orange']  \n",
        "\n",
        "for col, color, ax in zip(cols, colors, axes):\n",
        "    posts[col].plot(kind= 'box', ax=ax, color=color, label=col, title=col,grid=False,fontsize=5)\n",
        "fig.tight_layout()\n",
        "plt.show()"
      ],
      "metadata": {
        "id": "BVUCZ26lGm6m"
      },
      "execution_count": null,
      "outputs": []
    },
    {
      "cell_type": "markdown",
      "source": [
        "These distributions are sintomo di errors during the phase of raccolta dati:\n",
        "So for these variables of interest we have to deal with Na and ouliers values.\n",
        "So for Na values we have more than optzion to do.\n",
        "Replace with the mean: if there are a lot of missing value we are concentrando the distribution in the mean value and we lose informations about the shape of the distributions (that's a shit).\n",
        "Drop Na: we are loosing a relevant percentage of the informations we have, by the way having a huge quantità of data, this don't influence so much the distrubtion we are anylising. So in this case we will go through this procedure :D."
      ],
      "metadata": {
        "id": "TzJuMWukx4nF"
      }
    },
    {
      "cell_type": "code",
      "source": [
        "posts.dropna(subset=['numbr_likes', 'number_comments'])"
      ],
      "metadata": {
        "id": "4-KIIoYa0xfK"
      },
      "execution_count": null,
      "outputs": []
    },
    {
      "cell_type": "markdown",
      "source": [
        "The existence of one single misleading value has the potential to change the conclusion implied by the model. Is is therefore, important to detect and then decide whether to remove it or not from the dataset. Sometimes the data point may be extremely high or low but that does not mean it is an outlier that we want to get rid of.\n",
        "We have more than one method to dedect outliers:\n",
        "Inter Quartile Range : IQR. IQR = Q3-Q1 we use only 50% of the data!!!\n",
        "Z-score:Z-score is just another form of standard deviation procedure. Z-score is used to convert the data into another dataset with mean = 0."
      ],
      "metadata": {
        "id": "8H5Y8J6N1TUX"
      }
    },
    {
      "cell_type": "code",
      "source": [
        "mean_n_comments = np.mean(posts.number_comments)\n",
        "s_n_comments = np.std(posts.number_comments)\n",
        "posts['Z-score_comments'] = (posts.number_comments - mean_n_comments)/ s_n_comments\n",
        "\n",
        "\n",
        "mean_n_likes = np.mean(posts.numbr_likes)\n",
        "s_n_likes = np.std(posts.numbr_likes)\n",
        "posts['Z-score_likes'] = (posts.numbr_likes - mean_n_likes)/ s_n_likes\n",
        "\n"
      ],
      "metadata": {
        "id": "4gfYBbHU1RMi"
      },
      "execution_count": null,
      "outputs": []
    },
    {
      "cell_type": "code",
      "source": [
        "plt.subplots(nrows=1, ncols=2, figsize=(12, 6))  \n",
        "plt.subplot(121)\n",
        "plt.hist(posts.number_comments[abs(posts['Z-score_comments']) > 3],bins=20)\n",
        "plt.subplot(122)\n",
        "plt.hist(posts.numbr_likes[abs(posts['Z-score_likes']) > 3],bins=20)\n",
        "plt.show()"
      ],
      "metadata": {
        "id": "aR7afX7I2Skr"
      },
      "execution_count": null,
      "outputs": []
    },
    {
      "cell_type": "code",
      "source": [
        "plt.subplots(nrows=1, ncols=2, figsize=(12, 6))  \n",
        "plt.subplot(121)\n",
        "plt.boxplot(posts.number_comments[abs(posts['Z-score_comments']) > 3],showfliers= False)\n",
        "plt.subplot(122)\n",
        "plt.boxplot(posts.numbr_likes[abs(posts['Z-score_likes']) > 3], showfliers= False)\n",
        "plt.show()"
      ],
      "metadata": {
        "id": "-s96_cS9M2NM"
      },
      "execution_count": null,
      "outputs": []
    },
    {
      "cell_type": "code",
      "source": [
        "data_outliers= profiles[(profiles.followers) < profiles.followers.quantile(0.95)]\n",
        "data_outliers= data_outliers[(profiles.followers) > profiles.followers.quantile(0.05)]"
      ],
      "metadata": {
        "id": "0Yi1pMKPcTnL"
      },
      "execution_count": null,
      "outputs": []
    },
    {
      "cell_type": "code",
      "source": [
        "data_outliers.boxplot('followers')\n",
        "plt.show()\n",
        "#the distributions is quite skwnedss\n",
        "#showfliers= false"
      ],
      "metadata": {
        "id": "t4mYBJ8cd6Y7"
      },
      "execution_count": null,
      "outputs": []
    },
    {
      "cell_type": "code",
      "source": [
        "locations.region.value_count() / locations.regions.notnull().sum()  #give us the percentage of the region"
      ],
      "metadata": {
        "id": "YnpwUNEAQoBK"
      },
      "execution_count": null,
      "outputs": []
    },
    {
      "cell_type": "markdown",
      "source": [
        "# RQ2: Let's explore the dataset by finding simple insights regarding the profile and posts.\n",
        "### 1- Plot the number of posts for each profile in descending order."
      ],
      "metadata": {
        "id": "YLsOp0zMX4GG"
      }
    },
    {
      "cell_type": "code",
      "source": [
        "plt.plot(profiles.n_posts.sort_values(ascending=False))\n",
        "plt.show()\n"
      ],
      "metadata": {
        "colab": {
          "base_uri": "https://localhost:8080/",
          "height": 278
        },
        "id": "ZNmVy6WSX6iq",
        "outputId": "fb7abfea-6f08-431c-9acb-1fafeed4b9b3"
      },
      "execution_count": 8,
      "outputs": [
        {
          "output_type": "display_data",
          "data": {
            "text/plain": [
              "<Figure size 432x288 with 1 Axes>"
            ],
            "image/png": "[encoded data removed]"
          },
          "metadata": {
            "needs_background": "light"
          }
        }
      ]
    },
    {
      "cell_type": "markdown",
      "source": [
        "### 2- What posts have the highest number of \"likes\"?"
      ],
      "metadata": {
        "id": "giN64ut8fYf2"
      }
    },
    {
      "cell_type": "code",
      "source": [
        "likedposts=pd.DataFrame(columns=['post_id', 'numbr_likes'])\n",
        "for chunk in tqdm(pd.read_csv(\"/content/drive/MyDrive/ADM_HW2/instagram_posts.csv\", usecols=['post_id', 'numbr_likes'], delimiter='\\t', chunksize=500000)):\n",
        "    likedposts=pd.concat([likedposts, (chunk.sort_values(by='numbr_likes', ascending=False).head(25))])\n",
        "\n",
        "likedposts=likedposts.sort_values(by='numbr_likes', ascending=False).head(25)\n",
        "likedposts.index=['Post'+str(i+1) for i in range(25)]\n",
        "likedposts"
      ],
      "metadata": {
        "colab": {
          "base_uri": "https://localhost:8080/",
          "height": 851
        },
        "id": "NBTDwczIffFC",
        "outputId": "bce14553-b4cb-4fd0-8cf2-997f886f299f"
      },
      "execution_count": 17,
      "outputs": [
        {
          "output_type": "stream",
          "name": "stderr",
          "text": [
            "86it [04:02,  2.82s/it]\n"
          ]
        },
        {
          "output_type": "execute_result",
          "data": {
            "text/plain": [
              "            post_id numbr_likes\n",
              "Post1   Bt3yaXmAM0d   8822952.0\n",
              "Post2   BuwffB7g8cK   5447066.0\n",
              "Post3   Buc1gyZAaMQ   5116398.0\n",
              "Post4   BvcukE8AMuG   4271466.0\n",
              "Post5   BqSLFVBFLfq     4264745\n",
              "Post6   BwTSXBKg7gN     3586546\n",
              "Post7   Btw8pFXAvQm   3558599.0\n",
              "Post8   BvC3n6_gqin   3533326.0\n",
              "Post9   Bw7vqLrFkHi     3340297\n",
              "Post10  Bw2gTH1AiDA     3311246\n",
              "Post11  BtorY9IFDvc     3201436\n",
              "Post12  BtJxgNSgKSC   3198242.0\n",
              "Post13  BxxY17hhQv8     3091301\n",
              "Post14  BxJqn5Tj0kc     2973661\n",
              "Post15  BvCQYRVgys4   2900455.0\n",
              "Post16  BujmsmnAt8M   2813469.0\n",
              "Post17  BsB9YrrFvIV     2726066\n",
              "Post18  BwkAk0Xje8-     2664480\n",
              "Post19  Bu1ty0HAQKv   2655200.0\n",
              "Post20  BwP4stXFS94     2616479\n",
              "Post21  BsAwJ1_nFiy     2590353\n",
              "Post22  BvsgLsSlr_e     2566721\n",
              "Post23  BwcKoo1DrBy     2541437\n",
              "Post24  Bur6m7eAG6t   2483834.0\n",
              "Post25  BnRF3aph5_-     2429228"
            ],
            "text/html": [
              "\n",
              "  <div id=\"df-52ce14e1-1816-4106-aece-0950d26954a2\">\n",
              "    <div class=\"colab-df-container\">\n",
              "      <div>\n",
              "<style scoped>\n",
              "    .dataframe tbody tr th:only-of-type {\n",
              "        vertical-align: middle;\n",
              "    }\n",
              "\n",
              "    .dataframe tbody tr th {\n",
              "        vertical-align: top;\n",
              "    }\n",
              "\n",
              "    .dataframe thead th {\n",
              "        text-align: right;\n",
              "    }\n",
              "</style>\n",
              "<table border=\"1\" class=\"dataframe\">\n",
              "  <thead>\n",
              "    <tr style=\"text-align: right;\">\n",
              "      <th></th>\n",
              "      <th>post_id</th>\n",
              "      <th>numbr_likes</th>\n",
              "    </tr>\n",
              "  </thead>\n",
              "  <tbody>\n",
              "    <tr>\n",
              "      <th>Post1</th>\n",
              "      <td>Bt3yaXmAM0d</td>\n",
              "      <td>8822952.0</td>\n",
              "    </tr>\n",
              "    <tr>\n",
              "      <th>Post2</th>\n",
              "      <td>BuwffB7g8cK</td>\n",
              "      <td>5447066.0</td>\n",
              "    </tr>\n",
              "    <tr>\n",
              "      <th>Post3</th>\n",
              "      <td>Buc1gyZAaMQ</td>\n",
              "      <td>5116398.0</td>\n",
              "    </tr>\n",
              "    <tr>\n",
              "      <th>Post4</th>\n",
              "      <td>BvcukE8AMuG</td>\n",
              "      <td>4271466.0</td>\n",
              "    </tr>\n",
              "    <tr>\n",
              "      <th>Post5</th>\n",
              "      <td>BqSLFVBFLfq</td>\n",
              "      <td>4264745</td>\n",
              "    </tr>\n",
              "    <tr>\n",
              "      <th>Post6</th>\n",
              "      <td>BwTSXBKg7gN</td>\n",
              "      <td>3586546</td>\n",
              "    </tr>\n",
              "    <tr>\n",
              "      <th>Post7</th>\n",
              "      <td>Btw8pFXAvQm</td>\n",
              "      <td>3558599.0</td>\n",
              "    </tr>\n",
              "    <tr>\n",
              "      <th>Post8</th>\n",
              "      <td>BvC3n6_gqin</td>\n",
              "      <td>3533326.0</td>\n",
              "    </tr>\n",
              "    <tr>\n",
              "      <th>Post9</th>\n",
              "      <td>Bw7vqLrFkHi</td>\n",
              "      <td>3340297</td>\n",
              "    </tr>\n",
              "    <tr>\n",
              "      <th>Post10</th>\n",
              "      <td>Bw2gTH1AiDA</td>\n",
              "      <td>3311246</td>\n",
              "    </tr>\n",
              "    <tr>\n",
              "      <th>Post11</th>\n",
              "      <td>BtorY9IFDvc</td>\n",
              "      <td>3201436</td>\n",
              "    </tr>\n",
              "    <tr>\n",
              "      <th>Post12</th>\n",
              "      <td>BtJxgNSgKSC</td>\n",
              "      <td>3198242.0</td>\n",
              "    </tr>\n",
              "    <tr>\n",
              "      <th>Post13</th>\n",
              "      <td>BxxY17hhQv8</td>\n",
              "      <td>3091301</td>\n",
              "    </tr>\n",
              "    <tr>\n",
              "      <th>Post14</th>\n",
              "      <td>BxJqn5Tj0kc</td>\n",
              "      <td>2973661</td>\n",
              "    </tr>\n",
              "    <tr>\n",
              "      <th>Post15</th>\n",
              "      <td>BvCQYRVgys4</td>\n",
              "      <td>2900455.0</td>\n",
              "    </tr>\n",
              "    <tr>\n",
              "      <th>Post16</th>\n",
              "      <td>BujmsmnAt8M</td>\n",
              "      <td>2813469.0</td>\n",
              "    </tr>\n",
              "    <tr>\n",
              "      <th>Post17</th>\n",
              "      <td>BsB9YrrFvIV</td>\n",
              "      <td>2726066</td>\n",
              "    </tr>\n",
              "    <tr>\n",
              "      <th>Post18</th>\n",
              "      <td>BwkAk0Xje8-</td>\n",
              "      <td>2664480</td>\n",
              "    </tr>\n",
              "    <tr>\n",
              "      <th>Post19</th>\n",
              "      <td>Bu1ty0HAQKv</td>\n",
              "      <td>2655200.0</td>\n",
              "    </tr>\n",
              "    <tr>\n",
              "      <th>Post20</th>\n",
              "      <td>BwP4stXFS94</td>\n",
              "      <td>2616479</td>\n",
              "    </tr>\n",
              "    <tr>\n",
              "      <th>Post21</th>\n",
              "      <td>BsAwJ1_nFiy</td>\n",
              "      <td>2590353</td>\n",
              "    </tr>\n",
              "    <tr>\n",
              "      <th>Post22</th>\n",
              "      <td>BvsgLsSlr_e</td>\n",
              "      <td>2566721</td>\n",
              "    </tr>\n",
              "    <tr>\n",
              "      <th>Post23</th>\n",
              "      <td>BwcKoo1DrBy</td>\n",
              "      <td>2541437</td>\n",
              "    </tr>\n",
              "    <tr>\n",
              "      <th>Post24</th>\n",
              "      <td>Bur6m7eAG6t</td>\n",
              "      <td>2483834.0</td>\n",
              "    </tr>\n",
              "    <tr>\n",
              "      <th>Post25</th>\n",
              "      <td>BnRF3aph5_-</td>\n",
              "      <td>2429228</td>\n",
              "    </tr>\n",
              "  </tbody>\n",
              "</table>\n",
              "</div>\n",
              "      <button class=\"colab-df-convert\" onclick=\"convertToInteractive('df-52ce14e1-1816-4106-aece-0950d26954a2')\"\n",
              "              title=\"Convert this dataframe to an interactive table.\"\n",
              "              style=\"display:none;\">\n",
              "        \n",
              "  <svg xmlns=\"http://www.w3.org/2000/svg\" height=\"24px\"viewBox=\"0 0 24 24\"\n",
              "       width=\"24px\">\n",
              "    <path d=\"M0 0h24v24H0V0z\" fill=\"none\"/>\n",
              "    <path d=\"M18.56 5.44l.94 2.06.94-2.06 2.06-.94-2.06-.94-.94-2.06-.94 2.06-2.06.94zm-11 1L8.5 8.5l.94-2.06 2.06-.94-2.06-.94L8.5 2.5l-.94 2.06-2.06.94zm10 10l.94 2.06.94-2.06 2.06-.94-2.06-.94-.94-2.06-.94 2.06-2.06.94z\"/><path d=\"M17.41 7.96l-1.37-1.37c-.4-.4-.92-.59-1.43-.59-.52 0-1.04.2-1.43.59L10.3 9.45l-7.72 7.72c-.78.78-.78 2.05 0 2.83L4 21.41c.39.39.9.59 1.41.59.51 0 1.02-.2 1.41-.59l7.78-7.78 2.81-2.81c.8-.78.8-2.07 0-2.86zM5.41 20L4 18.59l7.72-7.72 1.47 1.35L5.41 20z\"/>\n",
              "  </svg>\n",
              "      </button>\n",
              "      \n",
              "  <style>\n",
              "    .colab-df-container {\n",
              "      display:flex;\n",
              "      flex-wrap:wrap;\n",
              "      gap: 12px;\n",
              "    }\n",
              "\n",
              "    .colab-df-convert {\n",
              "      background-color: #E8F0FE;\n",
              "      border: none;\n",
              "      border-radius: 50%;\n",
              "      cursor: pointer;\n",
              "      display: none;\n",
              "      fill: #1967D2;\n",
              "      height: 32px;\n",
              "      padding: 0 0 0 0;\n",
              "      width: 32px;\n",
              "    }\n",
              "\n",
              "    .colab-df-convert:hover {\n",
              "      background-color: #E2EBFA;\n",
              "      box-shadow: 0px 1px 2px rgba(60, 64, 67, 0.3), 0px 1px 3px 1px rgba(60, 64, 67, 0.15);\n",
              "      fill: #174EA6;\n",
              "    }\n",
              "\n",
              "    [theme=dark] .colab-df-convert {\n",
              "      background-color: #3B4455;\n",
              "      fill: #D2E3FC;\n",
              "    }\n",
              "\n",
              "    [theme=dark] .colab-df-convert:hover {\n",
              "      background-color: #434B5C;\n",
              "      box-shadow: 0px 1px 3px 1px rgba(0, 0, 0, 0.15);\n",
              "      filter: drop-shadow(0px 1px 2px rgba(0, 0, 0, 0.3));\n",
              "      fill: #FFFFFF;\n",
              "    }\n",
              "  </style>\n",
              "\n",
              "      <script>\n",
              "        const buttonEl =\n",
              "          document.querySelector('#df-52ce14e1-1816-4106-aece-0950d26954a2 button.colab-df-convert');\n",
              "        buttonEl.style.display =\n",
              "          google.colab.kernel.accessAllowed ? 'block' : 'none';\n",
              "\n",
              "        async function convertToInteractive(key) {\n",
              "          const element = document.querySelector('#df-52ce14e1-1816-4106-aece-0950d26954a2');\n",
              "          const dataTable =\n",
              "            await google.colab.kernel.invokeFunction('convertToInteractive',\n",
              "                                                     [key], {});\n",
              "          if (!dataTable) return;\n",
              "\n",
              "          const docLinkHtml = 'Like what you see? Visit the ' +\n",
              "            '<a target=\"_blank\" href=https://colab.research.google.com/notebooks/data_table.ipynb>data table notebook</a>'\n",
              "            + ' to learn more about interactive tables.';\n",
              "          element.innerHTML = '';\n",
              "          dataTable['output_type'] = 'display_data';\n",
              "          await google.colab.output.renderOutput(dataTable, element);\n",
              "          const docLink = document.createElement('div');\n",
              "          docLink.innerHTML = docLinkHtml;\n",
              "          element.appendChild(docLink);\n",
              "        }\n",
              "      </script>\n",
              "    </div>\n",
              "  </div>\n",
              "  "
            ]
          },
          "metadata": {},
          "execution_count": 17
        }
      ]
    },
    {
      "cell_type": "markdown",
      "source": [
        "### 3- What posts have the most and the least number of comments?"
      ],
      "metadata": {
        "id": "U561nWajffeE"
      }
    },
    {
      "cell_type": "code",
      "source": [
        "comments=pd.DataFrame(columns=['post_id', 'numbr_likes'])\n",
        "for chunk in tqdm(pd.read_csv(\"/content/drive/MyDrive/ADM_HW2/instagram_posts.csv\", usecols=['post_id', 'number_comments'], delimiter='\\t', chunksize=500000)):\n",
        "    comments=pd.concat([comments, chunk])\n",
        "\n",
        "maxcomments=comments.sort_values(by='number_comments', ascending=False).head(1)\n",
        "maxcomments.index=['Post'+str(i)]\n",
        "maxcomments\n",
        "\n",
        "mincomments=comments.sort_values(by='number_comments', ascending=False).head(-1)\n",
        "mincomments.index=['Post'+str(i)]\n",
        "mincomments"
      ],
      "metadata": {
        "colab": {
          "base_uri": "https://localhost:8080/",
          "height": 429
        },
        "id": "tArPKuEGfnB-",
        "outputId": "d8ba898c-b128-43b7-edb2-49fe18d9da0d"
      },
      "execution_count": 12,
      "outputs": [
        {
          "output_type": "stream",
          "name": "stderr",
          "text": [
            "39it [09:58, 15.34s/it]\n"
          ]
        },
        {
          "output_type": "error",
          "ename": "KeyboardInterrupt",
          "evalue": "ignored",
          "traceback": [
            "\u001b[0;31m---------------------------------------------------------------------------\u001b[0m",
            "\u001b[0;31mKeyboardInterrupt\u001b[0m                         Traceback (most recent call last)",
            "\u001b[0;32m<ipython-input-12-7363668dc5e6>\u001b[0m in \u001b[0;36m<module>\u001b[0;34m\u001b[0m\n\u001b[1;32m      1\u001b[0m \u001b[0mcomments\u001b[0m\u001b[0;34m=\u001b[0m\u001b[0mpd\u001b[0m\u001b[0;34m.\u001b[0m\u001b[0mDataFrame\u001b[0m\u001b[0;34m(\u001b[0m\u001b[0mcolumns\u001b[0m\u001b[0;34m=\u001b[0m\u001b[0;34m[\u001b[0m\u001b[0;34m'post_id'\u001b[0m\u001b[0;34m,\u001b[0m \u001b[0;34m'numbr_likes'\u001b[0m\u001b[0;34m]\u001b[0m\u001b[0;34m)\u001b[0m\u001b[0;34m\u001b[0m\u001b[0;34m\u001b[0m\u001b[0m\n\u001b[1;32m      2\u001b[0m \u001b[0;32mfor\u001b[0m \u001b[0mchunk\u001b[0m \u001b[0;32min\u001b[0m \u001b[0mtqdm\u001b[0m\u001b[0;34m(\u001b[0m\u001b[0mpd\u001b[0m\u001b[0;34m.\u001b[0m\u001b[0mread_csv\u001b[0m\u001b[0;34m(\u001b[0m\u001b[0;34m\"/content/drive/MyDrive/ADM_HW2/instagram_posts.csv\"\u001b[0m\u001b[0;34m,\u001b[0m \u001b[0musecols\u001b[0m\u001b[0;34m=\u001b[0m\u001b[0;34m[\u001b[0m\u001b[0;34m'post_id'\u001b[0m\u001b[0;34m,\u001b[0m \u001b[0;34m'number_comments'\u001b[0m\u001b[0;34m]\u001b[0m\u001b[0;34m,\u001b[0m \u001b[0mdelimiter\u001b[0m\u001b[0;34m=\u001b[0m\u001b[0;34m'\\t'\u001b[0m\u001b[0;34m,\u001b[0m \u001b[0mchunksize\u001b[0m\u001b[0;34m=\u001b[0m\u001b[0;36m500000\u001b[0m\u001b[0;34m)\u001b[0m\u001b[0;34m)\u001b[0m\u001b[0;34m:\u001b[0m\u001b[0;34m\u001b[0m\u001b[0;34m\u001b[0m\u001b[0m\n\u001b[0;32m----> 3\u001b[0;31m     \u001b[0mcomments\u001b[0m\u001b[0;34m=\u001b[0m\u001b[0mpd\u001b[0m\u001b[0;34m.\u001b[0m\u001b[0mconcat\u001b[0m\u001b[0;34m(\u001b[0m\u001b[0;34m[\u001b[0m\u001b[0mcomments\u001b[0m\u001b[0;34m,\u001b[0m \u001b[0mchunk\u001b[0m\u001b[0;34m]\u001b[0m\u001b[0;34m)\u001b[0m\u001b[0;34m\u001b[0m\u001b[0;34m\u001b[0m\u001b[0m\n\u001b[0m\u001b[1;32m      4\u001b[0m \u001b[0;34m\u001b[0m\u001b[0m\n\u001b[1;32m      5\u001b[0m \u001b[0mmaxcomments\u001b[0m\u001b[0;34m=\u001b[0m\u001b[0mcomments\u001b[0m\u001b[0;34m.\u001b[0m\u001b[0msort_values\u001b[0m\u001b[0;34m(\u001b[0m\u001b[0mby\u001b[0m\u001b[0;34m=\u001b[0m\u001b[0;34m'number_comments'\u001b[0m\u001b[0;34m,\u001b[0m \u001b[0mascending\u001b[0m\u001b[0;34m=\u001b[0m\u001b[0;32mFalse\u001b[0m\u001b[0;34m)\u001b[0m\u001b[0;34m.\u001b[0m\u001b[0mhead\u001b[0m\u001b[0;34m(\u001b[0m\u001b[0;36m1\u001b[0m\u001b[0;34m)\u001b[0m\u001b[0;34m\u001b[0m\u001b[0;34m\u001b[0m\u001b[0m\n",
            "\u001b[0;32m/usr/local/lib/python3.7/dist-packages/pandas/util/_decorators.py\u001b[0m in \u001b[0;36mwrapper\u001b[0;34m(*args, **kwargs)\u001b[0m\n\u001b[1;32m    309\u001b[0m                     \u001b[0mstacklevel\u001b[0m\u001b[0;34m=\u001b[0m\u001b[0mstacklevel\u001b[0m\u001b[0;34m,\u001b[0m\u001b[0;34m\u001b[0m\u001b[0;34m\u001b[0m\u001b[0m\n\u001b[1;32m    310\u001b[0m                 )\n\u001b[0;32m--> 311\u001b[0;31m             \u001b[0;32mreturn\u001b[0m \u001b[0mfunc\u001b[0m\u001b[0;34m(\u001b[0m\u001b[0;34m*\u001b[0m\u001b[0margs\u001b[0m\u001b[0;34m,\u001b[0m \u001b[0;34m**\u001b[0m\u001b[0mkwargs\u001b[0m\u001b[0;34m)\u001b[0m\u001b[0;34m\u001b[0m\u001b[0;34m\u001b[0m\u001b[0m\n\u001b[0m\u001b[1;32m    312\u001b[0m \u001b[0;34m\u001b[0m\u001b[0m\n\u001b[1;32m    313\u001b[0m         \u001b[0;32mreturn\u001b[0m \u001b[0mwrapper\u001b[0m\u001b[0;34m\u001b[0m\u001b[0;34m\u001b[0m\u001b[0m\n",
            "\u001b[0;32m/usr/local/lib/python3.7/dist-packages/pandas/core/reshape/concat.py\u001b[0m in \u001b[0;36mconcat\u001b[0;34m(objs, axis, join, ignore_index, keys, levels, names, verify_integrity, sort, copy)\u001b[0m\n\u001b[1;32m    305\u001b[0m     )\n\u001b[1;32m    306\u001b[0m \u001b[0;34m\u001b[0m\u001b[0m\n\u001b[0;32m--> 307\u001b[0;31m     \u001b[0;32mreturn\u001b[0m \u001b[0mop\u001b[0m\u001b[0;34m.\u001b[0m\u001b[0mget_result\u001b[0m\u001b[0;34m(\u001b[0m\u001b[0;34m)\u001b[0m\u001b[0;34m\u001b[0m\u001b[0;34m\u001b[0m\u001b[0m\n\u001b[0m\u001b[1;32m    308\u001b[0m \u001b[0;34m\u001b[0m\u001b[0m\n\u001b[1;32m    309\u001b[0m \u001b[0;34m\u001b[0m\u001b[0m\n",
            "\u001b[0;32m/usr/local/lib/python3.7/dist-packages/pandas/core/reshape/concat.py\u001b[0m in \u001b[0;36mget_result\u001b[0;34m(self)\u001b[0m\n\u001b[1;32m    531\u001b[0m \u001b[0;34m\u001b[0m\u001b[0m\n\u001b[1;32m    532\u001b[0m             new_data = concatenate_managers(\n\u001b[0;32m--> 533\u001b[0;31m                 \u001b[0mmgrs_indexers\u001b[0m\u001b[0;34m,\u001b[0m \u001b[0mself\u001b[0m\u001b[0;34m.\u001b[0m\u001b[0mnew_axes\u001b[0m\u001b[0;34m,\u001b[0m \u001b[0mconcat_axis\u001b[0m\u001b[0;34m=\u001b[0m\u001b[0mself\u001b[0m\u001b[0;34m.\u001b[0m\u001b[0mbm_axis\u001b[0m\u001b[0;34m,\u001b[0m \u001b[0mcopy\u001b[0m\u001b[0;34m=\u001b[0m\u001b[0mself\u001b[0m\u001b[0;34m.\u001b[0m\u001b[0mcopy\u001b[0m\u001b[0;34m\u001b[0m\u001b[0;34m\u001b[0m\u001b[0m\n\u001b[0m\u001b[1;32m    534\u001b[0m             )\n\u001b[1;32m    535\u001b[0m             \u001b[0;32mif\u001b[0m \u001b[0;32mnot\u001b[0m \u001b[0mself\u001b[0m\u001b[0;34m.\u001b[0m\u001b[0mcopy\u001b[0m\u001b[0;34m:\u001b[0m\u001b[0;34m\u001b[0m\u001b[0;34m\u001b[0m\u001b[0m\n",
            "\u001b[0;32m/usr/local/lib/python3.7/dist-packages/pandas/core/internals/concat.py\u001b[0m in \u001b[0;36mconcatenate_managers\u001b[0;34m(mgrs_indexers, axes, concat_axis, copy)\u001b[0m\n\u001b[1;32m    224\u001b[0m             \u001b[0mfastpath\u001b[0m \u001b[0;34m=\u001b[0m \u001b[0mblk\u001b[0m\u001b[0;34m.\u001b[0m\u001b[0mvalues\u001b[0m\u001b[0;34m.\u001b[0m\u001b[0mdtype\u001b[0m \u001b[0;34m==\u001b[0m \u001b[0mvalues\u001b[0m\u001b[0;34m.\u001b[0m\u001b[0mdtype\u001b[0m\u001b[0;34m\u001b[0m\u001b[0;34m\u001b[0m\u001b[0m\n\u001b[1;32m    225\u001b[0m         \u001b[0;32melse\u001b[0m\u001b[0;34m:\u001b[0m\u001b[0;34m\u001b[0m\u001b[0;34m\u001b[0m\u001b[0m\n\u001b[0;32m--> 226\u001b[0;31m             \u001b[0mvalues\u001b[0m \u001b[0;34m=\u001b[0m \u001b[0m_concatenate_join_units\u001b[0m\u001b[0;34m(\u001b[0m\u001b[0mjoin_units\u001b[0m\u001b[0;34m,\u001b[0m \u001b[0mconcat_axis\u001b[0m\u001b[0;34m,\u001b[0m \u001b[0mcopy\u001b[0m\u001b[0;34m=\u001b[0m\u001b[0mcopy\u001b[0m\u001b[0;34m)\u001b[0m\u001b[0;34m\u001b[0m\u001b[0;34m\u001b[0m\u001b[0m\n\u001b[0m\u001b[1;32m    227\u001b[0m             \u001b[0mfastpath\u001b[0m \u001b[0;34m=\u001b[0m \u001b[0;32mFalse\u001b[0m\u001b[0;34m\u001b[0m\u001b[0;34m\u001b[0m\u001b[0m\n\u001b[1;32m    228\u001b[0m \u001b[0;34m\u001b[0m\u001b[0m\n",
            "\u001b[0;32m/usr/local/lib/python3.7/dist-packages/pandas/core/internals/concat.py\u001b[0m in \u001b[0;36m_concatenate_join_units\u001b[0;34m(join_units, concat_axis, copy)\u001b[0m\n\u001b[1;32m    490\u001b[0m     to_concat = [\n\u001b[1;32m    491\u001b[0m         \u001b[0mju\u001b[0m\u001b[0;34m.\u001b[0m\u001b[0mget_reindexed_values\u001b[0m\u001b[0;34m(\u001b[0m\u001b[0mempty_dtype\u001b[0m\u001b[0;34m=\u001b[0m\u001b[0mempty_dtype\u001b[0m\u001b[0;34m,\u001b[0m \u001b[0mupcasted_na\u001b[0m\u001b[0;34m=\u001b[0m\u001b[0mupcasted_na\u001b[0m\u001b[0;34m)\u001b[0m\u001b[0;34m\u001b[0m\u001b[0;34m\u001b[0m\u001b[0m\n\u001b[0;32m--> 492\u001b[0;31m         \u001b[0;32mfor\u001b[0m \u001b[0mju\u001b[0m \u001b[0;32min\u001b[0m \u001b[0mjoin_units\u001b[0m\u001b[0;34m\u001b[0m\u001b[0;34m\u001b[0m\u001b[0m\n\u001b[0m\u001b[1;32m    493\u001b[0m     ]\n\u001b[1;32m    494\u001b[0m \u001b[0;34m\u001b[0m\u001b[0m\n",
            "\u001b[0;32m/usr/local/lib/python3.7/dist-packages/pandas/core/internals/concat.py\u001b[0m in \u001b[0;36m<listcomp>\u001b[0;34m(.0)\u001b[0m\n\u001b[1;32m    490\u001b[0m     to_concat = [\n\u001b[1;32m    491\u001b[0m         \u001b[0mju\u001b[0m\u001b[0;34m.\u001b[0m\u001b[0mget_reindexed_values\u001b[0m\u001b[0;34m(\u001b[0m\u001b[0mempty_dtype\u001b[0m\u001b[0;34m=\u001b[0m\u001b[0mempty_dtype\u001b[0m\u001b[0;34m,\u001b[0m \u001b[0mupcasted_na\u001b[0m\u001b[0;34m=\u001b[0m\u001b[0mupcasted_na\u001b[0m\u001b[0;34m)\u001b[0m\u001b[0;34m\u001b[0m\u001b[0;34m\u001b[0m\u001b[0m\n\u001b[0;32m--> 492\u001b[0;31m         \u001b[0;32mfor\u001b[0m \u001b[0mju\u001b[0m \u001b[0;32min\u001b[0m \u001b[0mjoin_units\u001b[0m\u001b[0;34m\u001b[0m\u001b[0;34m\u001b[0m\u001b[0m\n\u001b[0m\u001b[1;32m    493\u001b[0m     ]\n\u001b[1;32m    494\u001b[0m \u001b[0;34m\u001b[0m\u001b[0m\n",
            "\u001b[0;32m/usr/local/lib/python3.7/dist-packages/pandas/core/internals/concat.py\u001b[0m in \u001b[0;36mget_reindexed_values\u001b[0;34m(self, empty_dtype, upcasted_na)\u001b[0m\n\u001b[1;32m    409\u001b[0m             \u001b[0mfill_value\u001b[0m \u001b[0;34m=\u001b[0m \u001b[0mupcasted_na\u001b[0m\u001b[0;34m\u001b[0m\u001b[0;34m\u001b[0m\u001b[0m\n\u001b[1;32m    410\u001b[0m \u001b[0;34m\u001b[0m\u001b[0m\n\u001b[0;32m--> 411\u001b[0;31m             \u001b[0;32mif\u001b[0m \u001b[0mself\u001b[0m\u001b[0;34m.\u001b[0m\u001b[0mis_valid_na_for\u001b[0m\u001b[0;34m(\u001b[0m\u001b[0mempty_dtype\u001b[0m\u001b[0;34m)\u001b[0m\u001b[0;34m:\u001b[0m\u001b[0;34m\u001b[0m\u001b[0;34m\u001b[0m\u001b[0m\n\u001b[0m\u001b[1;32m    412\u001b[0m                 \u001b[0mblk_dtype\u001b[0m \u001b[0;34m=\u001b[0m \u001b[0mgetattr\u001b[0m\u001b[0;34m(\u001b[0m\u001b[0mself\u001b[0m\u001b[0;34m.\u001b[0m\u001b[0mblock\u001b[0m\u001b[0;34m,\u001b[0m \u001b[0;34m\"dtype\"\u001b[0m\u001b[0;34m,\u001b[0m \u001b[0;32mNone\u001b[0m\u001b[0;34m)\u001b[0m\u001b[0;34m\u001b[0m\u001b[0;34m\u001b[0m\u001b[0m\n\u001b[1;32m    413\u001b[0m \u001b[0;34m\u001b[0m\u001b[0m\n",
            "\u001b[0;32m/usr/local/lib/python3.7/dist-packages/pandas/core/internals/concat.py\u001b[0m in \u001b[0;36mis_valid_na_for\u001b[0;34m(self, dtype)\u001b[0m\n\u001b[1;32m    368\u001b[0m         \u001b[0;32mif\u001b[0m \u001b[0mself\u001b[0m\u001b[0;34m.\u001b[0m\u001b[0mdtype\u001b[0m \u001b[0;34m==\u001b[0m \u001b[0mobject\u001b[0m\u001b[0;34m:\u001b[0m\u001b[0;34m\u001b[0m\u001b[0;34m\u001b[0m\u001b[0m\n\u001b[1;32m    369\u001b[0m             \u001b[0mvalues\u001b[0m \u001b[0;34m=\u001b[0m \u001b[0mself\u001b[0m\u001b[0;34m.\u001b[0m\u001b[0mblock\u001b[0m\u001b[0;34m.\u001b[0m\u001b[0mvalues\u001b[0m\u001b[0;34m\u001b[0m\u001b[0;34m\u001b[0m\u001b[0m\n\u001b[0;32m--> 370\u001b[0;31m             \u001b[0;32mreturn\u001b[0m \u001b[0mall\u001b[0m\u001b[0;34m(\u001b[0m\u001b[0mis_valid_na_for_dtype\u001b[0m\u001b[0;34m(\u001b[0m\u001b[0mx\u001b[0m\u001b[0;34m,\u001b[0m \u001b[0mdtype\u001b[0m\u001b[0;34m)\u001b[0m \u001b[0;32mfor\u001b[0m \u001b[0mx\u001b[0m \u001b[0;32min\u001b[0m \u001b[0mvalues\u001b[0m\u001b[0;34m.\u001b[0m\u001b[0mravel\u001b[0m\u001b[0;34m(\u001b[0m\u001b[0morder\u001b[0m\u001b[0;34m=\u001b[0m\u001b[0;34m\"K\"\u001b[0m\u001b[0;34m)\u001b[0m\u001b[0;34m)\u001b[0m\u001b[0;34m\u001b[0m\u001b[0;34m\u001b[0m\u001b[0m\n\u001b[0m\u001b[1;32m    371\u001b[0m \u001b[0;34m\u001b[0m\u001b[0m\n\u001b[1;32m    372\u001b[0m         if self.dtype.kind == dtype.kind == \"M\" and not is_dtype_equal(\n",
            "\u001b[0;32m/usr/local/lib/python3.7/dist-packages/pandas/core/internals/concat.py\u001b[0m in \u001b[0;36m<genexpr>\u001b[0;34m(.0)\u001b[0m\n\u001b[1;32m    368\u001b[0m         \u001b[0;32mif\u001b[0m \u001b[0mself\u001b[0m\u001b[0;34m.\u001b[0m\u001b[0mdtype\u001b[0m \u001b[0;34m==\u001b[0m \u001b[0mobject\u001b[0m\u001b[0;34m:\u001b[0m\u001b[0;34m\u001b[0m\u001b[0;34m\u001b[0m\u001b[0m\n\u001b[1;32m    369\u001b[0m             \u001b[0mvalues\u001b[0m \u001b[0;34m=\u001b[0m \u001b[0mself\u001b[0m\u001b[0;34m.\u001b[0m\u001b[0mblock\u001b[0m\u001b[0;34m.\u001b[0m\u001b[0mvalues\u001b[0m\u001b[0;34m\u001b[0m\u001b[0;34m\u001b[0m\u001b[0m\n\u001b[0;32m--> 370\u001b[0;31m             \u001b[0;32mreturn\u001b[0m \u001b[0mall\u001b[0m\u001b[0;34m(\u001b[0m\u001b[0mis_valid_na_for_dtype\u001b[0m\u001b[0;34m(\u001b[0m\u001b[0mx\u001b[0m\u001b[0;34m,\u001b[0m \u001b[0mdtype\u001b[0m\u001b[0;34m)\u001b[0m \u001b[0;32mfor\u001b[0m \u001b[0mx\u001b[0m \u001b[0;32min\u001b[0m \u001b[0mvalues\u001b[0m\u001b[0;34m.\u001b[0m\u001b[0mravel\u001b[0m\u001b[0;34m(\u001b[0m\u001b[0morder\u001b[0m\u001b[0;34m=\u001b[0m\u001b[0;34m\"K\"\u001b[0m\u001b[0;34m)\u001b[0m\u001b[0;34m)\u001b[0m\u001b[0;34m\u001b[0m\u001b[0;34m\u001b[0m\u001b[0m\n\u001b[0m\u001b[1;32m    371\u001b[0m \u001b[0;34m\u001b[0m\u001b[0m\n\u001b[1;32m    372\u001b[0m         if self.dtype.kind == dtype.kind == \"M\" and not is_dtype_equal(\n",
            "\u001b[0;31mKeyboardInterrupt\u001b[0m: "
          ]
        }
      ]
    },
    {
      "cell_type": "markdown",
      "source": [
        "### 4- How many posts include tagged locations, and how many do not? Show it using an appropriate chart and comment your results."
      ],
      "metadata": {
        "id": "MdGhzxDPfjzT"
      }
    },
    {
      "cell_type": "code",
      "source": [
        "loc=pd.DataFrame(columns=['location_id'])\n",
        "for chunk in tqdm(pd.read_csv(\"/content/drive/MyDrive/ADM_HW2/instagram_posts.csv\", usecols=['location_id'], delimiter='\\t', chunksize=500000)):\n",
        "    loc=pd.concat([loc, (chunk)])"
      ],
      "metadata": {
        "colab": {
          "base_uri": "https://localhost:8080/",
          "height": 224
        },
        "id": "W5Xi3h_DfqP4",
        "outputId": "e229969d-f285-4596-e86c-5263ae44b1ba"
      },
      "execution_count": 6,
      "outputs": [
        {
          "output_type": "stream",
          "name": "stderr",
          "text": [
            "86it [03:11,  2.23s/it]\n"
          ]
        },
        {
          "output_type": "error",
          "ename": "AttributeError",
          "evalue": "ignored",
          "traceback": [
            "\u001b[0;31m---------------------------------------------------------------------------\u001b[0m",
            "\u001b[0;31mAttributeError\u001b[0m                            Traceback (most recent call last)",
            "\u001b[0;32m<ipython-input-6-db49929c046a>\u001b[0m in \u001b[0;36m<module>\u001b[0;34m\u001b[0m\n\u001b[1;32m      6\u001b[0m \u001b[0;31m#num di post con location non taggate\u001b[0m\u001b[0;34m\u001b[0m\u001b[0;34m\u001b[0m\u001b[0;34m\u001b[0m\u001b[0m\n\u001b[1;32m      7\u001b[0m \u001b[0;34m\u001b[0m\u001b[0m\n\u001b[0;32m----> 8\u001b[0;31m \u001b[0mloc\u001b[0m\u001b[0;34m.\u001b[0m\u001b[0mlocation_id\u001b[0m\u001b[0;34m.\u001b[0m\u001b[0mdropna\u001b[0m\u001b[0;34m(\u001b[0m\u001b[0minplace\u001b[0m\u001b[0;34m=\u001b[0m\u001b[0;32mTrue\u001b[0m\u001b[0;34m)\u001b[0m\u001b[0;34m.\u001b[0m\u001b[0msum\u001b[0m\u001b[0;34m(\u001b[0m\u001b[0;34m)\u001b[0m\u001b[0;34m\u001b[0m\u001b[0;34m\u001b[0m\u001b[0m\n\u001b[0m",
            "\u001b[0;31mAttributeError\u001b[0m: 'NoneType' object has no attribute 'sum'"
          ]
        }
      ]
    },
    {
      "cell_type": "code",
      "source": [
        "noloc=loc.location_id.isna().sum()\n",
        "noloc\n",
        "#num di post con location non taggate"
      ],
      "metadata": {
        "id": "v_ASwF9g8Ml3",
        "outputId": "3f94d460-8eb7-4a1d-84f4-9874c5f625bd",
        "colab": {
          "base_uri": "https://localhost:8080/"
        }
      },
      "execution_count": 10,
      "outputs": [
        {
          "output_type": "execute_result",
          "data": {
            "text/plain": [
              "12972772"
            ]
          },
          "metadata": {},
          "execution_count": 10
        }
      ]
    },
    {
      "cell_type": "code",
      "source": [
        "#conloc=loc.location_id.dropna().sum()\n",
        "#conloc=loc.location_id.sum()\n",
        "conloc=loc.location_id.count()-noloc\n",
        "conloc\n",
        "#num post con location taggate"
      ],
      "metadata": {
        "id": "yKhY0kIc8eGe",
        "outputId": "d8334cbe-4ab5-48c6-b09a-a9cae04e7aab",
        "colab": {
          "base_uri": "https://localhost:8080/"
        }
      },
      "execution_count": 34,
      "outputs": [
        {
          "output_type": "execute_result",
          "data": {
            "text/plain": [
              "16764653"
            ]
          },
          "metadata": {},
          "execution_count": 34
        }
      ]
    },
    {
      "cell_type": "code",
      "source": [
        "\n",
        "prop=[noloc, conloc]\n",
        "names='without location', 'with location'\n",
        "plt.pie(prop, labels=names, labeldistance=1.15, wedgeprops = { 'linewidth' : 3, 'edgecolor' : 'white' })\n",
        "plt.show()"
      ],
      "metadata": {
        "id": "Jos-zlqJ8l69",
        "outputId": "08d2b78b-43c7-4b0b-b7b3-630eb91e1be4",
        "colab": {
          "base_uri": "https://localhost:8080/",
          "height": 248
        }
      },
      "execution_count": 35,
      "outputs": [
        {
          "output_type": "display_data",
          "data": {
            "text/plain": [
              "<Figure size 432x288 with 1 Axes>"
            ],
            "image/png": "[encoded data removed]"
          },
          "metadata": {}
        }
      ]
    },
    {
      "cell_type": "markdown",
      "source": [
        "### 5- How many posts include only photos? How many also have videos?"
      ],
      "metadata": {
        "id": "ydOIK5Ewfph1"
      }
    },
    {
      "cell_type": "code",
      "source": [],
      "metadata": {
        "id": "RlnKyvMnfvea"
      },
      "execution_count": null,
      "outputs": []
    },
    {
      "cell_type": "markdown",
      "source": [
        "### 6- What's the percentage of business accounts vs non-business? What can you interpret regarding that percentage?"
      ],
      "metadata": {
        "id": "8e6Wg7X8fpu9"
      }
    },
    {
      "cell_type": "code",
      "source": [],
      "metadata": {
        "id": "pKzoQ1j-f1eZ"
      },
      "execution_count": null,
      "outputs": []
    },
    {
      "cell_type": "markdown",
      "source": [
        "# RQ7"
      ],
      "metadata": {
        "id": "XOcPDpLMvKi8"
      }
    },
    {
      "cell_type": "code",
      "source": [
        "n = 42710197\n",
        "s = 1000\n",
        "filename = \"/content/drive/MyDrive/ADM_HW2/instagram_posts.csv\"\n",
        "df2= profiles[['followers', 'sid']]\n",
        "l=[]\n",
        "for i in range(1000):\n",
        "  skip = sorted(random.sample(range(n),n-s))\n",
        "  df = pd.read_csv(filename, usecols= ['numbr_likes' , 'sid_profile'], skiprows=skip, sep='\\t')\n",
        "  df1=posts[['numbr_likes' , 'sid_profile']]\n",
        "  df1=df1.dropna()\n",
        "  df2=df2.dropna()\n",
        "  data=pd.merge(df1, df2, left_on=\"sid_profile\", right_on=\"sid\").drop('sid', axis=1)\n",
        "  l.append(sum(data.apply(lambda x :  x.numbr_likes / x.followers, axis = 1 ) > 0.20)/ data.shape[0])\n",
        "\n",
        "\n"
      ],
      "metadata": {
        "colab": {
          "base_uri": "https://localhost:8080/",
          "height": 426
        },
        "id": "6pw3op_MxhoM",
        "outputId": "422d489d-233a-4835-d02e-3f71953376bf"
      },
      "execution_count": null,
      "outputs": [
        {
          "output_type": "error",
          "ename": "ValueError",
          "evalue": "ignored",
          "traceback": [
            "\u001b[0;31m---------------------------------------------------------------------------\u001b[0m",
            "\u001b[0;31mValueError\u001b[0m                                Traceback (most recent call last)",
            "\u001b[0;32m<ipython-input-5-841bc8209d8e>\u001b[0m in \u001b[0;36m<module>\u001b[0;34m\u001b[0m\n\u001b[1;32m      6\u001b[0m \u001b[0;32mfor\u001b[0m \u001b[0mi\u001b[0m \u001b[0;32min\u001b[0m \u001b[0mrange\u001b[0m\u001b[0;34m(\u001b[0m\u001b[0;36m1000\u001b[0m\u001b[0;34m)\u001b[0m\u001b[0;34m:\u001b[0m\u001b[0;34m\u001b[0m\u001b[0;34m\u001b[0m\u001b[0m\n\u001b[1;32m      7\u001b[0m   \u001b[0mskip\u001b[0m \u001b[0;34m=\u001b[0m \u001b[0msorted\u001b[0m\u001b[0;34m(\u001b[0m\u001b[0mrandom\u001b[0m\u001b[0;34m.\u001b[0m\u001b[0msample\u001b[0m\u001b[0;34m(\u001b[0m\u001b[0mrange\u001b[0m\u001b[0;34m(\u001b[0m\u001b[0mn\u001b[0m\u001b[0;34m)\u001b[0m\u001b[0;34m,\u001b[0m\u001b[0mn\u001b[0m\u001b[0;34m-\u001b[0m\u001b[0ms\u001b[0m\u001b[0;34m)\u001b[0m\u001b[0;34m)\u001b[0m\u001b[0;34m\u001b[0m\u001b[0;34m\u001b[0m\u001b[0m\n\u001b[0;32m----> 8\u001b[0;31m   \u001b[0mdf\u001b[0m \u001b[0;34m=\u001b[0m \u001b[0mpd\u001b[0m\u001b[0;34m.\u001b[0m\u001b[0mread_csv\u001b[0m\u001b[0;34m(\u001b[0m\u001b[0mfilename\u001b[0m\u001b[0;34m,\u001b[0m \u001b[0musecols\u001b[0m\u001b[0;34m=\u001b[0m \u001b[0;34m[\u001b[0m\u001b[0;34m'numbr_likes'\u001b[0m \u001b[0;34m,\u001b[0m \u001b[0;34m'sid_profile'\u001b[0m\u001b[0;34m]\u001b[0m\u001b[0;34m,\u001b[0m \u001b[0mskiprows\u001b[0m\u001b[0;34m=\u001b[0m\u001b[0mskip\u001b[0m\u001b[0;34m,\u001b[0m \u001b[0msep\u001b[0m\u001b[0;34m=\u001b[0m\u001b[0;34m'\\t'\u001b[0m\u001b[0;34m)\u001b[0m\u001b[0;34m\u001b[0m\u001b[0;34m\u001b[0m\u001b[0m\n\u001b[0m\u001b[1;32m      9\u001b[0m   \u001b[0mdf1\u001b[0m\u001b[0;34m=\u001b[0m\u001b[0mposts\u001b[0m\u001b[0;34m[\u001b[0m\u001b[0;34m[\u001b[0m\u001b[0;34m'numbr_likes'\u001b[0m \u001b[0;34m,\u001b[0m \u001b[0;34m'sid_profile'\u001b[0m\u001b[0;34m]\u001b[0m\u001b[0;34m]\u001b[0m\u001b[0;34m\u001b[0m\u001b[0;34m\u001b[0m\u001b[0m\n\u001b[1;32m     10\u001b[0m   \u001b[0mdf1\u001b[0m\u001b[0;34m=\u001b[0m\u001b[0mdf1\u001b[0m\u001b[0;34m.\u001b[0m\u001b[0mdropna\u001b[0m\u001b[0;34m(\u001b[0m\u001b[0;34m)\u001b[0m\u001b[0;34m\u001b[0m\u001b[0;34m\u001b[0m\u001b[0m\n",
            "\u001b[0;32m/usr/local/lib/python3.7/dist-packages/pandas/util/_decorators.py\u001b[0m in \u001b[0;36mwrapper\u001b[0;34m(*args, **kwargs)\u001b[0m\n\u001b[1;32m    309\u001b[0m                     \u001b[0mstacklevel\u001b[0m\u001b[0;34m=\u001b[0m\u001b[0mstacklevel\u001b[0m\u001b[0;34m,\u001b[0m\u001b[0;34m\u001b[0m\u001b[0;34m\u001b[0m\u001b[0m\n\u001b[1;32m    310\u001b[0m                 )\n\u001b[0;32m--> 311\u001b[0;31m             \u001b[0;32mreturn\u001b[0m \u001b[0mfunc\u001b[0m\u001b[0;34m(\u001b[0m\u001b[0;34m*\u001b[0m\u001b[0margs\u001b[0m\u001b[0;34m,\u001b[0m \u001b[0;34m**\u001b[0m\u001b[0mkwargs\u001b[0m\u001b[0;34m)\u001b[0m\u001b[0;34m\u001b[0m\u001b[0;34m\u001b[0m\u001b[0m\n\u001b[0m\u001b[1;32m    312\u001b[0m \u001b[0;34m\u001b[0m\u001b[0m\n\u001b[1;32m    313\u001b[0m         \u001b[0;32mreturn\u001b[0m \u001b[0mwrapper\u001b[0m\u001b[0;34m\u001b[0m\u001b[0;34m\u001b[0m\u001b[0m\n",
            "\u001b[0;32m/usr/local/lib/python3.7/dist-packages/pandas/io/parsers/readers.py\u001b[0m in \u001b[0;36mread_csv\u001b[0;34m(filepath_or_buffer, sep, delimiter, header, names, index_col, usecols, squeeze, prefix, mangle_dupe_cols, dtype, engine, converters, true_values, false_values, skipinitialspace, skiprows, skipfooter, nrows, na_values, keep_default_na, na_filter, verbose, skip_blank_lines, parse_dates, infer_datetime_format, keep_date_col, date_parser, dayfirst, cache_dates, iterator, chunksize, compression, thousands, decimal, lineterminator, quotechar, quoting, doublequote, escapechar, comment, encoding, encoding_errors, dialect, error_bad_lines, warn_bad_lines, on_bad_lines, delim_whitespace, low_memory, memory_map, float_precision, storage_options)\u001b[0m\n\u001b[1;32m    584\u001b[0m     \u001b[0mkwds\u001b[0m\u001b[0;34m.\u001b[0m\u001b[0mupdate\u001b[0m\u001b[0;34m(\u001b[0m\u001b[0mkwds_defaults\u001b[0m\u001b[0;34m)\u001b[0m\u001b[0;34m\u001b[0m\u001b[0;34m\u001b[0m\u001b[0m\n\u001b[1;32m    585\u001b[0m \u001b[0;34m\u001b[0m\u001b[0m\n\u001b[0;32m--> 586\u001b[0;31m     \u001b[0;32mreturn\u001b[0m \u001b[0m_read\u001b[0m\u001b[0;34m(\u001b[0m\u001b[0mfilepath_or_buffer\u001b[0m\u001b[0;34m,\u001b[0m \u001b[0mkwds\u001b[0m\u001b[0;34m)\u001b[0m\u001b[0;34m\u001b[0m\u001b[0;34m\u001b[0m\u001b[0m\n\u001b[0m\u001b[1;32m    587\u001b[0m \u001b[0;34m\u001b[0m\u001b[0m\n\u001b[1;32m    588\u001b[0m \u001b[0;34m\u001b[0m\u001b[0m\n",
            "\u001b[0;32m/usr/local/lib/python3.7/dist-packages/pandas/io/parsers/readers.py\u001b[0m in \u001b[0;36m_read\u001b[0;34m(filepath_or_buffer, kwds)\u001b[0m\n\u001b[1;32m    480\u001b[0m \u001b[0;34m\u001b[0m\u001b[0m\n\u001b[1;32m    481\u001b[0m     \u001b[0;31m# Create the parser.\u001b[0m\u001b[0;34m\u001b[0m\u001b[0;34m\u001b[0m\u001b[0;34m\u001b[0m\u001b[0m\n\u001b[0;32m--> 482\u001b[0;31m     \u001b[0mparser\u001b[0m \u001b[0;34m=\u001b[0m \u001b[0mTextFileReader\u001b[0m\u001b[0;34m(\u001b[0m\u001b[0mfilepath_or_buffer\u001b[0m\u001b[0;34m,\u001b[0m \u001b[0;34m**\u001b[0m\u001b[0mkwds\u001b[0m\u001b[0;34m)\u001b[0m\u001b[0;34m\u001b[0m\u001b[0;34m\u001b[0m\u001b[0m\n\u001b[0m\u001b[1;32m    483\u001b[0m \u001b[0;34m\u001b[0m\u001b[0m\n\u001b[1;32m    484\u001b[0m     \u001b[0;32mif\u001b[0m \u001b[0mchunksize\u001b[0m \u001b[0;32mor\u001b[0m \u001b[0miterator\u001b[0m\u001b[0;34m:\u001b[0m\u001b[0;34m\u001b[0m\u001b[0;34m\u001b[0m\u001b[0m\n",
            "\u001b[0;32m/usr/local/lib/python3.7/dist-packages/pandas/io/parsers/readers.py\u001b[0m in \u001b[0;36m__init__\u001b[0;34m(self, f, engine, **kwds)\u001b[0m\n\u001b[1;32m    809\u001b[0m             \u001b[0mself\u001b[0m\u001b[0;34m.\u001b[0m\u001b[0moptions\u001b[0m\u001b[0;34m[\u001b[0m\u001b[0;34m\"has_index_names\"\u001b[0m\u001b[0;34m]\u001b[0m \u001b[0;34m=\u001b[0m \u001b[0mkwds\u001b[0m\u001b[0;34m[\u001b[0m\u001b[0;34m\"has_index_names\"\u001b[0m\u001b[0;34m]\u001b[0m\u001b[0;34m\u001b[0m\u001b[0;34m\u001b[0m\u001b[0m\n\u001b[1;32m    810\u001b[0m \u001b[0;34m\u001b[0m\u001b[0m\n\u001b[0;32m--> 811\u001b[0;31m         \u001b[0mself\u001b[0m\u001b[0;34m.\u001b[0m\u001b[0m_engine\u001b[0m \u001b[0;34m=\u001b[0m \u001b[0mself\u001b[0m\u001b[0;34m.\u001b[0m\u001b[0m_make_engine\u001b[0m\u001b[0;34m(\u001b[0m\u001b[0mself\u001b[0m\u001b[0;34m.\u001b[0m\u001b[0mengine\u001b[0m\u001b[0;34m)\u001b[0m\u001b[0;34m\u001b[0m\u001b[0;34m\u001b[0m\u001b[0m\n\u001b[0m\u001b[1;32m    812\u001b[0m \u001b[0;34m\u001b[0m\u001b[0m\n\u001b[1;32m    813\u001b[0m     \u001b[0;32mdef\u001b[0m \u001b[0mclose\u001b[0m\u001b[0;34m(\u001b[0m\u001b[0mself\u001b[0m\u001b[0;34m)\u001b[0m\u001b[0;34m:\u001b[0m\u001b[0;34m\u001b[0m\u001b[0;34m\u001b[0m\u001b[0m\n",
            "\u001b[0;32m/usr/local/lib/python3.7/dist-packages/pandas/io/parsers/readers.py\u001b[0m in \u001b[0;36m_make_engine\u001b[0;34m(self, engine)\u001b[0m\n\u001b[1;32m   1038\u001b[0m             )\n\u001b[1;32m   1039\u001b[0m         \u001b[0;31m# error: Too many arguments for \"ParserBase\"\u001b[0m\u001b[0;34m\u001b[0m\u001b[0;34m\u001b[0m\u001b[0;34m\u001b[0m\u001b[0m\n\u001b[0;32m-> 1040\u001b[0;31m         \u001b[0;32mreturn\u001b[0m \u001b[0mmapping\u001b[0m\u001b[0;34m[\u001b[0m\u001b[0mengine\u001b[0m\u001b[0;34m]\u001b[0m\u001b[0;34m(\u001b[0m\u001b[0mself\u001b[0m\u001b[0;34m.\u001b[0m\u001b[0mf\u001b[0m\u001b[0;34m,\u001b[0m \u001b[0;34m**\u001b[0m\u001b[0mself\u001b[0m\u001b[0;34m.\u001b[0m\u001b[0moptions\u001b[0m\u001b[0;34m)\u001b[0m  \u001b[0;31m# type: ignore[call-arg]\u001b[0m\u001b[0;34m\u001b[0m\u001b[0;34m\u001b[0m\u001b[0m\n\u001b[0m\u001b[1;32m   1041\u001b[0m \u001b[0;34m\u001b[0m\u001b[0m\n\u001b[1;32m   1042\u001b[0m     \u001b[0;32mdef\u001b[0m \u001b[0m_failover_to_python\u001b[0m\u001b[0;34m(\u001b[0m\u001b[0mself\u001b[0m\u001b[0;34m)\u001b[0m\u001b[0;34m:\u001b[0m\u001b[0;34m\u001b[0m\u001b[0;34m\u001b[0m\u001b[0m\n",
            "\u001b[0;32m/usr/local/lib/python3.7/dist-packages/pandas/io/parsers/c_parser_wrapper.py\u001b[0m in \u001b[0;36m__init__\u001b[0;34m(self, src, **kwds)\u001b[0m\n\u001b[1;32m    133\u001b[0m                 \u001b[0mself\u001b[0m\u001b[0;34m.\u001b[0m\u001b[0morig_names\u001b[0m\u001b[0;34m\u001b[0m\u001b[0;34m\u001b[0m\u001b[0m\n\u001b[1;32m    134\u001b[0m             ):\n\u001b[0;32m--> 135\u001b[0;31m                 \u001b[0mself\u001b[0m\u001b[0;34m.\u001b[0m\u001b[0m_validate_usecols_names\u001b[0m\u001b[0;34m(\u001b[0m\u001b[0musecols\u001b[0m\u001b[0;34m,\u001b[0m \u001b[0mself\u001b[0m\u001b[0;34m.\u001b[0m\u001b[0morig_names\u001b[0m\u001b[0;34m)\u001b[0m\u001b[0;34m\u001b[0m\u001b[0;34m\u001b[0m\u001b[0m\n\u001b[0m\u001b[1;32m    136\u001b[0m \u001b[0;34m\u001b[0m\u001b[0m\n\u001b[1;32m    137\u001b[0m             \u001b[0;31m# error: Cannot determine type of 'names'\u001b[0m\u001b[0;34m\u001b[0m\u001b[0;34m\u001b[0m\u001b[0;34m\u001b[0m\u001b[0m\n",
            "\u001b[0;32m/usr/local/lib/python3.7/dist-packages/pandas/io/parsers/base_parser.py\u001b[0m in \u001b[0;36m_validate_usecols_names\u001b[0;34m(self, usecols, names)\u001b[0m\n\u001b[1;32m    865\u001b[0m         \u001b[0;32mif\u001b[0m \u001b[0mlen\u001b[0m\u001b[0;34m(\u001b[0m\u001b[0mmissing\u001b[0m\u001b[0;34m)\u001b[0m \u001b[0;34m>\u001b[0m \u001b[0;36m0\u001b[0m\u001b[0;34m:\u001b[0m\u001b[0;34m\u001b[0m\u001b[0;34m\u001b[0m\u001b[0m\n\u001b[1;32m    866\u001b[0m             raise ValueError(\n\u001b[0;32m--> 867\u001b[0;31m                 \u001b[0;34mf\"Usecols do not match columns, columns expected but not found: \"\u001b[0m\u001b[0;34m\u001b[0m\u001b[0;34m\u001b[0m\u001b[0m\n\u001b[0m\u001b[1;32m    868\u001b[0m                 \u001b[0;34mf\"{missing}\"\u001b[0m\u001b[0;34m\u001b[0m\u001b[0;34m\u001b[0m\u001b[0m\n\u001b[1;32m    869\u001b[0m             )\n",
            "\u001b[0;31mValueError\u001b[0m: Usecols do not match columns, columns expected but not found: ['sid_profile', 'numbr_likes']"
          ]
        }
      ]
    },
    {
      "cell_type": "code",
      "source": [
        "pd.read_csv(filename, sep='\\t', usecols= ['numbr_likes' , 'sid_profile'],)"
      ],
      "metadata": {
        "id": "eVlJiq8j-vCG"
      },
      "execution_count": null,
      "outputs": []
    }
  ]
}