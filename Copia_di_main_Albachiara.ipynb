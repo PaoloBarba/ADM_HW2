{
  "nbformat": 4,
  "nbformat_minor": 0,
  "metadata": {
    "colab": {
      "provenance": [],
      "collapsed_sections": [],
      "include_colab_link": true
    },
    "kernelspec": {
      "name": "python3",
      "display_name": "Python 3"
    },
    "language_info": {
      "name": "python"
    }
  },
  "cells": [
    {
      "cell_type": "markdown",
      "metadata": {
        "id": "view-in-github",
        "colab_type": "text"
      },
      "source": [
        "<a href=\"https://colab.research.google.com/github/PaoloBarba/ADM_HW2-Group18/blob/main/Copia_di_main_Albachiara.ipynb\" target=\"_parent\"><img src=\"https://colab.research.google.com/assets/colab-badge.svg\" alt=\"Open In Colab\"/></a>"
      ]
    },
    {
      "cell_type": "markdown",
      "source": [
        "# **Algorithmic Methods of Data Mining**\n",
        "\n",
        "#Academic year 2022–2023\n",
        "\n",
        "# Homework 2 - Instagram Profiles & Posts\n",
        "\n",
        "Authors: Barba Paolo, Bellaroba Albachiara, Soukaina Alaoui, Francesca Gasbarri"
      ],
      "metadata": {
        "id": "kYur1faNzt2h"
      }
    },
    {
      "cell_type": "markdown",
      "source": [
        "#Import the packages and upload datasets\n"
      ],
      "metadata": {
        "id": "z4aPRI3HA63g"
      }
    },
    {
      "cell_type": "code",
      "execution_count": null,
      "metadata": {
        "id": "wLM1xak2KwOU"
      },
      "outputs": [],
      "source": [
        "import pandas as pd\n",
        "#import functions as fc\n",
        "import random\n",
        "import numpy as np\n",
        "import math\n",
        "import seaborn as sns\n",
        "import matplotlib.pyplot as plt\n",
        "from tqdm import tqdm\n",
        "%matplotlib inline     \n"
      ]
    },
    {
      "cell_type": "code",
      "source": [
        "from google.colab import drive \n",
        "drive.mount('/content/drive/')"
      ],
      "metadata": {
        "colab": {
          "base_uri": "https://localhost:8080/"
        },
        "id": "BGnoXZUTLWAw",
        "outputId": "d0861196-45ad-468e-f346-844ea26fda55"
      },
      "execution_count": null,
      "outputs": [
        {
          "output_type": "stream",
          "name": "stdout",
          "text": [
            "Mounted at /content/drive/\n"
          ]
        }
      ]
    },
    {
      "cell_type": "code",
      "source": [
        "#locations =pd.read_csv('/content/drive/MyDrive/ADM_HW2/instagram_locations.csv',sep='\\t')\n",
        "#profiles =pd.read_csv(\"/content/drive/MyDrive/ADM_HW2/instagram_profiles.csv\",sep='\\t')\n",
        "#posts =pd.read_csv(\"/content/drive/MyDrive/ADM_HW2/instagram_posts.csv\",sep='\\t',nrows=1000000)\n",
        "#print(posts)"
      ],
      "metadata": {
        "id": "iX6V6SXCQ6tK"
      },
      "execution_count": null,
      "outputs": []
    },
    {
      "cell_type": "markdown",
      "source": [
        "#Research question 1: Exploratory Data Analysis\n",
        "## Data summaritation"
      ],
      "metadata": {
        "id": "BpkqZqMECBDT"
      }
    },
    {
      "cell_type": "markdown",
      "source": [
        "In order to do an explanatory data analysis we will go through three different steps: Data Explorations, Data Manipulations and Data Summaritation.\n",
        "First we will show the firsts rows of the datasets we are analysing.\n"
      ],
      "metadata": {
        "id": "VXsKZDOdCIRo"
      }
    },
    {
      "cell_type": "code",
      "source": [
        "locations.head()"
      ],
      "metadata": {
        "id": "aVi6zjocbcK2",
        "outputId": "5fc9b383-9a58-4fc2-c5b2-d50a7a6ece3a",
        "colab": {
          "base_uri": "https://localhost:8080/",
          "height": 490
        }
      },
      "execution_count": null,
      "outputs": [
        {
          "output_type": "execute_result",
          "data": {
            "text/plain": [
              "      sid               id                                               name  \\\n",
              "0  719981  110296492939207                 Playa de Daimuz - Valencia, España   \n",
              "1  719983        274391278                                        Nová Vieska   \n",
              "2  719985  148885595789195                                      Everest Today   \n",
              "3  719987        263258277  BULAC - Bibliothèque universitaire des langues...   \n",
              "4  326443  406147529857708                           ABC Cable Networks Group   \n",
              "\n",
              "                       street    zip                 city region   cd  \\\n",
              "0                         NaN    NaN                  NaN    NaN  NaN   \n",
              "1                         NaN    NaN          Nová Vieska    NaN   SK   \n",
              "2                   Himalayas   +977     Kathmandu, Nepal    NaN   NP   \n",
              "3  65, rue des Grands-Moulins  75013        Paris, France    NaN   FR   \n",
              "4          3800 W Alameda Ave  91505  Burbank, California    NaN   US   \n",
              "\n",
              "            phone aj_exact_city_match  ...               dir_city_name  \\\n",
              "0             NaN               False  ...                         NaN   \n",
              "1             NaN                True  ...                  Kis-Újfalu   \n",
              "2             NaN               False  ...                    Pasupati   \n",
              "3  01 81 69 18 00               False  ...  13ème Arrondissement Paris   \n",
              "4  (818) 569-7500               False  ...                         NaN   \n",
              "\n",
              "                dir_city_slug dir_country_id dir_country_name         lat  \\\n",
              "0                         NaN            NaN              NaN   -0.139475   \n",
              "1                  kis-ujfalu             SK         Slovakia   18.466667   \n",
              "2                    pasupati             NP            Nepal   85.330150   \n",
              "3  13eme-arrondissement-paris             FR           France    2.375995   \n",
              "4                         NaN            NaN              NaN -118.341864   \n",
              "\n",
              "         lng primary_alias_on_fb  \\\n",
              "0  38.974391         daimuzplaya   \n",
              "1  47.866667                 NaN   \n",
              "2  27.701960        EverestToday   \n",
              "3  48.827240         BULAC.Paris   \n",
              "4  34.153265                 NaN   \n",
              "\n",
              "                                                slug  \\\n",
              "0                    playa-de-daimuz-valencia-espana   \n",
              "1                                        nova-vieska   \n",
              "2                                      everest-today   \n",
              "3  bulac-bibliotheque-universitaire-des-langues-e...   \n",
              "4                           abc-cable-networks-group   \n",
              "\n",
              "                                website                      cts  \n",
              "0  https://es.wikipedia.org/wiki/Daimuz  2019-05-29 01:21:29.987  \n",
              "1                                   NaN  2019-05-29 01:21:38.037  \n",
              "2                                   NaN  2019-05-29 01:21:46.295  \n",
              "3                          www.bulac.fr  2019-05-29 01:21:54.355  \n",
              "4                                   NaN  2019-04-02 15:22:55.703  \n",
              "\n",
              "[5 rows x 23 columns]"
            ],
            "text/html": [
              "\n",
              "  <div id=\"df-50f864e5-d615-4a23-82f1-c404611ebcf0\">\n",
              "    <div class=\"colab-df-container\">\n",
              "      <div>\n",
              "<style scoped>\n",
              "    .dataframe tbody tr th:only-of-type {\n",
              "        vertical-align: middle;\n",
              "    }\n",
              "\n",
              "    .dataframe tbody tr th {\n",
              "        vertical-align: top;\n",
              "    }\n",
              "\n",
              "    .dataframe thead th {\n",
              "        text-align: right;\n",
              "    }\n",
              "</style>\n",
              "<table border=\"1\" class=\"dataframe\">\n",
              "  <thead>\n",
              "    <tr style=\"text-align: right;\">\n",
              "      <th></th>\n",
              "      <th>sid</th>\n",
              "      <th>id</th>\n",
              "      <th>name</th>\n",
              "      <th>street</th>\n",
              "      <th>zip</th>\n",
              "      <th>city</th>\n",
              "      <th>region</th>\n",
              "      <th>cd</th>\n",
              "      <th>phone</th>\n",
              "      <th>aj_exact_city_match</th>\n",
              "      <th>...</th>\n",
              "      <th>dir_city_name</th>\n",
              "      <th>dir_city_slug</th>\n",
              "      <th>dir_country_id</th>\n",
              "      <th>dir_country_name</th>\n",
              "      <th>lat</th>\n",
              "      <th>lng</th>\n",
              "      <th>primary_alias_on_fb</th>\n",
              "      <th>slug</th>\n",
              "      <th>website</th>\n",
              "      <th>cts</th>\n",
              "    </tr>\n",
              "  </thead>\n",
              "  <tbody>\n",
              "    <tr>\n",
              "      <th>0</th>\n",
              "      <td>719981</td>\n",
              "      <td>110296492939207</td>\n",
              "      <td>Playa de Daimuz - Valencia, España</td>\n",
              "      <td>NaN</td>\n",
              "      <td>NaN</td>\n",
              "      <td>NaN</td>\n",
              "      <td>NaN</td>\n",
              "      <td>NaN</td>\n",
              "      <td>NaN</td>\n",
              "      <td>False</td>\n",
              "      <td>...</td>\n",
              "      <td>NaN</td>\n",
              "      <td>NaN</td>\n",
              "      <td>NaN</td>\n",
              "      <td>NaN</td>\n",
              "      <td>-0.139475</td>\n",
              "      <td>38.974391</td>\n",
              "      <td>daimuzplaya</td>\n",
              "      <td>playa-de-daimuz-valencia-espana</td>\n",
              "      <td>https://es.wikipedia.org/wiki/Daimuz</td>\n",
              "      <td>2019-05-29 01:21:29.987</td>\n",
              "    </tr>\n",
              "    <tr>\n",
              "      <th>1</th>\n",
              "      <td>719983</td>\n",
              "      <td>274391278</td>\n",
              "      <td>Nová Vieska</td>\n",
              "      <td>NaN</td>\n",
              "      <td>NaN</td>\n",
              "      <td>Nová Vieska</td>\n",
              "      <td>NaN</td>\n",
              "      <td>SK</td>\n",
              "      <td>NaN</td>\n",
              "      <td>True</td>\n",
              "      <td>...</td>\n",
              "      <td>Kis-Újfalu</td>\n",
              "      <td>kis-ujfalu</td>\n",
              "      <td>SK</td>\n",
              "      <td>Slovakia</td>\n",
              "      <td>18.466667</td>\n",
              "      <td>47.866667</td>\n",
              "      <td>NaN</td>\n",
              "      <td>nova-vieska</td>\n",
              "      <td>NaN</td>\n",
              "      <td>2019-05-29 01:21:38.037</td>\n",
              "    </tr>\n",
              "    <tr>\n",
              "      <th>2</th>\n",
              "      <td>719985</td>\n",
              "      <td>148885595789195</td>\n",
              "      <td>Everest Today</td>\n",
              "      <td>Himalayas</td>\n",
              "      <td>+977</td>\n",
              "      <td>Kathmandu, Nepal</td>\n",
              "      <td>NaN</td>\n",
              "      <td>NP</td>\n",
              "      <td>NaN</td>\n",
              "      <td>False</td>\n",
              "      <td>...</td>\n",
              "      <td>Pasupati</td>\n",
              "      <td>pasupati</td>\n",
              "      <td>NP</td>\n",
              "      <td>Nepal</td>\n",
              "      <td>85.330150</td>\n",
              "      <td>27.701960</td>\n",
              "      <td>EverestToday</td>\n",
              "      <td>everest-today</td>\n",
              "      <td>NaN</td>\n",
              "      <td>2019-05-29 01:21:46.295</td>\n",
              "    </tr>\n",
              "    <tr>\n",
              "      <th>3</th>\n",
              "      <td>719987</td>\n",
              "      <td>263258277</td>\n",
              "      <td>BULAC - Bibliothèque universitaire des langues...</td>\n",
              "      <td>65, rue des Grands-Moulins</td>\n",
              "      <td>75013</td>\n",
              "      <td>Paris, France</td>\n",
              "      <td>NaN</td>\n",
              "      <td>FR</td>\n",
              "      <td>01 81 69 18 00</td>\n",
              "      <td>False</td>\n",
              "      <td>...</td>\n",
              "      <td>13ème Arrondissement Paris</td>\n",
              "      <td>13eme-arrondissement-paris</td>\n",
              "      <td>FR</td>\n",
              "      <td>France</td>\n",
              "      <td>2.375995</td>\n",
              "      <td>48.827240</td>\n",
              "      <td>BULAC.Paris</td>\n",
              "      <td>bulac-bibliotheque-universitaire-des-langues-e...</td>\n",
              "      <td>www.bulac.fr</td>\n",
              "      <td>2019-05-29 01:21:54.355</td>\n",
              "    </tr>\n",
              "    <tr>\n",
              "      <th>4</th>\n",
              "      <td>326443</td>\n",
              "      <td>406147529857708</td>\n",
              "      <td>ABC Cable Networks Group</td>\n",
              "      <td>3800 W Alameda Ave</td>\n",
              "      <td>91505</td>\n",
              "      <td>Burbank, California</td>\n",
              "      <td>NaN</td>\n",
              "      <td>US</td>\n",
              "      <td>(818) 569-7500</td>\n",
              "      <td>False</td>\n",
              "      <td>...</td>\n",
              "      <td>NaN</td>\n",
              "      <td>NaN</td>\n",
              "      <td>NaN</td>\n",
              "      <td>NaN</td>\n",
              "      <td>-118.341864</td>\n",
              "      <td>34.153265</td>\n",
              "      <td>NaN</td>\n",
              "      <td>abc-cable-networks-group</td>\n",
              "      <td>NaN</td>\n",
              "      <td>2019-04-02 15:22:55.703</td>\n",
              "    </tr>\n",
              "  </tbody>\n",
              "</table>\n",
              "<p>5 rows × 23 columns</p>\n",
              "</div>\n",
              "      <button class=\"colab-df-convert\" onclick=\"convertToInteractive('df-50f864e5-d615-4a23-82f1-c404611ebcf0')\"\n",
              "              title=\"Convert this dataframe to an interactive table.\"\n",
              "              style=\"display:none;\">\n",
              "        \n",
              "  <svg xmlns=\"http://www.w3.org/2000/svg\" height=\"24px\"viewBox=\"0 0 24 24\"\n",
              "       width=\"24px\">\n",
              "    <path d=\"M0 0h24v24H0V0z\" fill=\"none\"/>\n",
              "    <path d=\"M18.56 5.44l.94 2.06.94-2.06 2.06-.94-2.06-.94-.94-2.06-.94 2.06-2.06.94zm-11 1L8.5 8.5l.94-2.06 2.06-.94-2.06-.94L8.5 2.5l-.94 2.06-2.06.94zm10 10l.94 2.06.94-2.06 2.06-.94-2.06-.94-.94-2.06-.94 2.06-2.06.94z\"/><path d=\"M17.41 7.96l-1.37-1.37c-.4-.4-.92-.59-1.43-.59-.52 0-1.04.2-1.43.59L10.3 9.45l-7.72 7.72c-.78.78-.78 2.05 0 2.83L4 21.41c.39.39.9.59 1.41.59.51 0 1.02-.2 1.41-.59l7.78-7.78 2.81-2.81c.8-.78.8-2.07 0-2.86zM5.41 20L4 18.59l7.72-7.72 1.47 1.35L5.41 20z\"/>\n",
              "  </svg>\n",
              "      </button>\n",
              "      \n",
              "  <style>\n",
              "    .colab-df-container {\n",
              "      display:flex;\n",
              "      flex-wrap:wrap;\n",
              "      gap: 12px;\n",
              "    }\n",
              "\n",
              "    .colab-df-convert {\n",
              "      background-color: #E8F0FE;\n",
              "      border: none;\n",
              "      border-radius: 50%;\n",
              "      cursor: pointer;\n",
              "      display: none;\n",
              "      fill: #1967D2;\n",
              "      height: 32px;\n",
              "      padding: 0 0 0 0;\n",
              "      width: 32px;\n",
              "    }\n",
              "\n",
              "    .colab-df-convert:hover {\n",
              "      background-color: #E2EBFA;\n",
              "      box-shadow: 0px 1px 2px rgba(60, 64, 67, 0.3), 0px 1px 3px 1px rgba(60, 64, 67, 0.15);\n",
              "      fill: #174EA6;\n",
              "    }\n",
              "\n",
              "    [theme=dark] .colab-df-convert {\n",
              "      background-color: #3B4455;\n",
              "      fill: #D2E3FC;\n",
              "    }\n",
              "\n",
              "    [theme=dark] .colab-df-convert:hover {\n",
              "      background-color: #434B5C;\n",
              "      box-shadow: 0px 1px 3px 1px rgba(0, 0, 0, 0.15);\n",
              "      filter: drop-shadow(0px 1px 2px rgba(0, 0, 0, 0.3));\n",
              "      fill: #FFFFFF;\n",
              "    }\n",
              "  </style>\n",
              "\n",
              "      <script>\n",
              "        const buttonEl =\n",
              "          document.querySelector('#df-50f864e5-d615-4a23-82f1-c404611ebcf0 button.colab-df-convert');\n",
              "        buttonEl.style.display =\n",
              "          google.colab.kernel.accessAllowed ? 'block' : 'none';\n",
              "\n",
              "        async function convertToInteractive(key) {\n",
              "          const element = document.querySelector('#df-50f864e5-d615-4a23-82f1-c404611ebcf0');\n",
              "          const dataTable =\n",
              "            await google.colab.kernel.invokeFunction('convertToInteractive',\n",
              "                                                     [key], {});\n",
              "          if (!dataTable) return;\n",
              "\n",
              "          const docLinkHtml = 'Like what you see? Visit the ' +\n",
              "            '<a target=\"_blank\" href=https://colab.research.google.com/notebooks/data_table.ipynb>data table notebook</a>'\n",
              "            + ' to learn more about interactive tables.';\n",
              "          element.innerHTML = '';\n",
              "          dataTable['output_type'] = 'display_data';\n",
              "          await google.colab.output.renderOutput(dataTable, element);\n",
              "          const docLink = document.createElement('div');\n",
              "          docLink.innerHTML = docLinkHtml;\n",
              "          element.appendChild(docLink);\n",
              "        }\n",
              "      </script>\n",
              "    </div>\n",
              "  </div>\n",
              "  "
            ]
          },
          "metadata": {},
          "execution_count": 6
        }
      ]
    },
    {
      "cell_type": "code",
      "source": [
        "profiles.head()"
      ],
      "metadata": {
        "id": "bj3WmAzyCMEy",
        "outputId": "016bfd98-fbfe-4972-9d54-37d8d1374c11",
        "colab": {
          "base_uri": "https://localhost:8080/",
          "height": 337
        }
      },
      "execution_count": null,
      "outputs": [
        {
          "output_type": "execute_result",
          "data": {
            "text/plain": [
              "       sid    profile_id      profile_name firstname_lastname  \\\n",
              "0  4184446  4.721050e+09       jphillip033        John Pierce   \n",
              "1  4184457  5.905830e+08         mama_haas             Deanna   \n",
              "2  4184460  1.074147e+09  yellowlightbreen         Eliza Gray   \n",
              "3  4184461  1.472039e+09           tec1025       Thomas Clark   \n",
              "4  4184462  3.531421e+09        luckyfluff                NaN   \n",
              "\n",
              "                                         description  following  followers  \\\n",
              "0                       \"Document Everything Always\"      250.0      146.0   \n",
              "1  Trying to enjoy the simple things in life. Kni...      534.0     1145.0   \n",
              "2                                Maine is for Lovers      469.0      324.0   \n",
              "3                                                NaN        NaN        NaN   \n",
              "4                                                NaN        NaN        NaN   \n",
              "\n",
              "   n_posts                           url                            cts  \\\n",
              "0    170.0                           NaN  2019-08-01 14:38:55.394 -0400   \n",
              "1   2878.0  www.etsy.com/shop/MamaHaas69  2019-08-01 14:39:36.526 -0400   \n",
              "2    431.0             elizajanegray.com  2019-08-01 14:39:54.407 -0400   \n",
              "3      NaN                           NaN  2019-08-01 14:40:06.472 -0400   \n",
              "4      NaN                           NaN  2019-08-01 14:40:07.806 -0400   \n",
              "\n",
              "  is_business_account  \n",
              "0               False  \n",
              "1               False  \n",
              "2               False  \n",
              "3                 NaN  \n",
              "4                 NaN  "
            ],
            "text/html": [
              "\n",
              "  <div id=\"df-087ec084-b0e5-492f-810f-c522086d87cb\">\n",
              "    <div class=\"colab-df-container\">\n",
              "      <div>\n",
              "<style scoped>\n",
              "    .dataframe tbody tr th:only-of-type {\n",
              "        vertical-align: middle;\n",
              "    }\n",
              "\n",
              "    .dataframe tbody tr th {\n",
              "        vertical-align: top;\n",
              "    }\n",
              "\n",
              "    .dataframe thead th {\n",
              "        text-align: right;\n",
              "    }\n",
              "</style>\n",
              "<table border=\"1\" class=\"dataframe\">\n",
              "  <thead>\n",
              "    <tr style=\"text-align: right;\">\n",
              "      <th></th>\n",
              "      <th>sid</th>\n",
              "      <th>profile_id</th>\n",
              "      <th>profile_name</th>\n",
              "      <th>firstname_lastname</th>\n",
              "      <th>description</th>\n",
              "      <th>following</th>\n",
              "      <th>followers</th>\n",
              "      <th>n_posts</th>\n",
              "      <th>url</th>\n",
              "      <th>cts</th>\n",
              "      <th>is_business_account</th>\n",
              "    </tr>\n",
              "  </thead>\n",
              "  <tbody>\n",
              "    <tr>\n",
              "      <th>0</th>\n",
              "      <td>4184446</td>\n",
              "      <td>4.721050e+09</td>\n",
              "      <td>jphillip033</td>\n",
              "      <td>John Pierce</td>\n",
              "      <td>\"Document Everything Always\"</td>\n",
              "      <td>250.0</td>\n",
              "      <td>146.0</td>\n",
              "      <td>170.0</td>\n",
              "      <td>NaN</td>\n",
              "      <td>2019-08-01 14:38:55.394 -0400</td>\n",
              "      <td>False</td>\n",
              "    </tr>\n",
              "    <tr>\n",
              "      <th>1</th>\n",
              "      <td>4184457</td>\n",
              "      <td>5.905830e+08</td>\n",
              "      <td>mama_haas</td>\n",
              "      <td>Deanna</td>\n",
              "      <td>Trying to enjoy the simple things in life. Kni...</td>\n",
              "      <td>534.0</td>\n",
              "      <td>1145.0</td>\n",
              "      <td>2878.0</td>\n",
              "      <td>www.etsy.com/shop/MamaHaas69</td>\n",
              "      <td>2019-08-01 14:39:36.526 -0400</td>\n",
              "      <td>False</td>\n",
              "    </tr>\n",
              "    <tr>\n",
              "      <th>2</th>\n",
              "      <td>4184460</td>\n",
              "      <td>1.074147e+09</td>\n",
              "      <td>yellowlightbreen</td>\n",
              "      <td>Eliza Gray</td>\n",
              "      <td>Maine is for Lovers</td>\n",
              "      <td>469.0</td>\n",
              "      <td>324.0</td>\n",
              "      <td>431.0</td>\n",
              "      <td>elizajanegray.com</td>\n",
              "      <td>2019-08-01 14:39:54.407 -0400</td>\n",
              "      <td>False</td>\n",
              "    </tr>\n",
              "    <tr>\n",
              "      <th>3</th>\n",
              "      <td>4184461</td>\n",
              "      <td>1.472039e+09</td>\n",
              "      <td>tec1025</td>\n",
              "      <td>Thomas Clark</td>\n",
              "      <td>NaN</td>\n",
              "      <td>NaN</td>\n",
              "      <td>NaN</td>\n",
              "      <td>NaN</td>\n",
              "      <td>NaN</td>\n",
              "      <td>2019-08-01 14:40:06.472 -0400</td>\n",
              "      <td>NaN</td>\n",
              "    </tr>\n",
              "    <tr>\n",
              "      <th>4</th>\n",
              "      <td>4184462</td>\n",
              "      <td>3.531421e+09</td>\n",
              "      <td>luckyfluff</td>\n",
              "      <td>NaN</td>\n",
              "      <td>NaN</td>\n",
              "      <td>NaN</td>\n",
              "      <td>NaN</td>\n",
              "      <td>NaN</td>\n",
              "      <td>NaN</td>\n",
              "      <td>2019-08-01 14:40:07.806 -0400</td>\n",
              "      <td>NaN</td>\n",
              "    </tr>\n",
              "  </tbody>\n",
              "</table>\n",
              "</div>\n",
              "      <button class=\"colab-df-convert\" onclick=\"convertToInteractive('df-087ec084-b0e5-492f-810f-c522086d87cb')\"\n",
              "              title=\"Convert this dataframe to an interactive table.\"\n",
              "              style=\"display:none;\">\n",
              "        \n",
              "  <svg xmlns=\"http://www.w3.org/2000/svg\" height=\"24px\"viewBox=\"0 0 24 24\"\n",
              "       width=\"24px\">\n",
              "    <path d=\"M0 0h24v24H0V0z\" fill=\"none\"/>\n",
              "    <path d=\"M18.56 5.44l.94 2.06.94-2.06 2.06-.94-2.06-.94-.94-2.06-.94 2.06-2.06.94zm-11 1L8.5 8.5l.94-2.06 2.06-.94-2.06-.94L8.5 2.5l-.94 2.06-2.06.94zm10 10l.94 2.06.94-2.06 2.06-.94-2.06-.94-.94-2.06-.94 2.06-2.06.94z\"/><path d=\"M17.41 7.96l-1.37-1.37c-.4-.4-.92-.59-1.43-.59-.52 0-1.04.2-1.43.59L10.3 9.45l-7.72 7.72c-.78.78-.78 2.05 0 2.83L4 21.41c.39.39.9.59 1.41.59.51 0 1.02-.2 1.41-.59l7.78-7.78 2.81-2.81c.8-.78.8-2.07 0-2.86zM5.41 20L4 18.59l7.72-7.72 1.47 1.35L5.41 20z\"/>\n",
              "  </svg>\n",
              "      </button>\n",
              "      \n",
              "  <style>\n",
              "    .colab-df-container {\n",
              "      display:flex;\n",
              "      flex-wrap:wrap;\n",
              "      gap: 12px;\n",
              "    }\n",
              "\n",
              "    .colab-df-convert {\n",
              "      background-color: #E8F0FE;\n",
              "      border: none;\n",
              "      border-radius: 50%;\n",
              "      cursor: pointer;\n",
              "      display: none;\n",
              "      fill: #1967D2;\n",
              "      height: 32px;\n",
              "      padding: 0 0 0 0;\n",
              "      width: 32px;\n",
              "    }\n",
              "\n",
              "    .colab-df-convert:hover {\n",
              "      background-color: #E2EBFA;\n",
              "      box-shadow: 0px 1px 2px rgba(60, 64, 67, 0.3), 0px 1px 3px 1px rgba(60, 64, 67, 0.15);\n",
              "      fill: #174EA6;\n",
              "    }\n",
              "\n",
              "    [theme=dark] .colab-df-convert {\n",
              "      background-color: #3B4455;\n",
              "      fill: #D2E3FC;\n",
              "    }\n",
              "\n",
              "    [theme=dark] .colab-df-convert:hover {\n",
              "      background-color: #434B5C;\n",
              "      box-shadow: 0px 1px 3px 1px rgba(0, 0, 0, 0.15);\n",
              "      filter: drop-shadow(0px 1px 2px rgba(0, 0, 0, 0.3));\n",
              "      fill: #FFFFFF;\n",
              "    }\n",
              "  </style>\n",
              "\n",
              "      <script>\n",
              "        const buttonEl =\n",
              "          document.querySelector('#df-087ec084-b0e5-492f-810f-c522086d87cb button.colab-df-convert');\n",
              "        buttonEl.style.display =\n",
              "          google.colab.kernel.accessAllowed ? 'block' : 'none';\n",
              "\n",
              "        async function convertToInteractive(key) {\n",
              "          const element = document.querySelector('#df-087ec084-b0e5-492f-810f-c522086d87cb');\n",
              "          const dataTable =\n",
              "            await google.colab.kernel.invokeFunction('convertToInteractive',\n",
              "                                                     [key], {});\n",
              "          if (!dataTable) return;\n",
              "\n",
              "          const docLinkHtml = 'Like what you see? Visit the ' +\n",
              "            '<a target=\"_blank\" href=https://colab.research.google.com/notebooks/data_table.ipynb>data table notebook</a>'\n",
              "            + ' to learn more about interactive tables.';\n",
              "          element.innerHTML = '';\n",
              "          dataTable['output_type'] = 'display_data';\n",
              "          await google.colab.output.renderOutput(dataTable, element);\n",
              "          const docLink = document.createElement('div');\n",
              "          docLink.innerHTML = docLinkHtml;\n",
              "          element.appendChild(docLink);\n",
              "        }\n",
              "      </script>\n",
              "    </div>\n",
              "  </div>\n",
              "  "
            ]
          },
          "metadata": {},
          "execution_count": 7
        }
      ]
    },
    {
      "cell_type": "code",
      "source": [
        "posts.head()"
      ],
      "metadata": {
        "id": "c5dDdZl7CMMG",
        "outputId": "f303e3fe-6fce-4997-ca46-87c7b0530284",
        "colab": {
          "base_uri": "https://localhost:8080/",
          "height": 206
        }
      },
      "execution_count": null,
      "outputs": [
        {
          "output_type": "execute_result",
          "data": {
            "text/plain": [
              "        sid  sid_profile      post_id    profile_id   location_id  \\\n",
              "0  28370919      3496776  BXdjjUlgcgq  2.237948e+09  1.022366e+15   \n",
              "1  28370932           -1  BVg0pbolYBC  5.579335e+09  4.574268e+14   \n",
              "2  28370933           -1  BRgkjcXFp3Q  3.134296e+08  4.574268e+14   \n",
              "3  28370934           -1  BKTKeNhjEA7  1.837593e+09  4.574268e+14   \n",
              "4  28370935           -1   8-NQrvoYLX  1.131527e+09  4.574268e+14   \n",
              "\n",
              "                       cts  post_type  \\\n",
              "0  2017-08-06 20:06:57.000          2   \n",
              "1  2017-06-19 09:31:16.000          1   \n",
              "2  2017-03-11 20:05:03.000          1   \n",
              "3  2016-09-13 16:27:16.000          1   \n",
              "4  2015-10-18 10:19:27.000          1   \n",
              "\n",
              "                                         description  numbr_likes  \\\n",
              "0  Wreckloose! Deevalley bike park laps on the @i...           80   \n",
              "1  🙌🏼 believe in ya dreams 🙌🏼 just like I believe...           25   \n",
              "2  #meraviglia #incensi #the #candele #profumo #a...            9   \n",
              "3  #teatime #scorpion #friends #love #mountains #...            4   \n",
              "4                   thE sky gavE mE a #constEllation            8   \n",
              "\n",
              "   number_comments  \n",
              "0                0  \n",
              "1                1  \n",
              "2                0  \n",
              "3                0  \n",
              "4                0  "
            ],
            "text/html": [
              "\n",
              "  <div id=\"df-c39e3e9f-ee2a-4d77-b8f1-23a61c669316\">\n",
              "    <div class=\"colab-df-container\">\n",
              "      <div>\n",
              "<style scoped>\n",
              "    .dataframe tbody tr th:only-of-type {\n",
              "        vertical-align: middle;\n",
              "    }\n",
              "\n",
              "    .dataframe tbody tr th {\n",
              "        vertical-align: top;\n",
              "    }\n",
              "\n",
              "    .dataframe thead th {\n",
              "        text-align: right;\n",
              "    }\n",
              "</style>\n",
              "<table border=\"1\" class=\"dataframe\">\n",
              "  <thead>\n",
              "    <tr style=\"text-align: right;\">\n",
              "      <th></th>\n",
              "      <th>sid</th>\n",
              "      <th>sid_profile</th>\n",
              "      <th>post_id</th>\n",
              "      <th>profile_id</th>\n",
              "      <th>location_id</th>\n",
              "      <th>cts</th>\n",
              "      <th>post_type</th>\n",
              "      <th>description</th>\n",
              "      <th>numbr_likes</th>\n",
              "      <th>number_comments</th>\n",
              "    </tr>\n",
              "  </thead>\n",
              "  <tbody>\n",
              "    <tr>\n",
              "      <th>0</th>\n",
              "      <td>28370919</td>\n",
              "      <td>3496776</td>\n",
              "      <td>BXdjjUlgcgq</td>\n",
              "      <td>2.237948e+09</td>\n",
              "      <td>1.022366e+15</td>\n",
              "      <td>2017-08-06 20:06:57.000</td>\n",
              "      <td>2</td>\n",
              "      <td>Wreckloose! Deevalley bike park laps on the @i...</td>\n",
              "      <td>80</td>\n",
              "      <td>0</td>\n",
              "    </tr>\n",
              "    <tr>\n",
              "      <th>1</th>\n",
              "      <td>28370932</td>\n",
              "      <td>-1</td>\n",
              "      <td>BVg0pbolYBC</td>\n",
              "      <td>5.579335e+09</td>\n",
              "      <td>4.574268e+14</td>\n",
              "      <td>2017-06-19 09:31:16.000</td>\n",
              "      <td>1</td>\n",
              "      <td>🙌🏼 believe in ya dreams 🙌🏼 just like I believe...</td>\n",
              "      <td>25</td>\n",
              "      <td>1</td>\n",
              "    </tr>\n",
              "    <tr>\n",
              "      <th>2</th>\n",
              "      <td>28370933</td>\n",
              "      <td>-1</td>\n",
              "      <td>BRgkjcXFp3Q</td>\n",
              "      <td>3.134296e+08</td>\n",
              "      <td>4.574268e+14</td>\n",
              "      <td>2017-03-11 20:05:03.000</td>\n",
              "      <td>1</td>\n",
              "      <td>#meraviglia #incensi #the #candele #profumo #a...</td>\n",
              "      <td>9</td>\n",
              "      <td>0</td>\n",
              "    </tr>\n",
              "    <tr>\n",
              "      <th>3</th>\n",
              "      <td>28370934</td>\n",
              "      <td>-1</td>\n",
              "      <td>BKTKeNhjEA7</td>\n",
              "      <td>1.837593e+09</td>\n",
              "      <td>4.574268e+14</td>\n",
              "      <td>2016-09-13 16:27:16.000</td>\n",
              "      <td>1</td>\n",
              "      <td>#teatime #scorpion #friends #love #mountains #...</td>\n",
              "      <td>4</td>\n",
              "      <td>0</td>\n",
              "    </tr>\n",
              "    <tr>\n",
              "      <th>4</th>\n",
              "      <td>28370935</td>\n",
              "      <td>-1</td>\n",
              "      <td>8-NQrvoYLX</td>\n",
              "      <td>1.131527e+09</td>\n",
              "      <td>4.574268e+14</td>\n",
              "      <td>2015-10-18 10:19:27.000</td>\n",
              "      <td>1</td>\n",
              "      <td>thE sky gavE mE a #constEllation</td>\n",
              "      <td>8</td>\n",
              "      <td>0</td>\n",
              "    </tr>\n",
              "  </tbody>\n",
              "</table>\n",
              "</div>\n",
              "      <button class=\"colab-df-convert\" onclick=\"convertToInteractive('df-c39e3e9f-ee2a-4d77-b8f1-23a61c669316')\"\n",
              "              title=\"Convert this dataframe to an interactive table.\"\n",
              "              style=\"display:none;\">\n",
              "        \n",
              "  <svg xmlns=\"http://www.w3.org/2000/svg\" height=\"24px\"viewBox=\"0 0 24 24\"\n",
              "       width=\"24px\">\n",
              "    <path d=\"M0 0h24v24H0V0z\" fill=\"none\"/>\n",
              "    <path d=\"M18.56 5.44l.94 2.06.94-2.06 2.06-.94-2.06-.94-.94-2.06-.94 2.06-2.06.94zm-11 1L8.5 8.5l.94-2.06 2.06-.94-2.06-.94L8.5 2.5l-.94 2.06-2.06.94zm10 10l.94 2.06.94-2.06 2.06-.94-2.06-.94-.94-2.06-.94 2.06-2.06.94z\"/><path d=\"M17.41 7.96l-1.37-1.37c-.4-.4-.92-.59-1.43-.59-.52 0-1.04.2-1.43.59L10.3 9.45l-7.72 7.72c-.78.78-.78 2.05 0 2.83L4 21.41c.39.39.9.59 1.41.59.51 0 1.02-.2 1.41-.59l7.78-7.78 2.81-2.81c.8-.78.8-2.07 0-2.86zM5.41 20L4 18.59l7.72-7.72 1.47 1.35L5.41 20z\"/>\n",
              "  </svg>\n",
              "      </button>\n",
              "      \n",
              "  <style>\n",
              "    .colab-df-container {\n",
              "      display:flex;\n",
              "      flex-wrap:wrap;\n",
              "      gap: 12px;\n",
              "    }\n",
              "\n",
              "    .colab-df-convert {\n",
              "      background-color: #E8F0FE;\n",
              "      border: none;\n",
              "      border-radius: 50%;\n",
              "      cursor: pointer;\n",
              "      display: none;\n",
              "      fill: #1967D2;\n",
              "      height: 32px;\n",
              "      padding: 0 0 0 0;\n",
              "      width: 32px;\n",
              "    }\n",
              "\n",
              "    .colab-df-convert:hover {\n",
              "      background-color: #E2EBFA;\n",
              "      box-shadow: 0px 1px 2px rgba(60, 64, 67, 0.3), 0px 1px 3px 1px rgba(60, 64, 67, 0.15);\n",
              "      fill: #174EA6;\n",
              "    }\n",
              "\n",
              "    [theme=dark] .colab-df-convert {\n",
              "      background-color: #3B4455;\n",
              "      fill: #D2E3FC;\n",
              "    }\n",
              "\n",
              "    [theme=dark] .colab-df-convert:hover {\n",
              "      background-color: #434B5C;\n",
              "      box-shadow: 0px 1px 3px 1px rgba(0, 0, 0, 0.15);\n",
              "      filter: drop-shadow(0px 1px 2px rgba(0, 0, 0, 0.3));\n",
              "      fill: #FFFFFF;\n",
              "    }\n",
              "  </style>\n",
              "\n",
              "      <script>\n",
              "        const buttonEl =\n",
              "          document.querySelector('#df-c39e3e9f-ee2a-4d77-b8f1-23a61c669316 button.colab-df-convert');\n",
              "        buttonEl.style.display =\n",
              "          google.colab.kernel.accessAllowed ? 'block' : 'none';\n",
              "\n",
              "        async function convertToInteractive(key) {\n",
              "          const element = document.querySelector('#df-c39e3e9f-ee2a-4d77-b8f1-23a61c669316');\n",
              "          const dataTable =\n",
              "            await google.colab.kernel.invokeFunction('convertToInteractive',\n",
              "                                                     [key], {});\n",
              "          if (!dataTable) return;\n",
              "\n",
              "          const docLinkHtml = 'Like what you see? Visit the ' +\n",
              "            '<a target=\"_blank\" href=https://colab.research.google.com/notebooks/data_table.ipynb>data table notebook</a>'\n",
              "            + ' to learn more about interactive tables.';\n",
              "          element.innerHTML = '';\n",
              "          dataTable['output_type'] = 'display_data';\n",
              "          await google.colab.output.renderOutput(dataTable, element);\n",
              "          const docLink = document.createElement('div');\n",
              "          docLink.innerHTML = docLinkHtml;\n",
              "          element.appendChild(docLink);\n",
              "        }\n",
              "      </script>\n",
              "    </div>\n",
              "  </div>\n",
              "  "
            ]
          },
          "metadata": {},
          "execution_count": 8
        }
      ]
    },
    {
      "cell_type": "markdown",
      "source": [
        "Now we can look at the columns of our datasets in order to understand which variables we are analsing.\n",
        "First of all we are going to first an info into the dataset to quickly understand the variables we are working with, get the numbers of rows and \n",
        "columns we have for each dataset"
      ],
      "metadata": {
        "id": "ChBPh66WZsXz"
      }
    },
    {
      "cell_type": "code",
      "source": [
        "locations.info()"
      ],
      "metadata": {
        "id": "0mY-XE9VZWuY",
        "colab": {
          "base_uri": "https://localhost:8080/"
        },
        "outputId": "78ef8c32-f76a-425c-e4ef-8af202072de5"
      },
      "execution_count": null,
      "outputs": [
        {
          "output_type": "stream",
          "name": "stdout",
          "text": [
            "<class 'pandas.core.frame.DataFrame'>\n",
            "RangeIndex: 1022658 entries, 0 to 1022657\n",
            "Data columns (total 23 columns):\n",
            " #   Column                  Non-Null Count    Dtype  \n",
            "---  ------                  --------------    -----  \n",
            " 0   sid                     1022658 non-null  int64  \n",
            " 1   id                      1022658 non-null  int64  \n",
            " 2   name                    1022658 non-null  object \n",
            " 3   street                  715704 non-null   object \n",
            " 4   zip                     715579 non-null   object \n",
            " 5   city                    937166 non-null   object \n",
            " 6   region                  1760 non-null     object \n",
            " 7   cd                      939010 non-null   object \n",
            " 8   phone                   601688 non-null   object \n",
            " 9   aj_exact_city_match     1000510 non-null  object \n",
            " 10  aj_exact_country_match  1000510 non-null  object \n",
            " 11  blurb                   406705 non-null   object \n",
            " 12  dir_city_id             495698 non-null   object \n",
            " 13  dir_city_name           495698 non-null   object \n",
            " 14  dir_city_slug           495221 non-null   object \n",
            " 15  dir_country_id          495628 non-null   object \n",
            " 16  dir_country_name        495698 non-null   object \n",
            " 17  lat                     1016495 non-null  float64\n",
            " 18  lng                     1016495 non-null  float64\n",
            " 19  primary_alias_on_fb     425531 non-null   object \n",
            " 20  slug                    941668 non-null   object \n",
            " 21  website                 623262 non-null   object \n",
            " 22  cts                     1022658 non-null  object \n",
            "dtypes: float64(2), int64(2), object(19)\n",
            "memory usage: 179.5+ MB\n"
          ]
        }
      ]
    },
    {
      "cell_type": "code",
      "source": [
        "profiles.info()"
      ],
      "metadata": {
        "id": "K_wy7BA9ZnI2",
        "outputId": "c6a7103b-4156-41f6-d14f-9feb4f973d0b",
        "colab": {
          "base_uri": "https://localhost:8080/",
          "height": 170
        }
      },
      "execution_count": null,
      "outputs": [
        {
          "output_type": "error",
          "ename": "NameError",
          "evalue": "ignored",
          "traceback": [
            "\u001b[0;31m---------------------------------------------------------------------------\u001b[0m",
            "\u001b[0;31mNameError\u001b[0m                                 Traceback (most recent call last)",
            "\u001b[0;32m<ipython-input-1-1f11b6adba79>\u001b[0m in \u001b[0;36m<module>\u001b[0;34m\u001b[0m\n\u001b[0;32m----> 1\u001b[0;31m \u001b[0mprofiles\u001b[0m\u001b[0;34m.\u001b[0m\u001b[0minfo\u001b[0m\u001b[0;34m(\u001b[0m\u001b[0;34m)\u001b[0m\u001b[0;34m\u001b[0m\u001b[0;34m\u001b[0m\u001b[0m\n\u001b[0m",
            "\u001b[0;31mNameError\u001b[0m: name 'profiles' is not defined"
          ]
        }
      ]
    },
    {
      "cell_type": "code",
      "source": [
        "posts.info()"
      ],
      "metadata": {
        "id": "WNvx6U-bZnK3"
      },
      "execution_count": null,
      "outputs": []
    },
    {
      "cell_type": "code",
      "source": [
        "print(\"Locations dataframe has \" + str(locations.shape[0]) + \" observations and \"  + str(locations.shape[1]) + \" variables\")\n",
        "print(\"Profiles dataframe has \" + str(profiles.shape[0]) + \" observations and \"  + str(profiles.shape[1]) + \" variables\")\n",
        "print(\"Posts dataframe has \" + str(posts.shape[0]) + \" observations and \"  + str(posts.shape[1]) + \" variables\")"
      ],
      "metadata": {
        "id": "O0skTFSVCa9_"
      },
      "execution_count": null,
      "outputs": []
    },
    {
      "cell_type": "markdown",
      "source": [
        "We are going one step further, having a better understanding of the statistical properties of these dataframes by using describe method that give us basics statistics of all the numerical columns we have.We are doing a statistical summaritation at all the numeric variables that have sense to summarize"
      ],
      "metadata": {
        "id": "Su-C4-QVCehW"
      }
    },
    {
      "cell_type": "code",
      "source": [
        "profiles[[\"following\" , \"followers\" , \"n_posts\" ]].describe()"
      ],
      "metadata": {
        "id": "wnvtxA44CiZc"
      },
      "execution_count": null,
      "outputs": []
    },
    {
      "cell_type": "code",
      "source": [
        "posts[[\"numbr_likes\",\"number_comments\"]].describe()"
      ],
      "metadata": {
        "id": "rrdwvnsXCigt"
      },
      "execution_count": null,
      "outputs": []
    },
    {
      "cell_type": "markdown",
      "source": [
        "We can see for istance that the maximum is too far from the 75% percentile, this sounds as an error that can influence a lot the statistics.\n",
        "In order to do a better analysis we might clean the datasets as much as possible doing steps descibed as below. \n",
        "\n",
        "\n",
        "1.   **Dealing with duplicates rows**:\n",
        "      we drop every duplicates rows because contengono useless informations \n",
        "2.    **Dealing with missing values**:\n",
        "      we check the percentage of missing value in each columns, we drop a columns that contains missing values over a set trheshold. After we select some columns of interest and drop the NA (gli darò una spiegazione per sto motivo giuro :D)\n",
        "\n",
        "3. **Dealing with outliers:** It is risky to include outliers in data driven models For some variables of interest we actually have some mistyping or error data that influence so much the distribution, we want to eliminate them according to z-scores ( glie spiego pure questo tranqui  :p ). \n",
        "\n"
      ],
      "metadata": {
        "id": "s1r22STZeOiX"
      }
    },
    {
      "cell_type": "code",
      "source": [
        "#Duplicates rows\n",
        "profiles.drop_duplicates(inplace=True)\n",
        "posts.drop_duplicates(inplace=True)\n",
        "locations.drop_duplicates(inplace=True)"
      ],
      "metadata": {
        "id": "zLHqdQALQsvz"
      },
      "execution_count": null,
      "outputs": []
    },
    {
      "cell_type": "code",
      "source": [
        "#Dealing with missing values, columns that contains so much Na\n",
        "#check for null values / % of null values we have\n",
        "print('Null values percentage for locations dataset')\n",
        "print(locations.isnull().sum()/locations.shape[0])\n",
        "print('\\n')\n",
        "print('Null values percentage for profiles dataset')\n",
        "print(profiles.isnull().sum()/profiles.shape[0])\n",
        "print('\\n')\n",
        "print('Null values percentage for posts dataset')\n",
        "print(posts.isnull().sum()/posts.shape[0])"
      ],
      "metadata": {
        "id": "fuG5DEzWYUyt"
      },
      "execution_count": null,
      "outputs": []
    },
    {
      "cell_type": "code",
      "source": [
        "#remove null colums over the threshold\n",
        "profiles.dropna(thresh = len(profiles)*.6, axis=1)\n",
        "locations.dropna(thresh = len(locations)*.6, axis=1)"
      ],
      "metadata": {
        "id": "kA_1PN-EZF6F"
      },
      "execution_count": null,
      "outputs": []
    },
    {
      "cell_type": "markdown",
      "source": [
        "Let's have a look at the distributions of some variables of interest "
      ],
      "metadata": {
        "id": "6Y1Je5cqvS25"
      }
    },
    {
      "cell_type": "code",
      "source": [
        "fig, axes = plt.subplots(nrows=1, ncols=2, figsize=(12, 6))  \n",
        "axes = axes.ravel() \n",
        "cols = [\"numbr_likes\", \"number_comments\"]  \n",
        "colors = ['tab:blue', 'tab:orange']  \n",
        "\n",
        "for col, color, ax in zip(cols, colors, axes):\n",
        "    posts[col].plot(kind= 'hist', ax=ax, color=color, label=col, title=col,grid=False,fontsize=7)\n",
        "    ax.legend()\n",
        "fig.tight_layout()\n",
        "plt.show()"
      ],
      "metadata": {
        "id": "I-4SeA6df_on"
      },
      "execution_count": null,
      "outputs": []
    },
    {
      "cell_type": "code",
      "source": [
        "fig, axes = plt.subplots(nrows=1, ncols=2, figsize=(12, 6))  \n",
        "axes = axes.ravel() \n",
        "cols = [\"numbr_likes\", \"number_comments\"]  \n",
        "colors = ['tab:blue', 'tab:orange']  \n",
        "\n",
        "for col, color, ax in zip(cols, colors, axes):\n",
        "    posts[col].plot(kind= 'box', ax=ax, color=color, label=col, title=col,grid=False,fontsize=5)\n",
        "fig.tight_layout()\n",
        "plt.show()"
      ],
      "metadata": {
        "id": "BVUCZ26lGm6m"
      },
      "execution_count": null,
      "outputs": []
    },
    {
      "cell_type": "markdown",
      "source": [
        "These distributions are sintomo di errors during the phase of raccolta dati:\n",
        "So for these variables of interest we have to deal with Na and ouliers values.\n",
        "So for Na values we have more than optzion to do.\n",
        "Replace with the mean: if there are a lot of missing value we are concentrando the distribution in the mean value and we lose informations about the shape of the distributions (that's a shit).\n",
        "Drop Na: we are loosing a relevant percentage of the informations we have, by the way having a huge quantità of data, this don't influence so much the distrubtion we are anylising. So in this case we will go through this procedure :D."
      ],
      "metadata": {
        "id": "TzJuMWukx4nF"
      }
    },
    {
      "cell_type": "code",
      "source": [
        "posts.dropna(subset=['numbr_likes', 'number_comments'])"
      ],
      "metadata": {
        "id": "4-KIIoYa0xfK"
      },
      "execution_count": null,
      "outputs": []
    },
    {
      "cell_type": "markdown",
      "source": [
        "The existence of one single misleading value has the potential to change the conclusion implied by the model. Is is therefore, important to detect and then decide whether to remove it or not from the dataset. Sometimes the data point may be extremely high or low but that does not mean it is an outlier that we want to get rid of.\n",
        "We have more than one method to dedect outliers:\n",
        "Inter Quartile Range : IQR. IQR = Q3-Q1 we use only 50% of the data!!!\n",
        "Z-score:Z-score is just another form of standard deviation procedure. Z-score is used to convert the data into another dataset with mean = 0."
      ],
      "metadata": {
        "id": "8H5Y8J6N1TUX"
      }
    },
    {
      "cell_type": "code",
      "source": [
        "mean_n_comments = np.mean(posts.number_comments)\n",
        "s_n_comments = np.std(posts.number_comments)\n",
        "posts['Z-score_comments'] = (posts.number_comments - mean_n_comments)/ s_n_comments\n",
        "\n",
        "\n",
        "mean_n_likes = np.mean(posts.numbr_likes)\n",
        "s_n_likes = np.std(posts.numbr_likes)\n",
        "posts['Z-score_likes'] = (posts.numbr_likes - mean_n_likes)/ s_n_likes\n",
        "\n"
      ],
      "metadata": {
        "id": "4gfYBbHU1RMi"
      },
      "execution_count": null,
      "outputs": []
    },
    {
      "cell_type": "code",
      "source": [
        "plt.subplots(nrows=1, ncols=2, figsize=(12, 6))  \n",
        "plt.subplot(121)\n",
        "plt.hist(posts.number_comments[abs(posts['Z-score_comments']) > 3],bins=20)\n",
        "plt.subplot(122)\n",
        "plt.hist(posts.numbr_likes[abs(posts['Z-score_likes']) > 3],bins=20)\n",
        "plt.show()"
      ],
      "metadata": {
        "id": "aR7afX7I2Skr"
      },
      "execution_count": null,
      "outputs": []
    },
    {
      "cell_type": "code",
      "source": [
        "plt.subplots(nrows=1, ncols=2, figsize=(12, 6))  \n",
        "plt.subplot(121)\n",
        "plt.boxplot(posts.number_comments[abs(posts['Z-score_comments']) > 3],showfliers= False)\n",
        "plt.subplot(122)\n",
        "plt.boxplot(posts.numbr_likes[abs(posts['Z-score_likes']) > 3], showfliers= False)\n",
        "plt.show()"
      ],
      "metadata": {
        "id": "-s96_cS9M2NM"
      },
      "execution_count": null,
      "outputs": []
    },
    {
      "cell_type": "code",
      "source": [
        "data_outliers= profiles[(profiles.followers) < profiles.followers.quantile(0.95)]\n",
        "data_outliers= data_outliers[(profiles.followers) > profiles.followers.quantile(0.05)]"
      ],
      "metadata": {
        "id": "0Yi1pMKPcTnL"
      },
      "execution_count": null,
      "outputs": []
    },
    {
      "cell_type": "code",
      "source": [
        "data_outliers.boxplot('followers')\n",
        "plt.show()\n",
        "#the distributions is quite skwnedss\n",
        "#showfliers= false"
      ],
      "metadata": {
        "id": "t4mYBJ8cd6Y7"
      },
      "execution_count": null,
      "outputs": []
    },
    {
      "cell_type": "code",
      "source": [
        "locations.region.value_count() / locations.regions.notnull().sum()  #give us the percentage of the region"
      ],
      "metadata": {
        "id": "YnpwUNEAQoBK"
      },
      "execution_count": null,
      "outputs": []
    },
    {
      "cell_type": "markdown",
      "source": [
        "# RQ2: Let's explore the dataset by finding simple insights regarding the profile and posts.\n",
        "### 1- Plot the number of posts for each profile in descending order."
      ],
      "metadata": {
        "id": "YLsOp0zMX4GG"
      }
    },
    {
      "cell_type": "code",
      "source": [
        "profiles =pd.read_csv(\"/content/drive/MyDrive/ADM_HW2/instagram_profiles.csv\",sep='\\t')"
      ],
      "metadata": {
        "id": "hMaD2AbuMAZi"
      },
      "execution_count": null,
      "outputs": []
    },
    {
      "cell_type": "code",
      "source": [
        "numpost=profiles.sort_values(by=['n_posts'], ascending=False)[:100]\n",
        "numpost.plot(x='profile_id', y='n_posts', kind='bar', xticks=[], legend=False)"
      ],
      "metadata": {
        "colab": {
          "base_uri": "https://localhost:8080/",
          "height": 280
        },
        "id": "ZNmVy6WSX6iq",
        "outputId": "78be7f53-12d5-47c3-ece1-f382a06cb3a2"
      },
      "execution_count": null,
      "outputs": [
        {
          "output_type": "execute_result",
          "data": {
            "text/plain": [
              "<matplotlib.axes._subplots.AxesSubplot at 0x7fa29aa91d50>"
            ]
          },
          "metadata": {},
          "execution_count": 5
        },
        {
          "output_type": "display_data",
          "data": {
            "text/plain": [
              "<Figure size 432x288 with 1 Axes>"
            ],
            "image/png": "[encoded data removed]"
          },
          "metadata": {
            "needs_background": "light"
          }
        }
      ]
    },
    {
      "cell_type": "markdown",
      "source": [
        "This plot represents the number of posts of the first 100 profiles in descending order."
      ],
      "metadata": {
        "id": "xVKrtFEwwFgM"
      }
    },
    {
      "cell_type": "markdown",
      "source": [
        "### 2- What posts have the highest number of \"likes\"?"
      ],
      "metadata": {
        "id": "giN64ut8fYf2"
      }
    },
    {
      "cell_type": "code",
      "source": [
        "likedposts=pd.DataFrame(pd.read_csv(\"/content/drive/MyDrive/ADM_HW2/instagram_posts.csv\", usecols=['post_id', 'numbr_likes'], delimiter='\\t'))"
      ],
      "metadata": {
        "id": "NBTDwczIffFC"
      },
      "execution_count": null,
      "outputs": []
    },
    {
      "cell_type": "code",
      "source": [
        "print(likedposts.sort_values(by='numbr_likes', ascending=False).head(10))"
      ],
      "metadata": {
        "id": "gtdy8lNELCGW",
        "outputId": "98c5dfe4-3940-490f-f0bf-a20859429424",
        "colab": {
          "base_uri": "https://localhost:8080/"
        }
      },
      "execution_count": null,
      "outputs": [
        {
          "output_type": "stream",
          "name": "stdout",
          "text": [
            "              post_id  numbr_likes\n",
            "19624085  Bt3yaXmAM0d    8822952.0\n",
            "19623988  BuwffB7g8cK    5447066.0\n",
            "19624082  Buc1gyZAaMQ    5116398.0\n",
            "19623986  BvcukE8AMuG    4271466.0\n",
            "39701024  BqSLFVBFLfq    4264745.0\n",
            "6293907   BwTSXBKg7gN    3586546.0\n",
            "19624086  Btw8pFXAvQm    3558599.0\n",
            "19802016  BvC3n6_gqin    3533326.0\n",
            "30850564  Bw7vqLrFkHi    3340297.0\n",
            "39812576  Bw2gTH1AiDA    3311246.0\n"
          ]
        }
      ]
    },
    {
      "cell_type": "code",
      "source": [
        "del likedposts"
      ],
      "metadata": {
        "id": "bRJTCSBMLQPy"
      },
      "execution_count": null,
      "outputs": []
    },
    {
      "cell_type": "markdown",
      "source": [
        "### 3- What posts have the most and the least number of comments?"
      ],
      "metadata": {
        "id": "U561nWajffeE"
      }
    },
    {
      "cell_type": "code",
      "source": [
        "comments=pd.DataFrame(pd.read_csv(\"/content/drive/MyDrive/ADM_HW2/instagram_posts.csv\", usecols=['post_id', 'number_comments'], delimiter='\\t'))"
      ],
      "metadata": {
        "id": "tArPKuEGfnB-"
      },
      "execution_count": null,
      "outputs": []
    },
    {
      "cell_type": "code",
      "source": [
        "maxcomm=comments.sort_values(by='number_comments', ascending=False).head(5)\n",
        "maxcomm"
      ],
      "metadata": {
        "id": "EFTpBQrVyZl6",
        "outputId": "66f3eaec-61be-4b82-a8f0-2f9984502fc0",
        "colab": {
          "base_uri": "https://localhost:8080/",
          "height": 206
        }
      },
      "execution_count": null,
      "outputs": [
        {
          "output_type": "execute_result",
          "data": {
            "text/plain": [
              "              post_id  number_comments\n",
              "41873060  Bx2sPAjHviO         488953.0\n",
              "12164781  BuGjhWAhAW5         313997.0\n",
              "33261751  BJ-rkpTgn1N         257488.0\n",
              "11149127  BMtisIxjhtT         214365.0\n",
              "9383817   BzOOWj3DfZK         189888.0"
            ],
            "text/html": [
              "\n",
              "  <div id=\"df-447ead92-0550-4114-bc01-184e0fd67d0a\">\n",
              "    <div class=\"colab-df-container\">\n",
              "      <div>\n",
              "<style scoped>\n",
              "    .dataframe tbody tr th:only-of-type {\n",
              "        vertical-align: middle;\n",
              "    }\n",
              "\n",
              "    .dataframe tbody tr th {\n",
              "        vertical-align: top;\n",
              "    }\n",
              "\n",
              "    .dataframe thead th {\n",
              "        text-align: right;\n",
              "    }\n",
              "</style>\n",
              "<table border=\"1\" class=\"dataframe\">\n",
              "  <thead>\n",
              "    <tr style=\"text-align: right;\">\n",
              "      <th></th>\n",
              "      <th>post_id</th>\n",
              "      <th>number_comments</th>\n",
              "    </tr>\n",
              "  </thead>\n",
              "  <tbody>\n",
              "    <tr>\n",
              "      <th>41873060</th>\n",
              "      <td>Bx2sPAjHviO</td>\n",
              "      <td>488953.0</td>\n",
              "    </tr>\n",
              "    <tr>\n",
              "      <th>12164781</th>\n",
              "      <td>BuGjhWAhAW5</td>\n",
              "      <td>313997.0</td>\n",
              "    </tr>\n",
              "    <tr>\n",
              "      <th>33261751</th>\n",
              "      <td>BJ-rkpTgn1N</td>\n",
              "      <td>257488.0</td>\n",
              "    </tr>\n",
              "    <tr>\n",
              "      <th>11149127</th>\n",
              "      <td>BMtisIxjhtT</td>\n",
              "      <td>214365.0</td>\n",
              "    </tr>\n",
              "    <tr>\n",
              "      <th>9383817</th>\n",
              "      <td>BzOOWj3DfZK</td>\n",
              "      <td>189888.0</td>\n",
              "    </tr>\n",
              "  </tbody>\n",
              "</table>\n",
              "</div>\n",
              "      <button class=\"colab-df-convert\" onclick=\"convertToInteractive('df-447ead92-0550-4114-bc01-184e0fd67d0a')\"\n",
              "              title=\"Convert this dataframe to an interactive table.\"\n",
              "              style=\"display:none;\">\n",
              "        \n",
              "  <svg xmlns=\"http://www.w3.org/2000/svg\" height=\"24px\"viewBox=\"0 0 24 24\"\n",
              "       width=\"24px\">\n",
              "    <path d=\"M0 0h24v24H0V0z\" fill=\"none\"/>\n",
              "    <path d=\"M18.56 5.44l.94 2.06.94-2.06 2.06-.94-2.06-.94-.94-2.06-.94 2.06-2.06.94zm-11 1L8.5 8.5l.94-2.06 2.06-.94-2.06-.94L8.5 2.5l-.94 2.06-2.06.94zm10 10l.94 2.06.94-2.06 2.06-.94-2.06-.94-.94-2.06-.94 2.06-2.06.94z\"/><path d=\"M17.41 7.96l-1.37-1.37c-.4-.4-.92-.59-1.43-.59-.52 0-1.04.2-1.43.59L10.3 9.45l-7.72 7.72c-.78.78-.78 2.05 0 2.83L4 21.41c.39.39.9.59 1.41.59.51 0 1.02-.2 1.41-.59l7.78-7.78 2.81-2.81c.8-.78.8-2.07 0-2.86zM5.41 20L4 18.59l7.72-7.72 1.47 1.35L5.41 20z\"/>\n",
              "  </svg>\n",
              "      </button>\n",
              "      \n",
              "  <style>\n",
              "    .colab-df-container {\n",
              "      display:flex;\n",
              "      flex-wrap:wrap;\n",
              "      gap: 12px;\n",
              "    }\n",
              "\n",
              "    .colab-df-convert {\n",
              "      background-color: #E8F0FE;\n",
              "      border: none;\n",
              "      border-radius: 50%;\n",
              "      cursor: pointer;\n",
              "      display: none;\n",
              "      fill: #1967D2;\n",
              "      height: 32px;\n",
              "      padding: 0 0 0 0;\n",
              "      width: 32px;\n",
              "    }\n",
              "\n",
              "    .colab-df-convert:hover {\n",
              "      background-color: #E2EBFA;\n",
              "      box-shadow: 0px 1px 2px rgba(60, 64, 67, 0.3), 0px 1px 3px 1px rgba(60, 64, 67, 0.15);\n",
              "      fill: #174EA6;\n",
              "    }\n",
              "\n",
              "    [theme=dark] .colab-df-convert {\n",
              "      background-color: #3B4455;\n",
              "      fill: #D2E3FC;\n",
              "    }\n",
              "\n",
              "    [theme=dark] .colab-df-convert:hover {\n",
              "      background-color: #434B5C;\n",
              "      box-shadow: 0px 1px 3px 1px rgba(0, 0, 0, 0.15);\n",
              "      filter: drop-shadow(0px 1px 2px rgba(0, 0, 0, 0.3));\n",
              "      fill: #FFFFFF;\n",
              "    }\n",
              "  </style>\n",
              "\n",
              "      <script>\n",
              "        const buttonEl =\n",
              "          document.querySelector('#df-447ead92-0550-4114-bc01-184e0fd67d0a button.colab-df-convert');\n",
              "        buttonEl.style.display =\n",
              "          google.colab.kernel.accessAllowed ? 'block' : 'none';\n",
              "\n",
              "        async function convertToInteractive(key) {\n",
              "          const element = document.querySelector('#df-447ead92-0550-4114-bc01-184e0fd67d0a');\n",
              "          const dataTable =\n",
              "            await google.colab.kernel.invokeFunction('convertToInteractive',\n",
              "                                                     [key], {});\n",
              "          if (!dataTable) return;\n",
              "\n",
              "          const docLinkHtml = 'Like what you see? Visit the ' +\n",
              "            '<a target=\"_blank\" href=https://colab.research.google.com/notebooks/data_table.ipynb>data table notebook</a>'\n",
              "            + ' to learn more about interactive tables.';\n",
              "          element.innerHTML = '';\n",
              "          dataTable['output_type'] = 'display_data';\n",
              "          await google.colab.output.renderOutput(dataTable, element);\n",
              "          const docLink = document.createElement('div');\n",
              "          docLink.innerHTML = docLinkHtml;\n",
              "          element.appendChild(docLink);\n",
              "        }\n",
              "      </script>\n",
              "    </div>\n",
              "  </div>\n",
              "  "
            ]
          },
          "metadata": {},
          "execution_count": 10
        }
      ]
    },
    {
      "cell_type": "code",
      "source": [
        "mincomm=comments.dropna().sort_values(by='number_comments', ascending=False).tail(5)\n",
        "mincomm.index=['Post'+str(i+1) for i in range(5)]\n",
        "mincomm"
      ],
      "metadata": {
        "id": "hQITz5rlzvYq",
        "outputId": "2090ed3d-3b1e-4273-bdf8-801f2f0d258a",
        "colab": {
          "base_uri": "https://localhost:8080/",
          "height": 206
        }
      },
      "execution_count": null,
      "outputs": [
        {
          "output_type": "execute_result",
          "data": {
            "text/plain": [
              "           post_id  number_comments\n",
              "Post1  BohcyBgFtD6              0.0\n",
              "Post2  BqEZ-DRFCy8              0.0\n",
              "Post3  BzaQtxKJPci              0.0\n",
              "Post4  BzdFSh-nONl              0.0\n",
              "Post5  BXdjjUlgcgq              0.0"
            ],
            "text/html": [
              "\n",
              "  <div id=\"df-715f9a69-b5f7-4b09-9fb7-a315e34b03ba\">\n",
              "    <div class=\"colab-df-container\">\n",
              "      <div>\n",
              "<style scoped>\n",
              "    .dataframe tbody tr th:only-of-type {\n",
              "        vertical-align: middle;\n",
              "    }\n",
              "\n",
              "    .dataframe tbody tr th {\n",
              "        vertical-align: top;\n",
              "    }\n",
              "\n",
              "    .dataframe thead th {\n",
              "        text-align: right;\n",
              "    }\n",
              "</style>\n",
              "<table border=\"1\" class=\"dataframe\">\n",
              "  <thead>\n",
              "    <tr style=\"text-align: right;\">\n",
              "      <th></th>\n",
              "      <th>post_id</th>\n",
              "      <th>number_comments</th>\n",
              "    </tr>\n",
              "  </thead>\n",
              "  <tbody>\n",
              "    <tr>\n",
              "      <th>Post1</th>\n",
              "      <td>BohcyBgFtD6</td>\n",
              "      <td>0.0</td>\n",
              "    </tr>\n",
              "    <tr>\n",
              "      <th>Post2</th>\n",
              "      <td>BqEZ-DRFCy8</td>\n",
              "      <td>0.0</td>\n",
              "    </tr>\n",
              "    <tr>\n",
              "      <th>Post3</th>\n",
              "      <td>BzaQtxKJPci</td>\n",
              "      <td>0.0</td>\n",
              "    </tr>\n",
              "    <tr>\n",
              "      <th>Post4</th>\n",
              "      <td>BzdFSh-nONl</td>\n",
              "      <td>0.0</td>\n",
              "    </tr>\n",
              "    <tr>\n",
              "      <th>Post5</th>\n",
              "      <td>BXdjjUlgcgq</td>\n",
              "      <td>0.0</td>\n",
              "    </tr>\n",
              "  </tbody>\n",
              "</table>\n",
              "</div>\n",
              "      <button class=\"colab-df-convert\" onclick=\"convertToInteractive('df-715f9a69-b5f7-4b09-9fb7-a315e34b03ba')\"\n",
              "              title=\"Convert this dataframe to an interactive table.\"\n",
              "              style=\"display:none;\">\n",
              "        \n",
              "  <svg xmlns=\"http://www.w3.org/2000/svg\" height=\"24px\"viewBox=\"0 0 24 24\"\n",
              "       width=\"24px\">\n",
              "    <path d=\"M0 0h24v24H0V0z\" fill=\"none\"/>\n",
              "    <path d=\"M18.56 5.44l.94 2.06.94-2.06 2.06-.94-2.06-.94-.94-2.06-.94 2.06-2.06.94zm-11 1L8.5 8.5l.94-2.06 2.06-.94-2.06-.94L8.5 2.5l-.94 2.06-2.06.94zm10 10l.94 2.06.94-2.06 2.06-.94-2.06-.94-.94-2.06-.94 2.06-2.06.94z\"/><path d=\"M17.41 7.96l-1.37-1.37c-.4-.4-.92-.59-1.43-.59-.52 0-1.04.2-1.43.59L10.3 9.45l-7.72 7.72c-.78.78-.78 2.05 0 2.83L4 21.41c.39.39.9.59 1.41.59.51 0 1.02-.2 1.41-.59l7.78-7.78 2.81-2.81c.8-.78.8-2.07 0-2.86zM5.41 20L4 18.59l7.72-7.72 1.47 1.35L5.41 20z\"/>\n",
              "  </svg>\n",
              "      </button>\n",
              "      \n",
              "  <style>\n",
              "    .colab-df-container {\n",
              "      display:flex;\n",
              "      flex-wrap:wrap;\n",
              "      gap: 12px;\n",
              "    }\n",
              "\n",
              "    .colab-df-convert {\n",
              "      background-color: #E8F0FE;\n",
              "      border: none;\n",
              "      border-radius: 50%;\n",
              "      cursor: pointer;\n",
              "      display: none;\n",
              "      fill: #1967D2;\n",
              "      height: 32px;\n",
              "      padding: 0 0 0 0;\n",
              "      width: 32px;\n",
              "    }\n",
              "\n",
              "    .colab-df-convert:hover {\n",
              "      background-color: #E2EBFA;\n",
              "      box-shadow: 0px 1px 2px rgba(60, 64, 67, 0.3), 0px 1px 3px 1px rgba(60, 64, 67, 0.15);\n",
              "      fill: #174EA6;\n",
              "    }\n",
              "\n",
              "    [theme=dark] .colab-df-convert {\n",
              "      background-color: #3B4455;\n",
              "      fill: #D2E3FC;\n",
              "    }\n",
              "\n",
              "    [theme=dark] .colab-df-convert:hover {\n",
              "      background-color: #434B5C;\n",
              "      box-shadow: 0px 1px 3px 1px rgba(0, 0, 0, 0.15);\n",
              "      filter: drop-shadow(0px 1px 2px rgba(0, 0, 0, 0.3));\n",
              "      fill: #FFFFFF;\n",
              "    }\n",
              "  </style>\n",
              "\n",
              "      <script>\n",
              "        const buttonEl =\n",
              "          document.querySelector('#df-715f9a69-b5f7-4b09-9fb7-a315e34b03ba button.colab-df-convert');\n",
              "        buttonEl.style.display =\n",
              "          google.colab.kernel.accessAllowed ? 'block' : 'none';\n",
              "\n",
              "        async function convertToInteractive(key) {\n",
              "          const element = document.querySelector('#df-715f9a69-b5f7-4b09-9fb7-a315e34b03ba');\n",
              "          const dataTable =\n",
              "            await google.colab.kernel.invokeFunction('convertToInteractive',\n",
              "                                                     [key], {});\n",
              "          if (!dataTable) return;\n",
              "\n",
              "          const docLinkHtml = 'Like what you see? Visit the ' +\n",
              "            '<a target=\"_blank\" href=https://colab.research.google.com/notebooks/data_table.ipynb>data table notebook</a>'\n",
              "            + ' to learn more about interactive tables.';\n",
              "          element.innerHTML = '';\n",
              "          dataTable['output_type'] = 'display_data';\n",
              "          await google.colab.output.renderOutput(dataTable, element);\n",
              "          const docLink = document.createElement('div');\n",
              "          docLink.innerHTML = docLinkHtml;\n",
              "          element.appendChild(docLink);\n",
              "        }\n",
              "      </script>\n",
              "    </div>\n",
              "  </div>\n",
              "  "
            ]
          },
          "metadata": {},
          "execution_count": 11
        }
      ]
    },
    {
      "cell_type": "code",
      "source": [
        "del comments, maxcomm, mincomm"
      ],
      "metadata": {
        "id": "SzcqdND3guDD"
      },
      "execution_count": null,
      "outputs": []
    },
    {
      "cell_type": "markdown",
      "source": [
        "### 4- How many posts include tagged locations, and how many do not? Show it using an appropriate chart and comment your results."
      ],
      "metadata": {
        "id": "MdGhzxDPfjzT"
      }
    },
    {
      "cell_type": "code",
      "source": [
        "loc=pd.read_csv(\"/content/drive/MyDrive/ADM_HW2/instagram_posts.csv\", usecols=['location_id'], delimiter='\\t')"
      ],
      "metadata": {
        "id": "W5Xi3h_DfqP4"
      },
      "execution_count": null,
      "outputs": []
    },
    {
      "cell_type": "code",
      "source": [
        "noloc=loc.location_id.isna().sum()\n",
        "noloc\n",
        "#num di post con location non taggate"
      ],
      "metadata": {
        "colab": {
          "base_uri": "https://localhost:8080/"
        },
        "id": "v_ASwF9g8Ml3",
        "outputId": "88d934fb-ad99-4832-d851-a68bec9cf4b3"
      },
      "execution_count": null,
      "outputs": [
        {
          "output_type": "execute_result",
          "data": {
            "text/plain": [
              "12972772"
            ]
          },
          "metadata": {},
          "execution_count": 14
        }
      ]
    },
    {
      "cell_type": "code",
      "source": [
        "#conloc=loc.location_id.dropna().sum()\n",
        "#conloc=loc.location_id.sum()\n",
        "conloc=loc.location_id.dropna().count()\n",
        "conloc\n",
        "#num post con location taggate"
      ],
      "metadata": {
        "colab": {
          "base_uri": "https://localhost:8080/"
        },
        "id": "yKhY0kIc8eGe",
        "outputId": "22799372-d37e-4d25-bcb2-8e2cfbe1e830"
      },
      "execution_count": null,
      "outputs": [
        {
          "output_type": "execute_result",
          "data": {
            "text/plain": [
              "29737425"
            ]
          },
          "metadata": {},
          "execution_count": 15
        }
      ]
    },
    {
      "cell_type": "code",
      "source": [
        "\n",
        "prop=[noloc, conloc]\n",
        "names='without location', 'with location'\n",
        "plt.pie(prop, labels=names, labeldistance=1.15, wedgeprops = { 'linewidth' : 3, 'edgecolor' : 'white' })\n",
        "plt.show()"
      ],
      "metadata": {
        "colab": {
          "base_uri": "https://localhost:8080/",
          "height": 248
        },
        "id": "Jos-zlqJ8l69",
        "outputId": "4b311c61-d7e4-4a9c-9a68-1db2573c094f"
      },
      "execution_count": null,
      "outputs": [
        {
          "output_type": "display_data",
          "data": {
            "text/plain": [
              "<Figure size 432x288 with 1 Axes>"
            ],
            "image/png": "[encoded data removed]"
          },
          "metadata": {}
        }
      ]
    },
    {
      "cell_type": "code",
      "source": [
        "del loc, noloc, conloc, "
      ],
      "metadata": {
        "id": "KPJXW8NigoaD"
      },
      "execution_count": null,
      "outputs": []
    },
    {
      "cell_type": "markdown",
      "source": [
        "### 5- How many posts include only photos? How many also have videos?"
      ],
      "metadata": {
        "id": "ydOIK5Ewfph1"
      }
    },
    {
      "cell_type": "code",
      "source": [
        "ptype=pd.read_csv(\"/content/drive/MyDrive/ADM_HW2/instagram_posts.csv\", usecols=['post_type'], delimiter='\\t')"
      ],
      "metadata": {
        "id": "RlnKyvMnfvea"
      },
      "execution_count": null,
      "outputs": []
    },
    {
      "cell_type": "code",
      "source": [
        "photos=ptype[ptype['post_type']==1]\n",
        "multi=ptype[ptype['post_type']==3]\n",
        "print(photos.shape[0])\n",
        "print(multi.shape[0])"
      ],
      "metadata": {
        "id": "V51TkRJ1OtRs",
        "outputId": "907615e7-b04f-4a39-e56c-a26231eb05cb",
        "colab": {
          "base_uri": "https://localhost:8080/"
        }
      },
      "execution_count": null,
      "outputs": [
        {
          "output_type": "stream",
          "name": "stdout",
          "text": [
            "41534486\n",
            "40943\n"
          ]
        }
      ]
    },
    {
      "cell_type": "code",
      "source": [
        "del ptype, photos, multi"
      ],
      "metadata": {
        "id": "fDj0gAa0qJ1a"
      },
      "execution_count": null,
      "outputs": []
    },
    {
      "cell_type": "markdown",
      "source": [
        "### 6- What's the percentage of business accounts vs non-business? What can you interpret regarding that percentage?"
      ],
      "metadata": {
        "id": "8e6Wg7X8fpu9"
      }
    },
    {
      "cell_type": "code",
      "source": [
        "#take the dataset column\n",
        "#drop the NaN values\n",
        "#count rows with is_business_account=True\n",
        "\n",
        "business=profiles[profiles['is_business_account']== True]\n",
        "business=business.shape[0]\n",
        "print(business)\n",
        "\n",
        "nonbusiness=profiles[profiles['is_business_account']== False]\n",
        "nonbusiness=nonbusiness.shape[0]\n",
        "print(nonbusiness)"
      ],
      "metadata": {
        "id": "pKzoQ1j-f1eZ",
        "outputId": "d51d6ff1-6cd4-4f59-c795-80d727176685",
        "colab": {
          "base_uri": "https://localhost:8080/"
        }
      },
      "execution_count": null,
      "outputs": [
        {
          "output_type": "stream",
          "name": "stdout",
          "text": [
            "855254\n",
            "2590069\n"
          ]
        }
      ]
    },
    {
      "cell_type": "code",
      "source": [
        "prop=[business, nonbusiness]\n",
        "names='business accounts', 'non business accounts'\n",
        "plt.pie(prop, labels=names, labeldistance=1.15, wedgeprops = { 'linewidth' : 3, 'edgecolor' : 'white' }, autopct='%1.1f%%')\n",
        "plt.show()"
      ],
      "metadata": {
        "id": "M387UJqNZetv",
        "outputId": "35f76f35-92d2-4eab-abd7-ab57bb659f74",
        "colab": {
          "base_uri": "https://localhost:8080/",
          "height": 248
        }
      },
      "execution_count": null,
      "outputs": [
        {
          "output_type": "display_data",
          "data": {
            "text/plain": [
              "<Figure size 432x288 with 1 Axes>"
            ],
            "image/png": "[encoded data removed]"
          },
          "metadata": {}
        }
      ]
    },
    {
      "cell_type": "code",
      "source": [
        "del business, nonbusiness"
      ],
      "metadata": {
        "id": "3O0fwbDLeI5v"
      },
      "execution_count": null,
      "outputs": []
    },
    {
      "cell_type": "markdown",
      "source": [
        "As shown by the pie plot, the percentage of business account is almost the 25% of the total, which is a fair ratio considering that instagram is a social network created to be used by ordinary people."
      ],
      "metadata": {
        "id": "Xabf8Zp3aiqh"
      }
    },
    {
      "cell_type": "markdown",
      "source": [
        "# RQ5"
      ],
      "metadata": {
        "id": "42nb6Wn5TzNk"
      }
    },
    {
      "cell_type": "markdown",
      "source": [
        "### 1- Plot the top 10 most popular users in terms of followers and their number of posts."
      ],
      "metadata": {
        "id": "zC5iRJPuT4cP"
      }
    },
    {
      "cell_type": "code",
      "source": [
        "subset=profiles[[ 'sid', 'profile_name', 'followers', 'n_posts']]\n",
        "popular=subset.dropna().nlargest(10, ['followers'])\n",
        "print(popular)\n",
        "\n",
        "plt.figure(1, figsize=(25,5))\n",
        "plt.subplot(1,3,1)\n",
        "sns.barplot(data=popular, y='profile_name', x='followers', palette='pastel')\n",
        "plt.title('Number of followers of the top 10 popular users')\n",
        "\n",
        "plt.subplot(1,3,2)\n",
        "sns.barplot(data=popular, y='profile_name', x='n_posts', palette='pastel')\n",
        "plt.ylabel('')\n",
        "plt.title('Number of posts of the top 10 popular users')\n",
        "\n",
        "plt.subplot(1,3,3)\n",
        "popular['followers']=popular['followers']/popular['followers'].max()\n",
        "popular['n_posts']=popular['n_posts']/popular['n_posts'].max()\n",
        "plt.barh(popular['profile_name'], popular['followers'], align='center', alpha=0.3, color='orange')\n",
        "plt.barh(popular['profile_name'], -popular['n_posts'], alpha=0.3, align='center', color='blue')\n",
        "plt.title('Comparison between number of followers and posts normalized')\n",
        "\n",
        "plt.show()\n",
        "#plt.rcParams['figure.figsize']=[4,2]"
      ],
      "metadata": {
        "id": "fpu7n9LgUBTo",
        "outputId": "7f4803ff-e451-4d6e-f60b-136f65cbd1e7",
        "colab": {
          "base_uri": "https://localhost:8080/",
          "height": 521
        }
      },
      "execution_count": null,
      "outputs": [
        {
          "output_type": "stream",
          "name": "stdout",
          "text": [
            "             sid     profile_name    followers  n_posts\n",
            "2880218   336492        instagram  285457645.0   5760.0\n",
            "2582507   371414  victoriassecret   65269440.0   7355.0\n",
            "3820939   337097              nba   35339708.0  28816.0\n",
            "701965    330376     louisvuitton   30689316.0   3352.0\n",
            "2414951   292359    buzzfeedtasty   30246783.0   2791.0\n",
            "2785241  3437294   andresiniesta8   29542143.0    990.0\n",
            "333193    158690               hm   29176804.0   4566.0\n",
            "3934581  3615154  princessyahrini   29042823.0   4719.0\n",
            "1311970   508140     danbilzerian   26476004.0   1311.0\n",
            "1703764  3513205      akshaykumar   26252169.0   1173.0\n"
          ]
        },
        {
          "output_type": "display_data",
          "data": {
            "text/plain": [
              "<Figure size 1800x360 with 3 Axes>"
            ],
            "image/png": "[encoded data removed]"
          },
          "metadata": {
            "needs_background": "light"
          }
        }
      ]
    },
    {
      "cell_type": "code",
      "source": [
        "del subset"
      ],
      "metadata": {
        "id": "ky9V4W27SL5o"
      },
      "execution_count": null,
      "outputs": []
    },
    {
      "cell_type": "markdown",
      "source": [
        "### 2- Who is the most influential user?"
      ],
      "metadata": {
        "id": "qN_B9rTMc17s"
      }
    },
    {
      "cell_type": "markdown",
      "source": [
        "Instagram, based on the number of followers."
      ],
      "metadata": {
        "id": "AqEMfLI_gCNB"
      }
    },
    {
      "cell_type": "markdown",
      "source": [
        "### 3- Have they posted anything with tagged locations? Extract the most frequent areas on their posts and plot the number of times each city has been visited."
      ],
      "metadata": {
        "id": "ffNyDDp-c8Oq"
      }
    },
    {
      "cell_type": "code",
      "source": [
        "ciao2 = pd.read_csv(\"/content/drive/MyDrive/ADM_HW2/instagram_posts.csv\", usecols=['sid_profile', 'location_id', 'post_type', 'numbr_likes', \"number_comments\"], delimiter='\\t')"
      ],
      "metadata": {
        "id": "w5sHNiJJdAQd"
      },
      "execution_count": null,
      "outputs": []
    },
    {
      "cell_type": "code",
      "source": [
        "ciao = popular['sid'].tolist()\n",
        "ciao3 = ciao2.loc[ciao2['sid_profile'].isin(ciao), ['sid_profile', 'location_id']]\n",
        "ciao4 = pd.DataFrame(ciao)"
      ],
      "metadata": {
        "id": "YK5tkCPgsolj"
      },
      "execution_count": null,
      "outputs": []
    },
    {
      "cell_type": "code",
      "source": [
        "ciao4[0].isin(ciao3['sid_profile'])"
      ],
      "metadata": {
        "id": "12Dg7OhyugpZ",
        "outputId": "9e5c1b60-ccf4-4ac8-cc63-aefe9d66f62a",
        "colab": {
          "base_uri": "https://localhost:8080/"
        }
      },
      "execution_count": null,
      "outputs": [
        {
          "output_type": "execute_result",
          "data": {
            "text/plain": [
              "0    True\n",
              "1    True\n",
              "2    True\n",
              "3    True\n",
              "4    True\n",
              "5    True\n",
              "6    True\n",
              "7    True\n",
              "8    True\n",
              "9    True\n",
              "Name: 0, dtype: bool"
            ]
          },
          "metadata": {},
          "execution_count": 23
        }
      ]
    },
    {
      "cell_type": "markdown",
      "source": [
        "Yes, all of the top 10 popular users have posted something with tagged location at least once."
      ],
      "metadata": {
        "id": "YiACjqd7wOyn"
      }
    },
    {
      "cell_type": "code",
      "source": [
        "occurrence =ciao3['location_id'].value_counts().head(5)\n",
        "popularloc = occurrence.index.tolist()\n",
        "print(occurrence)\n",
        "print(popularloc)"
      ],
      "metadata": {
        "id": "hzGAX2DMwXev",
        "outputId": "3ca8c3aa-6012-43a0-c162-dc1baf2fc3a3",
        "colab": {
          "base_uri": "https://localhost:8080/"
        }
      },
      "execution_count": null,
      "outputs": [
        {
          "output_type": "stream",
          "name": "stdout",
          "text": [
            "2.130118e+08    9\n",
            "2.129991e+08    4\n",
            "3.669021e+08    3\n",
            "4.042660e+05    2\n",
            "1.731498e+15    2\n",
            "Name: location_id, dtype: int64\n",
            "[213011753.0, 212999109.0, 366902078.0, 404266.0, 1731497986866121.0]\n"
          ]
        }
      ]
    },
    {
      "cell_type": "code",
      "source": [
        "locations = pd.read_csv('/content/drive/MyDrive/ADM_HW2/instagram_locations.csv',sep='\\t')"
      ],
      "metadata": {
        "id": "RII--jKaS3WZ"
      },
      "execution_count": null,
      "outputs": []
    },
    {
      "cell_type": "code",
      "source": [
        "topcities = locations.loc[locations['sid'].isin(popularloc), ['sid', 'city']]\n",
        "topcities"
      ],
      "metadata": {
        "id": "nndAV_rBxSbM",
        "outputId": "dedde81c-8996-4ee5-b505-49671b24645a",
        "colab": {
          "base_uri": "https://localhost:8080/",
          "height": 81
        }
      },
      "execution_count": null,
      "outputs": [
        {
          "output_type": "execute_result",
          "data": {
            "text/plain": [
              "           sid                       city\n",
              "526008  404266  Cambridge, Cambridgeshire"
            ],
            "text/html": [
              "\n",
              "  <div id=\"df-d2bd6d43-868c-4143-b735-b886fd157712\">\n",
              "    <div class=\"colab-df-container\">\n",
              "      <div>\n",
              "<style scoped>\n",
              "    .dataframe tbody tr th:only-of-type {\n",
              "        vertical-align: middle;\n",
              "    }\n",
              "\n",
              "    .dataframe tbody tr th {\n",
              "        vertical-align: top;\n",
              "    }\n",
              "\n",
              "    .dataframe thead th {\n",
              "        text-align: right;\n",
              "    }\n",
              "</style>\n",
              "<table border=\"1\" class=\"dataframe\">\n",
              "  <thead>\n",
              "    <tr style=\"text-align: right;\">\n",
              "      <th></th>\n",
              "      <th>sid</th>\n",
              "      <th>city</th>\n",
              "    </tr>\n",
              "  </thead>\n",
              "  <tbody>\n",
              "    <tr>\n",
              "      <th>526008</th>\n",
              "      <td>404266</td>\n",
              "      <td>Cambridge, Cambridgeshire</td>\n",
              "    </tr>\n",
              "  </tbody>\n",
              "</table>\n",
              "</div>\n",
              "      <button class=\"colab-df-convert\" onclick=\"convertToInteractive('df-d2bd6d43-868c-4143-b735-b886fd157712')\"\n",
              "              title=\"Convert this dataframe to an interactive table.\"\n",
              "              style=\"display:none;\">\n",
              "        \n",
              "  <svg xmlns=\"http://www.w3.org/2000/svg\" height=\"24px\"viewBox=\"0 0 24 24\"\n",
              "       width=\"24px\">\n",
              "    <path d=\"M0 0h24v24H0V0z\" fill=\"none\"/>\n",
              "    <path d=\"M18.56 5.44l.94 2.06.94-2.06 2.06-.94-2.06-.94-.94-2.06-.94 2.06-2.06.94zm-11 1L8.5 8.5l.94-2.06 2.06-.94-2.06-.94L8.5 2.5l-.94 2.06-2.06.94zm10 10l.94 2.06.94-2.06 2.06-.94-2.06-.94-.94-2.06-.94 2.06-2.06.94z\"/><path d=\"M17.41 7.96l-1.37-1.37c-.4-.4-.92-.59-1.43-.59-.52 0-1.04.2-1.43.59L10.3 9.45l-7.72 7.72c-.78.78-.78 2.05 0 2.83L4 21.41c.39.39.9.59 1.41.59.51 0 1.02-.2 1.41-.59l7.78-7.78 2.81-2.81c.8-.78.8-2.07 0-2.86zM5.41 20L4 18.59l7.72-7.72 1.47 1.35L5.41 20z\"/>\n",
              "  </svg>\n",
              "      </button>\n",
              "      \n",
              "  <style>\n",
              "    .colab-df-container {\n",
              "      display:flex;\n",
              "      flex-wrap:wrap;\n",
              "      gap: 12px;\n",
              "    }\n",
              "\n",
              "    .colab-df-convert {\n",
              "      background-color: #E8F0FE;\n",
              "      border: none;\n",
              "      border-radius: 50%;\n",
              "      cursor: pointer;\n",
              "      display: none;\n",
              "      fill: #1967D2;\n",
              "      height: 32px;\n",
              "      padding: 0 0 0 0;\n",
              "      width: 32px;\n",
              "    }\n",
              "\n",
              "    .colab-df-convert:hover {\n",
              "      background-color: #E2EBFA;\n",
              "      box-shadow: 0px 1px 2px rgba(60, 64, 67, 0.3), 0px 1px 3px 1px rgba(60, 64, 67, 0.15);\n",
              "      fill: #174EA6;\n",
              "    }\n",
              "\n",
              "    [theme=dark] .colab-df-convert {\n",
              "      background-color: #3B4455;\n",
              "      fill: #D2E3FC;\n",
              "    }\n",
              "\n",
              "    [theme=dark] .colab-df-convert:hover {\n",
              "      background-color: #434B5C;\n",
              "      box-shadow: 0px 1px 3px 1px rgba(0, 0, 0, 0.15);\n",
              "      filter: drop-shadow(0px 1px 2px rgba(0, 0, 0, 0.3));\n",
              "      fill: #FFFFFF;\n",
              "    }\n",
              "  </style>\n",
              "\n",
              "      <script>\n",
              "        const buttonEl =\n",
              "          document.querySelector('#df-d2bd6d43-868c-4143-b735-b886fd157712 button.colab-df-convert');\n",
              "        buttonEl.style.display =\n",
              "          google.colab.kernel.accessAllowed ? 'block' : 'none';\n",
              "\n",
              "        async function convertToInteractive(key) {\n",
              "          const element = document.querySelector('#df-d2bd6d43-868c-4143-b735-b886fd157712');\n",
              "          const dataTable =\n",
              "            await google.colab.kernel.invokeFunction('convertToInteractive',\n",
              "                                                     [key], {});\n",
              "          if (!dataTable) return;\n",
              "\n",
              "          const docLinkHtml = 'Like what you see? Visit the ' +\n",
              "            '<a target=\"_blank\" href=https://colab.research.google.com/notebooks/data_table.ipynb>data table notebook</a>'\n",
              "            + ' to learn more about interactive tables.';\n",
              "          element.innerHTML = '';\n",
              "          dataTable['output_type'] = 'display_data';\n",
              "          await google.colab.output.renderOutput(dataTable, element);\n",
              "          const docLink = document.createElement('div');\n",
              "          docLink.innerHTML = docLinkHtml;\n",
              "          element.appendChild(docLink);\n",
              "        }\n",
              "      </script>\n",
              "    </div>\n",
              "  </div>\n",
              "  "
            ]
          },
          "metadata": {},
          "execution_count": 26
        }
      ]
    },
    {
      "cell_type": "markdown",
      "source": [
        "### 4- How many pictures-only posts have they published? How many reels? (only videos) and how many with both contents? Provide the number as percentages and interpret those figures."
      ],
      "metadata": {
        "id": "t5LkvpAudAfZ"
      }
    },
    {
      "cell_type": "code",
      "source": [
        "postpop = ciao2.loc[ciao2['sid_profile'].isin(popular['sid']), ['sid_profile', 'post_type']]\n",
        "#postpop.groupby(by=['post_type']).count()\n",
        "tab = pd.crosstab(postpop['sid_profile'], postpop['post_type'])\n",
        "tab"
      ],
      "metadata": {
        "id": "VVxxQtuQdEja",
        "outputId": "aa17b7d1-46b9-4bcd-9be3-ad842ac534b4",
        "colab": {
          "base_uri": "https://localhost:8080/",
          "height": 394
        }
      },
      "execution_count": null,
      "outputs": [
        {
          "output_type": "execute_result",
          "data": {
            "text/plain": [
              "post_type     1  2\n",
              "sid_profile       \n",
              "158690       26  0\n",
              "292359       25  0\n",
              "330376       13  0\n",
              "336492       43  3\n",
              "337097       25  5\n",
              "371414       17  2\n",
              "508140       15  0\n",
              "3437294      12  0\n",
              "3513205      13  0\n",
              "3615154      23  3"
            ],
            "text/html": [
              "\n",
              "  <div id=\"df-c122c577-ff9e-4a18-b439-9abe28a4c265\">\n",
              "    <div class=\"colab-df-container\">\n",
              "      <div>\n",
              "<style scoped>\n",
              "    .dataframe tbody tr th:only-of-type {\n",
              "        vertical-align: middle;\n",
              "    }\n",
              "\n",
              "    .dataframe tbody tr th {\n",
              "        vertical-align: top;\n",
              "    }\n",
              "\n",
              "    .dataframe thead th {\n",
              "        text-align: right;\n",
              "    }\n",
              "</style>\n",
              "<table border=\"1\" class=\"dataframe\">\n",
              "  <thead>\n",
              "    <tr style=\"text-align: right;\">\n",
              "      <th>post_type</th>\n",
              "      <th>1</th>\n",
              "      <th>2</th>\n",
              "    </tr>\n",
              "    <tr>\n",
              "      <th>sid_profile</th>\n",
              "      <th></th>\n",
              "      <th></th>\n",
              "    </tr>\n",
              "  </thead>\n",
              "  <tbody>\n",
              "    <tr>\n",
              "      <th>158690</th>\n",
              "      <td>26</td>\n",
              "      <td>0</td>\n",
              "    </tr>\n",
              "    <tr>\n",
              "      <th>292359</th>\n",
              "      <td>25</td>\n",
              "      <td>0</td>\n",
              "    </tr>\n",
              "    <tr>\n",
              "      <th>330376</th>\n",
              "      <td>13</td>\n",
              "      <td>0</td>\n",
              "    </tr>\n",
              "    <tr>\n",
              "      <th>336492</th>\n",
              "      <td>43</td>\n",
              "      <td>3</td>\n",
              "    </tr>\n",
              "    <tr>\n",
              "      <th>337097</th>\n",
              "      <td>25</td>\n",
              "      <td>5</td>\n",
              "    </tr>\n",
              "    <tr>\n",
              "      <th>371414</th>\n",
              "      <td>17</td>\n",
              "      <td>2</td>\n",
              "    </tr>\n",
              "    <tr>\n",
              "      <th>508140</th>\n",
              "      <td>15</td>\n",
              "      <td>0</td>\n",
              "    </tr>\n",
              "    <tr>\n",
              "      <th>3437294</th>\n",
              "      <td>12</td>\n",
              "      <td>0</td>\n",
              "    </tr>\n",
              "    <tr>\n",
              "      <th>3513205</th>\n",
              "      <td>13</td>\n",
              "      <td>0</td>\n",
              "    </tr>\n",
              "    <tr>\n",
              "      <th>3615154</th>\n",
              "      <td>23</td>\n",
              "      <td>3</td>\n",
              "    </tr>\n",
              "  </tbody>\n",
              "</table>\n",
              "</div>\n",
              "      <button class=\"colab-df-convert\" onclick=\"convertToInteractive('df-c122c577-ff9e-4a18-b439-9abe28a4c265')\"\n",
              "              title=\"Convert this dataframe to an interactive table.\"\n",
              "              style=\"display:none;\">\n",
              "        \n",
              "  <svg xmlns=\"http://www.w3.org/2000/svg\" height=\"24px\"viewBox=\"0 0 24 24\"\n",
              "       width=\"24px\">\n",
              "    <path d=\"M0 0h24v24H0V0z\" fill=\"none\"/>\n",
              "    <path d=\"M18.56 5.44l.94 2.06.94-2.06 2.06-.94-2.06-.94-.94-2.06-.94 2.06-2.06.94zm-11 1L8.5 8.5l.94-2.06 2.06-.94-2.06-.94L8.5 2.5l-.94 2.06-2.06.94zm10 10l.94 2.06.94-2.06 2.06-.94-2.06-.94-.94-2.06-.94 2.06-2.06.94z\"/><path d=\"M17.41 7.96l-1.37-1.37c-.4-.4-.92-.59-1.43-.59-.52 0-1.04.2-1.43.59L10.3 9.45l-7.72 7.72c-.78.78-.78 2.05 0 2.83L4 21.41c.39.39.9.59 1.41.59.51 0 1.02-.2 1.41-.59l7.78-7.78 2.81-2.81c.8-.78.8-2.07 0-2.86zM5.41 20L4 18.59l7.72-7.72 1.47 1.35L5.41 20z\"/>\n",
              "  </svg>\n",
              "      </button>\n",
              "      \n",
              "  <style>\n",
              "    .colab-df-container {\n",
              "      display:flex;\n",
              "      flex-wrap:wrap;\n",
              "      gap: 12px;\n",
              "    }\n",
              "\n",
              "    .colab-df-convert {\n",
              "      background-color: #E8F0FE;\n",
              "      border: none;\n",
              "      border-radius: 50%;\n",
              "      cursor: pointer;\n",
              "      display: none;\n",
              "      fill: #1967D2;\n",
              "      height: 32px;\n",
              "      padding: 0 0 0 0;\n",
              "      width: 32px;\n",
              "    }\n",
              "\n",
              "    .colab-df-convert:hover {\n",
              "      background-color: #E2EBFA;\n",
              "      box-shadow: 0px 1px 2px rgba(60, 64, 67, 0.3), 0px 1px 3px 1px rgba(60, 64, 67, 0.15);\n",
              "      fill: #174EA6;\n",
              "    }\n",
              "\n",
              "    [theme=dark] .colab-df-convert {\n",
              "      background-color: #3B4455;\n",
              "      fill: #D2E3FC;\n",
              "    }\n",
              "\n",
              "    [theme=dark] .colab-df-convert:hover {\n",
              "      background-color: #434B5C;\n",
              "      box-shadow: 0px 1px 3px 1px rgba(0, 0, 0, 0.15);\n",
              "      filter: drop-shadow(0px 1px 2px rgba(0, 0, 0, 0.3));\n",
              "      fill: #FFFFFF;\n",
              "    }\n",
              "  </style>\n",
              "\n",
              "      <script>\n",
              "        const buttonEl =\n",
              "          document.querySelector('#df-c122c577-ff9e-4a18-b439-9abe28a4c265 button.colab-df-convert');\n",
              "        buttonEl.style.display =\n",
              "          google.colab.kernel.accessAllowed ? 'block' : 'none';\n",
              "\n",
              "        async function convertToInteractive(key) {\n",
              "          const element = document.querySelector('#df-c122c577-ff9e-4a18-b439-9abe28a4c265');\n",
              "          const dataTable =\n",
              "            await google.colab.kernel.invokeFunction('convertToInteractive',\n",
              "                                                     [key], {});\n",
              "          if (!dataTable) return;\n",
              "\n",
              "          const docLinkHtml = 'Like what you see? Visit the ' +\n",
              "            '<a target=\"_blank\" href=https://colab.research.google.com/notebooks/data_table.ipynb>data table notebook</a>'\n",
              "            + ' to learn more about interactive tables.';\n",
              "          element.innerHTML = '';\n",
              "          dataTable['output_type'] = 'display_data';\n",
              "          await google.colab.output.renderOutput(dataTable, element);\n",
              "          const docLink = document.createElement('div');\n",
              "          docLink.innerHTML = docLinkHtml;\n",
              "          element.appendChild(docLink);\n",
              "        }\n",
              "      </script>\n",
              "    </div>\n",
              "  </div>\n",
              "  "
            ]
          },
          "metadata": {},
          "execution_count": 27
        }
      ]
    },
    {
      "cell_type": "code",
      "source": [
        "ph=tab[1].sum()\n",
        "vi=tab[2].sum()\n",
        "print(ph)\n",
        "print(vi)"
      ],
      "metadata": {
        "id": "kUYWeXle1xqE",
        "outputId": "50292bd5-3d90-4f41-dd93-53cf175af801",
        "colab": {
          "base_uri": "https://localhost:8080/"
        }
      },
      "execution_count": null,
      "outputs": [
        {
          "output_type": "stream",
          "name": "stdout",
          "text": [
            "212\n",
            "13\n"
          ]
        }
      ]
    },
    {
      "cell_type": "code",
      "source": [
        "prop=[ph, vi]\n",
        "names='only photos posts', 'only videos posts'\n",
        "plt.pie(prop, labels=names, labeldistance=1.15, wedgeprops = { 'linewidth' : 3, 'edgecolor' : 'white' }, autopct='%1.1f%%')\n",
        "plt.show()"
      ],
      "metadata": {
        "id": "ZDKwE7-54XuW",
        "outputId": "69d3cb3b-553c-4e63-b642-eb8e4402a2a6",
        "colab": {
          "base_uri": "https://localhost:8080/",
          "height": 248
        }
      },
      "execution_count": null,
      "outputs": [
        {
          "output_type": "display_data",
          "data": {
            "text/plain": [
              "<Figure size 432x288 with 1 Axes>"
            ],
            "image/png": "[encoded data removed]"
          },
          "metadata": {}
        }
      ]
    },
    {
      "cell_type": "markdown",
      "source": [
        "The percentage of posts with only video is less thant the 6%, that means that the users prefers to post pictures only. The posts with both contents (photos and videos) are null for the top 10 we're analyzing."
      ],
      "metadata": {
        "id": "5-MyvAt-5-7A"
      }
    },
    {
      "cell_type": "markdown",
      "source": [
        "### 5- How many \"likes\" and comments did posts with only pictures receive? How about videos and mixed posts? Try to provide the average numbers and confront them with their followers amount, explaining what you can say from that comparison."
      ],
      "metadata": {
        "id": "DGhTYilNdFGr"
      }
    },
    {
      "cell_type": "code",
      "source": [
        "like_comm = ciao2.loc[ciao2['sid_profile'].isin(popular['sid']), ['post_type', 'numbr_likes', 'number_comments']]"
      ],
      "metadata": {
        "id": "kmv-VZPJdNHe"
      },
      "execution_count": null,
      "outputs": []
    },
    {
      "cell_type": "code",
      "source": [
        "like_comm_ph = like_comm[like_comm['post_type']==1]\n",
        "like_comm_ph"
      ],
      "metadata": {
        "id": "stDbda_m-MSK",
        "outputId": "c14880da-a219-41f0-c681-dcaef4e0048b",
        "colab": {
          "base_uri": "https://localhost:8080/",
          "height": 424
        }
      },
      "execution_count": null,
      "outputs": [
        {
          "output_type": "execute_result",
          "data": {
            "text/plain": [
              "          post_type  numbr_likes  number_comments\n",
              "266570            1     125428.0           1240.0\n",
              "659635            1     669786.0           4818.0\n",
              "1441841           1    1914299.0          20065.0\n",
              "1559527           1     164521.0           1415.0\n",
              "2410579           1     840588.0           3627.0\n",
              "...             ...          ...              ...\n",
              "41338051          1     889316.0           3082.0\n",
              "41532427          1    1081084.0          12568.0\n",
              "41608204          1    1083329.0          15154.0\n",
              "41874115          1     106588.0           1475.0\n",
              "42424990          1    1285401.0           4590.0\n",
              "\n",
              "[212 rows x 3 columns]"
            ],
            "text/html": [
              "\n",
              "  <div id=\"df-6c800b55-ac4b-4f77-887a-c6135e246f45\">\n",
              "    <div class=\"colab-df-container\">\n",
              "      <div>\n",
              "<style scoped>\n",
              "    .dataframe tbody tr th:only-of-type {\n",
              "        vertical-align: middle;\n",
              "    }\n",
              "\n",
              "    .dataframe tbody tr th {\n",
              "        vertical-align: top;\n",
              "    }\n",
              "\n",
              "    .dataframe thead th {\n",
              "        text-align: right;\n",
              "    }\n",
              "</style>\n",
              "<table border=\"1\" class=\"dataframe\">\n",
              "  <thead>\n",
              "    <tr style=\"text-align: right;\">\n",
              "      <th></th>\n",
              "      <th>post_type</th>\n",
              "      <th>numbr_likes</th>\n",
              "      <th>number_comments</th>\n",
              "    </tr>\n",
              "  </thead>\n",
              "  <tbody>\n",
              "    <tr>\n",
              "      <th>266570</th>\n",
              "      <td>1</td>\n",
              "      <td>125428.0</td>\n",
              "      <td>1240.0</td>\n",
              "    </tr>\n",
              "    <tr>\n",
              "      <th>659635</th>\n",
              "      <td>1</td>\n",
              "      <td>669786.0</td>\n",
              "      <td>4818.0</td>\n",
              "    </tr>\n",
              "    <tr>\n",
              "      <th>1441841</th>\n",
              "      <td>1</td>\n",
              "      <td>1914299.0</td>\n",
              "      <td>20065.0</td>\n",
              "    </tr>\n",
              "    <tr>\n",
              "      <th>1559527</th>\n",
              "      <td>1</td>\n",
              "      <td>164521.0</td>\n",
              "      <td>1415.0</td>\n",
              "    </tr>\n",
              "    <tr>\n",
              "      <th>2410579</th>\n",
              "      <td>1</td>\n",
              "      <td>840588.0</td>\n",
              "      <td>3627.0</td>\n",
              "    </tr>\n",
              "    <tr>\n",
              "      <th>...</th>\n",
              "      <td>...</td>\n",
              "      <td>...</td>\n",
              "      <td>...</td>\n",
              "    </tr>\n",
              "    <tr>\n",
              "      <th>41338051</th>\n",
              "      <td>1</td>\n",
              "      <td>889316.0</td>\n",
              "      <td>3082.0</td>\n",
              "    </tr>\n",
              "    <tr>\n",
              "      <th>41532427</th>\n",
              "      <td>1</td>\n",
              "      <td>1081084.0</td>\n",
              "      <td>12568.0</td>\n",
              "    </tr>\n",
              "    <tr>\n",
              "      <th>41608204</th>\n",
              "      <td>1</td>\n",
              "      <td>1083329.0</td>\n",
              "      <td>15154.0</td>\n",
              "    </tr>\n",
              "    <tr>\n",
              "      <th>41874115</th>\n",
              "      <td>1</td>\n",
              "      <td>106588.0</td>\n",
              "      <td>1475.0</td>\n",
              "    </tr>\n",
              "    <tr>\n",
              "      <th>42424990</th>\n",
              "      <td>1</td>\n",
              "      <td>1285401.0</td>\n",
              "      <td>4590.0</td>\n",
              "    </tr>\n",
              "  </tbody>\n",
              "</table>\n",
              "<p>212 rows × 3 columns</p>\n",
              "</div>\n",
              "      <button class=\"colab-df-convert\" onclick=\"convertToInteractive('df-6c800b55-ac4b-4f77-887a-c6135e246f45')\"\n",
              "              title=\"Convert this dataframe to an interactive table.\"\n",
              "              style=\"display:none;\">\n",
              "        \n",
              "  <svg xmlns=\"http://www.w3.org/2000/svg\" height=\"24px\"viewBox=\"0 0 24 24\"\n",
              "       width=\"24px\">\n",
              "    <path d=\"M0 0h24v24H0V0z\" fill=\"none\"/>\n",
              "    <path d=\"M18.56 5.44l.94 2.06.94-2.06 2.06-.94-2.06-.94-.94-2.06-.94 2.06-2.06.94zm-11 1L8.5 8.5l.94-2.06 2.06-.94-2.06-.94L8.5 2.5l-.94 2.06-2.06.94zm10 10l.94 2.06.94-2.06 2.06-.94-2.06-.94-.94-2.06-.94 2.06-2.06.94z\"/><path d=\"M17.41 7.96l-1.37-1.37c-.4-.4-.92-.59-1.43-.59-.52 0-1.04.2-1.43.59L10.3 9.45l-7.72 7.72c-.78.78-.78 2.05 0 2.83L4 21.41c.39.39.9.59 1.41.59.51 0 1.02-.2 1.41-.59l7.78-7.78 2.81-2.81c.8-.78.8-2.07 0-2.86zM5.41 20L4 18.59l7.72-7.72 1.47 1.35L5.41 20z\"/>\n",
              "  </svg>\n",
              "      </button>\n",
              "      \n",
              "  <style>\n",
              "    .colab-df-container {\n",
              "      display:flex;\n",
              "      flex-wrap:wrap;\n",
              "      gap: 12px;\n",
              "    }\n",
              "\n",
              "    .colab-df-convert {\n",
              "      background-color: #E8F0FE;\n",
              "      border: none;\n",
              "      border-radius: 50%;\n",
              "      cursor: pointer;\n",
              "      display: none;\n",
              "      fill: #1967D2;\n",
              "      height: 32px;\n",
              "      padding: 0 0 0 0;\n",
              "      width: 32px;\n",
              "    }\n",
              "\n",
              "    .colab-df-convert:hover {\n",
              "      background-color: #E2EBFA;\n",
              "      box-shadow: 0px 1px 2px rgba(60, 64, 67, 0.3), 0px 1px 3px 1px rgba(60, 64, 67, 0.15);\n",
              "      fill: #174EA6;\n",
              "    }\n",
              "\n",
              "    [theme=dark] .colab-df-convert {\n",
              "      background-color: #3B4455;\n",
              "      fill: #D2E3FC;\n",
              "    }\n",
              "\n",
              "    [theme=dark] .colab-df-convert:hover {\n",
              "      background-color: #434B5C;\n",
              "      box-shadow: 0px 1px 3px 1px rgba(0, 0, 0, 0.15);\n",
              "      filter: drop-shadow(0px 1px 2px rgba(0, 0, 0, 0.3));\n",
              "      fill: #FFFFFF;\n",
              "    }\n",
              "  </style>\n",
              "\n",
              "      <script>\n",
              "        const buttonEl =\n",
              "          document.querySelector('#df-6c800b55-ac4b-4f77-887a-c6135e246f45 button.colab-df-convert');\n",
              "        buttonEl.style.display =\n",
              "          google.colab.kernel.accessAllowed ? 'block' : 'none';\n",
              "\n",
              "        async function convertToInteractive(key) {\n",
              "          const element = document.querySelector('#df-6c800b55-ac4b-4f77-887a-c6135e246f45');\n",
              "          const dataTable =\n",
              "            await google.colab.kernel.invokeFunction('convertToInteractive',\n",
              "                                                     [key], {});\n",
              "          if (!dataTable) return;\n",
              "\n",
              "          const docLinkHtml = 'Like what you see? Visit the ' +\n",
              "            '<a target=\"_blank\" href=https://colab.research.google.com/notebooks/data_table.ipynb>data table notebook</a>'\n",
              "            + ' to learn more about interactive tables.';\n",
              "          element.innerHTML = '';\n",
              "          dataTable['output_type'] = 'display_data';\n",
              "          await google.colab.output.renderOutput(dataTable, element);\n",
              "          const docLink = document.createElement('div');\n",
              "          docLink.innerHTML = docLinkHtml;\n",
              "          element.appendChild(docLink);\n",
              "        }\n",
              "      </script>\n",
              "    </div>\n",
              "  </div>\n",
              "  "
            ]
          },
          "metadata": {},
          "execution_count": 35
        }
      ]
    },
    {
      "cell_type": "code",
      "source": [
        "sumph = like_comm_ph[['numbr_likes', 'number_comments']].sum(axis=0)\n",
        "sumph"
      ],
      "metadata": {
        "id": "fjPaITwX_14_",
        "outputId": "97b7f3d7-a354-4473-ed65-e823a18409b1",
        "colab": {
          "base_uri": "https://localhost:8080/"
        }
      },
      "execution_count": null,
      "outputs": [
        {
          "output_type": "execute_result",
          "data": {
            "text/plain": [
              "numbr_likes        87968017.0\n",
              "number_comments      656814.0\n",
              "dtype: float64"
            ]
          },
          "metadata": {},
          "execution_count": 45
        }
      ]
    },
    {
      "cell_type": "code",
      "source": [
        "like_comm_ml = like_comm[like_comm['post_type']==2]\n",
        "like_comm_ml"
      ],
      "metadata": {
        "id": "FdAcPgGp_bto",
        "outputId": "107f4c0c-26b6-43d0-969e-91910651730d",
        "colab": {
          "base_uri": "https://localhost:8080/",
          "height": 457
        }
      },
      "execution_count": null,
      "outputs": [
        {
          "output_type": "execute_result",
          "data": {
            "text/plain": [
              "          post_type  numbr_likes  number_comments\n",
              "2735828           2     749724.0           6232.0\n",
              "2912535           2     169314.0           1007.0\n",
              "7413187           2     257083.0            488.0\n",
              "7476288           2     265733.0            678.0\n",
              "9180427           2      50983.0            529.0\n",
              "9180448           2      35689.0            868.0\n",
              "9180452           2      38619.0           1313.0\n",
              "31817795          2     530608.0           4302.0\n",
              "32233750          2     331442.0           2929.0\n",
              "38662271          2     198356.0            323.0\n",
              "40118812          2     499897.0           6714.0\n",
              "41426669          2     179671.0            334.0\n",
              "42211393          2     157695.0            541.0"
            ],
            "text/html": [
              "\n",
              "  <div id=\"df-f12e70a3-c3e9-466f-80b8-75da45f870c6\">\n",
              "    <div class=\"colab-df-container\">\n",
              "      <div>\n",
              "<style scoped>\n",
              "    .dataframe tbody tr th:only-of-type {\n",
              "        vertical-align: middle;\n",
              "    }\n",
              "\n",
              "    .dataframe tbody tr th {\n",
              "        vertical-align: top;\n",
              "    }\n",
              "\n",
              "    .dataframe thead th {\n",
              "        text-align: right;\n",
              "    }\n",
              "</style>\n",
              "<table border=\"1\" class=\"dataframe\">\n",
              "  <thead>\n",
              "    <tr style=\"text-align: right;\">\n",
              "      <th></th>\n",
              "      <th>post_type</th>\n",
              "      <th>numbr_likes</th>\n",
              "      <th>number_comments</th>\n",
              "    </tr>\n",
              "  </thead>\n",
              "  <tbody>\n",
              "    <tr>\n",
              "      <th>2735828</th>\n",
              "      <td>2</td>\n",
              "      <td>749724.0</td>\n",
              "      <td>6232.0</td>\n",
              "    </tr>\n",
              "    <tr>\n",
              "      <th>2912535</th>\n",
              "      <td>2</td>\n",
              "      <td>169314.0</td>\n",
              "      <td>1007.0</td>\n",
              "    </tr>\n",
              "    <tr>\n",
              "      <th>7413187</th>\n",
              "      <td>2</td>\n",
              "      <td>257083.0</td>\n",
              "      <td>488.0</td>\n",
              "    </tr>\n",
              "    <tr>\n",
              "      <th>7476288</th>\n",
              "      <td>2</td>\n",
              "      <td>265733.0</td>\n",
              "      <td>678.0</td>\n",
              "    </tr>\n",
              "    <tr>\n",
              "      <th>9180427</th>\n",
              "      <td>2</td>\n",
              "      <td>50983.0</td>\n",
              "      <td>529.0</td>\n",
              "    </tr>\n",
              "    <tr>\n",
              "      <th>9180448</th>\n",
              "      <td>2</td>\n",
              "      <td>35689.0</td>\n",
              "      <td>868.0</td>\n",
              "    </tr>\n",
              "    <tr>\n",
              "      <th>9180452</th>\n",
              "      <td>2</td>\n",
              "      <td>38619.0</td>\n",
              "      <td>1313.0</td>\n",
              "    </tr>\n",
              "    <tr>\n",
              "      <th>31817795</th>\n",
              "      <td>2</td>\n",
              "      <td>530608.0</td>\n",
              "      <td>4302.0</td>\n",
              "    </tr>\n",
              "    <tr>\n",
              "      <th>32233750</th>\n",
              "      <td>2</td>\n",
              "      <td>331442.0</td>\n",
              "      <td>2929.0</td>\n",
              "    </tr>\n",
              "    <tr>\n",
              "      <th>38662271</th>\n",
              "      <td>2</td>\n",
              "      <td>198356.0</td>\n",
              "      <td>323.0</td>\n",
              "    </tr>\n",
              "    <tr>\n",
              "      <th>40118812</th>\n",
              "      <td>2</td>\n",
              "      <td>499897.0</td>\n",
              "      <td>6714.0</td>\n",
              "    </tr>\n",
              "    <tr>\n",
              "      <th>41426669</th>\n",
              "      <td>2</td>\n",
              "      <td>179671.0</td>\n",
              "      <td>334.0</td>\n",
              "    </tr>\n",
              "    <tr>\n",
              "      <th>42211393</th>\n",
              "      <td>2</td>\n",
              "      <td>157695.0</td>\n",
              "      <td>541.0</td>\n",
              "    </tr>\n",
              "  </tbody>\n",
              "</table>\n",
              "</div>\n",
              "      <button class=\"colab-df-convert\" onclick=\"convertToInteractive('df-f12e70a3-c3e9-466f-80b8-75da45f870c6')\"\n",
              "              title=\"Convert this dataframe to an interactive table.\"\n",
              "              style=\"display:none;\">\n",
              "        \n",
              "  <svg xmlns=\"http://www.w3.org/2000/svg\" height=\"24px\"viewBox=\"0 0 24 24\"\n",
              "       width=\"24px\">\n",
              "    <path d=\"M0 0h24v24H0V0z\" fill=\"none\"/>\n",
              "    <path d=\"M18.56 5.44l.94 2.06.94-2.06 2.06-.94-2.06-.94-.94-2.06-.94 2.06-2.06.94zm-11 1L8.5 8.5l.94-2.06 2.06-.94-2.06-.94L8.5 2.5l-.94 2.06-2.06.94zm10 10l.94 2.06.94-2.06 2.06-.94-2.06-.94-.94-2.06-.94 2.06-2.06.94z\"/><path d=\"M17.41 7.96l-1.37-1.37c-.4-.4-.92-.59-1.43-.59-.52 0-1.04.2-1.43.59L10.3 9.45l-7.72 7.72c-.78.78-.78 2.05 0 2.83L4 21.41c.39.39.9.59 1.41.59.51 0 1.02-.2 1.41-.59l7.78-7.78 2.81-2.81c.8-.78.8-2.07 0-2.86zM5.41 20L4 18.59l7.72-7.72 1.47 1.35L5.41 20z\"/>\n",
              "  </svg>\n",
              "      </button>\n",
              "      \n",
              "  <style>\n",
              "    .colab-df-container {\n",
              "      display:flex;\n",
              "      flex-wrap:wrap;\n",
              "      gap: 12px;\n",
              "    }\n",
              "\n",
              "    .colab-df-convert {\n",
              "      background-color: #E8F0FE;\n",
              "      border: none;\n",
              "      border-radius: 50%;\n",
              "      cursor: pointer;\n",
              "      display: none;\n",
              "      fill: #1967D2;\n",
              "      height: 32px;\n",
              "      padding: 0 0 0 0;\n",
              "      width: 32px;\n",
              "    }\n",
              "\n",
              "    .colab-df-convert:hover {\n",
              "      background-color: #E2EBFA;\n",
              "      box-shadow: 0px 1px 2px rgba(60, 64, 67, 0.3), 0px 1px 3px 1px rgba(60, 64, 67, 0.15);\n",
              "      fill: #174EA6;\n",
              "    }\n",
              "\n",
              "    [theme=dark] .colab-df-convert {\n",
              "      background-color: #3B4455;\n",
              "      fill: #D2E3FC;\n",
              "    }\n",
              "\n",
              "    [theme=dark] .colab-df-convert:hover {\n",
              "      background-color: #434B5C;\n",
              "      box-shadow: 0px 1px 3px 1px rgba(0, 0, 0, 0.15);\n",
              "      filter: drop-shadow(0px 1px 2px rgba(0, 0, 0, 0.3));\n",
              "      fill: #FFFFFF;\n",
              "    }\n",
              "  </style>\n",
              "\n",
              "      <script>\n",
              "        const buttonEl =\n",
              "          document.querySelector('#df-f12e70a3-c3e9-466f-80b8-75da45f870c6 button.colab-df-convert');\n",
              "        buttonEl.style.display =\n",
              "          google.colab.kernel.accessAllowed ? 'block' : 'none';\n",
              "\n",
              "        async function convertToInteractive(key) {\n",
              "          const element = document.querySelector('#df-f12e70a3-c3e9-466f-80b8-75da45f870c6');\n",
              "          const dataTable =\n",
              "            await google.colab.kernel.invokeFunction('convertToInteractive',\n",
              "                                                     [key], {});\n",
              "          if (!dataTable) return;\n",
              "\n",
              "          const docLinkHtml = 'Like what you see? Visit the ' +\n",
              "            '<a target=\"_blank\" href=https://colab.research.google.com/notebooks/data_table.ipynb>data table notebook</a>'\n",
              "            + ' to learn more about interactive tables.';\n",
              "          element.innerHTML = '';\n",
              "          dataTable['output_type'] = 'display_data';\n",
              "          await google.colab.output.renderOutput(dataTable, element);\n",
              "          const docLink = document.createElement('div');\n",
              "          docLink.innerHTML = docLinkHtml;\n",
              "          element.appendChild(docLink);\n",
              "        }\n",
              "      </script>\n",
              "    </div>\n",
              "  </div>\n",
              "  "
            ]
          },
          "metadata": {},
          "execution_count": 37
        }
      ]
    },
    {
      "cell_type": "code",
      "source": [
        "summl = like_comm_ml[['numbr_likes', 'number_comments']].sum(axis=0)\n",
        "summl"
      ],
      "metadata": {
        "id": "YExEkEwtA5pC",
        "outputId": "a69f77f7-be70-4ab7-d7b0-2b18e98b8f77",
        "colab": {
          "base_uri": "https://localhost:8080/"
        }
      },
      "execution_count": null,
      "outputs": [
        {
          "output_type": "execute_result",
          "data": {
            "text/plain": [
              "numbr_likes        3464814.0\n",
              "number_comments      26258.0\n",
              "dtype: float64"
            ]
          },
          "metadata": {},
          "execution_count": 46
        }
      ]
    },
    {
      "cell_type": "code",
      "source": [
        "print(f'Average number of likes for only photos posts: {round(sumph[0]/like_comm_ph.shape[0], 2)}')\n",
        "print(f'Average number of comments for only photos posts: {round(sumph[1]/like_comm_ph.shape[0], 2)}')\n",
        "print(f'Average number of likes for only videos posts: {round(summl[0]/like_comm_ml.shape[0], 2)}')\n",
        "print(f'Average number of comments for only videos posts: {round(summl[1]/like_comm_ml.shape[0], 2)}')"
      ],
      "metadata": {
        "id": "-A5Qa6CtCFYb",
        "outputId": "d3f4bda5-6047-4130-9497-67e51f59eb3a",
        "colab": {
          "base_uri": "https://localhost:8080/"
        }
      },
      "execution_count": null,
      "outputs": [
        {
          "output_type": "stream",
          "name": "stdout",
          "text": [
            "Average number of likes for only photos posts: 414943.48\n",
            "Average number of comments for only photos posts: 3098.18\n",
            "Average number of likes for only videos posts: 266524.15\n",
            "Average number of comments for only videos posts: 2019.85\n"
          ]
        }
      ]
    },
    {
      "cell_type": "code",
      "source": [],
      "metadata": {
        "id": "gPD3JQt3FUDy"
      },
      "execution_count": null,
      "outputs": []
    },
    {
      "cell_type": "markdown",
      "source": [
        "# RQ7"
      ],
      "metadata": {
        "id": "XOcPDpLMvKi8"
      }
    },
    {
      "cell_type": "code",
      "source": [
        "n = 42710197\n",
        "s = 1000\n",
        "filename = \"/content/drive/MyDrive/ADM_HW2/instagram_posts.csv\"\n",
        "df2= profiles[['followers', 'sid']]\n",
        "l=[]\n",
        "for i in range(1000):\n",
        "  skip = sorted(random.sample(range(n),n-s))\n",
        "  df = pd.read_csv(filename, usecols= ['numbr_likes' , 'sid_profile'], skiprows=skip, sep='\\t')\n",
        "  df1=posts[['numbr_likes' , 'sid_profile']]\n",
        "  df1=df1.dropna()\n",
        "  df2=df2.dropna()\n",
        "  data=pd.merge(df1, df2, left_on=\"sid_profile\", right_on=\"sid\").drop('sid', axis=1)\n",
        "  l.append(sum(data.apply(lambda x :  x.numbr_likes / x.followers, axis = 1 ) > 0.20)/ data.shape[0])\n",
        "\n",
        "\n"
      ],
      "metadata": {
        "colab": {
          "base_uri": "https://localhost:8080/",
          "height": 426
        },
        "id": "6pw3op_MxhoM",
        "outputId": "422d489d-233a-4835-d02e-3f71953376bf"
      },
      "execution_count": null,
      "outputs": [
        {
          "output_type": "error",
          "ename": "ValueError",
          "evalue": "ignored",
          "traceback": [
            "\u001b[0;31m---------------------------------------------------------------------------\u001b[0m",
            "\u001b[0;31mValueError\u001b[0m                                Traceback (most recent call last)",
            "\u001b[0;32m<ipython-input-5-841bc8209d8e>\u001b[0m in \u001b[0;36m<module>\u001b[0;34m\u001b[0m\n\u001b[1;32m      6\u001b[0m \u001b[0;32mfor\u001b[0m \u001b[0mi\u001b[0m \u001b[0;32min\u001b[0m \u001b[0mrange\u001b[0m\u001b[0;34m(\u001b[0m\u001b[0;36m1000\u001b[0m\u001b[0;34m)\u001b[0m\u001b[0;34m:\u001b[0m\u001b[0;34m\u001b[0m\u001b[0;34m\u001b[0m\u001b[0m\n\u001b[1;32m      7\u001b[0m   \u001b[0mskip\u001b[0m \u001b[0;34m=\u001b[0m \u001b[0msorted\u001b[0m\u001b[0;34m(\u001b[0m\u001b[0mrandom\u001b[0m\u001b[0;34m.\u001b[0m\u001b[0msample\u001b[0m\u001b[0;34m(\u001b[0m\u001b[0mrange\u001b[0m\u001b[0;34m(\u001b[0m\u001b[0mn\u001b[0m\u001b[0;34m)\u001b[0m\u001b[0;34m,\u001b[0m\u001b[0mn\u001b[0m\u001b[0;34m-\u001b[0m\u001b[0ms\u001b[0m\u001b[0;34m)\u001b[0m\u001b[0;34m)\u001b[0m\u001b[0;34m\u001b[0m\u001b[0;34m\u001b[0m\u001b[0m\n\u001b[0;32m----> 8\u001b[0;31m   \u001b[0mdf\u001b[0m \u001b[0;34m=\u001b[0m \u001b[0mpd\u001b[0m\u001b[0;34m.\u001b[0m\u001b[0mread_csv\u001b[0m\u001b[0;34m(\u001b[0m\u001b[0mfilename\u001b[0m\u001b[0;34m,\u001b[0m \u001b[0musecols\u001b[0m\u001b[0;34m=\u001b[0m \u001b[0;34m[\u001b[0m\u001b[0;34m'numbr_likes'\u001b[0m \u001b[0;34m,\u001b[0m \u001b[0;34m'sid_profile'\u001b[0m\u001b[0;34m]\u001b[0m\u001b[0;34m,\u001b[0m \u001b[0mskiprows\u001b[0m\u001b[0;34m=\u001b[0m\u001b[0mskip\u001b[0m\u001b[0;34m,\u001b[0m \u001b[0msep\u001b[0m\u001b[0;34m=\u001b[0m\u001b[0;34m'\\t'\u001b[0m\u001b[0;34m)\u001b[0m\u001b[0;34m\u001b[0m\u001b[0;34m\u001b[0m\u001b[0m\n\u001b[0m\u001b[1;32m      9\u001b[0m   \u001b[0mdf1\u001b[0m\u001b[0;34m=\u001b[0m\u001b[0mposts\u001b[0m\u001b[0;34m[\u001b[0m\u001b[0;34m[\u001b[0m\u001b[0;34m'numbr_likes'\u001b[0m \u001b[0;34m,\u001b[0m \u001b[0;34m'sid_profile'\u001b[0m\u001b[0;34m]\u001b[0m\u001b[0;34m]\u001b[0m\u001b[0;34m\u001b[0m\u001b[0;34m\u001b[0m\u001b[0m\n\u001b[1;32m     10\u001b[0m   \u001b[0mdf1\u001b[0m\u001b[0;34m=\u001b[0m\u001b[0mdf1\u001b[0m\u001b[0;34m.\u001b[0m\u001b[0mdropna\u001b[0m\u001b[0;34m(\u001b[0m\u001b[0;34m)\u001b[0m\u001b[0;34m\u001b[0m\u001b[0;34m\u001b[0m\u001b[0m\n",
            "\u001b[0;32m/usr/local/lib/python3.7/dist-packages/pandas/util/_decorators.py\u001b[0m in \u001b[0;36mwrapper\u001b[0;34m(*args, **kwargs)\u001b[0m\n\u001b[1;32m    309\u001b[0m                     \u001b[0mstacklevel\u001b[0m\u001b[0;34m=\u001b[0m\u001b[0mstacklevel\u001b[0m\u001b[0;34m,\u001b[0m\u001b[0;34m\u001b[0m\u001b[0;34m\u001b[0m\u001b[0m\n\u001b[1;32m    310\u001b[0m                 )\n\u001b[0;32m--> 311\u001b[0;31m             \u001b[0;32mreturn\u001b[0m \u001b[0mfunc\u001b[0m\u001b[0;34m(\u001b[0m\u001b[0;34m*\u001b[0m\u001b[0margs\u001b[0m\u001b[0;34m,\u001b[0m \u001b[0;34m**\u001b[0m\u001b[0mkwargs\u001b[0m\u001b[0;34m)\u001b[0m\u001b[0;34m\u001b[0m\u001b[0;34m\u001b[0m\u001b[0m\n\u001b[0m\u001b[1;32m    312\u001b[0m \u001b[0;34m\u001b[0m\u001b[0m\n\u001b[1;32m    313\u001b[0m         \u001b[0;32mreturn\u001b[0m \u001b[0mwrapper\u001b[0m\u001b[0;34m\u001b[0m\u001b[0;34m\u001b[0m\u001b[0m\n",
            "\u001b[0;32m/usr/local/lib/python3.7/dist-packages/pandas/io/parsers/readers.py\u001b[0m in \u001b[0;36mread_csv\u001b[0;34m(filepath_or_buffer, sep, delimiter, header, names, index_col, usecols, squeeze, prefix, mangle_dupe_cols, dtype, engine, converters, true_values, false_values, skipinitialspace, skiprows, skipfooter, nrows, na_values, keep_default_na, na_filter, verbose, skip_blank_lines, parse_dates, infer_datetime_format, keep_date_col, date_parser, dayfirst, cache_dates, iterator, chunksize, compression, thousands, decimal, lineterminator, quotechar, quoting, doublequote, escapechar, comment, encoding, encoding_errors, dialect, error_bad_lines, warn_bad_lines, on_bad_lines, delim_whitespace, low_memory, memory_map, float_precision, storage_options)\u001b[0m\n\u001b[1;32m    584\u001b[0m     \u001b[0mkwds\u001b[0m\u001b[0;34m.\u001b[0m\u001b[0mupdate\u001b[0m\u001b[0;34m(\u001b[0m\u001b[0mkwds_defaults\u001b[0m\u001b[0;34m)\u001b[0m\u001b[0;34m\u001b[0m\u001b[0;34m\u001b[0m\u001b[0m\n\u001b[1;32m    585\u001b[0m \u001b[0;34m\u001b[0m\u001b[0m\n\u001b[0;32m--> 586\u001b[0;31m     \u001b[0;32mreturn\u001b[0m \u001b[0m_read\u001b[0m\u001b[0;34m(\u001b[0m\u001b[0mfilepath_or_buffer\u001b[0m\u001b[0;34m,\u001b[0m \u001b[0mkwds\u001b[0m\u001b[0;34m)\u001b[0m\u001b[0;34m\u001b[0m\u001b[0;34m\u001b[0m\u001b[0m\n\u001b[0m\u001b[1;32m    587\u001b[0m \u001b[0;34m\u001b[0m\u001b[0m\n\u001b[1;32m    588\u001b[0m \u001b[0;34m\u001b[0m\u001b[0m\n",
            "\u001b[0;32m/usr/local/lib/python3.7/dist-packages/pandas/io/parsers/readers.py\u001b[0m in \u001b[0;36m_read\u001b[0;34m(filepath_or_buffer, kwds)\u001b[0m\n\u001b[1;32m    480\u001b[0m \u001b[0;34m\u001b[0m\u001b[0m\n\u001b[1;32m    481\u001b[0m     \u001b[0;31m# Create the parser.\u001b[0m\u001b[0;34m\u001b[0m\u001b[0;34m\u001b[0m\u001b[0;34m\u001b[0m\u001b[0m\n\u001b[0;32m--> 482\u001b[0;31m     \u001b[0mparser\u001b[0m \u001b[0;34m=\u001b[0m \u001b[0mTextFileReader\u001b[0m\u001b[0;34m(\u001b[0m\u001b[0mfilepath_or_buffer\u001b[0m\u001b[0;34m,\u001b[0m \u001b[0;34m**\u001b[0m\u001b[0mkwds\u001b[0m\u001b[0;34m)\u001b[0m\u001b[0;34m\u001b[0m\u001b[0;34m\u001b[0m\u001b[0m\n\u001b[0m\u001b[1;32m    483\u001b[0m \u001b[0;34m\u001b[0m\u001b[0m\n\u001b[1;32m    484\u001b[0m     \u001b[0;32mif\u001b[0m \u001b[0mchunksize\u001b[0m \u001b[0;32mor\u001b[0m \u001b[0miterator\u001b[0m\u001b[0;34m:\u001b[0m\u001b[0;34m\u001b[0m\u001b[0;34m\u001b[0m\u001b[0m\n",
            "\u001b[0;32m/usr/local/lib/python3.7/dist-packages/pandas/io/parsers/readers.py\u001b[0m in \u001b[0;36m__init__\u001b[0;34m(self, f, engine, **kwds)\u001b[0m\n\u001b[1;32m    809\u001b[0m             \u001b[0mself\u001b[0m\u001b[0;34m.\u001b[0m\u001b[0moptions\u001b[0m\u001b[0;34m[\u001b[0m\u001b[0;34m\"has_index_names\"\u001b[0m\u001b[0;34m]\u001b[0m \u001b[0;34m=\u001b[0m \u001b[0mkwds\u001b[0m\u001b[0;34m[\u001b[0m\u001b[0;34m\"has_index_names\"\u001b[0m\u001b[0;34m]\u001b[0m\u001b[0;34m\u001b[0m\u001b[0;34m\u001b[0m\u001b[0m\n\u001b[1;32m    810\u001b[0m \u001b[0;34m\u001b[0m\u001b[0m\n\u001b[0;32m--> 811\u001b[0;31m         \u001b[0mself\u001b[0m\u001b[0;34m.\u001b[0m\u001b[0m_engine\u001b[0m \u001b[0;34m=\u001b[0m \u001b[0mself\u001b[0m\u001b[0;34m.\u001b[0m\u001b[0m_make_engine\u001b[0m\u001b[0;34m(\u001b[0m\u001b[0mself\u001b[0m\u001b[0;34m.\u001b[0m\u001b[0mengine\u001b[0m\u001b[0;34m)\u001b[0m\u001b[0;34m\u001b[0m\u001b[0;34m\u001b[0m\u001b[0m\n\u001b[0m\u001b[1;32m    812\u001b[0m \u001b[0;34m\u001b[0m\u001b[0m\n\u001b[1;32m    813\u001b[0m     \u001b[0;32mdef\u001b[0m \u001b[0mclose\u001b[0m\u001b[0;34m(\u001b[0m\u001b[0mself\u001b[0m\u001b[0;34m)\u001b[0m\u001b[0;34m:\u001b[0m\u001b[0;34m\u001b[0m\u001b[0;34m\u001b[0m\u001b[0m\n",
            "\u001b[0;32m/usr/local/lib/python3.7/dist-packages/pandas/io/parsers/readers.py\u001b[0m in \u001b[0;36m_make_engine\u001b[0;34m(self, engine)\u001b[0m\n\u001b[1;32m   1038\u001b[0m             )\n\u001b[1;32m   1039\u001b[0m         \u001b[0;31m# error: Too many arguments for \"ParserBase\"\u001b[0m\u001b[0;34m\u001b[0m\u001b[0;34m\u001b[0m\u001b[0;34m\u001b[0m\u001b[0m\n\u001b[0;32m-> 1040\u001b[0;31m         \u001b[0;32mreturn\u001b[0m \u001b[0mmapping\u001b[0m\u001b[0;34m[\u001b[0m\u001b[0mengine\u001b[0m\u001b[0;34m]\u001b[0m\u001b[0;34m(\u001b[0m\u001b[0mself\u001b[0m\u001b[0;34m.\u001b[0m\u001b[0mf\u001b[0m\u001b[0;34m,\u001b[0m \u001b[0;34m**\u001b[0m\u001b[0mself\u001b[0m\u001b[0;34m.\u001b[0m\u001b[0moptions\u001b[0m\u001b[0;34m)\u001b[0m  \u001b[0;31m# type: ignore[call-arg]\u001b[0m\u001b[0;34m\u001b[0m\u001b[0;34m\u001b[0m\u001b[0m\n\u001b[0m\u001b[1;32m   1041\u001b[0m \u001b[0;34m\u001b[0m\u001b[0m\n\u001b[1;32m   1042\u001b[0m     \u001b[0;32mdef\u001b[0m \u001b[0m_failover_to_python\u001b[0m\u001b[0;34m(\u001b[0m\u001b[0mself\u001b[0m\u001b[0;34m)\u001b[0m\u001b[0;34m:\u001b[0m\u001b[0;34m\u001b[0m\u001b[0;34m\u001b[0m\u001b[0m\n",
            "\u001b[0;32m/usr/local/lib/python3.7/dist-packages/pandas/io/parsers/c_parser_wrapper.py\u001b[0m in \u001b[0;36m__init__\u001b[0;34m(self, src, **kwds)\u001b[0m\n\u001b[1;32m    133\u001b[0m                 \u001b[0mself\u001b[0m\u001b[0;34m.\u001b[0m\u001b[0morig_names\u001b[0m\u001b[0;34m\u001b[0m\u001b[0;34m\u001b[0m\u001b[0m\n\u001b[1;32m    134\u001b[0m             ):\n\u001b[0;32m--> 135\u001b[0;31m                 \u001b[0mself\u001b[0m\u001b[0;34m.\u001b[0m\u001b[0m_validate_usecols_names\u001b[0m\u001b[0;34m(\u001b[0m\u001b[0musecols\u001b[0m\u001b[0;34m,\u001b[0m \u001b[0mself\u001b[0m\u001b[0;34m.\u001b[0m\u001b[0morig_names\u001b[0m\u001b[0;34m)\u001b[0m\u001b[0;34m\u001b[0m\u001b[0;34m\u001b[0m\u001b[0m\n\u001b[0m\u001b[1;32m    136\u001b[0m \u001b[0;34m\u001b[0m\u001b[0m\n\u001b[1;32m    137\u001b[0m             \u001b[0;31m# error: Cannot determine type of 'names'\u001b[0m\u001b[0;34m\u001b[0m\u001b[0;34m\u001b[0m\u001b[0;34m\u001b[0m\u001b[0m\n",
            "\u001b[0;32m/usr/local/lib/python3.7/dist-packages/pandas/io/parsers/base_parser.py\u001b[0m in \u001b[0;36m_validate_usecols_names\u001b[0;34m(self, usecols, names)\u001b[0m\n\u001b[1;32m    865\u001b[0m         \u001b[0;32mif\u001b[0m \u001b[0mlen\u001b[0m\u001b[0;34m(\u001b[0m\u001b[0mmissing\u001b[0m\u001b[0;34m)\u001b[0m \u001b[0;34m>\u001b[0m \u001b[0;36m0\u001b[0m\u001b[0;34m:\u001b[0m\u001b[0;34m\u001b[0m\u001b[0;34m\u001b[0m\u001b[0m\n\u001b[1;32m    866\u001b[0m             raise ValueError(\n\u001b[0;32m--> 867\u001b[0;31m                 \u001b[0;34mf\"Usecols do not match columns, columns expected but not found: \"\u001b[0m\u001b[0;34m\u001b[0m\u001b[0;34m\u001b[0m\u001b[0m\n\u001b[0m\u001b[1;32m    868\u001b[0m                 \u001b[0;34mf\"{missing}\"\u001b[0m\u001b[0;34m\u001b[0m\u001b[0;34m\u001b[0m\u001b[0m\n\u001b[1;32m    869\u001b[0m             )\n",
            "\u001b[0;31mValueError\u001b[0m: Usecols do not match columns, columns expected but not found: ['sid_profile', 'numbr_likes']"
          ]
        }
      ]
    },
    {
      "cell_type": "code",
      "source": [
        "pd.read_csv(filename, sep='\\t', usecols= ['numbr_likes' , 'sid_profile'],)"
      ],
      "metadata": {
        "id": "eVlJiq8j-vCG"
      },
      "execution_count": null,
      "outputs": []
    }
  ]
}