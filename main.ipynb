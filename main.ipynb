{
  "nbformat": 4,
  "nbformat_minor": 0,
  "metadata": {
    "colab": {
      "provenance": [],
      "collapsed_sections": [],
      "include_colab_link": true
    },
    "kernelspec": {
      "name": "python3",
      "display_name": "Python 3"
    },
    "language_info": {
      "name": "python"
    }
  },
  "cells": [
    {
      "cell_type": "markdown",
      "metadata": {
        "id": "view-in-github",
        "colab_type": "text"
      },
      "source": [
        "<a href=\"https://colab.research.google.com/github/PaoloBarba/ADM_HW2-Group18/blob/main/main.ipynb\" target=\"_parent\"><img src=\"https://colab.research.google.com/assets/colab-badge.svg\" alt=\"Open In Colab\"/></a>"
      ]
    },
    {
      "cell_type": "markdown",
      "source": [
        "# **Algorithmic Methods of Data Mining**\n",
        "\n",
        "# Homework 2 - Instagram Profiles & Posts\n",
        "----\n",
        "#Academic year 2022–2023\n",
        "\n",
        "\n",
        "\n",
        "Authors: Alaoui Soukaina, Barba Paolo, Bellaroba Albachiara, , Gasbarri Francesca."
      ],
      "metadata": {
        "id": "kYur1faNzt2h"
      }
    },
    {
      "cell_type": "markdown",
      "source": [
        "#Import the packages and upload datasets\n"
      ],
      "metadata": {
        "id": "z4aPRI3HA63g"
      }
    },
    {
      "cell_type": "code",
      "execution_count": 1,
      "metadata": {
        "id": "wLM1xak2KwOU"
      },
      "outputs": [],
      "source": [
        "import pandas as pd\n",
        "import random\n",
        "import numpy as np\n",
        "import math\n",
        "import seaborn as sns\n",
        "import matplotlib.pyplot as plt\n",
        "import scipy.stats as stats\n",
        "from tqdm import tqdm     \n",
        "import statsmodels.api as sm\n",
        "from datetime import datetime\n",
        "from time import strptime\n",
        "from datetime import datetime, date\n",
        "import nltk\n",
        "sns.set()\n"
      ]
    },
    {
      "cell_type": "code",
      "source": [
        "from google.colab import drive \n",
        "drive.mount('/content/drive/')"
      ],
      "metadata": {
        "colab": {
          "base_uri": "https://localhost:8080/"
        },
        "id": "BGnoXZUTLWAw",
        "outputId": "bf2df84a-8d3c-4742-b38a-aee543a7ca37"
      },
      "execution_count": null,
      "outputs": [
        {
          "output_type": "stream",
          "name": "stdout",
          "text": [
            "Drive already mounted at /content/drive/; to attempt to forcibly remount, call drive.mount(\"/content/drive/\", force_remount=True).\n"
          ]
        }
      ]
    },
    {
      "cell_type": "code",
      "source": [
        "locations =pd.read_csv('/content/drive/MyDrive/ADM_HW2/instagram_locations.csv',sep='\\t')\n",
        "profiles =pd.read_csv(\"/content/drive/MyDrive/ADM_HW2/instagram_profiles.csv\",sep='\\t')\n",
        "posts =pd.read_csv(\"/content/drive/MyDrive/ADM_HW2/instagram_posts.csv\",sep='\\t',nrows=100000)"
      ],
      "metadata": {
        "id": "iX6V6SXCQ6tK"
      },
      "execution_count": null,
      "outputs": []
    },
    {
      "cell_type": "markdown",
      "source": [
        "# RQ1\n",
        "---- \n",
        " Exploratory Data Analysis"
      ],
      "metadata": {
        "id": "BpkqZqMECBDT"
      }
    },
    {
      "cell_type": "markdown",
      "source": [
        "To perform an explanatory data analysis, we will go through three different steps: data explorations, data manipulations, and data summary.\n",
        "First, we will show the first few rows of the datasets we are analyzing."
      ],
      "metadata": {
        "id": "VXsKZDOdCIRo"
      }
    },
    {
      "cell_type": "code",
      "source": [
        "locations.head()"
      ],
      "metadata": {
        "id": "aVi6zjocbcK2",
        "colab": {
          "base_uri": "https://localhost:8080/",
          "height": 475
        },
        "outputId": "b0883bf1-9077-4290-bd33-519129cd4f35"
      },
      "execution_count": null,
      "outputs": [
        {
          "output_type": "execute_result",
          "data": {
            "text/plain": [
              "      sid               id                                               name  \\\n",
              "0  719981  110296492939207                 Playa de Daimuz - Valencia, España   \n",
              "1  719983        274391278                                        Nová Vieska   \n",
              "2  719985  148885595789195                                      Everest Today   \n",
              "3  719987        263258277  BULAC - Bibliothèque universitaire des langues...   \n",
              "4  326443  406147529857708                           ABC Cable Networks Group   \n",
              "\n",
              "                       street    zip                 city region   cd  \\\n",
              "0                         NaN    NaN                  NaN    NaN  NaN   \n",
              "1                         NaN    NaN          Nová Vieska    NaN   SK   \n",
              "2                   Himalayas   +977     Kathmandu, Nepal    NaN   NP   \n",
              "3  65, rue des Grands-Moulins  75013        Paris, France    NaN   FR   \n",
              "4          3800 W Alameda Ave  91505  Burbank, California    NaN   US   \n",
              "\n",
              "            phone aj_exact_city_match  ...               dir_city_name  \\\n",
              "0             NaN               False  ...                         NaN   \n",
              "1             NaN                True  ...                  Kis-Újfalu   \n",
              "2             NaN               False  ...                    Pasupati   \n",
              "3  01 81 69 18 00               False  ...  13ème Arrondissement Paris   \n",
              "4  (818) 569-7500               False  ...                         NaN   \n",
              "\n",
              "                dir_city_slug dir_country_id dir_country_name         lat  \\\n",
              "0                         NaN            NaN              NaN   -0.139475   \n",
              "1                  kis-ujfalu             SK         Slovakia   18.466667   \n",
              "2                    pasupati             NP            Nepal   85.330150   \n",
              "3  13eme-arrondissement-paris             FR           France    2.375995   \n",
              "4                         NaN            NaN              NaN -118.341864   \n",
              "\n",
              "         lng primary_alias_on_fb  \\\n",
              "0  38.974391         daimuzplaya   \n",
              "1  47.866667                 NaN   \n",
              "2  27.701960        EverestToday   \n",
              "3  48.827240         BULAC.Paris   \n",
              "4  34.153265                 NaN   \n",
              "\n",
              "                                                slug  \\\n",
              "0                    playa-de-daimuz-valencia-espana   \n",
              "1                                        nova-vieska   \n",
              "2                                      everest-today   \n",
              "3  bulac-bibliotheque-universitaire-des-langues-e...   \n",
              "4                           abc-cable-networks-group   \n",
              "\n",
              "                                website                      cts  \n",
              "0  https://es.wikipedia.org/wiki/Daimuz  2019-05-29 01:21:29.987  \n",
              "1                                   NaN  2019-05-29 01:21:38.037  \n",
              "2                                   NaN  2019-05-29 01:21:46.295  \n",
              "3                          www.bulac.fr  2019-05-29 01:21:54.355  \n",
              "4                                   NaN  2019-04-02 15:22:55.703  \n",
              "\n",
              "[5 rows x 23 columns]"
            ],
            "text/html": [
              "\n",
              "  <div id=\"df-e526dbea-c75e-46aa-ae0a-ee331731ae0f\">\n",
              "    <div class=\"colab-df-container\">\n",
              "      <div>\n",
              "<style scoped>\n",
              "    .dataframe tbody tr th:only-of-type {\n",
              "        vertical-align: middle;\n",
              "    }\n",
              "\n",
              "    .dataframe tbody tr th {\n",
              "        vertical-align: top;\n",
              "    }\n",
              "\n",
              "    .dataframe thead th {\n",
              "        text-align: right;\n",
              "    }\n",
              "</style>\n",
              "<table border=\"1\" class=\"dataframe\">\n",
              "  <thead>\n",
              "    <tr style=\"text-align: right;\">\n",
              "      <th></th>\n",
              "      <th>sid</th>\n",
              "      <th>id</th>\n",
              "      <th>name</th>\n",
              "      <th>street</th>\n",
              "      <th>zip</th>\n",
              "      <th>city</th>\n",
              "      <th>region</th>\n",
              "      <th>cd</th>\n",
              "      <th>phone</th>\n",
              "      <th>aj_exact_city_match</th>\n",
              "      <th>...</th>\n",
              "      <th>dir_city_name</th>\n",
              "      <th>dir_city_slug</th>\n",
              "      <th>dir_country_id</th>\n",
              "      <th>dir_country_name</th>\n",
              "      <th>lat</th>\n",
              "      <th>lng</th>\n",
              "      <th>primary_alias_on_fb</th>\n",
              "      <th>slug</th>\n",
              "      <th>website</th>\n",
              "      <th>cts</th>\n",
              "    </tr>\n",
              "  </thead>\n",
              "  <tbody>\n",
              "    <tr>\n",
              "      <th>0</th>\n",
              "      <td>719981</td>\n",
              "      <td>110296492939207</td>\n",
              "      <td>Playa de Daimuz - Valencia, España</td>\n",
              "      <td>NaN</td>\n",
              "      <td>NaN</td>\n",
              "      <td>NaN</td>\n",
              "      <td>NaN</td>\n",
              "      <td>NaN</td>\n",
              "      <td>NaN</td>\n",
              "      <td>False</td>\n",
              "      <td>...</td>\n",
              "      <td>NaN</td>\n",
              "      <td>NaN</td>\n",
              "      <td>NaN</td>\n",
              "      <td>NaN</td>\n",
              "      <td>-0.139475</td>\n",
              "      <td>38.974391</td>\n",
              "      <td>daimuzplaya</td>\n",
              "      <td>playa-de-daimuz-valencia-espana</td>\n",
              "      <td>https://es.wikipedia.org/wiki/Daimuz</td>\n",
              "      <td>2019-05-29 01:21:29.987</td>\n",
              "    </tr>\n",
              "    <tr>\n",
              "      <th>1</th>\n",
              "      <td>719983</td>\n",
              "      <td>274391278</td>\n",
              "      <td>Nová Vieska</td>\n",
              "      <td>NaN</td>\n",
              "      <td>NaN</td>\n",
              "      <td>Nová Vieska</td>\n",
              "      <td>NaN</td>\n",
              "      <td>SK</td>\n",
              "      <td>NaN</td>\n",
              "      <td>True</td>\n",
              "      <td>...</td>\n",
              "      <td>Kis-Újfalu</td>\n",
              "      <td>kis-ujfalu</td>\n",
              "      <td>SK</td>\n",
              "      <td>Slovakia</td>\n",
              "      <td>18.466667</td>\n",
              "      <td>47.866667</td>\n",
              "      <td>NaN</td>\n",
              "      <td>nova-vieska</td>\n",
              "      <td>NaN</td>\n",
              "      <td>2019-05-29 01:21:38.037</td>\n",
              "    </tr>\n",
              "    <tr>\n",
              "      <th>2</th>\n",
              "      <td>719985</td>\n",
              "      <td>148885595789195</td>\n",
              "      <td>Everest Today</td>\n",
              "      <td>Himalayas</td>\n",
              "      <td>+977</td>\n",
              "      <td>Kathmandu, Nepal</td>\n",
              "      <td>NaN</td>\n",
              "      <td>NP</td>\n",
              "      <td>NaN</td>\n",
              "      <td>False</td>\n",
              "      <td>...</td>\n",
              "      <td>Pasupati</td>\n",
              "      <td>pasupati</td>\n",
              "      <td>NP</td>\n",
              "      <td>Nepal</td>\n",
              "      <td>85.330150</td>\n",
              "      <td>27.701960</td>\n",
              "      <td>EverestToday</td>\n",
              "      <td>everest-today</td>\n",
              "      <td>NaN</td>\n",
              "      <td>2019-05-29 01:21:46.295</td>\n",
              "    </tr>\n",
              "    <tr>\n",
              "      <th>3</th>\n",
              "      <td>719987</td>\n",
              "      <td>263258277</td>\n",
              "      <td>BULAC - Bibliothèque universitaire des langues...</td>\n",
              "      <td>65, rue des Grands-Moulins</td>\n",
              "      <td>75013</td>\n",
              "      <td>Paris, France</td>\n",
              "      <td>NaN</td>\n",
              "      <td>FR</td>\n",
              "      <td>01 81 69 18 00</td>\n",
              "      <td>False</td>\n",
              "      <td>...</td>\n",
              "      <td>13ème Arrondissement Paris</td>\n",
              "      <td>13eme-arrondissement-paris</td>\n",
              "      <td>FR</td>\n",
              "      <td>France</td>\n",
              "      <td>2.375995</td>\n",
              "      <td>48.827240</td>\n",
              "      <td>BULAC.Paris</td>\n",
              "      <td>bulac-bibliotheque-universitaire-des-langues-e...</td>\n",
              "      <td>www.bulac.fr</td>\n",
              "      <td>2019-05-29 01:21:54.355</td>\n",
              "    </tr>\n",
              "    <tr>\n",
              "      <th>4</th>\n",
              "      <td>326443</td>\n",
              "      <td>406147529857708</td>\n",
              "      <td>ABC Cable Networks Group</td>\n",
              "      <td>3800 W Alameda Ave</td>\n",
              "      <td>91505</td>\n",
              "      <td>Burbank, California</td>\n",
              "      <td>NaN</td>\n",
              "      <td>US</td>\n",
              "      <td>(818) 569-7500</td>\n",
              "      <td>False</td>\n",
              "      <td>...</td>\n",
              "      <td>NaN</td>\n",
              "      <td>NaN</td>\n",
              "      <td>NaN</td>\n",
              "      <td>NaN</td>\n",
              "      <td>-118.341864</td>\n",
              "      <td>34.153265</td>\n",
              "      <td>NaN</td>\n",
              "      <td>abc-cable-networks-group</td>\n",
              "      <td>NaN</td>\n",
              "      <td>2019-04-02 15:22:55.703</td>\n",
              "    </tr>\n",
              "  </tbody>\n",
              "</table>\n",
              "<p>5 rows × 23 columns</p>\n",
              "</div>\n",
              "      <button class=\"colab-df-convert\" onclick=\"convertToInteractive('df-e526dbea-c75e-46aa-ae0a-ee331731ae0f')\"\n",
              "              title=\"Convert this dataframe to an interactive table.\"\n",
              "              style=\"display:none;\">\n",
              "        \n",
              "  <svg xmlns=\"http://www.w3.org/2000/svg\" height=\"24px\"viewBox=\"0 0 24 24\"\n",
              "       width=\"24px\">\n",
              "    <path d=\"M0 0h24v24H0V0z\" fill=\"none\"/>\n",
              "    <path d=\"M18.56 5.44l.94 2.06.94-2.06 2.06-.94-2.06-.94-.94-2.06-.94 2.06-2.06.94zm-11 1L8.5 8.5l.94-2.06 2.06-.94-2.06-.94L8.5 2.5l-.94 2.06-2.06.94zm10 10l.94 2.06.94-2.06 2.06-.94-2.06-.94-.94-2.06-.94 2.06-2.06.94z\"/><path d=\"M17.41 7.96l-1.37-1.37c-.4-.4-.92-.59-1.43-.59-.52 0-1.04.2-1.43.59L10.3 9.45l-7.72 7.72c-.78.78-.78 2.05 0 2.83L4 21.41c.39.39.9.59 1.41.59.51 0 1.02-.2 1.41-.59l7.78-7.78 2.81-2.81c.8-.78.8-2.07 0-2.86zM5.41 20L4 18.59l7.72-7.72 1.47 1.35L5.41 20z\"/>\n",
              "  </svg>\n",
              "      </button>\n",
              "      \n",
              "  <style>\n",
              "    .colab-df-container {\n",
              "      display:flex;\n",
              "      flex-wrap:wrap;\n",
              "      gap: 12px;\n",
              "    }\n",
              "\n",
              "    .colab-df-convert {\n",
              "      background-color: #E8F0FE;\n",
              "      border: none;\n",
              "      border-radius: 50%;\n",
              "      cursor: pointer;\n",
              "      display: none;\n",
              "      fill: #1967D2;\n",
              "      height: 32px;\n",
              "      padding: 0 0 0 0;\n",
              "      width: 32px;\n",
              "    }\n",
              "\n",
              "    .colab-df-convert:hover {\n",
              "      background-color: #E2EBFA;\n",
              "      box-shadow: 0px 1px 2px rgba(60, 64, 67, 0.3), 0px 1px 3px 1px rgba(60, 64, 67, 0.15);\n",
              "      fill: #174EA6;\n",
              "    }\n",
              "\n",
              "    [theme=dark] .colab-df-convert {\n",
              "      background-color: #3B4455;\n",
              "      fill: #D2E3FC;\n",
              "    }\n",
              "\n",
              "    [theme=dark] .colab-df-convert:hover {\n",
              "      background-color: #434B5C;\n",
              "      box-shadow: 0px 1px 3px 1px rgba(0, 0, 0, 0.15);\n",
              "      filter: drop-shadow(0px 1px 2px rgba(0, 0, 0, 0.3));\n",
              "      fill: #FFFFFF;\n",
              "    }\n",
              "  </style>\n",
              "\n",
              "      <script>\n",
              "        const buttonEl =\n",
              "          document.querySelector('#df-e526dbea-c75e-46aa-ae0a-ee331731ae0f button.colab-df-convert');\n",
              "        buttonEl.style.display =\n",
              "          google.colab.kernel.accessAllowed ? 'block' : 'none';\n",
              "\n",
              "        async function convertToInteractive(key) {\n",
              "          const element = document.querySelector('#df-e526dbea-c75e-46aa-ae0a-ee331731ae0f');\n",
              "          const dataTable =\n",
              "            await google.colab.kernel.invokeFunction('convertToInteractive',\n",
              "                                                     [key], {});\n",
              "          if (!dataTable) return;\n",
              "\n",
              "          const docLinkHtml = 'Like what you see? Visit the ' +\n",
              "            '<a target=\"_blank\" href=https://colab.research.google.com/notebooks/data_table.ipynb>data table notebook</a>'\n",
              "            + ' to learn more about interactive tables.';\n",
              "          element.innerHTML = '';\n",
              "          dataTable['output_type'] = 'display_data';\n",
              "          await google.colab.output.renderOutput(dataTable, element);\n",
              "          const docLink = document.createElement('div');\n",
              "          docLink.innerHTML = docLinkHtml;\n",
              "          element.appendChild(docLink);\n",
              "        }\n",
              "      </script>\n",
              "    </div>\n",
              "  </div>\n",
              "  "
            ]
          },
          "metadata": {},
          "execution_count": 4
        }
      ]
    },
    {
      "cell_type": "code",
      "source": [
        "profiles.head()"
      ],
      "metadata": {
        "id": "bj3WmAzyCMEy",
        "colab": {
          "base_uri": "https://localhost:8080/",
          "height": 447
        },
        "outputId": "902ca510-1a74-4499-f8b6-5edb38951c50"
      },
      "execution_count": null,
      "outputs": [
        {
          "output_type": "execute_result",
          "data": {
            "text/plain": [
              "       sid    profile_id      profile_name firstname_lastname  \\\n",
              "0  4184446  4.721050e+09       jphillip033        John Pierce   \n",
              "1  4184457  5.905830e+08         mama_haas             Deanna   \n",
              "2  4184460  1.074147e+09  yellowlightbreen         Eliza Gray   \n",
              "3  4184461  1.472039e+09           tec1025       Thomas Clark   \n",
              "4  4184462  3.531421e+09        luckyfluff                NaN   \n",
              "\n",
              "                                         description  following  followers  \\\n",
              "0                       \"Document Everything Always\"      250.0      146.0   \n",
              "1  Trying to enjoy the simple things in life. Kni...      534.0     1145.0   \n",
              "2                                Maine is for Lovers      469.0      324.0   \n",
              "3                                                NaN        NaN        NaN   \n",
              "4                                                NaN        NaN        NaN   \n",
              "\n",
              "   n_posts                           url                            cts  \\\n",
              "0    170.0                           NaN  2019-08-01 14:38:55.394 -0400   \n",
              "1   2878.0  www.etsy.com/shop/MamaHaas69  2019-08-01 14:39:36.526 -0400   \n",
              "2    431.0             elizajanegray.com  2019-08-01 14:39:54.407 -0400   \n",
              "3      NaN                           NaN  2019-08-01 14:40:06.472 -0400   \n",
              "4      NaN                           NaN  2019-08-01 14:40:07.806 -0400   \n",
              "\n",
              "  is_business_account  \n",
              "0               False  \n",
              "1               False  \n",
              "2               False  \n",
              "3                 NaN  \n",
              "4                 NaN  "
            ],
            "text/html": [
              "\n",
              "  <div id=\"df-ec9f894c-409d-44d3-bf40-4af419ff417f\">\n",
              "    <div class=\"colab-df-container\">\n",
              "      <div>\n",
              "<style scoped>\n",
              "    .dataframe tbody tr th:only-of-type {\n",
              "        vertical-align: middle;\n",
              "    }\n",
              "\n",
              "    .dataframe tbody tr th {\n",
              "        vertical-align: top;\n",
              "    }\n",
              "\n",
              "    .dataframe thead th {\n",
              "        text-align: right;\n",
              "    }\n",
              "</style>\n",
              "<table border=\"1\" class=\"dataframe\">\n",
              "  <thead>\n",
              "    <tr style=\"text-align: right;\">\n",
              "      <th></th>\n",
              "      <th>sid</th>\n",
              "      <th>profile_id</th>\n",
              "      <th>profile_name</th>\n",
              "      <th>firstname_lastname</th>\n",
              "      <th>description</th>\n",
              "      <th>following</th>\n",
              "      <th>followers</th>\n",
              "      <th>n_posts</th>\n",
              "      <th>url</th>\n",
              "      <th>cts</th>\n",
              "      <th>is_business_account</th>\n",
              "    </tr>\n",
              "  </thead>\n",
              "  <tbody>\n",
              "    <tr>\n",
              "      <th>0</th>\n",
              "      <td>4184446</td>\n",
              "      <td>4.721050e+09</td>\n",
              "      <td>jphillip033</td>\n",
              "      <td>John Pierce</td>\n",
              "      <td>\"Document Everything Always\"</td>\n",
              "      <td>250.0</td>\n",
              "      <td>146.0</td>\n",
              "      <td>170.0</td>\n",
              "      <td>NaN</td>\n",
              "      <td>2019-08-01 14:38:55.394 -0400</td>\n",
              "      <td>False</td>\n",
              "    </tr>\n",
              "    <tr>\n",
              "      <th>1</th>\n",
              "      <td>4184457</td>\n",
              "      <td>5.905830e+08</td>\n",
              "      <td>mama_haas</td>\n",
              "      <td>Deanna</td>\n",
              "      <td>Trying to enjoy the simple things in life. Kni...</td>\n",
              "      <td>534.0</td>\n",
              "      <td>1145.0</td>\n",
              "      <td>2878.0</td>\n",
              "      <td>www.etsy.com/shop/MamaHaas69</td>\n",
              "      <td>2019-08-01 14:39:36.526 -0400</td>\n",
              "      <td>False</td>\n",
              "    </tr>\n",
              "    <tr>\n",
              "      <th>2</th>\n",
              "      <td>4184460</td>\n",
              "      <td>1.074147e+09</td>\n",
              "      <td>yellowlightbreen</td>\n",
              "      <td>Eliza Gray</td>\n",
              "      <td>Maine is for Lovers</td>\n",
              "      <td>469.0</td>\n",
              "      <td>324.0</td>\n",
              "      <td>431.0</td>\n",
              "      <td>elizajanegray.com</td>\n",
              "      <td>2019-08-01 14:39:54.407 -0400</td>\n",
              "      <td>False</td>\n",
              "    </tr>\n",
              "    <tr>\n",
              "      <th>3</th>\n",
              "      <td>4184461</td>\n",
              "      <td>1.472039e+09</td>\n",
              "      <td>tec1025</td>\n",
              "      <td>Thomas Clark</td>\n",
              "      <td>NaN</td>\n",
              "      <td>NaN</td>\n",
              "      <td>NaN</td>\n",
              "      <td>NaN</td>\n",
              "      <td>NaN</td>\n",
              "      <td>2019-08-01 14:40:06.472 -0400</td>\n",
              "      <td>NaN</td>\n",
              "    </tr>\n",
              "    <tr>\n",
              "      <th>4</th>\n",
              "      <td>4184462</td>\n",
              "      <td>3.531421e+09</td>\n",
              "      <td>luckyfluff</td>\n",
              "      <td>NaN</td>\n",
              "      <td>NaN</td>\n",
              "      <td>NaN</td>\n",
              "      <td>NaN</td>\n",
              "      <td>NaN</td>\n",
              "      <td>NaN</td>\n",
              "      <td>2019-08-01 14:40:07.806 -0400</td>\n",
              "      <td>NaN</td>\n",
              "    </tr>\n",
              "  </tbody>\n",
              "</table>\n",
              "</div>\n",
              "      <button class=\"colab-df-convert\" onclick=\"convertToInteractive('df-ec9f894c-409d-44d3-bf40-4af419ff417f')\"\n",
              "              title=\"Convert this dataframe to an interactive table.\"\n",
              "              style=\"display:none;\">\n",
              "        \n",
              "  <svg xmlns=\"http://www.w3.org/2000/svg\" height=\"24px\"viewBox=\"0 0 24 24\"\n",
              "       width=\"24px\">\n",
              "    <path d=\"M0 0h24v24H0V0z\" fill=\"none\"/>\n",
              "    <path d=\"M18.56 5.44l.94 2.06.94-2.06 2.06-.94-2.06-.94-.94-2.06-.94 2.06-2.06.94zm-11 1L8.5 8.5l.94-2.06 2.06-.94-2.06-.94L8.5 2.5l-.94 2.06-2.06.94zm10 10l.94 2.06.94-2.06 2.06-.94-2.06-.94-.94-2.06-.94 2.06-2.06.94z\"/><path d=\"M17.41 7.96l-1.37-1.37c-.4-.4-.92-.59-1.43-.59-.52 0-1.04.2-1.43.59L10.3 9.45l-7.72 7.72c-.78.78-.78 2.05 0 2.83L4 21.41c.39.39.9.59 1.41.59.51 0 1.02-.2 1.41-.59l7.78-7.78 2.81-2.81c.8-.78.8-2.07 0-2.86zM5.41 20L4 18.59l7.72-7.72 1.47 1.35L5.41 20z\"/>\n",
              "  </svg>\n",
              "      </button>\n",
              "      \n",
              "  <style>\n",
              "    .colab-df-container {\n",
              "      display:flex;\n",
              "      flex-wrap:wrap;\n",
              "      gap: 12px;\n",
              "    }\n",
              "\n",
              "    .colab-df-convert {\n",
              "      background-color: #E8F0FE;\n",
              "      border: none;\n",
              "      border-radius: 50%;\n",
              "      cursor: pointer;\n",
              "      display: none;\n",
              "      fill: #1967D2;\n",
              "      height: 32px;\n",
              "      padding: 0 0 0 0;\n",
              "      width: 32px;\n",
              "    }\n",
              "\n",
              "    .colab-df-convert:hover {\n",
              "      background-color: #E2EBFA;\n",
              "      box-shadow: 0px 1px 2px rgba(60, 64, 67, 0.3), 0px 1px 3px 1px rgba(60, 64, 67, 0.15);\n",
              "      fill: #174EA6;\n",
              "    }\n",
              "\n",
              "    [theme=dark] .colab-df-convert {\n",
              "      background-color: #3B4455;\n",
              "      fill: #D2E3FC;\n",
              "    }\n",
              "\n",
              "    [theme=dark] .colab-df-convert:hover {\n",
              "      background-color: #434B5C;\n",
              "      box-shadow: 0px 1px 3px 1px rgba(0, 0, 0, 0.15);\n",
              "      filter: drop-shadow(0px 1px 2px rgba(0, 0, 0, 0.3));\n",
              "      fill: #FFFFFF;\n",
              "    }\n",
              "  </style>\n",
              "\n",
              "      <script>\n",
              "        const buttonEl =\n",
              "          document.querySelector('#df-ec9f894c-409d-44d3-bf40-4af419ff417f button.colab-df-convert');\n",
              "        buttonEl.style.display =\n",
              "          google.colab.kernel.accessAllowed ? 'block' : 'none';\n",
              "\n",
              "        async function convertToInteractive(key) {\n",
              "          const element = document.querySelector('#df-ec9f894c-409d-44d3-bf40-4af419ff417f');\n",
              "          const dataTable =\n",
              "            await google.colab.kernel.invokeFunction('convertToInteractive',\n",
              "                                                     [key], {});\n",
              "          if (!dataTable) return;\n",
              "\n",
              "          const docLinkHtml = 'Like what you see? Visit the ' +\n",
              "            '<a target=\"_blank\" href=https://colab.research.google.com/notebooks/data_table.ipynb>data table notebook</a>'\n",
              "            + ' to learn more about interactive tables.';\n",
              "          element.innerHTML = '';\n",
              "          dataTable['output_type'] = 'display_data';\n",
              "          await google.colab.output.renderOutput(dataTable, element);\n",
              "          const docLink = document.createElement('div');\n",
              "          docLink.innerHTML = docLinkHtml;\n",
              "          element.appendChild(docLink);\n",
              "        }\n",
              "      </script>\n",
              "    </div>\n",
              "  </div>\n",
              "  "
            ]
          },
          "metadata": {},
          "execution_count": 5
        }
      ]
    },
    {
      "cell_type": "code",
      "source": [
        "posts.head()"
      ],
      "metadata": {
        "id": "c5dDdZl7CMMG",
        "colab": {
          "base_uri": "https://localhost:8080/",
          "height": 414
        },
        "outputId": "09b55d4c-4bca-4013-bcd8-fcd7bc183d9e"
      },
      "execution_count": null,
      "outputs": [
        {
          "output_type": "execute_result",
          "data": {
            "text/plain": [
              "        sid  sid_profile      post_id  profile_id       location_id  \\\n",
              "0  28370919      3496776  BXdjjUlgcgq  2237947779  1022366247837915   \n",
              "1  28370932           -1  BVg0pbolYBC  5579335020   457426771112991   \n",
              "2  28370933           -1  BRgkjcXFp3Q   313429634   457426771112991   \n",
              "3  28370934           -1  BKTKeNhjEA7  1837592700   457426771112991   \n",
              "4  28370935           -1   8-NQrvoYLX  1131527143   457426771112991   \n",
              "\n",
              "                       cts  post_type  \\\n",
              "0  2017-08-06 20:06:57.000          2   \n",
              "1  2017-06-19 09:31:16.000          1   \n",
              "2  2017-03-11 20:05:03.000          1   \n",
              "3  2016-09-13 16:27:16.000          1   \n",
              "4  2015-10-18 10:19:27.000          1   \n",
              "\n",
              "                                         description  numbr_likes  \\\n",
              "0  Wreckloose! Deevalley bike park laps on the @i...           80   \n",
              "1  🙌🏼 believe in ya dreams 🙌🏼 just like I believe...           25   \n",
              "2  #meraviglia #incensi #the #candele #profumo #a...            9   \n",
              "3  #teatime #scorpion #friends #love #mountains #...            4   \n",
              "4                   thE sky gavE mE a #constEllation            8   \n",
              "\n",
              "   number_comments  \n",
              "0                0  \n",
              "1                1  \n",
              "2                0  \n",
              "3                0  \n",
              "4                0  "
            ],
            "text/html": [
              "\n",
              "  <div id=\"df-d887daa4-a96e-4dfc-a957-d89f2a12b16e\">\n",
              "    <div class=\"colab-df-container\">\n",
              "      <div>\n",
              "<style scoped>\n",
              "    .dataframe tbody tr th:only-of-type {\n",
              "        vertical-align: middle;\n",
              "    }\n",
              "\n",
              "    .dataframe tbody tr th {\n",
              "        vertical-align: top;\n",
              "    }\n",
              "\n",
              "    .dataframe thead th {\n",
              "        text-align: right;\n",
              "    }\n",
              "</style>\n",
              "<table border=\"1\" class=\"dataframe\">\n",
              "  <thead>\n",
              "    <tr style=\"text-align: right;\">\n",
              "      <th></th>\n",
              "      <th>sid</th>\n",
              "      <th>sid_profile</th>\n",
              "      <th>post_id</th>\n",
              "      <th>profile_id</th>\n",
              "      <th>location_id</th>\n",
              "      <th>cts</th>\n",
              "      <th>post_type</th>\n",
              "      <th>description</th>\n",
              "      <th>numbr_likes</th>\n",
              "      <th>number_comments</th>\n",
              "    </tr>\n",
              "  </thead>\n",
              "  <tbody>\n",
              "    <tr>\n",
              "      <th>0</th>\n",
              "      <td>28370919</td>\n",
              "      <td>3496776</td>\n",
              "      <td>BXdjjUlgcgq</td>\n",
              "      <td>2237947779</td>\n",
              "      <td>1022366247837915</td>\n",
              "      <td>2017-08-06 20:06:57.000</td>\n",
              "      <td>2</td>\n",
              "      <td>Wreckloose! Deevalley bike park laps on the @i...</td>\n",
              "      <td>80</td>\n",
              "      <td>0</td>\n",
              "    </tr>\n",
              "    <tr>\n",
              "      <th>1</th>\n",
              "      <td>28370932</td>\n",
              "      <td>-1</td>\n",
              "      <td>BVg0pbolYBC</td>\n",
              "      <td>5579335020</td>\n",
              "      <td>457426771112991</td>\n",
              "      <td>2017-06-19 09:31:16.000</td>\n",
              "      <td>1</td>\n",
              "      <td>🙌🏼 believe in ya dreams 🙌🏼 just like I believe...</td>\n",
              "      <td>25</td>\n",
              "      <td>1</td>\n",
              "    </tr>\n",
              "    <tr>\n",
              "      <th>2</th>\n",
              "      <td>28370933</td>\n",
              "      <td>-1</td>\n",
              "      <td>BRgkjcXFp3Q</td>\n",
              "      <td>313429634</td>\n",
              "      <td>457426771112991</td>\n",
              "      <td>2017-03-11 20:05:03.000</td>\n",
              "      <td>1</td>\n",
              "      <td>#meraviglia #incensi #the #candele #profumo #a...</td>\n",
              "      <td>9</td>\n",
              "      <td>0</td>\n",
              "    </tr>\n",
              "    <tr>\n",
              "      <th>3</th>\n",
              "      <td>28370934</td>\n",
              "      <td>-1</td>\n",
              "      <td>BKTKeNhjEA7</td>\n",
              "      <td>1837592700</td>\n",
              "      <td>457426771112991</td>\n",
              "      <td>2016-09-13 16:27:16.000</td>\n",
              "      <td>1</td>\n",
              "      <td>#teatime #scorpion #friends #love #mountains #...</td>\n",
              "      <td>4</td>\n",
              "      <td>0</td>\n",
              "    </tr>\n",
              "    <tr>\n",
              "      <th>4</th>\n",
              "      <td>28370935</td>\n",
              "      <td>-1</td>\n",
              "      <td>8-NQrvoYLX</td>\n",
              "      <td>1131527143</td>\n",
              "      <td>457426771112991</td>\n",
              "      <td>2015-10-18 10:19:27.000</td>\n",
              "      <td>1</td>\n",
              "      <td>thE sky gavE mE a #constEllation</td>\n",
              "      <td>8</td>\n",
              "      <td>0</td>\n",
              "    </tr>\n",
              "  </tbody>\n",
              "</table>\n",
              "</div>\n",
              "      <button class=\"colab-df-convert\" onclick=\"convertToInteractive('df-d887daa4-a96e-4dfc-a957-d89f2a12b16e')\"\n",
              "              title=\"Convert this dataframe to an interactive table.\"\n",
              "              style=\"display:none;\">\n",
              "        \n",
              "  <svg xmlns=\"http://www.w3.org/2000/svg\" height=\"24px\"viewBox=\"0 0 24 24\"\n",
              "       width=\"24px\">\n",
              "    <path d=\"M0 0h24v24H0V0z\" fill=\"none\"/>\n",
              "    <path d=\"M18.56 5.44l.94 2.06.94-2.06 2.06-.94-2.06-.94-.94-2.06-.94 2.06-2.06.94zm-11 1L8.5 8.5l.94-2.06 2.06-.94-2.06-.94L8.5 2.5l-.94 2.06-2.06.94zm10 10l.94 2.06.94-2.06 2.06-.94-2.06-.94-.94-2.06-.94 2.06-2.06.94z\"/><path d=\"M17.41 7.96l-1.37-1.37c-.4-.4-.92-.59-1.43-.59-.52 0-1.04.2-1.43.59L10.3 9.45l-7.72 7.72c-.78.78-.78 2.05 0 2.83L4 21.41c.39.39.9.59 1.41.59.51 0 1.02-.2 1.41-.59l7.78-7.78 2.81-2.81c.8-.78.8-2.07 0-2.86zM5.41 20L4 18.59l7.72-7.72 1.47 1.35L5.41 20z\"/>\n",
              "  </svg>\n",
              "      </button>\n",
              "      \n",
              "  <style>\n",
              "    .colab-df-container {\n",
              "      display:flex;\n",
              "      flex-wrap:wrap;\n",
              "      gap: 12px;\n",
              "    }\n",
              "\n",
              "    .colab-df-convert {\n",
              "      background-color: #E8F0FE;\n",
              "      border: none;\n",
              "      border-radius: 50%;\n",
              "      cursor: pointer;\n",
              "      display: none;\n",
              "      fill: #1967D2;\n",
              "      height: 32px;\n",
              "      padding: 0 0 0 0;\n",
              "      width: 32px;\n",
              "    }\n",
              "\n",
              "    .colab-df-convert:hover {\n",
              "      background-color: #E2EBFA;\n",
              "      box-shadow: 0px 1px 2px rgba(60, 64, 67, 0.3), 0px 1px 3px 1px rgba(60, 64, 67, 0.15);\n",
              "      fill: #174EA6;\n",
              "    }\n",
              "\n",
              "    [theme=dark] .colab-df-convert {\n",
              "      background-color: #3B4455;\n",
              "      fill: #D2E3FC;\n",
              "    }\n",
              "\n",
              "    [theme=dark] .colab-df-convert:hover {\n",
              "      background-color: #434B5C;\n",
              "      box-shadow: 0px 1px 3px 1px rgba(0, 0, 0, 0.15);\n",
              "      filter: drop-shadow(0px 1px 2px rgba(0, 0, 0, 0.3));\n",
              "      fill: #FFFFFF;\n",
              "    }\n",
              "  </style>\n",
              "\n",
              "      <script>\n",
              "        const buttonEl =\n",
              "          document.querySelector('#df-d887daa4-a96e-4dfc-a957-d89f2a12b16e button.colab-df-convert');\n",
              "        buttonEl.style.display =\n",
              "          google.colab.kernel.accessAllowed ? 'block' : 'none';\n",
              "\n",
              "        async function convertToInteractive(key) {\n",
              "          const element = document.querySelector('#df-d887daa4-a96e-4dfc-a957-d89f2a12b16e');\n",
              "          const dataTable =\n",
              "            await google.colab.kernel.invokeFunction('convertToInteractive',\n",
              "                                                     [key], {});\n",
              "          if (!dataTable) return;\n",
              "\n",
              "          const docLinkHtml = 'Like what you see? Visit the ' +\n",
              "            '<a target=\"_blank\" href=https://colab.research.google.com/notebooks/data_table.ipynb>data table notebook</a>'\n",
              "            + ' to learn more about interactive tables.';\n",
              "          element.innerHTML = '';\n",
              "          dataTable['output_type'] = 'display_data';\n",
              "          await google.colab.output.renderOutput(dataTable, element);\n",
              "          const docLink = document.createElement('div');\n",
              "          docLink.innerHTML = docLinkHtml;\n",
              "          element.appendChild(docLink);\n",
              "        }\n",
              "      </script>\n",
              "    </div>\n",
              "  </div>\n",
              "  "
            ]
          },
          "metadata": {},
          "execution_count": 6
        }
      ]
    },
    {
      "cell_type": "markdown",
      "source": [
        "We can now look at the columns of our datasets to understand which variables we are analyzing.\n",
        "First of all, we will do info method into the dataset to quickly understand the variables we are working with, get the number of rows and\n",
        "columns we have for each dataset."
      ],
      "metadata": {
        "id": "ChBPh66WZsXz"
      }
    },
    {
      "cell_type": "code",
      "source": [
        "locations.info()"
      ],
      "metadata": {
        "id": "0mY-XE9VZWuY",
        "colab": {
          "base_uri": "https://localhost:8080/"
        },
        "outputId": "25895110-0a1a-4a73-f558-5dea53cbb37b"
      },
      "execution_count": null,
      "outputs": [
        {
          "output_type": "stream",
          "name": "stdout",
          "text": [
            "<class 'pandas.core.frame.DataFrame'>\n",
            "RangeIndex: 1022658 entries, 0 to 1022657\n",
            "Data columns (total 23 columns):\n",
            " #   Column                  Non-Null Count    Dtype  \n",
            "---  ------                  --------------    -----  \n",
            " 0   sid                     1022658 non-null  int64  \n",
            " 1   id                      1022658 non-null  int64  \n",
            " 2   name                    1022658 non-null  object \n",
            " 3   street                  715704 non-null   object \n",
            " 4   zip                     715579 non-null   object \n",
            " 5   city                    937166 non-null   object \n",
            " 6   region                  1760 non-null     object \n",
            " 7   cd                      939010 non-null   object \n",
            " 8   phone                   601688 non-null   object \n",
            " 9   aj_exact_city_match     1000510 non-null  object \n",
            " 10  aj_exact_country_match  1000510 non-null  object \n",
            " 11  blurb                   406705 non-null   object \n",
            " 12  dir_city_id             495698 non-null   object \n",
            " 13  dir_city_name           495698 non-null   object \n",
            " 14  dir_city_slug           495221 non-null   object \n",
            " 15  dir_country_id          495628 non-null   object \n",
            " 16  dir_country_name        495698 non-null   object \n",
            " 17  lat                     1016495 non-null  float64\n",
            " 18  lng                     1016495 non-null  float64\n",
            " 19  primary_alias_on_fb     425531 non-null   object \n",
            " 20  slug                    941668 non-null   object \n",
            " 21  website                 623262 non-null   object \n",
            " 22  cts                     1022658 non-null  object \n",
            "dtypes: float64(2), int64(2), object(19)\n",
            "memory usage: 179.5+ MB\n"
          ]
        }
      ]
    },
    {
      "cell_type": "code",
      "source": [
        "profiles.info()"
      ],
      "metadata": {
        "id": "K_wy7BA9ZnI2",
        "colab": {
          "base_uri": "https://localhost:8080/"
        },
        "outputId": "87ae5a9c-f564-4a8f-ed98-6b9dfd3e0012"
      },
      "execution_count": null,
      "outputs": [
        {
          "output_type": "stream",
          "name": "stdout",
          "text": [
            "<class 'pandas.core.frame.DataFrame'>\n",
            "RangeIndex: 4509586 entries, 0 to 4509585\n",
            "Data columns (total 11 columns):\n",
            " #   Column               Dtype  \n",
            "---  ------               -----  \n",
            " 0   sid                  int64  \n",
            " 1   profile_id           float64\n",
            " 2   profile_name         object \n",
            " 3   firstname_lastname   object \n",
            " 4   description          object \n",
            " 5   following            float64\n",
            " 6   followers            float64\n",
            " 7   n_posts              float64\n",
            " 8   url                  object \n",
            " 9   cts                  object \n",
            " 10  is_business_account  object \n",
            "dtypes: float64(4), int64(1), object(6)\n",
            "memory usage: 378.5+ MB\n"
          ]
        }
      ]
    },
    {
      "cell_type": "code",
      "source": [
        "posts.info()"
      ],
      "metadata": {
        "id": "WNvx6U-bZnK3",
        "colab": {
          "base_uri": "https://localhost:8080/"
        },
        "outputId": "0f44955d-aa9f-42ae-f2b1-a312f41a1839"
      },
      "execution_count": null,
      "outputs": [
        {
          "output_type": "stream",
          "name": "stdout",
          "text": [
            "<class 'pandas.core.frame.DataFrame'>\n",
            "RangeIndex: 100000 entries, 0 to 99999\n",
            "Data columns (total 10 columns):\n",
            " #   Column           Non-Null Count   Dtype \n",
            "---  ------           --------------   ----- \n",
            " 0   sid              100000 non-null  int64 \n",
            " 1   sid_profile      100000 non-null  int64 \n",
            " 2   post_id          100000 non-null  object\n",
            " 3   profile_id       100000 non-null  int64 \n",
            " 4   location_id      100000 non-null  int64 \n",
            " 5   cts              100000 non-null  object\n",
            " 6   post_type        100000 non-null  int64 \n",
            " 7   description      91905 non-null   object\n",
            " 8   numbr_likes      100000 non-null  int64 \n",
            " 9   number_comments  100000 non-null  int64 \n",
            "dtypes: int64(7), object(3)\n",
            "memory usage: 7.6+ MB\n"
          ]
        }
      ]
    },
    {
      "cell_type": "code",
      "source": [
        "print(\"Locations dataframe has \" + str(locations.shape[0]) + \" observations and \"  + str(locations.shape[1]) + \" variables\")\n",
        "print(\"Profiles dataframe has \" + str(profiles.shape[0]) + \" observations and \"  + str(profiles.shape[1]) + \" variables\")\n",
        "print(\"Posts dataframe has \" + str(posts.shape[0]) + \" observations and \"  + str(posts.shape[1]) + \" variables\")"
      ],
      "metadata": {
        "id": "O0skTFSVCa9_",
        "colab": {
          "base_uri": "https://localhost:8080/"
        },
        "outputId": "f4128774-2bb5-4968-9425-c93a7205cba1"
      },
      "execution_count": null,
      "outputs": [
        {
          "output_type": "stream",
          "name": "stdout",
          "text": [
            "Locations dataframe has 1022658 observations and 23 variables\n",
            "Profiles dataframe has 4509586 observations and 11 variables\n",
            "Posts dataframe has 100000 observations and 10 variables\n"
          ]
        }
      ]
    },
    {
      "cell_type": "markdown",
      "source": [
        "We are going one step further, having a better understanding of the statistical properties of these data frames by using a described method that gives us basic statistics of all the numerical columns we have. We are doing a statistical summarization at all the numeric variables that have the sense to summarize."
      ],
      "metadata": {
        "id": "Su-C4-QVCehW"
      }
    },
    {
      "cell_type": "code",
      "source": [
        "profiles[[\"following\" , \"followers\" , \"n_posts\" ]].describe()"
      ],
      "metadata": {
        "id": "wnvtxA44CiZc",
        "colab": {
          "base_uri": "https://localhost:8080/",
          "height": 313
        },
        "outputId": "1a4c7354-e0e0-4e87-bcbc-04cf6571b809"
      },
      "execution_count": null,
      "outputs": [
        {
          "output_type": "execute_result",
          "data": {
            "text/plain": [
              "          following     followers       n_posts\n",
              "count  3.452771e+06  3.452771e+06  3.452771e+06\n",
              "mean   1.405641e+03  4.739899e+03  4.095414e+02\n",
              "std    8.113473e+03  1.939087e+05  1.041940e+03\n",
              "min    0.000000e+00  0.000000e+00  0.000000e+00\n",
              "25%    3.560000e+02  1.590000e+02  2.200000e+01\n",
              "50%    7.540000e+02  4.060000e+02  1.200000e+02\n",
              "75%    1.573000e+03  9.740000e+02  4.200000e+02\n",
              "max    4.191080e+06  2.854576e+08  1.837300e+05"
            ],
            "text/html": [
              "\n",
              "  <div id=\"df-e4e26b57-0d27-4ee6-9e49-92e456c50081\">\n",
              "    <div class=\"colab-df-container\">\n",
              "      <div>\n",
              "<style scoped>\n",
              "    .dataframe tbody tr th:only-of-type {\n",
              "        vertical-align: middle;\n",
              "    }\n",
              "\n",
              "    .dataframe tbody tr th {\n",
              "        vertical-align: top;\n",
              "    }\n",
              "\n",
              "    .dataframe thead th {\n",
              "        text-align: right;\n",
              "    }\n",
              "</style>\n",
              "<table border=\"1\" class=\"dataframe\">\n",
              "  <thead>\n",
              "    <tr style=\"text-align: right;\">\n",
              "      <th></th>\n",
              "      <th>following</th>\n",
              "      <th>followers</th>\n",
              "      <th>n_posts</th>\n",
              "    </tr>\n",
              "  </thead>\n",
              "  <tbody>\n",
              "    <tr>\n",
              "      <th>count</th>\n",
              "      <td>3.452771e+06</td>\n",
              "      <td>3.452771e+06</td>\n",
              "      <td>3.452771e+06</td>\n",
              "    </tr>\n",
              "    <tr>\n",
              "      <th>mean</th>\n",
              "      <td>1.405641e+03</td>\n",
              "      <td>4.739899e+03</td>\n",
              "      <td>4.095414e+02</td>\n",
              "    </tr>\n",
              "    <tr>\n",
              "      <th>std</th>\n",
              "      <td>8.113473e+03</td>\n",
              "      <td>1.939087e+05</td>\n",
              "      <td>1.041940e+03</td>\n",
              "    </tr>\n",
              "    <tr>\n",
              "      <th>min</th>\n",
              "      <td>0.000000e+00</td>\n",
              "      <td>0.000000e+00</td>\n",
              "      <td>0.000000e+00</td>\n",
              "    </tr>\n",
              "    <tr>\n",
              "      <th>25%</th>\n",
              "      <td>3.560000e+02</td>\n",
              "      <td>1.590000e+02</td>\n",
              "      <td>2.200000e+01</td>\n",
              "    </tr>\n",
              "    <tr>\n",
              "      <th>50%</th>\n",
              "      <td>7.540000e+02</td>\n",
              "      <td>4.060000e+02</td>\n",
              "      <td>1.200000e+02</td>\n",
              "    </tr>\n",
              "    <tr>\n",
              "      <th>75%</th>\n",
              "      <td>1.573000e+03</td>\n",
              "      <td>9.740000e+02</td>\n",
              "      <td>4.200000e+02</td>\n",
              "    </tr>\n",
              "    <tr>\n",
              "      <th>max</th>\n",
              "      <td>4.191080e+06</td>\n",
              "      <td>2.854576e+08</td>\n",
              "      <td>1.837300e+05</td>\n",
              "    </tr>\n",
              "  </tbody>\n",
              "</table>\n",
              "</div>\n",
              "      <button class=\"colab-df-convert\" onclick=\"convertToInteractive('df-e4e26b57-0d27-4ee6-9e49-92e456c50081')\"\n",
              "              title=\"Convert this dataframe to an interactive table.\"\n",
              "              style=\"display:none;\">\n",
              "        \n",
              "  <svg xmlns=\"http://www.w3.org/2000/svg\" height=\"24px\"viewBox=\"0 0 24 24\"\n",
              "       width=\"24px\">\n",
              "    <path d=\"M0 0h24v24H0V0z\" fill=\"none\"/>\n",
              "    <path d=\"M18.56 5.44l.94 2.06.94-2.06 2.06-.94-2.06-.94-.94-2.06-.94 2.06-2.06.94zm-11 1L8.5 8.5l.94-2.06 2.06-.94-2.06-.94L8.5 2.5l-.94 2.06-2.06.94zm10 10l.94 2.06.94-2.06 2.06-.94-2.06-.94-.94-2.06-.94 2.06-2.06.94z\"/><path d=\"M17.41 7.96l-1.37-1.37c-.4-.4-.92-.59-1.43-.59-.52 0-1.04.2-1.43.59L10.3 9.45l-7.72 7.72c-.78.78-.78 2.05 0 2.83L4 21.41c.39.39.9.59 1.41.59.51 0 1.02-.2 1.41-.59l7.78-7.78 2.81-2.81c.8-.78.8-2.07 0-2.86zM5.41 20L4 18.59l7.72-7.72 1.47 1.35L5.41 20z\"/>\n",
              "  </svg>\n",
              "      </button>\n",
              "      \n",
              "  <style>\n",
              "    .colab-df-container {\n",
              "      display:flex;\n",
              "      flex-wrap:wrap;\n",
              "      gap: 12px;\n",
              "    }\n",
              "\n",
              "    .colab-df-convert {\n",
              "      background-color: #E8F0FE;\n",
              "      border: none;\n",
              "      border-radius: 50%;\n",
              "      cursor: pointer;\n",
              "      display: none;\n",
              "      fill: #1967D2;\n",
              "      height: 32px;\n",
              "      padding: 0 0 0 0;\n",
              "      width: 32px;\n",
              "    }\n",
              "\n",
              "    .colab-df-convert:hover {\n",
              "      background-color: #E2EBFA;\n",
              "      box-shadow: 0px 1px 2px rgba(60, 64, 67, 0.3), 0px 1px 3px 1px rgba(60, 64, 67, 0.15);\n",
              "      fill: #174EA6;\n",
              "    }\n",
              "\n",
              "    [theme=dark] .colab-df-convert {\n",
              "      background-color: #3B4455;\n",
              "      fill: #D2E3FC;\n",
              "    }\n",
              "\n",
              "    [theme=dark] .colab-df-convert:hover {\n",
              "      background-color: #434B5C;\n",
              "      box-shadow: 0px 1px 3px 1px rgba(0, 0, 0, 0.15);\n",
              "      filter: drop-shadow(0px 1px 2px rgba(0, 0, 0, 0.3));\n",
              "      fill: #FFFFFF;\n",
              "    }\n",
              "  </style>\n",
              "\n",
              "      <script>\n",
              "        const buttonEl =\n",
              "          document.querySelector('#df-e4e26b57-0d27-4ee6-9e49-92e456c50081 button.colab-df-convert');\n",
              "        buttonEl.style.display =\n",
              "          google.colab.kernel.accessAllowed ? 'block' : 'none';\n",
              "\n",
              "        async function convertToInteractive(key) {\n",
              "          const element = document.querySelector('#df-e4e26b57-0d27-4ee6-9e49-92e456c50081');\n",
              "          const dataTable =\n",
              "            await google.colab.kernel.invokeFunction('convertToInteractive',\n",
              "                                                     [key], {});\n",
              "          if (!dataTable) return;\n",
              "\n",
              "          const docLinkHtml = 'Like what you see? Visit the ' +\n",
              "            '<a target=\"_blank\" href=https://colab.research.google.com/notebooks/data_table.ipynb>data table notebook</a>'\n",
              "            + ' to learn more about interactive tables.';\n",
              "          element.innerHTML = '';\n",
              "          dataTable['output_type'] = 'display_data';\n",
              "          await google.colab.output.renderOutput(dataTable, element);\n",
              "          const docLink = document.createElement('div');\n",
              "          docLink.innerHTML = docLinkHtml;\n",
              "          element.appendChild(docLink);\n",
              "        }\n",
              "      </script>\n",
              "    </div>\n",
              "  </div>\n",
              "  "
            ]
          },
          "metadata": {},
          "execution_count": 11
        }
      ]
    },
    {
      "cell_type": "code",
      "source": [
        "posts[[\"numbr_likes\",\"number_comments\"]].describe()"
      ],
      "metadata": {
        "id": "rrdwvnsXCigt",
        "colab": {
          "base_uri": "https://localhost:8080/",
          "height": 313
        },
        "outputId": "434c1640-95b4-465a-a395-9c9e99f01455"
      },
      "execution_count": null,
      "outputs": [
        {
          "output_type": "execute_result",
          "data": {
            "text/plain": [
              "         numbr_likes  number_comments\n",
              "count  100000.000000    100000.000000\n",
              "mean      325.856710         7.582170\n",
              "std      5512.736285       124.782766\n",
              "min         0.000000         0.000000\n",
              "25%        20.000000         0.000000\n",
              "50%        48.000000         2.000000\n",
              "75%       126.000000         5.000000\n",
              "max    852230.000000     31655.000000"
            ],
            "text/html": [
              "\n",
              "  <div id=\"df-7a8bb628-0c7a-4a7c-a2f7-bae9fe95ffb1\">\n",
              "    <div class=\"colab-df-container\">\n",
              "      <div>\n",
              "<style scoped>\n",
              "    .dataframe tbody tr th:only-of-type {\n",
              "        vertical-align: middle;\n",
              "    }\n",
              "\n",
              "    .dataframe tbody tr th {\n",
              "        vertical-align: top;\n",
              "    }\n",
              "\n",
              "    .dataframe thead th {\n",
              "        text-align: right;\n",
              "    }\n",
              "</style>\n",
              "<table border=\"1\" class=\"dataframe\">\n",
              "  <thead>\n",
              "    <tr style=\"text-align: right;\">\n",
              "      <th></th>\n",
              "      <th>numbr_likes</th>\n",
              "      <th>number_comments</th>\n",
              "    </tr>\n",
              "  </thead>\n",
              "  <tbody>\n",
              "    <tr>\n",
              "      <th>count</th>\n",
              "      <td>100000.000000</td>\n",
              "      <td>100000.000000</td>\n",
              "    </tr>\n",
              "    <tr>\n",
              "      <th>mean</th>\n",
              "      <td>325.856710</td>\n",
              "      <td>7.582170</td>\n",
              "    </tr>\n",
              "    <tr>\n",
              "      <th>std</th>\n",
              "      <td>5512.736285</td>\n",
              "      <td>124.782766</td>\n",
              "    </tr>\n",
              "    <tr>\n",
              "      <th>min</th>\n",
              "      <td>0.000000</td>\n",
              "      <td>0.000000</td>\n",
              "    </tr>\n",
              "    <tr>\n",
              "      <th>25%</th>\n",
              "      <td>20.000000</td>\n",
              "      <td>0.000000</td>\n",
              "    </tr>\n",
              "    <tr>\n",
              "      <th>50%</th>\n",
              "      <td>48.000000</td>\n",
              "      <td>2.000000</td>\n",
              "    </tr>\n",
              "    <tr>\n",
              "      <th>75%</th>\n",
              "      <td>126.000000</td>\n",
              "      <td>5.000000</td>\n",
              "    </tr>\n",
              "    <tr>\n",
              "      <th>max</th>\n",
              "      <td>852230.000000</td>\n",
              "      <td>31655.000000</td>\n",
              "    </tr>\n",
              "  </tbody>\n",
              "</table>\n",
              "</div>\n",
              "      <button class=\"colab-df-convert\" onclick=\"convertToInteractive('df-7a8bb628-0c7a-4a7c-a2f7-bae9fe95ffb1')\"\n",
              "              title=\"Convert this dataframe to an interactive table.\"\n",
              "              style=\"display:none;\">\n",
              "        \n",
              "  <svg xmlns=\"http://www.w3.org/2000/svg\" height=\"24px\"viewBox=\"0 0 24 24\"\n",
              "       width=\"24px\">\n",
              "    <path d=\"M0 0h24v24H0V0z\" fill=\"none\"/>\n",
              "    <path d=\"M18.56 5.44l.94 2.06.94-2.06 2.06-.94-2.06-.94-.94-2.06-.94 2.06-2.06.94zm-11 1L8.5 8.5l.94-2.06 2.06-.94-2.06-.94L8.5 2.5l-.94 2.06-2.06.94zm10 10l.94 2.06.94-2.06 2.06-.94-2.06-.94-.94-2.06-.94 2.06-2.06.94z\"/><path d=\"M17.41 7.96l-1.37-1.37c-.4-.4-.92-.59-1.43-.59-.52 0-1.04.2-1.43.59L10.3 9.45l-7.72 7.72c-.78.78-.78 2.05 0 2.83L4 21.41c.39.39.9.59 1.41.59.51 0 1.02-.2 1.41-.59l7.78-7.78 2.81-2.81c.8-.78.8-2.07 0-2.86zM5.41 20L4 18.59l7.72-7.72 1.47 1.35L5.41 20z\"/>\n",
              "  </svg>\n",
              "      </button>\n",
              "      \n",
              "  <style>\n",
              "    .colab-df-container {\n",
              "      display:flex;\n",
              "      flex-wrap:wrap;\n",
              "      gap: 12px;\n",
              "    }\n",
              "\n",
              "    .colab-df-convert {\n",
              "      background-color: #E8F0FE;\n",
              "      border: none;\n",
              "      border-radius: 50%;\n",
              "      cursor: pointer;\n",
              "      display: none;\n",
              "      fill: #1967D2;\n",
              "      height: 32px;\n",
              "      padding: 0 0 0 0;\n",
              "      width: 32px;\n",
              "    }\n",
              "\n",
              "    .colab-df-convert:hover {\n",
              "      background-color: #E2EBFA;\n",
              "      box-shadow: 0px 1px 2px rgba(60, 64, 67, 0.3), 0px 1px 3px 1px rgba(60, 64, 67, 0.15);\n",
              "      fill: #174EA6;\n",
              "    }\n",
              "\n",
              "    [theme=dark] .colab-df-convert {\n",
              "      background-color: #3B4455;\n",
              "      fill: #D2E3FC;\n",
              "    }\n",
              "\n",
              "    [theme=dark] .colab-df-convert:hover {\n",
              "      background-color: #434B5C;\n",
              "      box-shadow: 0px 1px 3px 1px rgba(0, 0, 0, 0.15);\n",
              "      filter: drop-shadow(0px 1px 2px rgba(0, 0, 0, 0.3));\n",
              "      fill: #FFFFFF;\n",
              "    }\n",
              "  </style>\n",
              "\n",
              "      <script>\n",
              "        const buttonEl =\n",
              "          document.querySelector('#df-7a8bb628-0c7a-4a7c-a2f7-bae9fe95ffb1 button.colab-df-convert');\n",
              "        buttonEl.style.display =\n",
              "          google.colab.kernel.accessAllowed ? 'block' : 'none';\n",
              "\n",
              "        async function convertToInteractive(key) {\n",
              "          const element = document.querySelector('#df-7a8bb628-0c7a-4a7c-a2f7-bae9fe95ffb1');\n",
              "          const dataTable =\n",
              "            await google.colab.kernel.invokeFunction('convertToInteractive',\n",
              "                                                     [key], {});\n",
              "          if (!dataTable) return;\n",
              "\n",
              "          const docLinkHtml = 'Like what you see? Visit the ' +\n",
              "            '<a target=\"_blank\" href=https://colab.research.google.com/notebooks/data_table.ipynb>data table notebook</a>'\n",
              "            + ' to learn more about interactive tables.';\n",
              "          element.innerHTML = '';\n",
              "          dataTable['output_type'] = 'display_data';\n",
              "          await google.colab.output.renderOutput(dataTable, element);\n",
              "          const docLink = document.createElement('div');\n",
              "          docLink.innerHTML = docLinkHtml;\n",
              "          element.appendChild(docLink);\n",
              "        }\n",
              "      </script>\n",
              "    </div>\n",
              "  </div>\n",
              "  "
            ]
          },
          "metadata": {},
          "execution_count": 12
        }
      ]
    },
    {
      "cell_type": "markdown",
      "source": [
        "To do a better analysis, we clean up our datasets as much as possible by following the steps described below.\n",
        "\n",
        "\n",
        "1.   **Dealing with duplicates rows**:\n",
        "      we drop every duplicates rows because contains useless informations \n",
        "2.    **Dealing with missing values**:\n",
        "      we check the percentage of missing values in each column, we drop a column that contains missing values over a set threshold. After we select some columns of interest and drop the NA\n",
        "3. **Dealing with outliers:** It is risky to include outliers in data-driven models. For some variables of interest, we have incorrect typing data or false profiles that influence the distribution so much, we want to detect them and decide whether to delete them or not.\n",
        "\n",
        "\n",
        "\n"
      ],
      "metadata": {
        "id": "s1r22STZeOiX"
      }
    },
    {
      "cell_type": "code",
      "source": [
        "#Duplicates rows\n",
        "profiles.drop_duplicates(inplace=True)\n",
        "posts.drop_duplicates(inplace=True)\n",
        "locations.drop_duplicates(inplace=True)"
      ],
      "metadata": {
        "id": "zLHqdQALQsvz"
      },
      "execution_count": null,
      "outputs": []
    },
    {
      "cell_type": "code",
      "source": [
        "#Dealing with missing values, columns that contains so much Na\n",
        "#check for null values / % of null values we have\n",
        "print('Null values percentage for locations dataset')\n",
        "print(locations.isnull().sum()/locations.shape[0])\n",
        "print('\\n')\n",
        "print('Null values percentage for profiles dataset')\n",
        "print(profiles.isnull().sum()/profiles.shape[0])\n",
        "print('\\n')\n",
        "print('Null values percentage for posts dataset')\n",
        "print(posts.isnull().sum()/posts.shape[0])"
      ],
      "metadata": {
        "id": "fuG5DEzWYUyt",
        "colab": {
          "base_uri": "https://localhost:8080/"
        },
        "outputId": "27ee2e74-98e3-4f2d-8986-22156a0d0be6"
      },
      "execution_count": null,
      "outputs": [
        {
          "output_type": "stream",
          "name": "stdout",
          "text": [
            "Null values percentage for locations dataset\n",
            "sid                       0.000000\n",
            "id                        0.000000\n",
            "name                      0.000000\n",
            "street                    0.300153\n",
            "zip                       0.300275\n",
            "city                      0.083598\n",
            "region                    0.998279\n",
            "cd                        0.081795\n",
            "phone                     0.411643\n",
            "aj_exact_city_match       0.021657\n",
            "aj_exact_country_match    0.021657\n",
            "blurb                     0.602306\n",
            "dir_city_id               0.515285\n",
            "dir_city_name             0.515285\n",
            "dir_city_slug             0.515751\n",
            "dir_country_id            0.515353\n",
            "dir_country_name          0.515285\n",
            "lat                       0.006026\n",
            "lng                       0.006026\n",
            "primary_alias_on_fb       0.583897\n",
            "slug                      0.079196\n",
            "website                   0.390547\n",
            "cts                       0.000000\n",
            "dtype: float64\n",
            "\n",
            "\n",
            "Null values percentage for profiles dataset\n",
            "sid                    0.000000\n",
            "profile_id             0.007195\n",
            "profile_name           0.000000\n",
            "firstname_lastname     0.063967\n",
            "description            0.455917\n",
            "following              0.234349\n",
            "followers              0.234349\n",
            "n_posts                0.234349\n",
            "url                    0.807017\n",
            "cts                    0.097235\n",
            "is_business_account    0.236000\n",
            "dtype: float64\n",
            "\n",
            "\n",
            "Null values percentage for posts dataset\n",
            "sid                0.00000\n",
            "sid_profile        0.00000\n",
            "post_id            0.00000\n",
            "profile_id         0.00000\n",
            "location_id        0.00000\n",
            "cts                0.00000\n",
            "post_type          0.00000\n",
            "description        0.08095\n",
            "numbr_likes        0.00000\n",
            "number_comments    0.00000\n",
            "dtype: float64\n"
          ]
        }
      ]
    },
    {
      "cell_type": "code",
      "source": [
        "#remove null colums over the threshold\n",
        "profiles.dropna(thresh = len(profiles)*.6, axis=1)\n",
        "locations.dropna(thresh = len(locations)*.6, axis=1)"
      ],
      "metadata": {
        "id": "kA_1PN-EZF6F",
        "colab": {
          "base_uri": "https://localhost:8080/",
          "height": 791
        },
        "outputId": "120f9e70-3e27-44af-f159-71b31acfeefe"
      },
      "execution_count": null,
      "outputs": [
        {
          "output_type": "execute_result",
          "data": {
            "text/plain": [
              "            sid                id  \\\n",
              "0        719981   110296492939207   \n",
              "1        719983         274391278   \n",
              "2        719985   148885595789195   \n",
              "3        719987         263258277   \n",
              "4        326443   406147529857708   \n",
              "...         ...               ...   \n",
              "1022653  719973   873926439475785   \n",
              "1022654  719975         390707529   \n",
              "1022655  719977  1205466612894741   \n",
              "1022656  719979         286794844   \n",
              "1022657  720678         554330673   \n",
              "\n",
              "                                                      name  \\\n",
              "0                       Playa de Daimuz - Valencia, España   \n",
              "1                                              Nová Vieska   \n",
              "2                                            Everest Today   \n",
              "3        BULAC - Bibliothèque universitaire des langues...   \n",
              "4                                 ABC Cable Networks Group   \n",
              "...                                                    ...   \n",
              "1022653                                        Baby Season   \n",
              "1022654                                     Cueva Carvajal   \n",
              "1022655                             The Cheesecake Factory   \n",
              "1022656                                     Plimmer Towers   \n",
              "1022657                                      Старые Бирюли   \n",
              "\n",
              "                             street    zip                              city  \\\n",
              "0                               NaN    NaN                               NaN   \n",
              "1                               NaN    NaN                       Nová Vieska   \n",
              "2                         Himalayas   +977                  Kathmandu, Nepal   \n",
              "3        65, rue des Grands-Moulins  75013                     Paris, France   \n",
              "4                3800 W Alameda Ave  91505               Burbank, California   \n",
              "...                             ...    ...                               ...   \n",
              "1022653    Suarez de Figueroa # 380    NaN  Santa Cruz de la Sierra, Bolivia   \n",
              "1022654                         NaN    NaN                               NaN   \n",
              "1022655        304 Orland Square Dr  60462             Orland Park, Illinois   \n",
              "1022656            2 Gilmer Terrace    NaN           Wellington, New Zealand   \n",
              "1022657              Северная улица    NaN                               NaN   \n",
              "\n",
              "          cd aj_exact_city_match aj_exact_country_match         lat  \\\n",
              "0        NaN               False                  False   -0.139475   \n",
              "1         SK                True                  False   18.466667   \n",
              "2         NP               False                  False   85.330150   \n",
              "3         FR               False                  False    2.375995   \n",
              "4         US               False                  False -118.341864   \n",
              "...      ...                 ...                    ...         ...   \n",
              "1022653   BO               False                  False  -63.185307   \n",
              "1022654  NaN                 NaN                    NaN -100.359619   \n",
              "1022655   US               False                  False  -87.843649   \n",
              "1022656   NZ               False                  False  174.775000   \n",
              "1022657  NaN               False                  False   49.444430   \n",
              "\n",
              "               lng                                               slug  \\\n",
              "0        38.974391                    playa-de-daimuz-valencia-espana   \n",
              "1        47.866667                                        nova-vieska   \n",
              "2        27.701960                                      everest-today   \n",
              "3        48.827240  bulac-bibliotheque-universitaire-des-langues-e...   \n",
              "4        34.153265                           abc-cable-networks-group   \n",
              "...            ...                                                ...   \n",
              "1022653 -17.786130                                        baby-season   \n",
              "1022654  25.653550                                     cueva-carvajal   \n",
              "1022655  41.618551                             the-cheesecake-factory   \n",
              "1022656 -41.285800                                     plimmer-towers   \n",
              "1022657  55.979180                                                NaN   \n",
              "\n",
              "                                                   website  \\\n",
              "0                     https://es.wikipedia.org/wiki/Daimuz   \n",
              "1                                                      NaN   \n",
              "2                                                      NaN   \n",
              "3                                             www.bulac.fr   \n",
              "4                                                      NaN   \n",
              "...                                                    ...   \n",
              "1022653                                                NaN   \n",
              "1022654                        http://www.cuevacarvajal.mx   \n",
              "1022655  http://locations.thecheesecakefactory.com/il/o...   \n",
              "1022656                                                NaN   \n",
              "1022657                                                NaN   \n",
              "\n",
              "                             cts  \n",
              "0        2019-05-29 01:21:29.987  \n",
              "1        2019-05-29 01:21:38.037  \n",
              "2        2019-05-29 01:21:46.295  \n",
              "3        2019-05-29 01:21:54.355  \n",
              "4        2019-04-02 15:22:55.703  \n",
              "...                          ...  \n",
              "1022653  2019-05-29 01:20:57.078  \n",
              "1022654  2019-05-29 01:21:04.434  \n",
              "1022655  2019-05-29 01:21:13.404  \n",
              "1022656  2019-05-29 01:21:21.628  \n",
              "1022657  2019-05-29 02:07:00.772  \n",
              "\n",
              "[1022658 rows x 14 columns]"
            ],
            "text/html": [
              "\n",
              "  <div id=\"df-60beb932-adb1-45ae-9cd6-178fd9bd5ff7\">\n",
              "    <div class=\"colab-df-container\">\n",
              "      <div>\n",
              "<style scoped>\n",
              "    .dataframe tbody tr th:only-of-type {\n",
              "        vertical-align: middle;\n",
              "    }\n",
              "\n",
              "    .dataframe tbody tr th {\n",
              "        vertical-align: top;\n",
              "    }\n",
              "\n",
              "    .dataframe thead th {\n",
              "        text-align: right;\n",
              "    }\n",
              "</style>\n",
              "<table border=\"1\" class=\"dataframe\">\n",
              "  <thead>\n",
              "    <tr style=\"text-align: right;\">\n",
              "      <th></th>\n",
              "      <th>sid</th>\n",
              "      <th>id</th>\n",
              "      <th>name</th>\n",
              "      <th>street</th>\n",
              "      <th>zip</th>\n",
              "      <th>city</th>\n",
              "      <th>cd</th>\n",
              "      <th>aj_exact_city_match</th>\n",
              "      <th>aj_exact_country_match</th>\n",
              "      <th>lat</th>\n",
              "      <th>lng</th>\n",
              "      <th>slug</th>\n",
              "      <th>website</th>\n",
              "      <th>cts</th>\n",
              "    </tr>\n",
              "  </thead>\n",
              "  <tbody>\n",
              "    <tr>\n",
              "      <th>0</th>\n",
              "      <td>719981</td>\n",
              "      <td>110296492939207</td>\n",
              "      <td>Playa de Daimuz - Valencia, España</td>\n",
              "      <td>NaN</td>\n",
              "      <td>NaN</td>\n",
              "      <td>NaN</td>\n",
              "      <td>NaN</td>\n",
              "      <td>False</td>\n",
              "      <td>False</td>\n",
              "      <td>-0.139475</td>\n",
              "      <td>38.974391</td>\n",
              "      <td>playa-de-daimuz-valencia-espana</td>\n",
              "      <td>https://es.wikipedia.org/wiki/Daimuz</td>\n",
              "      <td>2019-05-29 01:21:29.987</td>\n",
              "    </tr>\n",
              "    <tr>\n",
              "      <th>1</th>\n",
              "      <td>719983</td>\n",
              "      <td>274391278</td>\n",
              "      <td>Nová Vieska</td>\n",
              "      <td>NaN</td>\n",
              "      <td>NaN</td>\n",
              "      <td>Nová Vieska</td>\n",
              "      <td>SK</td>\n",
              "      <td>True</td>\n",
              "      <td>False</td>\n",
              "      <td>18.466667</td>\n",
              "      <td>47.866667</td>\n",
              "      <td>nova-vieska</td>\n",
              "      <td>NaN</td>\n",
              "      <td>2019-05-29 01:21:38.037</td>\n",
              "    </tr>\n",
              "    <tr>\n",
              "      <th>2</th>\n",
              "      <td>719985</td>\n",
              "      <td>148885595789195</td>\n",
              "      <td>Everest Today</td>\n",
              "      <td>Himalayas</td>\n",
              "      <td>+977</td>\n",
              "      <td>Kathmandu, Nepal</td>\n",
              "      <td>NP</td>\n",
              "      <td>False</td>\n",
              "      <td>False</td>\n",
              "      <td>85.330150</td>\n",
              "      <td>27.701960</td>\n",
              "      <td>everest-today</td>\n",
              "      <td>NaN</td>\n",
              "      <td>2019-05-29 01:21:46.295</td>\n",
              "    </tr>\n",
              "    <tr>\n",
              "      <th>3</th>\n",
              "      <td>719987</td>\n",
              "      <td>263258277</td>\n",
              "      <td>BULAC - Bibliothèque universitaire des langues...</td>\n",
              "      <td>65, rue des Grands-Moulins</td>\n",
              "      <td>75013</td>\n",
              "      <td>Paris, France</td>\n",
              "      <td>FR</td>\n",
              "      <td>False</td>\n",
              "      <td>False</td>\n",
              "      <td>2.375995</td>\n",
              "      <td>48.827240</td>\n",
              "      <td>bulac-bibliotheque-universitaire-des-langues-e...</td>\n",
              "      <td>www.bulac.fr</td>\n",
              "      <td>2019-05-29 01:21:54.355</td>\n",
              "    </tr>\n",
              "    <tr>\n",
              "      <th>4</th>\n",
              "      <td>326443</td>\n",
              "      <td>406147529857708</td>\n",
              "      <td>ABC Cable Networks Group</td>\n",
              "      <td>3800 W Alameda Ave</td>\n",
              "      <td>91505</td>\n",
              "      <td>Burbank, California</td>\n",
              "      <td>US</td>\n",
              "      <td>False</td>\n",
              "      <td>False</td>\n",
              "      <td>-118.341864</td>\n",
              "      <td>34.153265</td>\n",
              "      <td>abc-cable-networks-group</td>\n",
              "      <td>NaN</td>\n",
              "      <td>2019-04-02 15:22:55.703</td>\n",
              "    </tr>\n",
              "    <tr>\n",
              "      <th>...</th>\n",
              "      <td>...</td>\n",
              "      <td>...</td>\n",
              "      <td>...</td>\n",
              "      <td>...</td>\n",
              "      <td>...</td>\n",
              "      <td>...</td>\n",
              "      <td>...</td>\n",
              "      <td>...</td>\n",
              "      <td>...</td>\n",
              "      <td>...</td>\n",
              "      <td>...</td>\n",
              "      <td>...</td>\n",
              "      <td>...</td>\n",
              "      <td>...</td>\n",
              "    </tr>\n",
              "    <tr>\n",
              "      <th>1022653</th>\n",
              "      <td>719973</td>\n",
              "      <td>873926439475785</td>\n",
              "      <td>Baby Season</td>\n",
              "      <td>Suarez de Figueroa # 380</td>\n",
              "      <td>NaN</td>\n",
              "      <td>Santa Cruz de la Sierra, Bolivia</td>\n",
              "      <td>BO</td>\n",
              "      <td>False</td>\n",
              "      <td>False</td>\n",
              "      <td>-63.185307</td>\n",
              "      <td>-17.786130</td>\n",
              "      <td>baby-season</td>\n",
              "      <td>NaN</td>\n",
              "      <td>2019-05-29 01:20:57.078</td>\n",
              "    </tr>\n",
              "    <tr>\n",
              "      <th>1022654</th>\n",
              "      <td>719975</td>\n",
              "      <td>390707529</td>\n",
              "      <td>Cueva Carvajal</td>\n",
              "      <td>NaN</td>\n",
              "      <td>NaN</td>\n",
              "      <td>NaN</td>\n",
              "      <td>NaN</td>\n",
              "      <td>NaN</td>\n",
              "      <td>NaN</td>\n",
              "      <td>-100.359619</td>\n",
              "      <td>25.653550</td>\n",
              "      <td>cueva-carvajal</td>\n",
              "      <td>http://www.cuevacarvajal.mx</td>\n",
              "      <td>2019-05-29 01:21:04.434</td>\n",
              "    </tr>\n",
              "    <tr>\n",
              "      <th>1022655</th>\n",
              "      <td>719977</td>\n",
              "      <td>1205466612894741</td>\n",
              "      <td>The Cheesecake Factory</td>\n",
              "      <td>304 Orland Square Dr</td>\n",
              "      <td>60462</td>\n",
              "      <td>Orland Park, Illinois</td>\n",
              "      <td>US</td>\n",
              "      <td>False</td>\n",
              "      <td>False</td>\n",
              "      <td>-87.843649</td>\n",
              "      <td>41.618551</td>\n",
              "      <td>the-cheesecake-factory</td>\n",
              "      <td>http://locations.thecheesecakefactory.com/il/o...</td>\n",
              "      <td>2019-05-29 01:21:13.404</td>\n",
              "    </tr>\n",
              "    <tr>\n",
              "      <th>1022656</th>\n",
              "      <td>719979</td>\n",
              "      <td>286794844</td>\n",
              "      <td>Plimmer Towers</td>\n",
              "      <td>2 Gilmer Terrace</td>\n",
              "      <td>NaN</td>\n",
              "      <td>Wellington, New Zealand</td>\n",
              "      <td>NZ</td>\n",
              "      <td>False</td>\n",
              "      <td>False</td>\n",
              "      <td>174.775000</td>\n",
              "      <td>-41.285800</td>\n",
              "      <td>plimmer-towers</td>\n",
              "      <td>NaN</td>\n",
              "      <td>2019-05-29 01:21:21.628</td>\n",
              "    </tr>\n",
              "    <tr>\n",
              "      <th>1022657</th>\n",
              "      <td>720678</td>\n",
              "      <td>554330673</td>\n",
              "      <td>Старые Бирюли</td>\n",
              "      <td>Северная улица</td>\n",
              "      <td>NaN</td>\n",
              "      <td>NaN</td>\n",
              "      <td>NaN</td>\n",
              "      <td>False</td>\n",
              "      <td>False</td>\n",
              "      <td>49.444430</td>\n",
              "      <td>55.979180</td>\n",
              "      <td>NaN</td>\n",
              "      <td>NaN</td>\n",
              "      <td>2019-05-29 02:07:00.772</td>\n",
              "    </tr>\n",
              "  </tbody>\n",
              "</table>\n",
              "<p>1022658 rows × 14 columns</p>\n",
              "</div>\n",
              "      <button class=\"colab-df-convert\" onclick=\"convertToInteractive('df-60beb932-adb1-45ae-9cd6-178fd9bd5ff7')\"\n",
              "              title=\"Convert this dataframe to an interactive table.\"\n",
              "              style=\"display:none;\">\n",
              "        \n",
              "  <svg xmlns=\"http://www.w3.org/2000/svg\" height=\"24px\"viewBox=\"0 0 24 24\"\n",
              "       width=\"24px\">\n",
              "    <path d=\"M0 0h24v24H0V0z\" fill=\"none\"/>\n",
              "    <path d=\"M18.56 5.44l.94 2.06.94-2.06 2.06-.94-2.06-.94-.94-2.06-.94 2.06-2.06.94zm-11 1L8.5 8.5l.94-2.06 2.06-.94-2.06-.94L8.5 2.5l-.94 2.06-2.06.94zm10 10l.94 2.06.94-2.06 2.06-.94-2.06-.94-.94-2.06-.94 2.06-2.06.94z\"/><path d=\"M17.41 7.96l-1.37-1.37c-.4-.4-.92-.59-1.43-.59-.52 0-1.04.2-1.43.59L10.3 9.45l-7.72 7.72c-.78.78-.78 2.05 0 2.83L4 21.41c.39.39.9.59 1.41.59.51 0 1.02-.2 1.41-.59l7.78-7.78 2.81-2.81c.8-.78.8-2.07 0-2.86zM5.41 20L4 18.59l7.72-7.72 1.47 1.35L5.41 20z\"/>\n",
              "  </svg>\n",
              "      </button>\n",
              "      \n",
              "  <style>\n",
              "    .colab-df-container {\n",
              "      display:flex;\n",
              "      flex-wrap:wrap;\n",
              "      gap: 12px;\n",
              "    }\n",
              "\n",
              "    .colab-df-convert {\n",
              "      background-color: #E8F0FE;\n",
              "      border: none;\n",
              "      border-radius: 50%;\n",
              "      cursor: pointer;\n",
              "      display: none;\n",
              "      fill: #1967D2;\n",
              "      height: 32px;\n",
              "      padding: 0 0 0 0;\n",
              "      width: 32px;\n",
              "    }\n",
              "\n",
              "    .colab-df-convert:hover {\n",
              "      background-color: #E2EBFA;\n",
              "      box-shadow: 0px 1px 2px rgba(60, 64, 67, 0.3), 0px 1px 3px 1px rgba(60, 64, 67, 0.15);\n",
              "      fill: #174EA6;\n",
              "    }\n",
              "\n",
              "    [theme=dark] .colab-df-convert {\n",
              "      background-color: #3B4455;\n",
              "      fill: #D2E3FC;\n",
              "    }\n",
              "\n",
              "    [theme=dark] .colab-df-convert:hover {\n",
              "      background-color: #434B5C;\n",
              "      box-shadow: 0px 1px 3px 1px rgba(0, 0, 0, 0.15);\n",
              "      filter: drop-shadow(0px 1px 2px rgba(0, 0, 0, 0.3));\n",
              "      fill: #FFFFFF;\n",
              "    }\n",
              "  </style>\n",
              "\n",
              "      <script>\n",
              "        const buttonEl =\n",
              "          document.querySelector('#df-60beb932-adb1-45ae-9cd6-178fd9bd5ff7 button.colab-df-convert');\n",
              "        buttonEl.style.display =\n",
              "          google.colab.kernel.accessAllowed ? 'block' : 'none';\n",
              "\n",
              "        async function convertToInteractive(key) {\n",
              "          const element = document.querySelector('#df-60beb932-adb1-45ae-9cd6-178fd9bd5ff7');\n",
              "          const dataTable =\n",
              "            await google.colab.kernel.invokeFunction('convertToInteractive',\n",
              "                                                     [key], {});\n",
              "          if (!dataTable) return;\n",
              "\n",
              "          const docLinkHtml = 'Like what you see? Visit the ' +\n",
              "            '<a target=\"_blank\" href=https://colab.research.google.com/notebooks/data_table.ipynb>data table notebook</a>'\n",
              "            + ' to learn more about interactive tables.';\n",
              "          element.innerHTML = '';\n",
              "          dataTable['output_type'] = 'display_data';\n",
              "          await google.colab.output.renderOutput(dataTable, element);\n",
              "          const docLink = document.createElement('div');\n",
              "          docLink.innerHTML = docLinkHtml;\n",
              "          element.appendChild(docLink);\n",
              "        }\n",
              "      </script>\n",
              "    </div>\n",
              "  </div>\n",
              "  "
            ]
          },
          "metadata": {},
          "execution_count": 14
        }
      ]
    },
    {
      "cell_type": "markdown",
      "source": [
        "We have to manage Na and outliers values to do a better analysis.\n",
        "For Na values, we have more than one option to do.\n",
        "\n",
        "**Replace with the mean:** if there are a lot of missing values we are concentrating the distribution in the mean value and we lose information about the true shape of the distributions.\n",
        "\n",
        "**Drop Na:** We are losing a relevant percentage of the information we have, however having a huge quantity of data, doesn't influence so much the distribution we are analyzing. So in this case we will go through this procedure ."
      ],
      "metadata": {
        "id": "6Y1Je5cqvS25"
      }
    },
    {
      "cell_type": "code",
      "source": [
        "#We show only some example of variable we are cleaning\n",
        "posts.dropna(subset=['numbr_likes', 'number_comments'])"
      ],
      "metadata": {
        "id": "ObgYqhgSnjsn"
      },
      "execution_count": null,
      "outputs": []
    },
    {
      "cell_type": "markdown",
      "source": [
        "The existence of misleading values has the potential to change the conclusion implied by the model. It is, therefore, important to detect and then decide whether to remove them or not from the dataset. Sometimes the data point may be extremely high or low but that does not mean it is an outlier that we want to get rid of. In the case of Instagram, for instance, a huge amount of followers' value is no sign of errors but can correspond to influencer accounts. On the opposite, an account with zero posts or zero followers usually corresponds to a fake or new account that we don't want to consider in our analysis (we will clean them up when we will analyze them in the next questions) .\n",
        "\n"
      ],
      "metadata": {
        "id": "_I6_5VsCnqx3"
      }
    },
    {
      "cell_type": "code",
      "source": [
        "num_bins = 20\n",
        "plt.figure(figsize=(12,6))\n",
        "\n",
        "# Logaritmic histogram of the data and box plot\n",
        "plt.subplot(121)\n",
        "plt.hist(posts['numbr_likes'] ,  num_bins, facecolor='lightblue', alpha=0.5,log=True)\n",
        "plt.xlabel(\"log-value of number of likes\")\n",
        "plt.ylabel(\"density\")\n",
        "plt.title(\"Log distribution of \\n number of likes per account\", size = 16)\n",
        "\n",
        "plt.subplot(122)\n",
        "plt.hist(posts['number_comments'] ,  num_bins, facecolor='green', alpha=0.5,log=True)\n",
        "plt.xlabel(\"log-value of number of comments\")\n",
        "plt.ylabel(\"density\")\n",
        "plt.title(\"Log distribution of \\n number of comments per account\", size = 16)\n",
        "\n",
        "plt.show()"
      ],
      "metadata": {
        "id": "I-4SeA6df_on",
        "outputId": "2179123c-f2dd-450e-d948-251d6ad5bbeb",
        "colab": {
          "base_uri": "https://localhost:8080/",
          "height": 443
        }
      },
      "execution_count": null,
      "outputs": [
        {
          "output_type": "display_data",
          "data": {
            "text/plain": [
              "<Figure size 864x432 with 2 Axes>"
            ],
            "image/png": "[encoded data removed]"
          },
          "metadata": {
            "needs_background": "light"
          }
        }
      ]
    },
    {
      "cell_type": "code",
      "source": [
        "plt.figure(figsize=(12,6))\n",
        "plt.subplot(121)\n",
        "plt.boxplot(posts['numbr_likes'] )\n",
        "plt.xlabel(\"\")\n",
        "plt.ylabel(\"number of likes\")\n",
        "plt.title(\"Box-Plot of number of likes\", size = 16)\n",
        "\n",
        "plt.subplot(122)\n",
        "plt.boxplot(posts['number_comments'])\n",
        "plt.xlabel(\"\")\n",
        "plt.ylabel(\"number of comments\")\n",
        "plt.title(\"Box-Plot of number of comments\", size = 16)\n",
        "\n",
        "plt.show()"
      ],
      "metadata": {
        "id": "BVUCZ26lGm6m",
        "outputId": "26ae9800-9fef-4e5f-a88f-784727b88a20",
        "colab": {
          "base_uri": "https://localhost:8080/",
          "height": 413
        }
      },
      "execution_count": null,
      "outputs": [
        {
          "output_type": "display_data",
          "data": {
            "text/plain": [
              "<Figure size 864x432 with 2 Axes>"
            ],
            "image/png": "[encoded data removed]"
          },
          "metadata": {
            "needs_background": "light"
          }
        }
      ]
    },
    {
      "cell_type": "markdown",
      "source": [
        "We used a logarithmic scale because the data covers a wide range of values and there is an evident skewness toward small values.\n",
        "\n",
        "Since most of the observations are concentrating to low values, we can show the actual distribution untill the 90% percentile."
      ],
      "metadata": {
        "id": "TzJuMWukx4nF"
      }
    },
    {
      "cell_type": "code",
      "source": [
        "likes_outliers= posts.numbr_likes[posts.numbr_likes < posts.numbr_likes.quantile(.9)]\n",
        "comments_outliers= posts.number_comments[posts.number_comments< posts.number_comments.quantile(.9)]"
      ],
      "metadata": {
        "id": "vIoGCQRlpl6C"
      },
      "execution_count": null,
      "outputs": []
    },
    {
      "cell_type": "code",
      "source": [
        "plt.figure(figsize=(12,6))\n",
        "plt.subplot(121)\n",
        "sns.distplot(likes_outliers, hist=True, kde=True, \n",
        "             bins=int(180/5), color = 'lightblue', \n",
        "             hist_kws={'edgecolor':'lightblue'},\n",
        "             kde_kws={'linewidth': 4}).set(title='Distribution of \\n number of likes per post')\n",
        "plt.subplot(122)\n",
        "sns.distplot(comments_outliers, hist=True, kde=True, \n",
        "             bins=int(180/5), color = 'green', \n",
        "             hist_kws={'edgecolor':'green'},\n",
        "             kde_kws={'linewidth': 4}).set(title='Distribution of \\n number of comments per post')\n",
        "plt.show()"
      ],
      "metadata": {
        "id": "4gfYBbHU1RMi",
        "outputId": "9022b52e-04f9-4d66-e7d3-9c015e46ebe3",
        "colab": {
          "base_uri": "https://localhost:8080/",
          "height": 506
        }
      },
      "execution_count": null,
      "outputs": [
        {
          "output_type": "stream",
          "name": "stderr",
          "text": [
            "/usr/local/lib/python3.7/dist-packages/seaborn/distributions.py:2619: FutureWarning: `distplot` is a deprecated function and will be removed in a future version. Please adapt your code to use either `displot` (a figure-level function with similar flexibility) or `histplot` (an axes-level function for histograms).\n",
            "  warnings.warn(msg, FutureWarning)\n",
            "/usr/local/lib/python3.7/dist-packages/seaborn/distributions.py:2619: FutureWarning: `distplot` is a deprecated function and will be removed in a future version. Please adapt your code to use either `displot` (a figure-level function with similar flexibility) or `histplot` (an axes-level function for histograms).\n",
            "  warnings.warn(msg, FutureWarning)\n"
          ]
        },
        {
          "output_type": "display_data",
          "data": {
            "text/plain": [
              "<Figure size 864x432 with 2 Axes>"
            ],
            "image/png": "[encoded data removed]"
          },
          "metadata": {
            "needs_background": "light"
          }
        }
      ]
    },
    {
      "cell_type": "code",
      "source": [
        "plt.figure(figsize=(12,6))\n",
        "plt.subplot(121)\n",
        "plt.boxplot(likes_outliers )\n",
        "plt.xlabel(\"\")\n",
        "plt.ylabel(\"number of likes\")\n",
        "plt.title(\"Box-Plot of number of likes\", size = 16)\n",
        "\n",
        "plt.subplot(122)\n",
        "plt.boxplot(comments_outliers)\n",
        "plt.xlabel(\"\")\n",
        "plt.ylabel(\"number of comments\")\n",
        "plt.title(\"Box-Plot of number of comments\", size = 16)\n",
        "\n",
        "plt.show()"
      ],
      "metadata": {
        "id": "7lhen9ZipQ4P",
        "outputId": "3c149484-2dfd-4603-d216-6b4fcea05160",
        "colab": {
          "base_uri": "https://localhost:8080/",
          "height": 413
        }
      },
      "execution_count": null,
      "outputs": [
        {
          "output_type": "display_data",
          "data": {
            "text/plain": [
              "<Figure size 864x432 with 2 Axes>"
            ],
            "image/png": "[encoded data removed]"
          },
          "metadata": {
            "needs_background": "light"
          }
        }
      ]
    },
    {
      "cell_type": "markdown",
      "source": [
        "# RQ7"
      ],
      "metadata": {
        "id": "XOcPDpLMvKi8"
      }
    },
    {
      "cell_type": "markdown",
      "source": [
        "What's the probability that a post receives more than 20% \"likes\" of the number of followers a user has?\n",
        "---\n"
      ],
      "metadata": {
        "id": "eSrSUekiHpml"
      }
    },
    {
      "cell_type": "markdown",
      "source": [
        "To compute the probability. Let's define the event\n",
        "\n",
        "A: { \" a post has  number of likes greater than 20% of the number of followers of the account linked with  \"}.\n",
        "\n",
        "We divide the number of ways the event can occur by the total number of possible outcomes.\n",
        "\n",
        "Define then the indicator function as below:\n",
        "\n",
        "\\begin{equation}\n",
        "\\mathbb{I}(\\omega_{i}) =\n",
        "\\begin{cases}\n",
        "  1 \\hspace{0.3cm}  \\omega \\in A  \\\\\n",
        "  0 \\hspace{0.3cm}  otherwise\n",
        "\\end{cases}\n",
        "\\end{equation}\n",
        "\n",
        "Then the target probability will be :\n",
        "\n",
        "\\begin{equation}\n",
        "\\hat{p} = \\frac{1}{n} ∑_{i = 1}^{lenpost} \\mathbb{I}(\\omega_{i}) \n",
        "\\end{equation}\n",
        "\n",
        "where $\\omega_{i}$ is the $post_{i}$\n",
        "\n",
        "Note: \n",
        "\n",
        "In the code, we add 1 to the formula, both in the nominator and denominator, to manage the posts that belong to profiles with zero followers."
      ],
      "metadata": {
        "id": "C79b3Bxk4L-5"
      }
    },
    {
      "cell_type": "code",
      "source": [
        "filename=\"/content/drive/MyDrive/ADM_HW2/instagram_posts.csv\"\n",
        "profiles =pd.read_csv(\"/content/drive/MyDrive/ADM_HW2/instagram_profiles.csv\",sep='\\t')\n",
        "df = pd.read_csv(filename, usecols= ['numbr_likes' , 'sid_profile'], sep='\\t', iterator=True, chunksize=500000)\n",
        "\n",
        "shape = 0\n",
        "l=[]\n",
        "for chunk in tqdm(df):\n",
        "  m=pd.merge(chunk , profiles, left_on=\"sid_profile\", right_on=\"sid\").drop('sid', axis=1)\n",
        "  l.append(sum(m.apply(lambda x :  (x.numbr_likes + 1) / (x.followers + 1), axis = 1 ) > .2))\n",
        "  shape += m.shape[0]"
      ],
      "metadata": {
        "colab": {
          "base_uri": "https://localhost:8080/"
        },
        "id": "6pw3op_MxhoM",
        "outputId": "a44def98-2d3c-4f38-a7da-dfbda303c3d8"
      },
      "execution_count": null,
      "outputs": [
        {
          "output_type": "stream",
          "name": "stderr",
          "text": [
            "86it [16:28, 11.49s/it]\n"
          ]
        }
      ]
    },
    {
      "cell_type": "code",
      "source": [
        "print(\"The estimate probability is: \" , sum(l)/shape)"
      ],
      "metadata": {
        "colab": {
          "base_uri": "https://localhost:8080/"
        },
        "id": "tF8SAvhwKPIt",
        "outputId": "b75c47b4-e4c5-46c4-c90d-5781e5962e36"
      },
      "execution_count": null,
      "outputs": [
        {
          "output_type": "stream",
          "name": "stdout",
          "text": [
            "The estimate probability is:  0.15670264527000136\n"
          ]
        }
      ]
    },
    {
      "cell_type": "markdown",
      "source": [
        "Do users usually return to locations? Extract the probability that a user returns to a site after having posted it in the past. Does that probability make sense to you? Explain why or why not.\n",
        "---\n",
        "\n",
        "When computing this probability, we used the same approach as before. In this case, the event is defined as :\n",
        "\n",
        "B = {\" a user has at least 2 posts at the same location \"}.\n",
        "\n",
        "Note:\n",
        "\n",
        "We interpreted the question with this restriction : \n",
        "\n",
        "If a user posted more than 2 posts in the same location we count it by 1 . ( He actually returns at the same place and we don't care if he returns more than twice).\n",
        "\n",
        "If a user posted 2 or more posts in two more different locations we count it by 1. ( In our opinion might have sense to count it by 1 or by the number of locations\n",
        "visited at least twice, we chose the first one).\n",
        "\n",
        "In our opinion, this probability does not make much sense since a user could post a picture as a memories in the same location months after they visited that place, without go there.\n",
        "\n",
        "Moreover, a user could go to the same place but insert a different location_id, that is they could once use a more accurate location tag and another time a more vague one (e.g. Colosseum and Rome)."
      ],
      "metadata": {
        "id": "dVvc8VKCQRaK"
      }
    },
    {
      "cell_type": "code",
      "source": [
        "filename=\"/content/drive/MyDrive/ADM_HW2/instagram_posts.csv\"\n",
        "profiles =pd.read_csv(\"/content/drive/MyDrive/ADM_HW2/instagram_profiles.csv\",sep='\\t')\n",
        "\n",
        "df = pd.read_csv(filename, usecols= ['location_id' , 'sid_profile'], sep='\\t')\n",
        "\n",
        "m = pd.merge( df , profiles , left_on=\"sid_profile\", right_on=\"sid\").drop('sid', axis=1)\n",
        "l=(sum(m.groupby('sid_profile', group_keys=True).apply(lambda x:len(x.location_id) != len(set(x.location_id)) )))"
      ],
      "metadata": {
        "id": "Qi9RmeXLQRBQ"
      },
      "execution_count": null,
      "outputs": []
    },
    {
      "cell_type": "code",
      "source": [
        "n = len(profiles.sid.dropna())\n",
        "print(\"The target probability is : \" , l / n )"
      ],
      "metadata": {
        "colab": {
          "base_uri": "https://localhost:8080/"
        },
        "id": "l19q-257Bbjb",
        "outputId": "bc92b4e5-49b9-46ee-dae6-1535471801ee"
      },
      "execution_count": null,
      "outputs": [
        {
          "output_type": "stream",
          "name": "stdout",
          "text": [
            "The target probability is :  0.23696920293791934\n"
          ]
        }
      ]
    },
    {
      "cell_type": "markdown",
      "source": [
        "# R8"
      ],
      "metadata": {
        "id": "z2xzbC9OOOEQ"
      }
    },
    {
      "cell_type": "markdown",
      "source": [
        "Does more “likes” also mean more comments? Plot a scatter plot of “likes” vs comments for posts.\n",
        "----\n",
        "\n",
        "In order to discover rather more likes mean more comments, we show the scatter plot of the number of like vs the number of comments."
      ],
      "metadata": {
        "id": "lv69sEDfX6ko"
      }
    },
    {
      "cell_type": "code",
      "source": [
        "# do not change the number of rows. We have done the analysis with them. More rows are not needed and can complicated so much the analysis\n",
        "posts =pd.read_csv(\"/content/drive/MyDrive/ADM_HW2/instagram_posts.csv\",sep='\\t',usecols=['number_comments', 'numbr_likes' , 'cts' ], nrows= 5000000) "
      ],
      "metadata": {
        "id": "sGdvkVyXolHE"
      },
      "execution_count": null,
      "outputs": []
    },
    {
      "cell_type": "code",
      "source": [
        "plt.figure(figsize=(14,8))\n",
        "plt.plot(posts['numbr_likes'], posts['number_comments'], 'o', color='lightblue');\n",
        "\n",
        "#Obtain m (slope) and b(intercept) of linear regression line\n",
        "m, b = np.polyfit(posts['numbr_likes'], posts['number_comments'], 1)\n",
        "\n",
        "#Regression line\n",
        "\n",
        "plt.plot(posts['numbr_likes'], m * posts['numbr_likes'] +b, color='red');\n",
        "plt.title(\"Number likes vs. Number comments\");\n",
        "plt.xlabel(\"Number of likes\");\n",
        "plt.ylabel(\"Number of comments\");\n",
        "plt.xlim([0,1000000]);\n",
        "plt.ylim([0,50000]);"
      ],
      "metadata": {
        "colab": {
          "base_uri": "https://localhost:8080/",
          "height": 533
        },
        "id": "5HilKG8klLDM",
        "outputId": "fd065e08-197b-4b19-fa1f-0d32d35527ae"
      },
      "execution_count": null,
      "outputs": [
        {
          "output_type": "display_data",
          "data": {
            "text/plain": [
              "<Figure size 1008x576 with 1 Axes>"
            ],
            "image/png": "[encoded data removed]"
          },
          "metadata": {
            "needs_background": "light"
          }
        }
      ]
    },
    {
      "cell_type": "markdown",
      "source": [
        "\n",
        "We can already see graphically that there is no obvious relationship between the number of comments and the number of likes a post has.\n",
        "\n",
        "To analyze it analytically, we can perform a linear regression. The result of this analysis is shown below."
      ],
      "metadata": {
        "id": "aayFMEm1YWrT"
      }
    },
    {
      "cell_type": "code",
      "source": [
        "#Dropping NA values\n",
        "posts.dropna()"
      ],
      "metadata": {
        "id": "JFdrDNWpOBU2",
        "colab": {
          "base_uri": "https://localhost:8080/",
          "height": 433
        },
        "outputId": "4991f19c-9cb4-47fe-c967-3d94f5ae7c1a"
      },
      "execution_count": null,
      "outputs": [
        {
          "output_type": "execute_result",
          "data": {
            "text/plain": [
              "                             cts  numbr_likes  number_comments\n",
              "0        2017-08-06 20:06:57.000           80                0\n",
              "1        2017-06-19 09:31:16.000           25                1\n",
              "2        2017-03-11 20:05:03.000            9                0\n",
              "3        2016-09-13 16:27:16.000            4                0\n",
              "4        2015-10-18 10:19:27.000            8                0\n",
              "...                          ...          ...              ...\n",
              "4999995  2018-11-15 16:35:06.000           17                0\n",
              "4999996  2018-10-10 12:40:17.000           21                0\n",
              "4999997  2018-10-07 16:57:41.000           24                0\n",
              "4999998  2018-10-04 14:09:35.000           47                9\n",
              "4999999  2018-09-15 16:02:55.000            4                0\n",
              "\n",
              "[5000000 rows x 3 columns]"
            ],
            "text/html": [
              "\n",
              "  <div id=\"df-7ba00b9e-41c4-4a8a-b9fc-1ea029d55a6f\">\n",
              "    <div class=\"colab-df-container\">\n",
              "      <div>\n",
              "<style scoped>\n",
              "    .dataframe tbody tr th:only-of-type {\n",
              "        vertical-align: middle;\n",
              "    }\n",
              "\n",
              "    .dataframe tbody tr th {\n",
              "        vertical-align: top;\n",
              "    }\n",
              "\n",
              "    .dataframe thead th {\n",
              "        text-align: right;\n",
              "    }\n",
              "</style>\n",
              "<table border=\"1\" class=\"dataframe\">\n",
              "  <thead>\n",
              "    <tr style=\"text-align: right;\">\n",
              "      <th></th>\n",
              "      <th>cts</th>\n",
              "      <th>numbr_likes</th>\n",
              "      <th>number_comments</th>\n",
              "    </tr>\n",
              "  </thead>\n",
              "  <tbody>\n",
              "    <tr>\n",
              "      <th>0</th>\n",
              "      <td>2017-08-06 20:06:57.000</td>\n",
              "      <td>80</td>\n",
              "      <td>0</td>\n",
              "    </tr>\n",
              "    <tr>\n",
              "      <th>1</th>\n",
              "      <td>2017-06-19 09:31:16.000</td>\n",
              "      <td>25</td>\n",
              "      <td>1</td>\n",
              "    </tr>\n",
              "    <tr>\n",
              "      <th>2</th>\n",
              "      <td>2017-03-11 20:05:03.000</td>\n",
              "      <td>9</td>\n",
              "      <td>0</td>\n",
              "    </tr>\n",
              "    <tr>\n",
              "      <th>3</th>\n",
              "      <td>2016-09-13 16:27:16.000</td>\n",
              "      <td>4</td>\n",
              "      <td>0</td>\n",
              "    </tr>\n",
              "    <tr>\n",
              "      <th>4</th>\n",
              "      <td>2015-10-18 10:19:27.000</td>\n",
              "      <td>8</td>\n",
              "      <td>0</td>\n",
              "    </tr>\n",
              "    <tr>\n",
              "      <th>...</th>\n",
              "      <td>...</td>\n",
              "      <td>...</td>\n",
              "      <td>...</td>\n",
              "    </tr>\n",
              "    <tr>\n",
              "      <th>4999995</th>\n",
              "      <td>2018-11-15 16:35:06.000</td>\n",
              "      <td>17</td>\n",
              "      <td>0</td>\n",
              "    </tr>\n",
              "    <tr>\n",
              "      <th>4999996</th>\n",
              "      <td>2018-10-10 12:40:17.000</td>\n",
              "      <td>21</td>\n",
              "      <td>0</td>\n",
              "    </tr>\n",
              "    <tr>\n",
              "      <th>4999997</th>\n",
              "      <td>2018-10-07 16:57:41.000</td>\n",
              "      <td>24</td>\n",
              "      <td>0</td>\n",
              "    </tr>\n",
              "    <tr>\n",
              "      <th>4999998</th>\n",
              "      <td>2018-10-04 14:09:35.000</td>\n",
              "      <td>47</td>\n",
              "      <td>9</td>\n",
              "    </tr>\n",
              "    <tr>\n",
              "      <th>4999999</th>\n",
              "      <td>2018-09-15 16:02:55.000</td>\n",
              "      <td>4</td>\n",
              "      <td>0</td>\n",
              "    </tr>\n",
              "  </tbody>\n",
              "</table>\n",
              "<p>5000000 rows × 3 columns</p>\n",
              "</div>\n",
              "      <button class=\"colab-df-convert\" onclick=\"convertToInteractive('df-7ba00b9e-41c4-4a8a-b9fc-1ea029d55a6f')\"\n",
              "              title=\"Convert this dataframe to an interactive table.\"\n",
              "              style=\"display:none;\">\n",
              "        \n",
              "  <svg xmlns=\"http://www.w3.org/2000/svg\" height=\"24px\"viewBox=\"0 0 24 24\"\n",
              "       width=\"24px\">\n",
              "    <path d=\"M0 0h24v24H0V0z\" fill=\"none\"/>\n",
              "    <path d=\"M18.56 5.44l.94 2.06.94-2.06 2.06-.94-2.06-.94-.94-2.06-.94 2.06-2.06.94zm-11 1L8.5 8.5l.94-2.06 2.06-.94-2.06-.94L8.5 2.5l-.94 2.06-2.06.94zm10 10l.94 2.06.94-2.06 2.06-.94-2.06-.94-.94-2.06-.94 2.06-2.06.94z\"/><path d=\"M17.41 7.96l-1.37-1.37c-.4-.4-.92-.59-1.43-.59-.52 0-1.04.2-1.43.59L10.3 9.45l-7.72 7.72c-.78.78-.78 2.05 0 2.83L4 21.41c.39.39.9.59 1.41.59.51 0 1.02-.2 1.41-.59l7.78-7.78 2.81-2.81c.8-.78.8-2.07 0-2.86zM5.41 20L4 18.59l7.72-7.72 1.47 1.35L5.41 20z\"/>\n",
              "  </svg>\n",
              "      </button>\n",
              "      \n",
              "  <style>\n",
              "    .colab-df-container {\n",
              "      display:flex;\n",
              "      flex-wrap:wrap;\n",
              "      gap: 12px;\n",
              "    }\n",
              "\n",
              "    .colab-df-convert {\n",
              "      background-color: #E8F0FE;\n",
              "      border: none;\n",
              "      border-radius: 50%;\n",
              "      cursor: pointer;\n",
              "      display: none;\n",
              "      fill: #1967D2;\n",
              "      height: 32px;\n",
              "      padding: 0 0 0 0;\n",
              "      width: 32px;\n",
              "    }\n",
              "\n",
              "    .colab-df-convert:hover {\n",
              "      background-color: #E2EBFA;\n",
              "      box-shadow: 0px 1px 2px rgba(60, 64, 67, 0.3), 0px 1px 3px 1px rgba(60, 64, 67, 0.15);\n",
              "      fill: #174EA6;\n",
              "    }\n",
              "\n",
              "    [theme=dark] .colab-df-convert {\n",
              "      background-color: #3B4455;\n",
              "      fill: #D2E3FC;\n",
              "    }\n",
              "\n",
              "    [theme=dark] .colab-df-convert:hover {\n",
              "      background-color: #434B5C;\n",
              "      box-shadow: 0px 1px 3px 1px rgba(0, 0, 0, 0.15);\n",
              "      filter: drop-shadow(0px 1px 2px rgba(0, 0, 0, 0.3));\n",
              "      fill: #FFFFFF;\n",
              "    }\n",
              "  </style>\n",
              "\n",
              "      <script>\n",
              "        const buttonEl =\n",
              "          document.querySelector('#df-7ba00b9e-41c4-4a8a-b9fc-1ea029d55a6f button.colab-df-convert');\n",
              "        buttonEl.style.display =\n",
              "          google.colab.kernel.accessAllowed ? 'block' : 'none';\n",
              "\n",
              "        async function convertToInteractive(key) {\n",
              "          const element = document.querySelector('#df-7ba00b9e-41c4-4a8a-b9fc-1ea029d55a6f');\n",
              "          const dataTable =\n",
              "            await google.colab.kernel.invokeFunction('convertToInteractive',\n",
              "                                                     [key], {});\n",
              "          if (!dataTable) return;\n",
              "\n",
              "          const docLinkHtml = 'Like what you see? Visit the ' +\n",
              "            '<a target=\"_blank\" href=https://colab.research.google.com/notebooks/data_table.ipynb>data table notebook</a>'\n",
              "            + ' to learn more about interactive tables.';\n",
              "          element.innerHTML = '';\n",
              "          dataTable['output_type'] = 'display_data';\n",
              "          await google.colab.output.renderOutput(dataTable, element);\n",
              "          const docLink = document.createElement('div');\n",
              "          docLink.innerHTML = docLinkHtml;\n",
              "          element.appendChild(docLink);\n",
              "        }\n",
              "      </script>\n",
              "    </div>\n",
              "  </div>\n",
              "  "
            ]
          },
          "metadata": {},
          "execution_count": 5
        }
      ]
    },
    {
      "cell_type": "code",
      "source": [
        "#Running a linear regression analysis\n",
        "x = posts.numbr_likes\n",
        "y = posts.number_comments\n",
        "\n",
        "x = sm.add_constant(x)\n",
        "\n",
        "model = sm.OLS(y, x).fit()\n",
        "predictions = model.predict(x) \n",
        "\n",
        "print_model = model.summary()\n",
        "print(print_model)"
      ],
      "metadata": {
        "colab": {
          "base_uri": "https://localhost:8080/"
        },
        "id": "KLUBMK4jgKDE",
        "outputId": "a1a8505a-3f5f-4a7c-fb2e-44a1b05c3eea"
      },
      "execution_count": null,
      "outputs": [
        {
          "output_type": "stream",
          "name": "stderr",
          "text": [
            "/usr/local/lib/python3.7/dist-packages/statsmodels/tsa/tsatools.py:142: FutureWarning: In a future version of pandas all arguments of concat except for the argument 'objs' will be keyword-only\n",
            "  x = pd.concat(x[::order], 1)\n"
          ]
        },
        {
          "output_type": "stream",
          "name": "stdout",
          "text": [
            "                            OLS Regression Results                            \n",
            "==============================================================================\n",
            "Dep. Variable:        number_comments   R-squared:                       0.188\n",
            "Model:                            OLS   Adj. R-squared:                  0.188\n",
            "Method:                 Least Squares   F-statistic:                 1.158e+06\n",
            "Date:                Fri, 28 Oct 2022   Prob (F-statistic):               0.00\n",
            "Time:                        10:17:07   Log-Likelihood:            -3.1017e+07\n",
            "No. Observations:             5000000   AIC:                         6.203e+07\n",
            "Df Residuals:                 4999998   BIC:                         6.203e+07\n",
            "Df Model:                           1                                         \n",
            "Covariance Type:            nonrobust                                         \n",
            "===============================================================================\n",
            "                  coef    std err          t      P>|t|      [0.025      0.975]\n",
            "-------------------------------------------------------------------------------\n",
            "const           3.9593      0.054     73.904      0.000       3.854       4.064\n",
            "numbr_likes     0.0108   1.01e-05   1075.997      0.000       0.011       0.011\n",
            "=================================================================================\n",
            "Omnibus:                 32711573.420   Durbin-Watson:                      1.979\n",
            "Prob(Omnibus):                  0.000   Jarque-Bera (JB):   63325654664180616.000\n",
            "Skew:                         594.073   Prob(JB):                            0.00\n",
            "Kurtosis:                  551330.245   Cond. No.                        5.32e+03\n",
            "=================================================================================\n",
            "\n",
            "Notes:\n",
            "[1] Standard Errors assume that the covariance matrix of the errors is correctly specified.\n",
            "[2] The condition number is large, 5.32e+03. This might indicate that there are\n",
            "strong multicollinearity or other numerical problems.\n"
          ]
        }
      ]
    },
    {
      "cell_type": "markdown",
      "source": [
        "Briefly comments on the output:\n",
        "\n",
        "The data provides a significant non-relationship between the number of likes and the number of comments.\n",
        "\n",
        "The Beta coefficient explains that for a unit increase in the number of likes, an increase of 0.0108 (almost 0) in the number of comments is expected.\n",
        "\n",
        "The R-squared of 0.188 means that the variance of the number of comments is explained by 19% by the variance of the number of likes."
      ],
      "metadata": {
        "id": "dvgjziHyjVTh"
      }
    },
    {
      "cell_type": "markdown",
      "source": [
        "8.2) Can you find any significant relationship between the time a user publishes a post and the number of comments and “likes”? Use an appropriate statistical test or technique and support your choice.\n",
        "----\n",
        "\n",
        "To find out if there is a significant relationship between the time a user posts a post and the number of comments and \"likes\" he received, we perform an ANOVA analysis for both the number of comments and the likes.\n",
        "\n",
        "ANOVA ( **AN** alysis **O**f **VA**riance ) is a statistical procedure to analyze differences among means from each groups.\n",
        "\n",
        "Doing ANOVA we are testing if the $H_{0}$ hypothesis: \"all the mean for each group are the same\" is true or not.\n",
        "\n",
        "\n",
        "$ H_{0}: \\mu_{1} = \\mu_{2} = ... =  \\mu_{s}  $\n",
        "\n",
        "\n",
        "We created groups by clustering cts variable per hour.\n",
        "\n",
        "We built bar plots of the means for each group.\n",
        "\n",
        "We built a boxplot of the variables for each group\n",
        "\n",
        "We compute the F - statistics, derive the p-value and decide whether accept or not the null hypothesis.\n",
        "\n",
        "ANOVA makes the following assumptions about the probability distribution of the responses..\n",
        "\n",
        "\n",
        "\n",
        "\n",
        "*   Independence of observations \n",
        "*   the distributions of the residuals are normal.\n",
        "*   homoscedasticity—the variance of data in groups should be the same.\n",
        "\n",
        "\n",
        "Remark are shown below.\n",
        "\n"
      ],
      "metadata": {
        "id": "LMk9iD4SZUsr"
      }
    },
    {
      "cell_type": "code",
      "source": [
        "#Convert cts into datatime. We consider only the hour \n",
        "posts['cts'] = pd.to_datetime(posts.cts).dt.floor('H').dt.time"
      ],
      "metadata": {
        "id": "yvDo4Te55gwO"
      },
      "execution_count": null,
      "outputs": []
    },
    {
      "cell_type": "code",
      "source": [
        "grouping = posts.groupby(posts.cts).apply( lambda x : np.mean(x.number_comments))\n",
        "timing = grouping.index.to_list()\n",
        "dic={}\n",
        "\n",
        "for x, t in zip(grouping, timing):\n",
        "  dic['{:02d}:{:02d}:{:02d}'.format(t.hour, t.minute, t.second)] = x\n",
        "\n",
        "data ={'cts' : dic.keys(), 'mean_number_comments': dic.values() }\n",
        "\n",
        "df = pd.DataFrame(data)\n",
        "\n"
      ],
      "metadata": {
        "id": "Xfw_ThgBhMSj"
      },
      "execution_count": null,
      "outputs": []
    },
    {
      "cell_type": "code",
      "source": [
        "plt.figure(figsize=(14,8))\n",
        "plt.bar(df.cts,df.mean_number_comments, color ='maroon',\n",
        "        width = 0.8);\n",
        "plt.title(\"Means of number of comments per hour time\")        \n",
        "plt.xticks(rotation=90);"
      ],
      "metadata": {
        "colab": {
          "base_uri": "https://localhost:8080/",
          "height": 553
        },
        "id": "ZnP0-GcmRoyU",
        "outputId": "1e734ecb-c19c-403e-ea3f-9b38a4e98595"
      },
      "execution_count": null,
      "outputs": [
        {
          "output_type": "display_data",
          "data": {
            "text/plain": [
              "<Figure size 1008x576 with 1 Axes>"
            ],
            "image/png": "[encoded data removed]"
          },
          "metadata": {
            "needs_background": "light"
          }
        }
      ]
    },
    {
      "cell_type": "code",
      "source": [
        "grouping = posts.groupby(posts.cts).apply( lambda x : x.number_comments )\n",
        "\n",
        "g = pd.DataFrame(grouping)\n",
        "g.boxplot('number_comments', by='cts', figsize=(12, 8), showfliers= False , grid = False , color = 'purple' , showmeans=True);\n",
        "\n",
        "plt.xticks(rotation=90);\n"
      ],
      "metadata": {
        "colab": {
          "base_uri": "https://localhost:8080/",
          "height": 627
        },
        "id": "zEc_oBL-8iCP",
        "outputId": "58f41c2e-ae15-41c2-cbfb-f0ee9bd36b28"
      },
      "execution_count": null,
      "outputs": [
        {
          "output_type": "stream",
          "name": "stderr",
          "text": [
            "/usr/local/lib/python3.7/dist-packages/matplotlib/cbook/__init__.py:1376: VisibleDeprecationWarning: Creating an ndarray from ragged nested sequences (which is a list-or-tuple of lists-or-tuples-or ndarrays with different lengths or shapes) is deprecated. If you meant to do this, you must specify 'dtype=object' when creating the ndarray.\n",
            "  X = np.atleast_1d(X.T if isinstance(X, np.ndarray) else np.asarray(X))\n"
          ]
        },
        {
          "output_type": "display_data",
          "data": {
            "text/plain": [
              "<Figure size 864x576 with 1 Axes>"
            ],
            "image/png": "[encoded data removed]"
          },
          "metadata": {
            "needs_background": "light"
          }
        }
      ]
    },
    {
      "cell_type": "code",
      "source": [
        "ctrl = posts['number_comments'][posts.cts == 'cts']\n",
        "grps = pd.unique(posts.cts.values)\n",
        "d_data = {grp: posts['number_comments'][posts.cts == grp] for grp in grps}"
      ],
      "metadata": {
        "id": "ZmVHwcODDlnG"
      },
      "execution_count": null,
      "outputs": []
    },
    {
      "cell_type": "code",
      "source": [
        "l=list(d_data.keys())\n",
        "\n",
        "F, p = stats.f_oneway(\n",
        "    d_data[l[0]], d_data[l[1]]  , d_data[l[2]], d_data[l[3]], d_data[l[4]], d_data[l[5]],\n",
        "    d_data[l[6]], d_data[l[7]]  , d_data[l[8]],d_data[l[9]], d_data[l[10]], d_data[l[12]],\n",
        "    d_data[l[13]], d_data[l[14]], d_data[l[15]],d_data[l[16]], d_data[l[17]], d_data[l[18]],\n",
        "    d_data[l[19]], d_data[l[20]], d_data[l[21]],d_data[l[22]], d_data[l[23]])\n",
        "print(F , p ,\"\\n\", \"We reject the null hypothesis \\n Data provides significant difference among the means of the time slots\")"
      ],
      "metadata": {
        "colab": {
          "base_uri": "https://localhost:8080/"
        },
        "id": "cF7wNJz7TBmK",
        "outputId": "41a7c7ee-60c5-4918-f3f7-259f6cdcf224"
      },
      "execution_count": null,
      "outputs": [
        {
          "output_type": "stream",
          "name": "stdout",
          "text": [
            "2.408751970123262 0.0002276753156973062 \n",
            " We reject the null hypothesis \n",
            " Data provides significant difference among the means of the time slots\n"
          ]
        }
      ]
    },
    {
      "cell_type": "markdown",
      "source": [
        "The value of the F- statistics is the ratio: between deviance / within deviance.\n",
        "\n",
        "The \"between deviance\" is the deviance due to the systematic factor \"hour\". If the ratio is greater than 1 means that the between deviance is greater than the within deviance and there is a significant change in the means for each group.\n",
        "\n",
        "Anyway, we have already seen that the means are not good statistics for a very skew distribution.The distribution we are analyzing does not respect the assumption of normality requested by ANOVA.\n",
        "In this case, the median is a more rappresented summarization.\n",
        "\n",
        "The principle of the test we will use is that if two samples have the same median, they should have more or less the same proportion of observations on a interval above and below that median. This would be true irrespective of their two distributions and so no normality assumptions are needed. \n",
        "\n",
        "In order to have a better explanation of analysis we should try with any combination of hour times. In order not to make the analysis heavy, we will proceed with only a few examples.\n",
        "\n",
        "We can think of dividing the time into slots: [daytime hours: from 5 to 17 and night hours: from 18 to 4] and see if there is a significant difference on median compared to the time slots.\n",
        "\n",
        "\n",
        "\n",
        "\n"
      ],
      "metadata": {
        "id": "tVXshv3EaEv9"
      }
    },
    {
      "cell_type": "code",
      "source": [
        "# ANOVA for medians for day hour\n",
        "U1 ,p1 = stats.mannwhitneyu( d_data[l[1]], d_data[l[2]] )\n",
        "# ANOVA for medians for night hour\n",
        "U2 ,p2 =  stats.mannwhitneyu( d_data[l[11]], d_data[l[12]] )\n",
        "# ANOVA for medians for night hour\n",
        "U3 ,p3 =  stats.mannwhitneyu( d_data[l[20]], d_data[l[14]] )\n",
        "\n",
        "print(U1 ,p1, \"\\n\", \n",
        "      \"Daytime comparision:\" , \"\\n\"\n",
        "      \"We do not accept the null hypothesis \", \"\\n\"\n",
        "      \"Data provide significante median changes  between  daily time slots \")\n",
        "print(\"\\n\")\n",
        "print(U2 ,p3, \"\\n\", \n",
        "      \"Nighttime comparision:\" , \"\\n\"\n",
        "      \"We do not accept the null hypothesis \", \"\\n\"\n",
        "      \"Data provide significante median changes between night time slots \")\n",
        "print(\"\\n\")\n",
        "print(U3 ,p3, \"\\n\", \n",
        "      \"Daytime and Nightime comparision:\" , \"\\n\"\n",
        "      \"We do not accept the null hypothesis \", \"\\n\"\n",
        "      \"Data provide significante median changes  between daily and night time slots \")"
      ],
      "metadata": {
        "colab": {
          "base_uri": "https://localhost:8080/"
        },
        "id": "x8M3z9sGQkJF",
        "outputId": "48bb6551-920d-4778-d61f-d4fc458e74af"
      },
      "execution_count": null,
      "outputs": [
        {
          "output_type": "stream",
          "name": "stdout",
          "text": [
            "19663062294.5 6.915263616142664e-16 \n",
            " Daytime comparision: \n",
            "We do not accept the null hypothesis  \n",
            "Data provide significante median changes  between  daily time slots \n",
            "\n",
            "\n",
            "25948432515.0 2.115915340200362e-37 \n",
            " Nighttime comparision: \n",
            "We do not accept the null hypothesis  \n",
            "Data provide significante median changes between night time slots \n",
            "\n",
            "\n",
            "19587781296.5 2.115915340200362e-37 \n",
            " Daytime and Nightime comparision: \n",
            "We do not accept the null hypothesis  \n",
            "Data provide significante median changes  between daily and night time slots \n"
          ]
        }
      ]
    },
    {
      "cell_type": "markdown",
      "source": [
        "Note: It's not always right base the decision of accepting or not the null Hypothesis according to p-value being a decreasing function of the number of the observations.\n",
        "\n",
        "Looking at the boxplot indeed, we can see some differents in day and night time slots about the number of comments."
      ],
      "metadata": {
        "id": "2O5U3OJ-6ziP"
      }
    },
    {
      "cell_type": "markdown",
      "source": [
        "Reapiting the same procedure on the variable: number_likes"
      ],
      "metadata": {
        "id": "tRez22Ny10rV"
      }
    },
    {
      "cell_type": "code",
      "source": [
        "grouping = posts.groupby(posts.cts).apply( lambda x : np.mean(x.numbr_likes))\n",
        "timing = grouping.index.to_list()\n",
        "dic={}\n",
        "for x, t in zip(grouping, timing):\n",
        "  dic['{:02d}:{:02d}:{:02d}'.format(t.hour, t.minute, t.second)] = x\n",
        "dic.keys()\n",
        "data ={'cts' : dic.keys(), 'mean_number_likes': dic.values() }\n",
        "\n",
        "df = pd.DataFrame(data)"
      ],
      "metadata": {
        "id": "GLD6dMr10IVK"
      },
      "execution_count": null,
      "outputs": []
    },
    {
      "cell_type": "code",
      "source": [
        "plt.figure(figsize=(14,8))\n",
        "plt.bar(df.cts,df.mean_number_likes, color ='maroon',\n",
        "        width = 0.8);\n",
        "plt.title(\"Means of number of likes per hour time\")        \n",
        "plt.xticks(rotation=90);"
      ],
      "metadata": {
        "colab": {
          "base_uri": "https://localhost:8080/",
          "height": 553
        },
        "id": "UVIO1xD40zRT",
        "outputId": "f0477868-8cac-4621-c949-08248285b188"
      },
      "execution_count": null,
      "outputs": [
        {
          "output_type": "display_data",
          "data": {
            "text/plain": [
              "<Figure size 1008x576 with 1 Axes>"
            ],
            "image/png": "[encoded data removed]"
          },
          "metadata": {
            "needs_background": "light"
          }
        }
      ]
    },
    {
      "cell_type": "code",
      "source": [
        "grouping = posts.groupby(posts.cts).apply( lambda x : x.numbr_likes )\n",
        "g = pd.DataFrame(grouping)\n",
        "g.boxplot('numbr_likes', by='cts', figsize=(12, 8), showfliers= False , grid = False ,color = 'purple', showmeans= True);\n",
        "plt.xticks(rotation=90);"
      ],
      "metadata": {
        "colab": {
          "base_uri": "https://localhost:8080/",
          "height": 627
        },
        "id": "69zI4Gkr0_Cc",
        "outputId": "37224e95-9076-4f52-f30a-83c4978ac1f0"
      },
      "execution_count": null,
      "outputs": [
        {
          "output_type": "stream",
          "name": "stderr",
          "text": [
            "/usr/local/lib/python3.7/dist-packages/matplotlib/cbook/__init__.py:1376: VisibleDeprecationWarning: Creating an ndarray from ragged nested sequences (which is a list-or-tuple of lists-or-tuples-or ndarrays with different lengths or shapes) is deprecated. If you meant to do this, you must specify 'dtype=object' when creating the ndarray.\n",
            "  X = np.atleast_1d(X.T if isinstance(X, np.ndarray) else np.asarray(X))\n"
          ]
        },
        {
          "output_type": "display_data",
          "data": {
            "text/plain": [
              "<Figure size 864x576 with 1 Axes>"
            ],
            "image/png": "[encoded data removed]"
          },
          "metadata": {
            "needs_background": "light"
          }
        }
      ]
    },
    {
      "cell_type": "code",
      "source": [
        "ctrl = posts['numbr_likes'][posts.cts == 'cts']\n",
        "grps = pd.unique(posts.cts.values)\n",
        "d_data = {grp: posts['numbr_likes'][posts.cts == grp] for grp in grps}"
      ],
      "metadata": {
        "id": "F148j6YH1Rw-"
      },
      "execution_count": null,
      "outputs": []
    },
    {
      "cell_type": "code",
      "source": [
        "l=list(d_data.keys())\n",
        "\n",
        "F, p = stats.f_oneway(\n",
        "    d_data[l[0]], d_data[l[1]]  , d_data[l[2]], d_data[l[3]], d_data[l[4]], d_data[l[5]],\n",
        "    d_data[l[6]], d_data[l[7]]  , d_data[l[8]],d_data[l[9]], d_data[l[10]], d_data[l[12]],\n",
        "    d_data[l[13]], d_data[l[14]], d_data[l[15]],d_data[l[16]], d_data[l[17]], d_data[l[18]],\n",
        "    d_data[l[19]], d_data[l[20]], d_data[l[21]],d_data[l[22]], d_data[l[23]])\n",
        "print(F , p ,\"\\n\", \"We reject the null hypothesis \\n Data provides significant difference among the means of the time slots\")"
      ],
      "metadata": {
        "colab": {
          "base_uri": "https://localhost:8080/"
        },
        "id": "i2IAqnuM1Uza",
        "outputId": "9e834d7e-44c2-4cab-a942-8800c11a6a45"
      },
      "execution_count": null,
      "outputs": [
        {
          "output_type": "stream",
          "name": "stdout",
          "text": [
            "3.362977726002919 1.5387976263440646e-07 \n",
            " We reject the null hypothesis \n",
            " Data provides significant difference among the means of the time slots\n"
          ]
        }
      ]
    },
    {
      "cell_type": "code",
      "source": [
        "# ANOVA for medians for day hour\n",
        "U1 ,p1 = stats.mannwhitneyu( d_data[l[1]], d_data[l[2]] )\n",
        "# ANOVA for medians for night hour\n",
        "U2 ,p2 =  stats.mannwhitneyu( d_data[l[11]], d_data[l[12]] )\n",
        "# ANOVA for medians for night hour\n",
        "U3 ,p3 =  stats.mannwhitneyu( d_data[l[20]], d_data[l[14]] )\n",
        "\n",
        "print(U1 ,p1, \"\\n\", \n",
        "      \"Daytime comparision:\" , \"\\n\"\n",
        "      \"We accept the null hypothesis \", \"\\n\"\n",
        "      \"Data don't provide significante median changes  between  daily time slots \")\n",
        "print(\"\\n\")\n",
        "print(U2 ,p3, \"\\n\", \n",
        "      \"Nighttime comparision:\" , \"\\n\"\n",
        "      \"We reject the null hypothesis \", \"\\n\"\n",
        "      \"Data provide significante median changes between night time slots \")\n",
        "print(\"\\n\")\n",
        "print(U3,p3, \"\\n\", \n",
        "      \"Daytime and Nightime comparision:\" , \"\\n\"\n",
        "      \"We reject the null hypothesis \", \"\\n\"\n",
        "      \"Data provide significante median changes  between daily and night time slots \")\n"
      ],
      "metadata": {
        "colab": {
          "base_uri": "https://localhost:8080/"
        },
        "id": "4XJ3hdQDVEnp",
        "outputId": "b1a296ca-4e18-4667-e757-067f91a9dca5"
      },
      "execution_count": null,
      "outputs": [
        {
          "output_type": "stream",
          "name": "stdout",
          "text": [
            "19954570492.5 0.9867073714009481 \n",
            " Daytime comparision: \n",
            "We accept the null hypothesis  \n",
            "Data don't provide significante median changes  between  daily time slots \n",
            "\n",
            "\n",
            "25102514231.0 3.196322547293318e-113 \n",
            " Nighttime comparision: \n",
            "We reject the null hypothesis  \n",
            "Data provide significante median changes between night time slots \n",
            "\n",
            "\n",
            "19201011378.5 3.196322547293318e-113 \n",
            " Daytime and Nightime comparision: \n",
            "We reject the null hypothesis  \n",
            "Data provide significante median changes  between daily and night time slots \n"
          ]
        }
      ]
    },
    {
      "cell_type": "markdown",
      "source": [
        "8.3) What’s the distribution of followers? Plot the empirical distribution of followers amongst all users and extract the mean, mode, and quantiles. Interpret those figures.\n",
        "----"
      ],
      "metadata": {
        "id": "ZHajtIhg7RJM"
      }
    },
    {
      "cell_type": "code",
      "source": [
        "profiles =pd.read_csv(\"/content/drive/MyDrive/ADM_HW2/instagram_profiles.csv\",sep='\\t')"
      ],
      "metadata": {
        "id": "6yTOALbZ9WAY"
      },
      "execution_count": null,
      "outputs": []
    },
    {
      "cell_type": "code",
      "source": [
        "followers_outliers= profiles.followers[profiles.followers < profiles.followers.quantile(.95)]\n",
        "followers_outliers= followers_outliers[profiles.followers > profiles.followers.quantile(.05)]\n"
      ],
      "metadata": {
        "id": "uufhSi5M75XL"
      },
      "execution_count": null,
      "outputs": []
    },
    {
      "cell_type": "code",
      "source": [
        "plt.figure(figsize=(14,8))\n",
        "sns.distplot(followers_outliers, hist=True, kde=True, \n",
        "             bins=int(180/5), color = 'lightblue', \n",
        "             hist_kws={'edgecolor':'lightblue'},\n",
        "             kde_kws={'linewidth': 4}).set(title='Distribution of followers',)\n"
      ],
      "metadata": {
        "id": "QN2aZgt57q7_",
        "colab": {
          "base_uri": "https://localhost:8080/",
          "height": 583
        },
        "outputId": "17d97e29-0798-41ca-ec31-1b8765d42931"
      },
      "execution_count": null,
      "outputs": [
        {
          "output_type": "stream",
          "name": "stderr",
          "text": [
            "/usr/local/lib/python3.7/dist-packages/seaborn/distributions.py:2619: FutureWarning: `distplot` is a deprecated function and will be removed in a future version. Please adapt your code to use either `displot` (a figure-level function with similar flexibility) or `histplot` (an axes-level function for histograms).\n",
            "  warnings.warn(msg, FutureWarning)\n"
          ]
        },
        {
          "output_type": "execute_result",
          "data": {
            "text/plain": [
              "[Text(0.5, 1.0, 'Distribution of followers')]"
            ]
          },
          "metadata": {},
          "execution_count": 31
        },
        {
          "output_type": "display_data",
          "data": {
            "text/plain": [
              "<Figure size 1008x576 with 1 Axes>"
            ],
            "image/png": "[encoded data removed]"
          },
          "metadata": {
            "needs_background": "light"
          }
        }
      ]
    },
    {
      "cell_type": "code",
      "source": [
        "print(\"The actual mean of followers distribution is \" , profiles.followers.mean())\n",
        "print(\"The actual mode of followers distribution is \", profiles.followers.mode())\n",
        "print(\"The actual median of followers distribution is \",profiles.followers.median())\n",
        "print(\"The actual 1st quartile of followers distribution is \",profiles.followers.quantile(.25))\n",
        "print(\"The actual 3rd quartile of followers distribution is \",profiles.followers.quantile(.75))"
      ],
      "metadata": {
        "colab": {
          "base_uri": "https://localhost:8080/"
        },
        "id": "c_4IlsjG9Iu3",
        "outputId": "9e84499f-ea7e-42aa-efda-cff7d43c28ad"
      },
      "execution_count": null,
      "outputs": [
        {
          "output_type": "stream",
          "name": "stdout",
          "text": [
            "The actual mean of followers distribution is  4739.899180397426\n",
            "The actual mode of followers distribution is  0    0.0\n",
            "dtype: float64\n",
            "The actual median of followers distribution is  406.0\n",
            "The actual 1st quartile of followers distribution is  159.0\n",
            "The actual 3rd quartile of followers distribution is  974.0\n"
          ]
        }
      ]
    },
    {
      "cell_type": "code",
      "source": [
        "print(\"The  mean of truncate followers distribution is \" , followers_outliers.mean())\n",
        "print(\"The  mode of truncate followers distribution is \", followers_outliers.mode())\n",
        "print(\"The  median of truncate followers distribution is \",followers_outliers.median())\n",
        "print(\"The 1st quartile of truncate followers distribution is \",followers_outliers.quantile(.25))\n",
        "print(\"The  3rd quartile of truncate followers distribution is \",followers_outliers.quantile(.75))"
      ],
      "metadata": {
        "colab": {
          "base_uri": "https://localhost:8080/"
        },
        "id": "GjA3Cd4o9TH1",
        "outputId": "16329ca9-0458-41d8-9cb8-08e05ffc2d98"
      },
      "execution_count": null,
      "outputs": [
        {
          "output_type": "stream",
          "name": "stdout",
          "text": [
            "The  mean of truncate followers distribution is  740.7206838108066\n",
            "The  mode of truncate followers distribution is  0    50.0\n",
            "dtype: float64\n",
            "The  median of truncate followers distribution is  407.0\n",
            "The 1st quartile of truncate followers distribution is  179.0\n",
            "The  3rd quartile of truncate followers distribution is  886.0\n"
          ]
        }
      ]
    },
    {
      "cell_type": "markdown",
      "source": [
        "The mean is not a robust indicator, it is heavily influenced by outliers, so in the non-truncated distribution it does not represent a good representation of the distribution.\n",
        "\n",
        "Mode is the character that occurs most often in distribution, in true distribution it is 0, which is not very representative, as it represents unused or false profiles.\n",
        "\n",
        "The median, being a robust index, is a good statistic to represent the distribution. It is not influenced by the outliers, so it is almost similar between the true distribution and the truncated distribution.\n",
        "\n",
        "First and third quartiles are similar both in the truncated and untreated distribution, this is because like the median, they are position indices and therefore are not influenced by outliers."
      ],
      "metadata": {
        "id": "qQUcnfrT-9Up"
      }
    },
    {
      "cell_type": "markdown",
      "source": [
        "8.4) What are histograms, bar plots, scatterplots and pie charts used for?\n",
        "----\n",
        "*   **Histograms:** is a graphical rappresentation to demonstrate how many of a certain type of variable occur within a specific range. It is used for give an approximation of the distribution of data points we are dealing with.\n",
        "*   **Scatterplots:** is a graphical rappresentation of data points on a two-dimensional plane. It is used for show the relationship between the two variables of interest.\n",
        "*   **Pie charts:** is a graphical rappresentation divided into slices (groups) to illustrate numerical proportion of the data points within the slices."
      ],
      "metadata": {
        "id": "KG2nAQWUNDEA"
      }
    },
    {
      "cell_type": "markdown",
      "source": [
        "8.5) What insights can you extract from a Box Plot?\n",
        "----\n",
        "The information that a boxplot provides are:\n",
        "\n",
        "The minimun of the distribution\n",
        "\n",
        "The maximum of the distribution\n",
        "\n",
        "The first quartile ( quantile of level .25)\n",
        "\n",
        "The Median ( second quartile or quantile of level .5)\n",
        "The third quartile ( quantile of level .75)\n",
        "Sometimes is worth to show also the mean of the distribution, in order to compare it with the median.\n",
        "\n",
        "With the boxplot rappresentation we can extract the skewness of the distribution."
      ],
      "metadata": {
        "id": "448jyGDwNVP7"
      }
    },
    {
      "cell_type": "markdown",
      "source": [
        "# Bonus point\n",
        "\n",
        "\n",
        "Bonus question a) Compare the mean of time intervals between posts for the two categories. Do you notice something relevant?\n",
        "----\n",
        "\n",
        "In order to do this task we split the profile dataset in two:\n",
        "\n",
        "Group 1 = \" the 10% of users with more number of followers\"\n",
        "\n",
        "Group 2 = \" the rest users\"\n",
        "\n",
        "For each profile we should compute all the differences between posts intervall and compute the mean. To handle this complex problem we use this property: The mean of all the differences of a list is: \n",
        "\\begin{equation}\\frac{maximum - minimum}{ lenght(list) -  1}\n",
        "\\end{equation}.\n",
        "\n",
        "To explain this property better we show an example:\n",
        "\n",
        "L=[ 10 , 9 , 4, 1 ]\n",
        "\n",
        "Doing the mean of the differences we are computing:\n",
        "\n",
        "\n",
        "\\begin{equation}\n",
        "\\frac{(10 - 9 ) + (9 - 4) + (4 - 1)}{3}  = \\frac{10 -1}{3}  =  \\frac{maximum - minimum}{lenght(list) -  1} \n",
        "\\end{equation}\n",
        "\n",
        "\n",
        "After computing the mean of time intervals between posts for each profile, we compute the mean of all the means for the two groups.\n",
        "\n",
        "Remark are shown below."
      ],
      "metadata": {
        "id": "Ijvfi0hJw_c6"
      }
    },
    {
      "cell_type": "code",
      "source": [
        "profiles =pd.read_csv(\"/content/drive/MyDrive/ADM_HW2/instagram_profiles.csv\",sep='\\t' , usecols=[\"followers\", \"sid\"])\n",
        "posts =pd.read_csv(\"/content/drive/MyDrive/ADM_HW2/instagram_posts.csv\",sep='\\t',usecols=['sid_profile' , 'cts' ])"
      ],
      "metadata": {
        "id": "lxYKNjLSxBo1"
      },
      "execution_count": null,
      "outputs": []
    },
    {
      "cell_type": "code",
      "source": [
        "#Dividing in two groups\n",
        "group_1= profiles[profiles.followers > profiles.followers.quantile(.9)]\n",
        "group_2= profiles[profiles.followers <= profiles.followers.quantile(.9)]"
      ],
      "metadata": {
        "id": "iMQpFPmUxMkS"
      },
      "execution_count": null,
      "outputs": []
    },
    {
      "cell_type": "code",
      "source": [
        "# String into datatime\n",
        "\n",
        "posts['cts'] = pd.to_datetime(posts.cts)"
      ],
      "metadata": {
        "id": "nGcHMrndx4-I"
      },
      "execution_count": null,
      "outputs": []
    },
    {
      "cell_type": "code",
      "source": [
        "def condition(x):\n",
        "    if len(x)> 1:\n",
        "        return (max(x)-min(x)) / (len(x) -1)"
      ],
      "metadata": {
        "id": "h88fNRy3WbrI"
      },
      "execution_count": null,
      "outputs": []
    },
    {
      "cell_type": "code",
      "source": [
        "g = posts.cts.groupby(posts.sid_profile).apply(list).reset_index()    \n",
        "g['mean_time'] = g.cts.apply(condition)"
      ],
      "metadata": {
        "id": "43UkmmQr69xq"
      },
      "execution_count": null,
      "outputs": []
    },
    {
      "cell_type": "code",
      "source": [
        "df = pd.merge( g , group_1, left_on=\"sid_profile\", right_on=\"sid\").drop(['sid', 'followers'], axis=1)"
      ],
      "metadata": {
        "id": "g4HKCjIhi0Qs"
      },
      "execution_count": null,
      "outputs": []
    },
    {
      "cell_type": "code",
      "source": [
        "df2 = pd.merge( g , group_2, left_on=\"sid_profile\", right_on=\"sid\").drop(['sid', 'followers'], axis=1)"
      ],
      "metadata": {
        "id": "TwF3RPzu5M-Z"
      },
      "execution_count": null,
      "outputs": []
    },
    {
      "cell_type": "code",
      "source": [
        "print(\" The mean of time intervals between posts for 10% users with more followers is:\" , np.mean(df.mean_time))\n",
        "print(\"\\n\")\n",
        "print(\" The mean of time intervals between posts for the rest  is:\" , np.mean(df2.mean_time))"
      ],
      "metadata": {
        "id": "OPGT15g0ddcp",
        "colab": {
          "base_uri": "https://localhost:8080/"
        },
        "outputId": "328c310c-684f-4ec6-cfab-3ece891de6bb"
      },
      "execution_count": null,
      "outputs": [
        {
          "output_type": "stream",
          "name": "stdout",
          "text": [
            " The mean of time intervals between posts for 10% users with more followers is: 21 days 02:01:29.719255836\n",
            "\n",
            "\n",
            " The mean of time intervals between posts for the rest  is: 22 days 16:41:23.287644480\n"
          ]
        }
      ]
    },
    {
      "cell_type": "markdown",
      "source": [
        "It result not relevant difference between the time intervals for the two groups "
      ],
      "metadata": {
        "id": "r9QeM59aW9rS"
      }
    },
    {
      "cell_type": "markdown",
      "source": [
        "\n",
        "Bonus question b) Are there users that have visited the same location on the same day? How about the same week? Extract the results and explain them.\n",
        "---\n",
        "\n",
        "We understood from this task that is required to count how many users have posted on the same day at the same location.\n",
        "\n",
        "To do this task we group by \"cts\" and \"location\" the dataset posts and we count how many users have posted the post the same day at the same location.\n",
        "\n",
        "The same procedure for doing the week."
      ],
      "metadata": {
        "id": "f4bTds-znAo4"
      }
    },
    {
      "cell_type": "code",
      "source": [
        "posts =pd.read_csv(\"/content/drive/MyDrive/ADM_HW2/instagram_posts.csv\",sep='\\t',usecols=['sid_profile' , 'cts', 'location_id' ])"
      ],
      "metadata": {
        "id": "vKfdOP9ynDwF"
      },
      "execution_count": null,
      "outputs": []
    },
    {
      "cell_type": "code",
      "source": [
        "posts = posts[posts.sid_profile != -1]\n",
        "posts.cts = pd.to_datetime(posts.cts)\n",
        "week= list(map(str, posts.cts.dt.isocalendar().week))\n",
        "date_time = list(map(str, posts.cts.dt.year))"
      ],
      "metadata": {
        "id": "ad1hs6EWnq3f"
      },
      "execution_count": null,
      "outputs": []
    },
    {
      "cell_type": "code",
      "source": [
        "l = posts.groupby(['cts' , 'location_id'] , group_keys=True).nunique()"
      ],
      "metadata": {
        "id": "AzPwZIoBpMDE"
      },
      "execution_count": null,
      "outputs": []
    },
    {
      "cell_type": "code",
      "source": [
        "print('There are', sum(l.sid_profile > 1), 'people who visited the same location the same day')"
      ],
      "metadata": {
        "id": "2vmgO8jPpXtK",
        "outputId": "7abca620-ae78-4d90-dd41-b7b62343ccb5",
        "colab": {
          "base_uri": "https://localhost:8080/"
        }
      },
      "execution_count": null,
      "outputs": [
        {
          "output_type": "stream",
          "name": "stdout",
          "text": [
            "There are 7210 people who visited the same location the same day\n"
          ]
        }
      ]
    },
    {
      "cell_type": "code",
      "source": [
        "d = []\n",
        "for i in range(len(posts)):\n",
        "  d.append( week[i] + ' ' + date_time[i])\n",
        "posts.cts = d"
      ],
      "metadata": {
        "id": "b8epAqKo_Ksp"
      },
      "execution_count": null,
      "outputs": []
    },
    {
      "cell_type": "code",
      "source": [
        "print(\"there are \" ,sum(l.sid_profile > 1), \" users who visited the same location on the same week\")"
      ],
      "metadata": {
        "colab": {
          "base_uri": "https://localhost:8080/"
        },
        "id": "iHMjCBXbDmM6",
        "outputId": "4571aaf6-2661-4a8e-a8b7-54394597f436"
      },
      "execution_count": null,
      "outputs": [
        {
          "output_type": "stream",
          "name": "stdout",
          "text": [
            "there are  7210  users who visited the same location on the same week\n"
          ]
        }
      ]
    },
    {
      "cell_type": "markdown",
      "source": [
        "Bonus question c) Implement a text data analysis\n",
        "---\n",
        "In order to do a text data analysis we will do a word cloud of the most common word used in instagram description. We will scan through all the posts descirptions without counting the stepwords.\n",
        "\n"
      ],
      "metadata": {
        "id": "-bqLw9vdex_r"
      }
    },
    {
      "cell_type": "code",
      "source": [
        "from nltk.corpus import stopwords\n",
        "from wordcloud import WordCloud\n",
        "import cv2"
      ],
      "metadata": {
        "id": "0rDdVbGogLPD"
      },
      "execution_count": null,
      "outputs": []
    },
    {
      "cell_type": "code",
      "source": [
        "posts =pd.read_csv(\"/content/drive/MyDrive/ADM_HW2/instagram_posts.csv\",sep='\\t',usecols=['description'], nrows= 1000000)\n",
        "nltk.download('stopwords')"
      ],
      "metadata": {
        "colab": {
          "base_uri": "https://localhost:8080/"
        },
        "id": "c65srLjw5TE0",
        "outputId": "3ced093a-b81d-4a74-f0fa-649cde8428df"
      },
      "execution_count": null,
      "outputs": [
        {
          "output_type": "stream",
          "name": "stderr",
          "text": [
            "[nltk_data] Downloading package stopwords to /root/nltk_data...\n",
            "[nltk_data]   Package stopwords is already up-to-date!\n"
          ]
        },
        {
          "output_type": "execute_result",
          "data": {
            "text/plain": [
              "True"
            ]
          },
          "metadata": {},
          "execution_count": 3
        }
      ]
    },
    {
      "cell_type": "code",
      "source": [
        "parole_inutili = set(stopwords.words(['english', 'spanish', \"italian\", 'french', \"german\"] ))\n",
        "parole_inutili2 = set( i.capitalize() for i in parole_inutili) | parole_inutili\n",
        "def cond(a):\n",
        "  if a in parole_inutili2:\n",
        "    return False\n",
        "  s=\"qwertyuiopasdfghjklzxcvbnmQWERTYUIOPASDFGHJKLZXCVBNM\"\n",
        "\n",
        "  s2 = set()\n",
        "  for i in s:\n",
        "    s2.add(i)\n",
        "\n",
        "  if len(a)>2 :\n",
        "    if  all(x in s for x in a):\n",
        "      return True\n",
        "  return False"
      ],
      "metadata": {
        "id": "MBzFtd03fHLs"
      },
      "execution_count": null,
      "outputs": []
    },
    {
      "cell_type": "code",
      "source": [
        "d = {}\n",
        "arr=[]\n",
        "for x in posts.description:\n",
        "  if type(x)== str:\n",
        "    arr+=x.split(\" \")\n",
        "s=set()\n",
        "for j in range(len(arr)):\n",
        "  if  cond(arr[j]):\n",
        "    if arr[j] not in s:\n",
        "      d[arr[j]]=1\n",
        "      s.add(arr[j])\n",
        "    else:\n",
        "      d[arr[j]] += 1\n",
        "\n",
        "arr2=sorted([[d[i],i] for i in d], reverse = True)\n"
      ],
      "metadata": {
        "id": "gIR8fNdj5veM"
      },
      "execution_count": null,
      "outputs": []
    },
    {
      "cell_type": "code",
      "source": [
        "df = pd.DataFrame(arr2)\n",
        "data = df.set_index(1).to_dict()[0]\n",
        "img = cv2.imread(\"/content/Instagram_mask.png\")"
      ],
      "metadata": {
        "id": "Sz8i_lDN6soe"
      },
      "execution_count": null,
      "outputs": []
    },
    {
      "cell_type": "code",
      "source": [
        "wc = WordCloud(width=800, height=400, max_words=200).generate_from_frequencies(data)\n",
        "\n",
        "\n",
        "wc = WordCloud(background_color='white', width=800, height=400, max_words=200, mask=img).generate_from_frequencies(data)\n",
        "plt.title(\"Word Cloud of Istagram\")\n",
        "plt.figure(figsize=(10, 10));\n",
        "plt.imshow(wc, interpolation='bilinear');\n",
        "plt.axis(\"off\");\n"
      ],
      "metadata": {
        "colab": {
          "base_uri": "https://localhost:8080/",
          "height": 595
        },
        "id": "FcRizrpBOcMB",
        "outputId": "eb5f671d-ad59-4d12-fc89-e9e2c8800802"
      },
      "execution_count": null,
      "outputs": [
        {
          "output_type": "display_data",
          "data": {
            "text/plain": [
              "<Figure size 720x720 with 1 Axes>"
            ],
            "image/png": "[encoded data removed]"
          },
          "metadata": {
            "needs_background": "light"
          }
        }
      ]
    },
    {
      "cell_type": "markdown",
      "source": [
        "\n",
        "# **Algorithmic Question**\n"
      ],
      "metadata": {
        "id": "VQFcpUV_UvqH"
      }
    },
    {
      "cell_type": "markdown",
      "source": [
        "#[AQ1] Given the following pseudocode, answer the questions:\n"
      ],
      "metadata": {
        "id": "dsaHOVeAVFLZ"
      }
    },
    {
      "cell_type": "markdown",
      "source": [
        "# [AQ2] Considering the following problem, answer the questions:\n"
      ],
      "metadata": {
        "id": "QNdIgplpVI_B"
      }
    },
    {
      "cell_type": "markdown",
      "source": [
        "1- Implement a recursive algorithm to help Alex find the maximum possible value after multiplying the length of the pieces. Explain your algorithm in detail."
      ],
      "metadata": {
        "id": "0WOAhOGCVKtL"
      }
    },
    {
      "cell_type": "code",
      "source": [
        "#Implement a recursive algorithm to help Alex find the maximum possible value after multiplying the length of the pieces. Explain your algorithm in detail.\n",
        "\n",
        "def cut_recursive(N):\n",
        "    # base case 1 = 0 + 1 zero cut one piece\n",
        "    if (N == 1):\n",
        "        return 0\n",
        "    # base case 2 = 1 + 1 one cuts two pieces\n",
        "    elif (N == 2):\n",
        "        return 1\n",
        "    #  base case 3 = 2 + 1 two cuts three pieces\n",
        "    elif (N == 3):\n",
        "        return 2\n",
        "    # More than two cuts\n",
        "    else:\n",
        "        # Make cuts in different places, take the maximum possible\n",
        "        max_possible = 0\n",
        "        for i in range(2, N - 1):\n",
        "            max_possible = max(max_possible, max(i * (N - i), i * cut_recursive(N - i)))\n",
        "    # Return the maximum possible value \n",
        "    return max_possible\n"
      ],
      "metadata": {
        "id": "zJtN8OOqUo-A"
      },
      "execution_count": 3,
      "outputs": []
    },
    {
      "cell_type": "markdown",
      "source": [
        "2- Show that the algorithm has exponential running time.\n",
        "\n",
        "- The recusive algorithm while calculating the max_possible the function calls itself several times which form a tree most of it's nodes are redundant, therefore the time complexity is exponential O(2^n)."
      ],
      "metadata": {
        "id": "qye9-KJ3VUzV"
      }
    },
    {
      "cell_type": "markdown",
      "source": [
        "3- Now provide a polynomial solution, based on dynamic programming, and compute its running-time complexity."
      ],
      "metadata": {
        "id": "wOhKGKmCVWYt"
      }
    },
    {
      "cell_type": "code",
      "source": [
        "#Now provide a polynomial solution, based on dynamic programming, and compute its running-time complexity.\n",
        "\n",
        "def cut_dypro(N):\n",
        "    pol=[]\n",
        "    for i in range(N + 1):\n",
        "        pol.append(0)\n",
        "    for i in range(1, N + 1):\n",
        "        max_possible = 0\n",
        "        for j in range(1, i):\n",
        "            max_possible = max(max_possible, (i - j) * j, j * pol[i - j])\n",
        "            pol[i] = max_possible\n",
        "    return pol[N]\n"
      ],
      "metadata": {
        "id": "ySZBGZO4Vajl"
      },
      "execution_count": 4,
      "outputs": []
    },
    {
      "cell_type": "markdown",
      "source": [
        "- Compute its running-time complexity.\n",
        "\n",
        "\n",
        "Time Complexity of the Dynamic Programming solution is O(n^2) "
      ],
      "metadata": {
        "id": "OT-V3iIKVdWu"
      }
    },
    {
      "cell_type": "markdown",
      "source": [
        "4- Evaluate the running time of your algorithm for the sizes (Ns) in the range of [2, 25], plot the results, and interpret it (if you have implemented two algorithms, please include both in the plot and compare them)."
      ],
      "metadata": {
        "id": "jSQQGpFfVgVF"
      }
    },
    {
      "cell_type": "code",
      "source": [
        "#Evaluate the running time of your algorithm for the sizes (Ns) in the range of [2, 25], plot the results, and interpret it (if you have implemented two algorithms, please include both in the plot and compare them).\n",
        "\n",
        "#The running time of recursive algorithm for the sizes in the range of [2, 25]\n",
        "\n",
        "import time\n",
        "from datetime import timedelta\n",
        "start_time = time.monotonic()\n",
        "print([cut_recursive(n) for n in range(2,25)])\n",
        "end_time = time.monotonic()\n",
        "print(timedelta(seconds=end_time - start_time))\n"
      ],
      "metadata": {
        "id": "ZnT8m19rVjVj",
        "outputId": "fbdc55f4-a716-4d51-f823-34e91df75ca5",
        "colab": {
          "base_uri": "https://localhost:8080/"
        }
      },
      "execution_count": 5,
      "outputs": [
        {
          "output_type": "stream",
          "name": "stdout",
          "text": [
            "[1, 2, 4, 6, 9, 12, 18, 27, 36, 54, 81, 108, 162, 243, 324, 486, 729, 972, 1458, 2187, 2916, 4374, 6561]\n",
            "0:00:00.135279\n"
          ]
        }
      ]
    },
    {
      "cell_type": "code",
      "source": [
        "#The running time of dynamic programming algorithm for the sizes in the range of [2, 25]\n",
        "\n",
        "import time\n",
        "from datetime import timedelta\n",
        "start_time = time.monotonic()\n",
        "print([cut_dypro(n) for n in range(2,25)])\n",
        "end_time = time.monotonic()\n",
        "print(timedelta(seconds=end_time - start_time))\n"
      ],
      "metadata": {
        "id": "eoERuxiSVor-",
        "outputId": "af12b1de-d8b2-4950-ff96-4787e746ba4a",
        "colab": {
          "base_uri": "https://localhost:8080/"
        }
      },
      "execution_count": 6,
      "outputs": [
        {
          "output_type": "stream",
          "name": "stdout",
          "text": [
            "[1, 2, 4, 6, 9, 12, 18, 27, 36, 54, 81, 108, 162, 243, 324, 486, 729, 972, 1458, 2187, 2916, 4374, 6561]\n",
            "0:00:00.003347\n"
          ]
        }
      ]
    },
    {
      "cell_type": "code",
      "source": [
        "#plot the results, and interpret it (if you have implemented two algorithms, please include both in the plot and compare them).\n",
        "\n",
        "from matplotlib import pyplot as plt\n",
        "from matplotlib.pyplot import figure\n",
        "import timeit\n",
        "\n",
        "ns1 = range(2,25)\n",
        "ts1 = [timeit.timeit('cut_recursive({})'.format(n),\n",
        "                    globals=globals(),\n",
        "                    number=1)\n",
        "         for n in ns1]\n",
        "ns2 = range(2,25)\n",
        "ts2 = [timeit.timeit('cut_dypro({})'.format(n),\n",
        "                    globals=globals(),\n",
        "                    number=1)\n",
        "         for n in ns2]\n",
        "sns.set()\n",
        "figure(figsize=(14, 8))\n",
        "plt.plot(ns1, ts1, '-r', label= 'recursive')\n",
        "plt.plot(ns2, ts2, '-b', label= 'dynamic programming')\n",
        "plt.xlabel('The range(2, 25)') \n",
        "plt.ylabel('The running time of the algorithm') \n",
        "plt.title('The running time of the algorithms on the range of [2, 25]')\n",
        "plt.legend()\n",
        "plt.show()\n"
      ],
      "metadata": {
        "id": "oPfx_eT2VqnC",
        "outputId": "0efa22a1-f4b0-4c36-ce48-64dcf21e7f46",
        "colab": {
          "base_uri": "https://localhost:8080/",
          "height": 518
        }
      },
      "execution_count": 7,
      "outputs": [
        {
          "output_type": "display_data",
          "data": {
            "text/plain": [
              "<Figure size 1008x576 with 1 Axes>"
            ],
            "image/png": "[encoded data removed]"
          },
          "metadata": {}
        }
      ]
    },
    {
      "cell_type": "markdown",
      "source": [
        "- From the plot we can see that the dynamic programming algorithm running time is much less than the recursive algorithm, hence it makes the code run faster and reduce the time complexity.\n",
        "\n",
        "\n"
      ],
      "metadata": {
        "id": "GSTBcYGDVwdc"
      }
    },
    {
      "cell_type": "markdown",
      "source": [
        "5- (Optional, mini bonus) Is the algorithm of question 3 optimal? If you belive it, can you prove it? If not, can you find a faster algorithm? In case you found a faster algorithm implement it and explain your algorithm in detail."
      ],
      "metadata": {
        "id": "nzpLBHoMV3aH"
      }
    },
    {
      "cell_type": "code",
      "source": [
        "#(Optional, mini bonus) Is the algorithm of question 3 optimal? If you belive it, can you prove it? If not, can you find a faster algorithm? In case you found a faster algorithm implement it and explain your algorithm in detail.\n",
        "\n",
        "def cut_rub(n):\n",
        "    # n less or equals than 3\n",
        "    if (n <= 3):\n",
        "        return (n - 1)\n",
        "    # while n is greater than 4 we remove parts of size 3\n",
        "    num = 1\n",
        "    while (n > 4):\n",
        "        n = n - 3; \n",
        "        # we multiply num by 3\n",
        "        num = num * 3;\n",
        "    # finaly we multiply the last part with the previous ones\n",
        "    nf=n * num\n",
        "    return nf"
      ],
      "metadata": {
        "id": "Onx_0phJV5rF"
      },
      "execution_count": 8,
      "outputs": []
    },
    {
      "cell_type": "code",
      "source": [
        "import time\n",
        "from datetime import timedelta\n",
        "start_time = time.monotonic()\n",
        "print([cut_rub(n) for n in range(2,25)])\n",
        "end_time = time.monotonic()\n",
        "print(timedelta(seconds=end_time - start_time))\n"
      ],
      "metadata": {
        "id": "1mKbVeZaV90A",
        "outputId": "e1e013e4-b60b-410d-b31d-b360017e6a94",
        "colab": {
          "base_uri": "https://localhost:8080/"
        }
      },
      "execution_count": 10,
      "outputs": [
        {
          "output_type": "stream",
          "name": "stdout",
          "text": [
            "[1, 2, 4, 6, 9, 12, 18, 27, 36, 54, 81, 108, 162, 243, 324, 486, 729, 972, 1458, 2187, 2916, 4374, 6561]\n",
            "0:00:00.000813\n"
          ]
        }
      ]
    },
    {
      "cell_type": "markdown",
      "source": [
        "- As we can see this algorithm is faster than the dynamical programming algorithm, as conclusion we can say that the dynamical programming algorithm is not optimal."
      ],
      "metadata": {
        "id": "H1JEC7HzWFhu"
      }
    }
  ]
}