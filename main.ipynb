{
  "nbformat": 4,
  "nbformat_minor": 0,
  "metadata": {
    "colab": {
      "provenance": [],
      "collapsed_sections": [],
      "include_colab_link": true
    },
    "kernelspec": {
      "name": "python3",
      "display_name": "Python 3"
    },
    "language_info": {
      "name": "python"
    }
  },
  "cells": [
    {
      "cell_type": "markdown",
      "metadata": {
        "id": "view-in-github",
        "colab_type": "text"
      },
      "source": [
        "<a href=\"https://colab.research.google.com/github/PaoloBarba/ADM_HW2-Group18/blob/main/main.ipynb\" target=\"_parent\"><img src=\"https://colab.research.google.com/assets/colab-badge.svg\" alt=\"Open In Colab\"/></a>"
      ]
    },
    {
      "cell_type": "markdown",
      "source": [
        "# **Algorithmic Methods of Data Mining**\n",
        "\n",
        "#Academic year 2022–2023\n",
        "\n",
        "# Homework 2 - Instagram Profiles & Posts\n",
        "\n",
        "Authors: Barba Paolo, Bellaroba Albachiara, Soukaina Alaoui, Gasbarri Francesca."
      ],
      "metadata": {
        "id": "kYur1faNzt2h"
      }
    },
    {
      "cell_type": "markdown",
      "source": [
        "#Import the packages and upload datasets\n"
      ],
      "metadata": {
        "id": "z4aPRI3HA63g"
      }
    },
    {
      "cell_type": "code",
      "execution_count": 122,
      "metadata": {
        "id": "wLM1xak2KwOU"
      },
      "outputs": [],
      "source": [
        "import pandas as pd\n",
        "import random\n",
        "import numpy as np\n",
        "import math\n",
        "import seaborn as sns\n",
        "import matplotlib.pyplot as plt\n",
        "import scipy.stats as stats\n",
        "from tqdm import tqdm     \n",
        "import statsmodels.api as sm\n",
        "from datetime import datetime\n",
        "from time import strptime\n",
        "from datetime import datetime, date\n",
        "import nltk\n",
        "from nltk.corpus import stopwords\n",
        "from wordcloud import WordCloud\n",
        "import cv2\n",
        "\n",
        "\n"
      ]
    },
    {
      "cell_type": "code",
      "source": [
        "from google.colab import drive \n",
        "drive.mount('/content/drive/')"
      ],
      "metadata": {
        "colab": {
          "base_uri": "https://localhost:8080/"
        },
        "id": "BGnoXZUTLWAw",
        "outputId": "0e05b955-7def-4819-aa0a-7db8cf431e2e"
      },
      "execution_count": 3,
      "outputs": [
        {
          "output_type": "stream",
          "name": "stdout",
          "text": [
            "Mounted at /content/drive/\n"
          ]
        }
      ]
    },
    {
      "cell_type": "code",
      "source": [
        "locations =pd.read_csv('/content/drive/MyDrive/ADM_HW2/instagram_locations.csv',sep='\\t')\n",
        "profiles =pd.read_csv(\"/content/drive/MyDrive/ADM_HW2/instagram_profiles.csv\",sep='\\t')\n",
        "#posts =pd.read_csv(\"/content/drive/MyDrive/ADM_HW2/instagram_posts.csv\",sep='\\t',nrows=10000)"
      ],
      "metadata": {
        "id": "iX6V6SXCQ6tK"
      },
      "execution_count": null,
      "outputs": []
    },
    {
      "cell_type": "markdown",
      "source": [
        "# RQ1 \n",
        "## Exploratory Data Analysis"
      ],
      "metadata": {
        "id": "BpkqZqMECBDT"
      }
    },
    {
      "cell_type": "markdown",
      "source": [
        "To perform an explanatory data analysis, we will go through three different steps: data explorations, data manipulations, and data summary.\n",
        "First, we will show the first few rows of the datasets we are analyzing."
      ],
      "metadata": {
        "id": "VXsKZDOdCIRo"
      }
    },
    {
      "cell_type": "code",
      "source": [
        "locations.head()"
      ],
      "metadata": {
        "id": "aVi6zjocbcK2"
      },
      "execution_count": null,
      "outputs": []
    },
    {
      "cell_type": "code",
      "source": [
        "profiles.head()"
      ],
      "metadata": {
        "id": "bj3WmAzyCMEy"
      },
      "execution_count": null,
      "outputs": []
    },
    {
      "cell_type": "code",
      "source": [
        "posts.head()"
      ],
      "metadata": {
        "id": "c5dDdZl7CMMG"
      },
      "execution_count": null,
      "outputs": []
    },
    {
      "cell_type": "markdown",
      "source": [
        "We can now look at the columns of our datasets to understand which variables we are analyzing.\n",
        "First of all, we will do info method into the dataset to quickly understand the variables we are working with, get the number of rows and\n",
        "columns we have for each dataset."
      ],
      "metadata": {
        "id": "ChBPh66WZsXz"
      }
    },
    {
      "cell_type": "code",
      "source": [
        "locations.info()"
      ],
      "metadata": {
        "id": "0mY-XE9VZWuY",
        "colab": {
          "base_uri": "https://localhost:8080/"
        },
        "outputId": "6e5afb20-02d4-43cd-cc0d-6a18662eb5c2"
      },
      "execution_count": null,
      "outputs": [
        {
          "output_type": "stream",
          "name": "stdout",
          "text": [
            "<class 'pandas.core.frame.DataFrame'>\n",
            "RangeIndex: 1022658 entries, 0 to 1022657\n",
            "Data columns (total 23 columns):\n",
            " #   Column                  Non-Null Count    Dtype  \n",
            "---  ------                  --------------    -----  \n",
            " 0   sid                     1022658 non-null  int64  \n",
            " 1   id                      1022658 non-null  int64  \n",
            " 2   name                    1022658 non-null  object \n",
            " 3   street                  715704 non-null   object \n",
            " 4   zip                     715579 non-null   object \n",
            " 5   city                    937166 non-null   object \n",
            " 6   region                  1760 non-null     object \n",
            " 7   cd                      939010 non-null   object \n",
            " 8   phone                   601688 non-null   object \n",
            " 9   aj_exact_city_match     1000510 non-null  object \n",
            " 10  aj_exact_country_match  1000510 non-null  object \n",
            " 11  blurb                   406705 non-null   object \n",
            " 12  dir_city_id             495698 non-null   object \n",
            " 13  dir_city_name           495698 non-null   object \n",
            " 14  dir_city_slug           495221 non-null   object \n",
            " 15  dir_country_id          495628 non-null   object \n",
            " 16  dir_country_name        495698 non-null   object \n",
            " 17  lat                     1016495 non-null  float64\n",
            " 18  lng                     1016495 non-null  float64\n",
            " 19  primary_alias_on_fb     425531 non-null   object \n",
            " 20  slug                    941668 non-null   object \n",
            " 21  website                 623262 non-null   object \n",
            " 22  cts                     1022658 non-null  object \n",
            "dtypes: float64(2), int64(2), object(19)\n",
            "memory usage: 179.5+ MB\n"
          ]
        }
      ]
    },
    {
      "cell_type": "code",
      "source": [
        "profiles.info()"
      ],
      "metadata": {
        "id": "K_wy7BA9ZnI2",
        "colab": {
          "base_uri": "https://localhost:8080/"
        },
        "outputId": "117ad3c0-f2ee-4e61-f2b0-07bd928e2afa"
      },
      "execution_count": null,
      "outputs": [
        {
          "output_type": "stream",
          "name": "stdout",
          "text": [
            "<class 'pandas.core.frame.DataFrame'>\n",
            "RangeIndex: 4509586 entries, 0 to 4509585\n",
            "Data columns (total 11 columns):\n",
            " #   Column               Dtype  \n",
            "---  ------               -----  \n",
            " 0   sid                  int64  \n",
            " 1   profile_id           float64\n",
            " 2   profile_name         object \n",
            " 3   firstname_lastname   object \n",
            " 4   description          object \n",
            " 5   following            float64\n",
            " 6   followers            float64\n",
            " 7   n_posts              float64\n",
            " 8   url                  object \n",
            " 9   cts                  object \n",
            " 10  is_business_account  object \n",
            "dtypes: float64(4), int64(1), object(6)\n",
            "memory usage: 378.5+ MB\n"
          ]
        }
      ]
    },
    {
      "cell_type": "code",
      "source": [
        "posts.info()"
      ],
      "metadata": {
        "id": "WNvx6U-bZnK3",
        "colab": {
          "base_uri": "https://localhost:8080/"
        },
        "outputId": "fffd28eb-bb13-4144-ae01-dc7968846302"
      },
      "execution_count": null,
      "outputs": [
        {
          "output_type": "stream",
          "name": "stdout",
          "text": [
            "<class 'pandas.core.frame.DataFrame'>\n",
            "RangeIndex: 100000 entries, 0 to 99999\n",
            "Data columns (total 10 columns):\n",
            " #   Column           Non-Null Count   Dtype \n",
            "---  ------           --------------   ----- \n",
            " 0   sid              100000 non-null  int64 \n",
            " 1   sid_profile      100000 non-null  int64 \n",
            " 2   post_id          100000 non-null  object\n",
            " 3   profile_id       100000 non-null  int64 \n",
            " 4   location_id      100000 non-null  int64 \n",
            " 5   cts              100000 non-null  object\n",
            " 6   post_type        100000 non-null  int64 \n",
            " 7   description      91905 non-null   object\n",
            " 8   numbr_likes      100000 non-null  int64 \n",
            " 9   number_comments  100000 non-null  int64 \n",
            "dtypes: int64(7), object(3)\n",
            "memory usage: 7.6+ MB\n"
          ]
        }
      ]
    },
    {
      "cell_type": "code",
      "source": [
        "print(\"Locations dataframe has \" + str(locations.shape[0]) + \" observations and \"  + str(locations.shape[1]) + \" variables\")\n",
        "print(\"Profiles dataframe has \" + str(profiles.shape[0]) + \" observations and \"  + str(profiles.shape[1]) + \" variables\")\n",
        "print(\"Posts dataframe has \" + str(posts.shape[0]) + \" observations and \"  + str(posts.shape[1]) + \" variables\")"
      ],
      "metadata": {
        "id": "O0skTFSVCa9_"
      },
      "execution_count": null,
      "outputs": []
    },
    {
      "cell_type": "markdown",
      "source": [
        "We are going one step further, having a better understanding of the statistical properties of these data frames by using a described method that gives us basic statistics of all the numerical columns we have. We are doing a statistical summarization at all the numeric variables that have the sense to summarize."
      ],
      "metadata": {
        "id": "Su-C4-QVCehW"
      }
    },
    {
      "cell_type": "code",
      "source": [
        "profiles[[\"following\" , \"followers\" , \"n_posts\" ]].describe()"
      ],
      "metadata": {
        "id": "wnvtxA44CiZc"
      },
      "execution_count": null,
      "outputs": []
    },
    {
      "cell_type": "code",
      "source": [
        "posts[[\"numbr_likes\",\"number_comments\"]].describe()"
      ],
      "metadata": {
        "id": "rrdwvnsXCigt"
      },
      "execution_count": null,
      "outputs": []
    },
    {
      "cell_type": "markdown",
      "source": [
        "To do a better analysis, we clean up our datasets as much as possible by following the steps described below.\n",
        "\n",
        "\n",
        "1.   **Dealing with duplicates rows**:\n",
        "      we drop every duplicates rows because contains useless informations \n",
        "2.    **Dealing with missing values**:\n",
        "      we check the percentage of missing values in each column, we drop a column that contains missing values over a set threshold. After we select some columns of interest and drop the NA\n",
        "3. **Dealing with outliers:** It is risky to include outliers in data-driven models. For some variables of interest, we have incorrect typing data or false profiles that influence the distribution so much, we want to detect them and decide whether to delete them or not.\n",
        "\n",
        "\n",
        "\n"
      ],
      "metadata": {
        "id": "s1r22STZeOiX"
      }
    },
    {
      "cell_type": "code",
      "source": [
        "#Duplicates rows\n",
        "profiles.drop_duplicates(inplace=True)\n",
        "posts.drop_duplicates(inplace=True)\n",
        "locations.drop_duplicates(inplace=True)"
      ],
      "metadata": {
        "id": "zLHqdQALQsvz"
      },
      "execution_count": null,
      "outputs": []
    },
    {
      "cell_type": "code",
      "source": [
        "#Dealing with missing values, columns that contains so much Na\n",
        "#check for null values / % of null values we have\n",
        "print('Null values percentage for locations dataset')\n",
        "print(locations.isnull().sum()/locations.shape[0])\n",
        "print('\\n')\n",
        "print('Null values percentage for profiles dataset')\n",
        "print(profiles.isnull().sum()/profiles.shape[0])\n",
        "print('\\n')\n",
        "print('Null values percentage for posts dataset')\n",
        "print(posts.isnull().sum()/posts.shape[0])"
      ],
      "metadata": {
        "id": "fuG5DEzWYUyt",
        "colab": {
          "base_uri": "https://localhost:8080/"
        },
        "outputId": "27ee2e74-98e3-4f2d-8986-22156a0d0be6"
      },
      "execution_count": null,
      "outputs": [
        {
          "output_type": "stream",
          "name": "stdout",
          "text": [
            "Null values percentage for locations dataset\n",
            "sid                       0.000000\n",
            "id                        0.000000\n",
            "name                      0.000000\n",
            "street                    0.300153\n",
            "zip                       0.300275\n",
            "city                      0.083598\n",
            "region                    0.998279\n",
            "cd                        0.081795\n",
            "phone                     0.411643\n",
            "aj_exact_city_match       0.021657\n",
            "aj_exact_country_match    0.021657\n",
            "blurb                     0.602306\n",
            "dir_city_id               0.515285\n",
            "dir_city_name             0.515285\n",
            "dir_city_slug             0.515751\n",
            "dir_country_id            0.515353\n",
            "dir_country_name          0.515285\n",
            "lat                       0.006026\n",
            "lng                       0.006026\n",
            "primary_alias_on_fb       0.583897\n",
            "slug                      0.079196\n",
            "website                   0.390547\n",
            "cts                       0.000000\n",
            "dtype: float64\n",
            "\n",
            "\n",
            "Null values percentage for profiles dataset\n",
            "sid                    0.000000\n",
            "profile_id             0.007195\n",
            "profile_name           0.000000\n",
            "firstname_lastname     0.063967\n",
            "description            0.455917\n",
            "following              0.234349\n",
            "followers              0.234349\n",
            "n_posts                0.234349\n",
            "url                    0.807017\n",
            "cts                    0.097235\n",
            "is_business_account    0.236000\n",
            "dtype: float64\n",
            "\n",
            "\n",
            "Null values percentage for posts dataset\n",
            "sid                0.00000\n",
            "sid_profile        0.00000\n",
            "post_id            0.00000\n",
            "profile_id         0.00000\n",
            "location_id        0.00000\n",
            "cts                0.00000\n",
            "post_type          0.00000\n",
            "description        0.08095\n",
            "numbr_likes        0.00000\n",
            "number_comments    0.00000\n",
            "dtype: float64\n"
          ]
        }
      ]
    },
    {
      "cell_type": "code",
      "source": [
        "#remove null colums over the threshold\n",
        "profiles.dropna(thresh = len(profiles)*.6, axis=1)\n",
        "locations.dropna(thresh = len(locations)*.6, axis=1)"
      ],
      "metadata": {
        "id": "kA_1PN-EZF6F"
      },
      "execution_count": null,
      "outputs": []
    },
    {
      "cell_type": "markdown",
      "source": [
        "We have to manage Na and outliers values to do a better analysis.\n",
        "For Na values, we have more than one option to do.\n",
        "\n",
        "**Replace with the mean:** if there are a lot of missing values we are concentrating the distribution in the mean value and we lose information about the true shape of the distributions.\n",
        "\n",
        "**Drop Na:** We are losing a relevant percentage of the information we have, however having a huge quantity of data, doesn't influence so much the distribution we are analyzing. So in this case we will go through this procedure ."
      ],
      "metadata": {
        "id": "6Y1Je5cqvS25"
      }
    },
    {
      "cell_type": "code",
      "source": [
        "#We show only some example of variable we are cleaning\n",
        "posts.dropna(subset=['numbr_likes', 'number_comments'])"
      ],
      "metadata": {
        "id": "ObgYqhgSnjsn"
      },
      "execution_count": null,
      "outputs": []
    },
    {
      "cell_type": "markdown",
      "source": [
        "The existence of misleading values has the potential to change the conclusion implied by the model. It is, therefore, important to detect and then decide whether to remove it or not from the dataset. Sometimes the data point may be extremely high or low but that does not mean it is an outlier that we want to get rid of. In the case of Instagram, for instance, a huge amount of followers' value is no sign of errors but can correspond to influencer accounts. On the opposite, an account with zero posts or zero followers usually corresponds to a fake or new account that we don't want to consider in our analysis (we will clean them up when we will analyze them in the next questions) .\n",
        "\n"
      ],
      "metadata": {
        "id": "_I6_5VsCnqx3"
      }
    },
    {
      "cell_type": "code",
      "source": [
        "num_bins = 20\n",
        "plt.figure(figsize=(12,6))\n",
        "\n",
        "# Logaritmic histogram of the data and box plot\n",
        "plt.subplot(121)\n",
        "plt.hist(posts['numbr_likes'] ,  num_bins, facecolor='lightblue', alpha=0.5,log=True)\n",
        "plt.xlabel(\"log-value of number of likes\")\n",
        "plt.ylabel(\"density\")\n",
        "plt.title(\"Log distribution of \\n number of likes per account\", size = 16)\n",
        "\n",
        "plt.subplot(122)\n",
        "plt.hist(posts['number_comments'] ,  num_bins, facecolor='green', alpha=0.5,log=True)\n",
        "plt.xlabel(\"log-value of number of comments\")\n",
        "plt.ylabel(\"density\")\n",
        "plt.title(\"Log distribution of \\n number of comments per account\", size = 16)\n",
        "\n",
        "plt.show()"
      ],
      "metadata": {
        "id": "I-4SeA6df_on",
        "outputId": "215dca7d-1d01-4724-a921-f025fe314062",
        "colab": {
          "base_uri": "https://localhost:8080/",
          "height": 423
        }
      },
      "execution_count": null,
      "outputs": [
        {
          "output_type": "display_data",
          "data": {
            "text/plain": [
              "<Figure size 864x432 with 2 Axes>"
            ],
            "image/png": "[encoded data removed]"
          },
          "metadata": {
            "needs_background": "light"
          }
        }
      ]
    },
    {
      "cell_type": "code",
      "source": [
        "plt.figure(figsize=(12,6))\n",
        "plt.subplot(121)\n",
        "plt.boxplot(posts['numbr_likes'] )\n",
        "plt.xlabel(\"\")\n",
        "plt.ylabel(\"number of likes\")\n",
        "plt.title(\"Box-Plot of number of likes\", size = 16)\n",
        "\n",
        "plt.subplot(122)\n",
        "plt.boxplot(posts['number_comments'])\n",
        "plt.xlabel(\"\")\n",
        "plt.ylabel(\"number of comments\")\n",
        "plt.title(\"Box-Plot of number of comments\", size = 16)\n",
        "\n",
        "plt.show()"
      ],
      "metadata": {
        "id": "BVUCZ26lGm6m",
        "outputId": "9e1917a5-3c79-4cc9-e126-3bcd41457e86",
        "colab": {
          "base_uri": "https://localhost:8080/",
          "height": 392
        }
      },
      "execution_count": null,
      "outputs": [
        {
          "output_type": "display_data",
          "data": {
            "text/plain": [
              "<Figure size 864x432 with 2 Axes>"
            ],
            "image/png": "[encoded data removed]"
          },
          "metadata": {
            "needs_background": "light"
          }
        }
      ]
    },
    {
      "cell_type": "markdown",
      "source": [
        "We used a logarithmic scale because the data covers a wide range of values and there is an evident skewness toward small values.\n",
        "\n",
        "Since most of the observations are concentrating to low value, we can show the actual distribution untill the 90% percentile."
      ],
      "metadata": {
        "id": "TzJuMWukx4nF"
      }
    },
    {
      "cell_type": "code",
      "source": [
        "likes_outliers= posts.numbr_likes[posts.numbr_likes < posts.numbr_likes.quantile(.9)]\n",
        "comments_outliers= posts.number_comments[posts.number_comments< posts.number_comments.quantile(.9)]"
      ],
      "metadata": {
        "id": "vIoGCQRlpl6C"
      },
      "execution_count": null,
      "outputs": []
    },
    {
      "cell_type": "code",
      "source": [
        "plt.figure(figsize=(12,6))\n",
        "plt.subplot(121)\n",
        "sns.distplot(likes_outliers, hist=True, kde=True, \n",
        "             bins=int(180/5), color = 'lightblue', \n",
        "             hist_kws={'edgecolor':'lightblue'},\n",
        "             kde_kws={'linewidth': 4}).set(title='Distribution of \\n number of likes per post')\n",
        "plt.subplot(122)\n",
        "sns.distplot(comments_outliers, hist=True, kde=True, \n",
        "             bins=int(180/5), color = 'green', \n",
        "             hist_kws={'edgecolor':'green'},\n",
        "             kde_kws={'linewidth': 4}).set(title='Distribution of \\n number of comments per post')\n",
        "plt.show()"
      ],
      "metadata": {
        "id": "4gfYBbHU1RMi",
        "outputId": "b7301444-5bb5-4574-eb86-c39f0cfda4bb",
        "colab": {
          "base_uri": "https://localhost:8080/",
          "height": 525
        }
      },
      "execution_count": null,
      "outputs": [
        {
          "output_type": "stream",
          "name": "stderr",
          "text": [
            "/usr/local/lib/python3.7/dist-packages/seaborn/distributions.py:2619: FutureWarning: `distplot` is a deprecated function and will be removed in a future version. Please adapt your code to use either `displot` (a figure-level function with similar flexibility) or `histplot` (an axes-level function for histograms).\n",
            "  warnings.warn(msg, FutureWarning)\n",
            "/usr/local/lib/python3.7/dist-packages/seaborn/distributions.py:2619: FutureWarning: `distplot` is a deprecated function and will be removed in a future version. Please adapt your code to use either `displot` (a figure-level function with similar flexibility) or `histplot` (an axes-level function for histograms).\n",
            "  warnings.warn(msg, FutureWarning)\n"
          ]
        },
        {
          "output_type": "execute_result",
          "data": {
            "text/plain": [
              "[Text(0.5, 1.0, 'Distribution of \\n number of comments per post')]"
            ]
          },
          "metadata": {},
          "execution_count": 21
        },
        {
          "output_type": "display_data",
          "data": {
            "text/plain": [
              "<Figure size 864x432 with 2 Axes>"
            ],
            "image/png": "[encoded data removed]"
          },
          "metadata": {
            "needs_background": "light"
          }
        }
      ]
    },
    {
      "cell_type": "code",
      "source": [
        "plt.figure(figsize=(12,6))\n",
        "plt.subplot(121)\n",
        "plt.boxplot(likes_outliers )\n",
        "plt.xlabel(\"\")\n",
        "plt.ylabel(\"number of likes\")\n",
        "plt.title(\"Box-Plot of number of likes\", size = 16)\n",
        "\n",
        "plt.subplot(122)\n",
        "plt.boxplot(comments_outliers)\n",
        "plt.xlabel(\"\")\n",
        "plt.ylabel(\"number of comments\")\n",
        "plt.title(\"Box-Plot of number of comments\", size = 16)\n",
        "\n",
        "plt.show()"
      ],
      "metadata": {
        "id": "7lhen9ZipQ4P",
        "outputId": "0060cd62-6d36-4005-ec22-a87377eea8f0",
        "colab": {
          "base_uri": "https://localhost:8080/",
          "height": 392
        }
      },
      "execution_count": null,
      "outputs": [
        {
          "output_type": "display_data",
          "data": {
            "text/plain": [
              "<Figure size 864x432 with 2 Axes>"
            ],
            "image/png": "[encoded data removed]"
          },
          "metadata": {
            "needs_background": "light"
          }
        }
      ]
    },
    {
      "cell_type": "code",
      "source": [
        "#What is the most common time in which users publish their posts?\n",
        "file =(\"/content/drive/MyDrive/ADM_HW2/instagram_posts.csv\" )\n",
        "posts = pd.read_csv(file, usecols= ['cts'], sep='\\t')\n",
        "def publishing_time(data, count):\n",
        "    #convert cts column to datetime\n",
        "    pub_time = pd.to_datetime(data.cts).dt.floor('Min').dt.time\n",
        "    #group by publishing time\n",
        "    grouping = pub_time.groupby(pub_time).size().sort_values(ascending=False).head(count)\n",
        "    timing = grouping.index.to_list()\n",
        "    for i in timing:\n",
        "        print('{:02d}:{:02d}:{:02d}'.format(i.hour, i.minute, i.second))\n",
        "#publishing_time(posts, 1)\n",
        "print('The most common time in which users publish their posts is at:', end=' ')\n",
        "publishing_time(posts, 1)"
      ],
      "metadata": {
        "colab": {
          "base_uri": "https://localhost:8080/"
        },
        "id": "4jNgE8BLzxUo",
        "outputId": "c101c3e5-9c4c-4e07-8135-438137a178da"
      },
      "execution_count": null,
      "outputs": [
        {
          "output_type": "stream",
          "name": "stdout",
          "text": [
            "The most common time in which users publish their posts is at: 18:00:00\n"
          ]
        }
      ]
    },
    {
      "cell_type": "code",
      "source": [
        "#Create a function that receives a time intervals list as a parameter and returns a plot with the number of posts for each given interval.\n",
        "\n",
        "def time_interval(data, intervals):\n",
        "    datex = pd.DataFrame(pd.to_datetime(data.cts))\n",
        "    datex.set_index(pd.DatetimeIndex(datex.cts), inplace=True)\n",
        "    calc = 0\n",
        "    value_counts = pd.DataFrame()\n",
        "    #loop over interval list\n",
        "    for interval in intervals:\n",
        "        start, end = interval\n",
        "        tot = datex.between_time(start, end).count()\n",
        "        tot = int(tot[0])\n",
        "        RES = pd.DataFrame({'time interval (start, end)' : [interval], 'total posts' : tot})\n",
        "        value_counts = value_counts.append(RES)\n",
        "        calc += tot\n",
        "    value_counts.reset_index(drop = True, inplace = True)\n",
        "    print(value_counts)\n",
        "    sns.set()\n",
        "\n",
        "    ax = value_counts.plot(figsize=(14,8), kind='bar', color = 'rgbkymc', zorder=3)\n",
        "    plt.setp(ax, xlabel='The time intervals', ylabel='Number of posts', title = 'Posts for each time interval')\n",
        "    plt.show()"
      ],
      "metadata": {
        "id": "tSR2t3YO0Alh"
      },
      "execution_count": null,
      "outputs": []
    },
    {
      "cell_type": "markdown",
      "source": [
        "# RQ4"
      ],
      "metadata": {
        "id": "svs-Xj8LRLzM"
      }
    },
    {
      "cell_type": "markdown",
      "source": [],
      "metadata": {
        "id": "HNPPy3txRRa5"
      }
    },
    {
      "cell_type": "code",
      "source": [
        "filename=\"/content/drive/MyDrive/ADM_HW2/instagram_posts.csv\"\n",
        "\n",
        "\n",
        "def from_profile_to_post(profile):\n",
        "  \n",
        "  df1 = pd.DataFrame(columns= posts.columns)\n",
        "  df = pd.read_csv(filename, sep='\\t', chunksize=500000)\n",
        "\n",
        "  \n",
        "  for chunk in tqdm(df):\n",
        "    df1 = pd.concat([ df1 , chunk[chunk ['sid_profile'] == profile ] ]) \n",
        "\n",
        "  return df1\n",
        "\n"
      ],
      "metadata": {
        "id": "6yPjn9kRRf9N"
      },
      "execution_count": null,
      "outputs": []
    },
    {
      "cell_type": "code",
      "source": [
        "from_profile_to_post(199664772)"
      ],
      "metadata": {
        "colab": {
          "base_uri": "https://localhost:8080/",
          "height": 66
        },
        "id": "aaLhtK1iUa1g",
        "outputId": "a35cef20-2494-4dac-a9f6-2122ceaf474f"
      },
      "execution_count": null,
      "outputs": [
        {
          "output_type": "stream",
          "name": "stderr",
          "text": [
            "3it [00:10,  3.58s/it]\n"
          ]
        },
        {
          "output_type": "execute_result",
          "data": {
            "text/plain": [
              "Empty DataFrame\n",
              "Columns: [sid, sid_profile, post_id, profile_id, location_id, cts, post_type, description, numbr_likes, number_comments]\n",
              "Index: []"
            ],
            "text/html": [
              "\n",
              "  <div id=\"df-16d0780f-057e-4298-82eb-78e619a50aaa\">\n",
              "    <div class=\"colab-df-container\">\n",
              "      <div>\n",
              "<style scoped>\n",
              "    .dataframe tbody tr th:only-of-type {\n",
              "        vertical-align: middle;\n",
              "    }\n",
              "\n",
              "    .dataframe tbody tr th {\n",
              "        vertical-align: top;\n",
              "    }\n",
              "\n",
              "    .dataframe thead th {\n",
              "        text-align: right;\n",
              "    }\n",
              "</style>\n",
              "<table border=\"1\" class=\"dataframe\">\n",
              "  <thead>\n",
              "    <tr style=\"text-align: right;\">\n",
              "      <th></th>\n",
              "      <th>sid</th>\n",
              "      <th>sid_profile</th>\n",
              "      <th>post_id</th>\n",
              "      <th>profile_id</th>\n",
              "      <th>location_id</th>\n",
              "      <th>cts</th>\n",
              "      <th>post_type</th>\n",
              "      <th>description</th>\n",
              "      <th>numbr_likes</th>\n",
              "      <th>number_comments</th>\n",
              "    </tr>\n",
              "  </thead>\n",
              "  <tbody>\n",
              "  </tbody>\n",
              "</table>\n",
              "</div>\n",
              "      <button class=\"colab-df-convert\" onclick=\"convertToInteractive('df-16d0780f-057e-4298-82eb-78e619a50aaa')\"\n",
              "              title=\"Convert this dataframe to an interactive table.\"\n",
              "              style=\"display:none;\">\n",
              "        \n",
              "  <svg xmlns=\"http://www.w3.org/2000/svg\" height=\"24px\"viewBox=\"0 0 24 24\"\n",
              "       width=\"24px\">\n",
              "    <path d=\"M0 0h24v24H0V0z\" fill=\"none\"/>\n",
              "    <path d=\"M18.56 5.44l.94 2.06.94-2.06 2.06-.94-2.06-.94-.94-2.06-.94 2.06-2.06.94zm-11 1L8.5 8.5l.94-2.06 2.06-.94-2.06-.94L8.5 2.5l-.94 2.06-2.06.94zm10 10l.94 2.06.94-2.06 2.06-.94-2.06-.94-.94-2.06-.94 2.06-2.06.94z\"/><path d=\"M17.41 7.96l-1.37-1.37c-.4-.4-.92-.59-1.43-.59-.52 0-1.04.2-1.43.59L10.3 9.45l-7.72 7.72c-.78.78-.78 2.05 0 2.83L4 21.41c.39.39.9.59 1.41.59.51 0 1.02-.2 1.41-.59l7.78-7.78 2.81-2.81c.8-.78.8-2.07 0-2.86zM5.41 20L4 18.59l7.72-7.72 1.47 1.35L5.41 20z\"/>\n",
              "  </svg>\n",
              "      </button>\n",
              "      \n",
              "  <style>\n",
              "    .colab-df-container {\n",
              "      display:flex;\n",
              "      flex-wrap:wrap;\n",
              "      gap: 12px;\n",
              "    }\n",
              "\n",
              "    .colab-df-convert {\n",
              "      background-color: #E8F0FE;\n",
              "      border: none;\n",
              "      border-radius: 50%;\n",
              "      cursor: pointer;\n",
              "      display: none;\n",
              "      fill: #1967D2;\n",
              "      height: 32px;\n",
              "      padding: 0 0 0 0;\n",
              "      width: 32px;\n",
              "    }\n",
              "\n",
              "    .colab-df-convert:hover {\n",
              "      background-color: #E2EBFA;\n",
              "      box-shadow: 0px 1px 2px rgba(60, 64, 67, 0.3), 0px 1px 3px 1px rgba(60, 64, 67, 0.15);\n",
              "      fill: #174EA6;\n",
              "    }\n",
              "\n",
              "    [theme=dark] .colab-df-convert {\n",
              "      background-color: #3B4455;\n",
              "      fill: #D2E3FC;\n",
              "    }\n",
              "\n",
              "    [theme=dark] .colab-df-convert:hover {\n",
              "      background-color: #434B5C;\n",
              "      box-shadow: 0px 1px 3px 1px rgba(0, 0, 0, 0.15);\n",
              "      filter: drop-shadow(0px 1px 2px rgba(0, 0, 0, 0.3));\n",
              "      fill: #FFFFFF;\n",
              "    }\n",
              "  </style>\n",
              "\n",
              "      <script>\n",
              "        const buttonEl =\n",
              "          document.querySelector('#df-16d0780f-057e-4298-82eb-78e619a50aaa button.colab-df-convert');\n",
              "        buttonEl.style.display =\n",
              "          google.colab.kernel.accessAllowed ? 'block' : 'none';\n",
              "\n",
              "        async function convertToInteractive(key) {\n",
              "          const element = document.querySelector('#df-16d0780f-057e-4298-82eb-78e619a50aaa');\n",
              "          const dataTable =\n",
              "            await google.colab.kernel.invokeFunction('convertToInteractive',\n",
              "                                                     [key], {});\n",
              "          if (!dataTable) return;\n",
              "\n",
              "          const docLinkHtml = 'Like what you see? Visit the ' +\n",
              "            '<a target=\"_blank\" href=https://colab.research.google.com/notebooks/data_table.ipynb>data table notebook</a>'\n",
              "            + ' to learn more about interactive tables.';\n",
              "          element.innerHTML = '';\n",
              "          dataTable['output_type'] = 'display_data';\n",
              "          await google.colab.output.renderOutput(dataTable, element);\n",
              "          const docLink = document.createElement('div');\n",
              "          docLink.innerHTML = docLinkHtml;\n",
              "          element.appendChild(docLink);\n",
              "        }\n",
              "      </script>\n",
              "    </div>\n",
              "  </div>\n",
              "  "
            ]
          },
          "metadata": {},
          "execution_count": 119
        }
      ]
    },
    {
      "cell_type": "code",
      "source": [
        "filename=\"/content/drive/MyDrive/ADM_HW2/instagram_posts.csv\"\n",
        "df1 = pd.DataFrame(columns= posts.columns)\n",
        "\n",
        "df = pd.read_csv(filename, sep='\\t', nrows=1000)\n",
        "pd.concat([ df1 , df[df ['sid_profile'] == 3496776 ] ]) \n",
        "\n",
        "\n"
      ],
      "metadata": {
        "id": "r4bljkRWU8LD"
      },
      "execution_count": null,
      "outputs": []
    },
    {
      "cell_type": "code",
      "source": [
        "def posts_top_n(n):\n",
        "  n_prof = profiles.sort_values(by=['n_posts'], ascending=False).head(n)\n",
        "  top_df =  pd.DataFrame(columns= posts.columns)\n",
        "  for p in n_prof['profile_id']:\n",
        "    top_df= pd.concat([top_df ,from_profile_to_post(int(p))])\n",
        "  return top_df\n",
        "\n",
        "\n"
      ],
      "metadata": {
        "id": "iy6bua36YND-"
      },
      "execution_count": null,
      "outputs": []
    },
    {
      "cell_type": "code",
      "source": [
        "posts_top_n(2)"
      ],
      "metadata": {
        "id": "k0h62rHAllU2",
        "outputId": "f35fe7ae-5273-4537-d888-cf596153a4f7",
        "colab": {
          "base_uri": "https://localhost:8080/",
          "height": 83
        }
      },
      "execution_count": null,
      "outputs": [
        {
          "output_type": "stream",
          "name": "stderr",
          "text": [
            "86it [05:39,  3.95s/it]\n",
            "86it [05:33,  3.88s/it]\n"
          ]
        },
        {
          "output_type": "execute_result",
          "data": {
            "text/plain": [
              "Empty DataFrame\n",
              "Columns: [sid, sid_profile, post_id, profile_id, location_id, cts, post_type, description, numbr_likes, number_comments]\n",
              "Index: []"
            ],
            "text/html": [
              "\n",
              "  <div id=\"df-022c5c46-8964-4ad4-ac33-751db8ae8254\">\n",
              "    <div class=\"colab-df-container\">\n",
              "      <div>\n",
              "<style scoped>\n",
              "    .dataframe tbody tr th:only-of-type {\n",
              "        vertical-align: middle;\n",
              "    }\n",
              "\n",
              "    .dataframe tbody tr th {\n",
              "        vertical-align: top;\n",
              "    }\n",
              "\n",
              "    .dataframe thead th {\n",
              "        text-align: right;\n",
              "    }\n",
              "</style>\n",
              "<table border=\"1\" class=\"dataframe\">\n",
              "  <thead>\n",
              "    <tr style=\"text-align: right;\">\n",
              "      <th></th>\n",
              "      <th>sid</th>\n",
              "      <th>sid_profile</th>\n",
              "      <th>post_id</th>\n",
              "      <th>profile_id</th>\n",
              "      <th>location_id</th>\n",
              "      <th>cts</th>\n",
              "      <th>post_type</th>\n",
              "      <th>description</th>\n",
              "      <th>numbr_likes</th>\n",
              "      <th>number_comments</th>\n",
              "    </tr>\n",
              "  </thead>\n",
              "  <tbody>\n",
              "  </tbody>\n",
              "</table>\n",
              "</div>\n",
              "      <button class=\"colab-df-convert\" onclick=\"convertToInteractive('df-022c5c46-8964-4ad4-ac33-751db8ae8254')\"\n",
              "              title=\"Convert this dataframe to an interactive table.\"\n",
              "              style=\"display:none;\">\n",
              "        \n",
              "  <svg xmlns=\"http://www.w3.org/2000/svg\" height=\"24px\"viewBox=\"0 0 24 24\"\n",
              "       width=\"24px\">\n",
              "    <path d=\"M0 0h24v24H0V0z\" fill=\"none\"/>\n",
              "    <path d=\"M18.56 5.44l.94 2.06.94-2.06 2.06-.94-2.06-.94-.94-2.06-.94 2.06-2.06.94zm-11 1L8.5 8.5l.94-2.06 2.06-.94-2.06-.94L8.5 2.5l-.94 2.06-2.06.94zm10 10l.94 2.06.94-2.06 2.06-.94-2.06-.94-.94-2.06-.94 2.06-2.06.94z\"/><path d=\"M17.41 7.96l-1.37-1.37c-.4-.4-.92-.59-1.43-.59-.52 0-1.04.2-1.43.59L10.3 9.45l-7.72 7.72c-.78.78-.78 2.05 0 2.83L4 21.41c.39.39.9.59 1.41.59.51 0 1.02-.2 1.41-.59l7.78-7.78 2.81-2.81c.8-.78.8-2.07 0-2.86zM5.41 20L4 18.59l7.72-7.72 1.47 1.35L5.41 20z\"/>\n",
              "  </svg>\n",
              "      </button>\n",
              "      \n",
              "  <style>\n",
              "    .colab-df-container {\n",
              "      display:flex;\n",
              "      flex-wrap:wrap;\n",
              "      gap: 12px;\n",
              "    }\n",
              "\n",
              "    .colab-df-convert {\n",
              "      background-color: #E8F0FE;\n",
              "      border: none;\n",
              "      border-radius: 50%;\n",
              "      cursor: pointer;\n",
              "      display: none;\n",
              "      fill: #1967D2;\n",
              "      height: 32px;\n",
              "      padding: 0 0 0 0;\n",
              "      width: 32px;\n",
              "    }\n",
              "\n",
              "    .colab-df-convert:hover {\n",
              "      background-color: #E2EBFA;\n",
              "      box-shadow: 0px 1px 2px rgba(60, 64, 67, 0.3), 0px 1px 3px 1px rgba(60, 64, 67, 0.15);\n",
              "      fill: #174EA6;\n",
              "    }\n",
              "\n",
              "    [theme=dark] .colab-df-convert {\n",
              "      background-color: #3B4455;\n",
              "      fill: #D2E3FC;\n",
              "    }\n",
              "\n",
              "    [theme=dark] .colab-df-convert:hover {\n",
              "      background-color: #434B5C;\n",
              "      box-shadow: 0px 1px 3px 1px rgba(0, 0, 0, 0.15);\n",
              "      filter: drop-shadow(0px 1px 2px rgba(0, 0, 0, 0.3));\n",
              "      fill: #FFFFFF;\n",
              "    }\n",
              "  </style>\n",
              "\n",
              "      <script>\n",
              "        const buttonEl =\n",
              "          document.querySelector('#df-022c5c46-8964-4ad4-ac33-751db8ae8254 button.colab-df-convert');\n",
              "        buttonEl.style.display =\n",
              "          google.colab.kernel.accessAllowed ? 'block' : 'none';\n",
              "\n",
              "        async function convertToInteractive(key) {\n",
              "          const element = document.querySelector('#df-022c5c46-8964-4ad4-ac33-751db8ae8254');\n",
              "          const dataTable =\n",
              "            await google.colab.kernel.invokeFunction('convertToInteractive',\n",
              "                                                     [key], {});\n",
              "          if (!dataTable) return;\n",
              "\n",
              "          const docLinkHtml = 'Like what you see? Visit the ' +\n",
              "            '<a target=\"_blank\" href=https://colab.research.google.com/notebooks/data_table.ipynb>data table notebook</a>'\n",
              "            + ' to learn more about interactive tables.';\n",
              "          element.innerHTML = '';\n",
              "          dataTable['output_type'] = 'display_data';\n",
              "          await google.colab.output.renderOutput(dataTable, element);\n",
              "          const docLink = document.createElement('div');\n",
              "          docLink.innerHTML = docLinkHtml;\n",
              "          element.appendChild(docLink);\n",
              "        }\n",
              "      </script>\n",
              "    </div>\n",
              "  </div>\n",
              "  "
            ]
          },
          "metadata": {},
          "execution_count": 123
        }
      ]
    },
    {
      "cell_type": "code",
      "source": [
        "profiles.sort_values(by=['n_posts'], ascending=False).head(5)"
      ],
      "metadata": {
        "id": "P7T4YZH7kJn5"
      },
      "execution_count": null,
      "outputs": []
    },
    {
      "cell_type": "code",
      "source": [
        "#What is the average time (days and minutes) a user lets pass before publishing another post? \n",
        "#Plot the top 3 users that publish posts more frequently (calculate the average time that passes between posts), including their amount of followers and following. Provide insights from that chart.\n",
        "\n",
        "file =(\"/content/drive/MyDrive/ADM_HW2/instagram_posts.csv\" )\n",
        "posts = pd.read_csv(file, usecols= ['profile_id','cts'], sep='\\t')\n",
        "\n",
        "time = pd.DataFrame(posts[['profile_id','cts']])\n",
        "\n",
        "\n",
        "time['cts']=pd.to_datetime(posts['cts'])\n",
        "\n",
        "time.head(10)\n"
      ],
      "metadata": {
        "colab": {
          "base_uri": "https://localhost:8080/",
          "height": 363
        },
        "id": "oa_sadDghteb",
        "outputId": "0b6be4a8-6a6b-4ba7-86cf-5e3cba7f7b61"
      },
      "execution_count": null,
      "outputs": [
        {
          "output_type": "execute_result",
          "data": {
            "text/plain": [
              "     profile_id                 cts\n",
              "0  2.237948e+09 2017-08-06 20:06:57\n",
              "1  5.579335e+09 2017-06-19 09:31:16\n",
              "2  3.134296e+08 2017-03-11 20:05:03\n",
              "3  1.837593e+09 2016-09-13 16:27:16\n",
              "4  1.131527e+09 2015-10-18 10:19:27\n",
              "5  1.626239e+07 2018-12-14 18:16:15\n",
              "6  3.567387e+07 2018-08-09 17:53:46\n",
              "7  8.408734e+08 2018-08-23 22:00:59\n",
              "8  3.299940e+05 2015-05-14 11:02:05\n",
              "9  3.607965e+08 2017-01-30 17:52:01"
            ],
            "text/html": [
              "\n",
              "  <div id=\"df-86cca57b-869d-4b33-b438-d6617330c33e\">\n",
              "    <div class=\"colab-df-container\">\n",
              "      <div>\n",
              "<style scoped>\n",
              "    .dataframe tbody tr th:only-of-type {\n",
              "        vertical-align: middle;\n",
              "    }\n",
              "\n",
              "    .dataframe tbody tr th {\n",
              "        vertical-align: top;\n",
              "    }\n",
              "\n",
              "    .dataframe thead th {\n",
              "        text-align: right;\n",
              "    }\n",
              "</style>\n",
              "<table border=\"1\" class=\"dataframe\">\n",
              "  <thead>\n",
              "    <tr style=\"text-align: right;\">\n",
              "      <th></th>\n",
              "      <th>profile_id</th>\n",
              "      <th>cts</th>\n",
              "    </tr>\n",
              "  </thead>\n",
              "  <tbody>\n",
              "    <tr>\n",
              "      <th>0</th>\n",
              "      <td>2.237948e+09</td>\n",
              "      <td>2017-08-06 20:06:57</td>\n",
              "    </tr>\n",
              "    <tr>\n",
              "      <th>1</th>\n",
              "      <td>5.579335e+09</td>\n",
              "      <td>2017-06-19 09:31:16</td>\n",
              "    </tr>\n",
              "    <tr>\n",
              "      <th>2</th>\n",
              "      <td>3.134296e+08</td>\n",
              "      <td>2017-03-11 20:05:03</td>\n",
              "    </tr>\n",
              "    <tr>\n",
              "      <th>3</th>\n",
              "      <td>1.837593e+09</td>\n",
              "      <td>2016-09-13 16:27:16</td>\n",
              "    </tr>\n",
              "    <tr>\n",
              "      <th>4</th>\n",
              "      <td>1.131527e+09</td>\n",
              "      <td>2015-10-18 10:19:27</td>\n",
              "    </tr>\n",
              "    <tr>\n",
              "      <th>5</th>\n",
              "      <td>1.626239e+07</td>\n",
              "      <td>2018-12-14 18:16:15</td>\n",
              "    </tr>\n",
              "    <tr>\n",
              "      <th>6</th>\n",
              "      <td>3.567387e+07</td>\n",
              "      <td>2018-08-09 17:53:46</td>\n",
              "    </tr>\n",
              "    <tr>\n",
              "      <th>7</th>\n",
              "      <td>8.408734e+08</td>\n",
              "      <td>2018-08-23 22:00:59</td>\n",
              "    </tr>\n",
              "    <tr>\n",
              "      <th>8</th>\n",
              "      <td>3.299940e+05</td>\n",
              "      <td>2015-05-14 11:02:05</td>\n",
              "    </tr>\n",
              "    <tr>\n",
              "      <th>9</th>\n",
              "      <td>3.607965e+08</td>\n",
              "      <td>2017-01-30 17:52:01</td>\n",
              "    </tr>\n",
              "  </tbody>\n",
              "</table>\n",
              "</div>\n",
              "      <button class=\"colab-df-convert\" onclick=\"convertToInteractive('df-86cca57b-869d-4b33-b438-d6617330c33e')\"\n",
              "              title=\"Convert this dataframe to an interactive table.\"\n",
              "              style=\"display:none;\">\n",
              "        \n",
              "  <svg xmlns=\"http://www.w3.org/2000/svg\" height=\"24px\"viewBox=\"0 0 24 24\"\n",
              "       width=\"24px\">\n",
              "    <path d=\"M0 0h24v24H0V0z\" fill=\"none\"/>\n",
              "    <path d=\"M18.56 5.44l.94 2.06.94-2.06 2.06-.94-2.06-.94-.94-2.06-.94 2.06-2.06.94zm-11 1L8.5 8.5l.94-2.06 2.06-.94-2.06-.94L8.5 2.5l-.94 2.06-2.06.94zm10 10l.94 2.06.94-2.06 2.06-.94-2.06-.94-.94-2.06-.94 2.06-2.06.94z\"/><path d=\"M17.41 7.96l-1.37-1.37c-.4-.4-.92-.59-1.43-.59-.52 0-1.04.2-1.43.59L10.3 9.45l-7.72 7.72c-.78.78-.78 2.05 0 2.83L4 21.41c.39.39.9.59 1.41.59.51 0 1.02-.2 1.41-.59l7.78-7.78 2.81-2.81c.8-.78.8-2.07 0-2.86zM5.41 20L4 18.59l7.72-7.72 1.47 1.35L5.41 20z\"/>\n",
              "  </svg>\n",
              "      </button>\n",
              "      \n",
              "  <style>\n",
              "    .colab-df-container {\n",
              "      display:flex;\n",
              "      flex-wrap:wrap;\n",
              "      gap: 12px;\n",
              "    }\n",
              "\n",
              "    .colab-df-convert {\n",
              "      background-color: #E8F0FE;\n",
              "      border: none;\n",
              "      border-radius: 50%;\n",
              "      cursor: pointer;\n",
              "      display: none;\n",
              "      fill: #1967D2;\n",
              "      height: 32px;\n",
              "      padding: 0 0 0 0;\n",
              "      width: 32px;\n",
              "    }\n",
              "\n",
              "    .colab-df-convert:hover {\n",
              "      background-color: #E2EBFA;\n",
              "      box-shadow: 0px 1px 2px rgba(60, 64, 67, 0.3), 0px 1px 3px 1px rgba(60, 64, 67, 0.15);\n",
              "      fill: #174EA6;\n",
              "    }\n",
              "\n",
              "    [theme=dark] .colab-df-convert {\n",
              "      background-color: #3B4455;\n",
              "      fill: #D2E3FC;\n",
              "    }\n",
              "\n",
              "    [theme=dark] .colab-df-convert:hover {\n",
              "      background-color: #434B5C;\n",
              "      box-shadow: 0px 1px 3px 1px rgba(0, 0, 0, 0.15);\n",
              "      filter: drop-shadow(0px 1px 2px rgba(0, 0, 0, 0.3));\n",
              "      fill: #FFFFFF;\n",
              "    }\n",
              "  </style>\n",
              "\n",
              "      <script>\n",
              "        const buttonEl =\n",
              "          document.querySelector('#df-86cca57b-869d-4b33-b438-d6617330c33e button.colab-df-convert');\n",
              "        buttonEl.style.display =\n",
              "          google.colab.kernel.accessAllowed ? 'block' : 'none';\n",
              "\n",
              "        async function convertToInteractive(key) {\n",
              "          const element = document.querySelector('#df-86cca57b-869d-4b33-b438-d6617330c33e');\n",
              "          const dataTable =\n",
              "            await google.colab.kernel.invokeFunction('convertToInteractive',\n",
              "                                                     [key], {});\n",
              "          if (!dataTable) return;\n",
              "\n",
              "          const docLinkHtml = 'Like what you see? Visit the ' +\n",
              "            '<a target=\"_blank\" href=https://colab.research.google.com/notebooks/data_table.ipynb>data table notebook</a>'\n",
              "            + ' to learn more about interactive tables.';\n",
              "          element.innerHTML = '';\n",
              "          dataTable['output_type'] = 'display_data';\n",
              "          await google.colab.output.renderOutput(dataTable, element);\n",
              "          const docLink = document.createElement('div');\n",
              "          docLink.innerHTML = docLinkHtml;\n",
              "          element.appendChild(docLink);\n",
              "        }\n",
              "      </script>\n",
              "    </div>\n",
              "  </div>\n",
              "  "
            ]
          },
          "metadata": {},
          "execution_count": 8
        }
      ]
    },
    {
      "cell_type": "code",
      "source": [
        "#Using the function you previously coded, plot the time intervals with the highest average number of “likes” and the ones with the highest average number of comments on posts.\n",
        "\n",
        "file =(\"/content/drive/MyDrive/ADM_HW2/instagram_posts.csv\" )\n",
        "posts = pd.read_csv(file, usecols= ['cts','numbr_likes','number_comments'], sep='\\t')\n",
        "\n",
        "\n",
        "def time_interval2(data, intervals):\n",
        "    datex = pd.DataFrame(pd.to_datetime(data.cts))\n",
        "    datex.set_index(pd.DatetimeIndex(datex.cts), inplace=True)\n",
        "    calc = 0\n",
        "    value_counts = pd.DataFrame()\n",
        "    #loop over interval list\n",
        "    for interval in intervals:\n",
        "        start, end = interval\n",
        "        tot = datex.between_time(start, end).count()\n",
        "        tot = int(tot[0])\n",
        "        RES = pd.DataFrame({'time interval (start, end)' : [interval], 'total posts' : tot})\n",
        "        value_counts = value_counts.append(RES)\n",
        "        calc += tot\n",
        "    value_counts.reset_index(drop = True, inplace = True)\n",
        "    print(value_counts)\n",
        "    sns.set()\n",
        "\n",
        "    ax = value_counts.plot(figsize=(14,8), kind='bar', color = 'rgbkymc', zorder=3)\n",
        "    plt.setp(ax, xlabel='The time intervals', ylabel='Number of likes', title = 'Likes for each time interval')\n",
        "    plt.show()\n"
      ],
      "metadata": {
        "id": "C0WmiKffjdi3"
      },
      "execution_count": null,
      "outputs": []
    },
    {
      "cell_type": "markdown",
      "source": [
        "# RQ7"
      ],
      "metadata": {
        "id": "XOcPDpLMvKi8"
      }
    },
    {
      "cell_type": "markdown",
      "source": [
        "What's the probability that a post receives more than 20% \"likes\" of the number of followers a user has?\n",
        "---\n"
      ],
      "metadata": {
        "id": "eSrSUekiHpml"
      }
    },
    {
      "cell_type": "markdown",
      "source": [
        "To compute the probability. Let's define the event\n",
        "\n",
        "A: { \" a post has  number of likes greater than 20% of the number of followers of the account linked with  \"}.\n",
        "\n",
        "We divide the number of ways the event can occur by the total number of possible outcomes.\n",
        "\n",
        "Define then the indicator function as below:\n",
        "\n",
        "\\begin{equation}\n",
        "\\mathbb{I}(\\omega_{i}) =\n",
        "\\begin{cases}\n",
        "  1 \\hspace{0.3cm}  \\omega \\in A  \\\\\n",
        "  0 \\hspace{0.3cm}  otherwise\n",
        "\\end{cases}\n",
        "\\end{equation}\n",
        "\n",
        "Then the target probability will be :\n",
        "\n",
        "\\begin{equation}\n",
        "\\hat{p} = \\frac{1}{n} ∑_{i = 1}^{lenpost} \\mathbb{I}(\\omega_{i}) \n",
        "\\end{equation}\n",
        "\n",
        "Note: \n",
        "\n",
        "In the code, we add 1 to the formula, both in the nominator and denominator, to manage the posts that belong to profiles with zero followers."
      ],
      "metadata": {
        "id": "C79b3Bxk4L-5"
      }
    },
    {
      "cell_type": "code",
      "source": [
        "filename=\"/content/drive/MyDrive/ADM_HW2/instagram_posts.csv\"\n",
        "\n",
        "df = pd.read_csv(filename, usecols= ['numbr_likes' , 'sid_profile'], sep='\\t', iterator=True, chunksize=500000)\n",
        "shape = 0\n",
        "l=[]\n",
        "for chunk in tqdm(df):\n",
        "  m=pd.merge(chunk , profiles, left_on=\"sid_profile\", right_on=\"sid\").drop('sid', axis=1)\n",
        "  l.append(sum(m.apply(lambda x :  (x.numbr_likes + 1) / (x.followers + 1), axis = 1 ) > .2))\n",
        "  shape += m.shape[0]\n",
        "\n",
        "\n"
      ],
      "metadata": {
        "colab": {
          "base_uri": "https://localhost:8080/"
        },
        "id": "6pw3op_MxhoM",
        "outputId": "7c452d57-5ed1-4653-8f59-8c4b5ba78c6f"
      },
      "execution_count": null,
      "outputs": [
        {
          "output_type": "stream",
          "name": "stderr",
          "text": [
            "86it [16:11, 11.30s/it]\n"
          ]
        }
      ]
    },
    {
      "cell_type": "code",
      "source": [
        "print(\"The estimate probability is: \" , sum(l)/shape)"
      ],
      "metadata": {
        "colab": {
          "base_uri": "https://localhost:8080/"
        },
        "id": "tF8SAvhwKPIt",
        "outputId": "c3fe2053-57ff-4254-e91a-19ea64aeb6bf"
      },
      "execution_count": null,
      "outputs": [
        {
          "output_type": "execute_result",
          "data": {
            "text/plain": [
              "0.15670264527000136"
            ]
          },
          "metadata": {},
          "execution_count": 81
        }
      ]
    },
    {
      "cell_type": "markdown",
      "source": [
        "Do users usually return to locations? Extract the probability that a user returns to a site after having posted it in the past. Does that probability make sense to you? Explain why or why not.\n",
        "---\n",
        "\n",
        "When computing this probability, we used the same approach as before. In this case, the event is defined as :\n",
        "\n",
        "B = {\" a user has at least 2 posts at the same location \"}.\n",
        "\n",
        "Note:\n",
        "\n",
        "We interpreted the question with this restriction : \n",
        "\n",
        "If a user posted more than 2 posts in the same location we count it by 1 . ( He actually returns at the same place and we don't care if he returns more than twice).\n",
        "\n",
        "if a user posted 2 or more posts in two more different locations we count it by 1. ( In our opinion might have sense to count it by 1 or by the number of locations\n",
        "visited at least twice, we chose the first one)\n",
        "\n",
        "In our opinion, this probability does not make much sense since a user could post a picture in the same location months after they visited that place, without go there.\n",
        "\n",
        "Moreover, a user could go to the same place but insert a different location_id, that is they could once use a more accurate location tag and another time a more vague one (e.g. Colosseum and Rome)."
      ],
      "metadata": {
        "id": "dVvc8VKCQRaK"
      }
    },
    {
      "cell_type": "code",
      "source": [
        "filename=\"/content/drive/MyDrive/ADM_HW2/instagram_posts.csv\"\n",
        "df = pd.read_csv(filename, usecols= ['location_id' , 'sid_profile'], sep='\\t')\n",
        "\n",
        "\n",
        "m = pd.merge( df , profiles , left_on=\"sid_profile\", right_on=\"sid\").drop('sid', axis=1)\n",
        "l=(sum(m.groupby('sid_profile', group_keys=True).apply(lambda x:len(x.location_id) != len(set(x.location_id)) )))\n",
        "\n",
        "\n",
        "\n"
      ],
      "metadata": {
        "id": "Qi9RmeXLQRBQ"
      },
      "execution_count": null,
      "outputs": []
    },
    {
      "cell_type": "code",
      "source": [
        "print(\"The target probability is : \" , np.mean(l))"
      ],
      "metadata": {
        "colab": {
          "base_uri": "https://localhost:8080/"
        },
        "id": "l19q-257Bbjb",
        "outputId": "eb1446b8-ae8e-4f1f-93fe-8e295a4d25b5"
      },
      "execution_count": null,
      "outputs": [
        {
          "output_type": "execute_result",
          "data": {
            "text/plain": [
              "27437048"
            ]
          },
          "metadata": {},
          "execution_count": 92
        }
      ]
    },
    {
      "cell_type": "markdown",
      "source": [
        "# R8"
      ],
      "metadata": {
        "id": "z2xzbC9OOOEQ"
      }
    },
    {
      "cell_type": "markdown",
      "source": [
        "Does more “likes” also mean more comments? Plot a scatter plot of “likes” vs comments for posts.\n",
        "----\n",
        "\n",
        "In order to discover rather more likes mean more comments, we show the scatter plot of the number of like vs the number of comments."
      ],
      "metadata": {
        "id": "lv69sEDfX6ko"
      }
    },
    {
      "cell_type": "code",
      "source": [
        "# do not change the number of rows. We have done the analysis with them. More rows are not needed and can complicated so much the analysis\n",
        "posts =pd.read_csv(\"/content/drive/MyDrive/ADM_HW2/instagram_posts.csv\",sep='\\t',usecols=['number_comments', 'numbr_likes' , 'cts' ], nrows= 5000000) "
      ],
      "metadata": {
        "id": "sGdvkVyXolHE"
      },
      "execution_count": null,
      "outputs": []
    },
    {
      "cell_type": "code",
      "source": [
        "plt.plot(posts['numbr_likes'], posts['number_comments'], 'o', color='lightblue');\n",
        "\n",
        "#obtain m (slope) and b(intercept) of linear regression line\n",
        "m, b = np.polyfit(posts['numbr_likes'], posts['number_comments'], 1)\n",
        "\n",
        "#use red as color for regression line\n",
        "plt.plot(posts['numbr_likes'], m * posts['numbr_likes'] +b, color='red');\n",
        "plt.title(\"Number likes vs. Number comments\")\n",
        "plt.xlim([0,1000000]);\n",
        "plt.ylim([0,50000]);"
      ],
      "metadata": {
        "colab": {
          "base_uri": "https://localhost:8080/",
          "height": 282
        },
        "id": "5HilKG8klLDM",
        "outputId": "32371c39-f270-4e76-92b9-9a9e38a035d9"
      },
      "execution_count": null,
      "outputs": [
        {
          "output_type": "display_data",
          "data": {
            "text/plain": [
              "<Figure size 432x288 with 1 Axes>"
            ],
            "image/png": "[encoded data removed]"
          },
          "metadata": {
            "needs_background": "light"
          }
        }
      ]
    },
    {
      "cell_type": "markdown",
      "source": [
        "\n",
        "We can already see graphically that there is no obvious relationship between the number of comments and the number of likes a post has.\n",
        "\n",
        "To analyze it analytically, we can perform a linear regression. The result of this analysis is shown below."
      ],
      "metadata": {
        "id": "aayFMEm1YWrT"
      }
    },
    {
      "cell_type": "code",
      "source": [
        "posts.dropna()"
      ],
      "metadata": {
        "id": "JFdrDNWpOBU2"
      },
      "execution_count": null,
      "outputs": []
    },
    {
      "cell_type": "code",
      "source": [
        "x = posts.numbr_likes\n",
        "y = posts.number_comments\n",
        "\n",
        "x = sm.add_constant(x)\n",
        "\n",
        "model = sm.OLS(y, x).fit()\n",
        "predictions = model.predict(x) \n",
        "\n",
        "print_model = model.summary()\n",
        "print(print_model)"
      ],
      "metadata": {
        "colab": {
          "base_uri": "https://localhost:8080/"
        },
        "id": "KLUBMK4jgKDE",
        "outputId": "2ca4232c-6c29-4053-f9fe-619f713f032d"
      },
      "execution_count": null,
      "outputs": [
        {
          "output_type": "stream",
          "name": "stderr",
          "text": [
            "/usr/local/lib/python3.7/dist-packages/statsmodels/tsa/tsatools.py:142: FutureWarning: In a future version of pandas all arguments of concat except for the argument 'objs' will be keyword-only\n",
            "  x = pd.concat(x[::order], 1)\n"
          ]
        },
        {
          "output_type": "stream",
          "name": "stdout",
          "text": [
            "                            OLS Regression Results                            \n",
            "==============================================================================\n",
            "Dep. Variable:        number_comments   R-squared:                       0.188\n",
            "Model:                            OLS   Adj. R-squared:                  0.188\n",
            "Method:                 Least Squares   F-statistic:                 1.158e+06\n",
            "Date:                Tue, 25 Oct 2022   Prob (F-statistic):               0.00\n",
            "Time:                        08:19:55   Log-Likelihood:            -3.1017e+07\n",
            "No. Observations:             5000000   AIC:                         6.203e+07\n",
            "Df Residuals:                 4999998   BIC:                         6.203e+07\n",
            "Df Model:                           1                                         \n",
            "Covariance Type:            nonrobust                                         \n",
            "===============================================================================\n",
            "                  coef    std err          t      P>|t|      [0.025      0.975]\n",
            "-------------------------------------------------------------------------------\n",
            "const           3.9593      0.054     73.904      0.000       3.854       4.064\n",
            "numbr_likes     0.0108   1.01e-05   1075.997      0.000       0.011       0.011\n",
            "=================================================================================\n",
            "Omnibus:                 32711573.420   Durbin-Watson:                      1.979\n",
            "Prob(Omnibus):                  0.000   Jarque-Bera (JB):   63325654664180616.000\n",
            "Skew:                         594.073   Prob(JB):                            0.00\n",
            "Kurtosis:                  551330.245   Cond. No.                        5.32e+03\n",
            "=================================================================================\n",
            "\n",
            "Notes:\n",
            "[1] Standard Errors assume that the covariance matrix of the errors is correctly specified.\n",
            "[2] The condition number is large, 5.32e+03. This might indicate that there are\n",
            "strong multicollinearity or other numerical problems.\n"
          ]
        }
      ]
    },
    {
      "cell_type": "markdown",
      "source": [
        "Briefly comments on the output:\n",
        "\n",
        "The data provides a significant non-relationship between the number of likes and the number of comments.\n",
        "\n",
        "The Beta coefficient explains that for a unit increase in the number of likes, an increase of 0.0108 (almost 0) in the number of comments is expected.\n",
        "\n",
        "The R-squared of 0.188 means that the variance of the number of comments is explained by 19% by the variance of the number of likes."
      ],
      "metadata": {
        "id": "dvgjziHyjVTh"
      }
    },
    {
      "cell_type": "markdown",
      "source": [
        "8.2) Can you find any significant relationship between the time a user publishes a post and the number of comments and “likes”? Use an appropriate statistical test or technique and support your choice.\n",
        "----\n",
        "\n",
        "To find out if there is a significant relationship between the time a user posts a post and the number of comments and \"likes\" he received, we perform an ANOVA analysis for both the number of comments and the likes.\n",
        "\n",
        "ANOVA ( **AN** alysis **O**f **VA**riance ) is a statistical procedure to analyze differences among means from each groups.\n",
        "\n",
        "Doing ANOVA we are testing if the $H_{0}$ hypothesis: \"all the mean for each group are the same\" is true or not.\n",
        "\n",
        "\n",
        "$ H_{0}: \\mu_{1} = \\mu_{2} = ... =  \\mu_{s}  $\n",
        "\n",
        "\n",
        "We created groups by clustering cts variables per hour.\n",
        "\n",
        "We built bar plots of the means for each group.\n",
        "\n",
        "We built a boxplot of the variables for each group\n",
        "\n",
        "We compute the F - statistics, derive the p-value and decide whether accept or not the null hypothesis.\n",
        "\n",
        "ANOVA makes the following assumptions about the probability distribution of the responses..\n",
        "\n",
        "\n",
        "\n",
        "\n",
        "*   Independence of observations \n",
        "*   the distributions of the residuals are normal.\n",
        "*   homoscedasticity—the variance of data in groups should be the same.\n",
        "\n",
        "\n",
        "Remark are shown below.\n",
        "\n"
      ],
      "metadata": {
        "id": "LMk9iD4SZUsr"
      }
    },
    {
      "cell_type": "code",
      "source": [
        "posts['cts'] = pd.to_datetime(posts.cts).dt.floor('H').dt.time"
      ],
      "metadata": {
        "id": "yvDo4Te55gwO"
      },
      "execution_count": null,
      "outputs": []
    },
    {
      "cell_type": "code",
      "source": [
        "grouping = posts.groupby(posts.cts).apply( lambda x : np.mean(x.number_comments))\n",
        "timing = grouping.index.to_list()\n",
        "dic={}\n",
        "\n",
        "for x, t in zip(grouping, timing):\n",
        "  dic['{:02d}:{:02d}:{:02d}'.format(t.hour, t.minute, t.second)] = x\n",
        "\n",
        "data ={'cts' : dic.keys(), 'mean_number_comments': dic.values() }\n",
        "\n",
        "df = pd.DataFrame(data)\n",
        "\n"
      ],
      "metadata": {
        "id": "Xfw_ThgBhMSj"
      },
      "execution_count": null,
      "outputs": []
    },
    {
      "cell_type": "code",
      "source": [
        "plt.figure(figsize=(14,8))\n",
        "plt.bar(df.cts,df.mean_number_comments, color ='maroon',\n",
        "        width = 0.8);\n",
        "plt.title(\"Means of number of comments per hour time\")        \n",
        "plt.xticks(rotation=90);"
      ],
      "metadata": {
        "colab": {
          "base_uri": "https://localhost:8080/",
          "height": 533
        },
        "id": "ZnP0-GcmRoyU",
        "outputId": "063af483-eefc-41e6-b53f-0ec303849c3d"
      },
      "execution_count": null,
      "outputs": [
        {
          "output_type": "display_data",
          "data": {
            "text/plain": [
              "<Figure size 1008x576 with 1 Axes>"
            ],
            "image/png": "[encoded data removed]"
          },
          "metadata": {
            "needs_background": "light"
          }
        }
      ]
    },
    {
      "cell_type": "code",
      "source": [
        "grouping = posts.groupby(posts.cts).apply( lambda x : x.number_comments )\n",
        "\n",
        "g = pd.DataFrame(grouping)\n",
        "g.boxplot('number_comments', by='cts', figsize=(12, 8), showfliers= False , grid = False , color = 'purple' , showmeans=True);\n",
        "\n",
        "plt.xticks(rotation=90);\n"
      ],
      "metadata": {
        "colab": {
          "base_uri": "https://localhost:8080/",
          "height": 645
        },
        "id": "zEc_oBL-8iCP",
        "outputId": "aea9958f-5d85-466c-ac70-ceb7b1a56fb9"
      },
      "execution_count": null,
      "outputs": [
        {
          "output_type": "stream",
          "name": "stderr",
          "text": [
            "/usr/local/lib/python3.7/dist-packages/matplotlib/cbook/__init__.py:1376: VisibleDeprecationWarning: Creating an ndarray from ragged nested sequences (which is a list-or-tuple of lists-or-tuples-or ndarrays with different lengths or shapes) is deprecated. If you meant to do this, you must specify 'dtype=object' when creating the ndarray.\n",
            "  X = np.atleast_1d(X.T if isinstance(X, np.ndarray) else np.asarray(X))\n",
            "WARNING:matplotlib.legend:No handles with labels found to put in legend.\n"
          ]
        },
        {
          "output_type": "display_data",
          "data": {
            "text/plain": [
              "<Figure size 864x576 with 1 Axes>"
            ],
            "image/png": "[encoded data removed]"
          },
          "metadata": {
            "needs_background": "light"
          }
        }
      ]
    },
    {
      "cell_type": "code",
      "source": [
        "ctrl = posts['number_comments'][posts.cts == 'cts']\n",
        "grps = pd.unique(posts.cts.values)\n",
        "d_data = {grp: posts['number_comments'][posts.cts == grp] for grp in grps}"
      ],
      "metadata": {
        "id": "ZmVHwcODDlnG"
      },
      "execution_count": null,
      "outputs": []
    },
    {
      "cell_type": "code",
      "source": [
        "l=list(d_data.keys())\n",
        "\n",
        "F, p = stats.f_oneway(\n",
        "    d_data[l[0]], d_data[l[1]]  , d_data[l[2]], d_data[l[3]], d_data[l[4]], d_data[l[5]],\n",
        "    d_data[l[6]], d_data[l[7]]  , d_data[l[8]],d_data[l[9]], d_data[l[10]], d_data[l[12]],\n",
        "    d_data[l[13]], d_data[l[14]], d_data[l[15]],d_data[l[16]], d_data[l[17]], d_data[l[18]],\n",
        "    d_data[l[19]], d_data[l[20]], d_data[l[21]],d_data[l[22]], d_data[l[23]])\n",
        "print(F , p ,\"\\n\", \"We reject the null hypothesis \\n Data provides significant difference among the means of the time slots\")"
      ],
      "metadata": {
        "colab": {
          "base_uri": "https://localhost:8080/"
        },
        "id": "cF7wNJz7TBmK",
        "outputId": "ffeaf723-d8bb-4bcd-d400-7831eead32f2"
      },
      "execution_count": null,
      "outputs": [
        {
          "output_type": "stream",
          "name": "stdout",
          "text": [
            "2.408751970123262 0.0002276753156973062 \n",
            " We reject the null hypothesis \n",
            " Data provides significant difference among the means of the time slots\n"
          ]
        }
      ]
    },
    {
      "cell_type": "markdown",
      "source": [
        "The value of the F- statistics is the ratio: between deviance / within deviance.\n",
        "\n",
        "The \"between deviance\" is the deviance due to the systematic factor \"hour\". If the ratio is greater than 1 means that the between deviance is greater than the within deviance and there is a significant change in the means for each group.\n",
        "\n",
        "Anyway, we have already seen that the means are not good statistics for a very skew distribution.The distribution we are analyzing does not respect the assumption of normality requested by ANOVA.\n",
        "In this case, the median is a more rappresented summarization.\n",
        "\n",
        "The principle of the test we will use is that if two samples have the same median, they should have more or less the same proportion of observations on a interval above and below that median. This would be true irrespective of their two distributions and so no normality assumptions are needed. \n",
        "\n",
        "In order to have a better explanation of analysis we should try with any combination of hour times. In order not to make the analysis heavy, we will proceed with only a few examples\n",
        "\n",
        "We can think of dividing the time into slots: [daytime hours: from 5 to 17 and night hours: from 18 to 4] and see if there is a significant difference on median compared to the time slots.\n",
        "\n",
        "\n",
        "\n",
        "\n"
      ],
      "metadata": {
        "id": "tVXshv3EaEv9"
      }
    },
    {
      "cell_type": "code",
      "source": [
        "# ANOVA for medians for day hour\n",
        "F1 ,p1 = stats.mannwhitneyu( d_data[l[1]], d_data[l[2]] )\n",
        "# ANOVA for medians for night hour\n",
        "F2 ,p2 =  stats.mannwhitneyu( d_data[l[11]], d_data[l[12]] )\n",
        "# ANOVA for medians for night hour\n",
        "F3 ,p3 =  stats.mannwhitneyu( d_data[l[20]], d_data[l[14]] )\n",
        "\n",
        "print(F1 ,p1, \"\\n\", \n",
        "      \"Daytime comparision:\" , \"\\n\"\n",
        "      \"We accept the null hypothesis \", \"\\n\"\n",
        "      \"Data don't provide significante median changes  between  daily time slots \")\n",
        "print(\"\\n\")\n",
        "print(F2 ,p3, \"\\n\", \n",
        "      \"Nighttime comparision:\" , \"\\n\"\n",
        "      \"We accept the null hypothesis \", \"\\n\"\n",
        "      \"Data don't provide significante median changes between night time slots \")\n",
        "print(\"\\n\")\n",
        "print(F3 ,p3, \"\\n\", \n",
        "      \"Daytime and Nightime comparision:\" , \"\\n\"\n",
        "      \"We reject the null hypothesis \", \"\\n\"\n",
        "      \"Data provide significante median changes  between daily and night time slots \")"
      ],
      "metadata": {
        "colab": {
          "base_uri": "https://localhost:8080/"
        },
        "id": "x8M3z9sGQkJF",
        "outputId": "716509e4-815f-4aa4-baaf-be2240ae6404"
      },
      "execution_count": null,
      "outputs": [
        {
          "output_type": "stream",
          "name": "stdout",
          "text": [
            "19663062294.5 6.915263616142664e-16 \n",
            " Daytime comparision: \n",
            "We accept the null hypothesis  \n",
            "Data don't provide significante median changes  between  daily time slots \n",
            "\n",
            "\n",
            "25948432515.0 2.115915340200362e-37 \n",
            " Nighttime comparision: \n",
            "We accept the null hypothesis  \n",
            "Data don't provide significante median changes between night time slots \n",
            "\n",
            "\n",
            "19663062294.5 6.915263616142664e-16 \n",
            " Daytime and Nightime comparision: \n",
            "We reject the null hypothesis  \n",
            "Data provide significante median changes  between daily and night time slots \n"
          ]
        }
      ]
    },
    {
      "cell_type": "markdown",
      "source": [
        "Note: we only compare some slots time and then we can't declare that according to median there is a relationship between number of comments and dayhours and nighthours."
      ],
      "metadata": {
        "id": "2O5U3OJ-6ziP"
      }
    },
    {
      "cell_type": "markdown",
      "source": [
        "Reapiting the same procedure on the variable: number_likes"
      ],
      "metadata": {
        "id": "tRez22Ny10rV"
      }
    },
    {
      "cell_type": "code",
      "source": [
        "grouping = posts.groupby(posts.cts).apply( lambda x : np.mean(x.numbr_likes))\n",
        "timing = grouping.index.to_list()\n",
        "dic={}\n",
        "for x, t in zip(grouping, timing):\n",
        "  dic['{:02d}:{:02d}:{:02d}'.format(t.hour, t.minute, t.second)] = x\n",
        "dic.keys()\n",
        "data ={'cts' : dic.keys(), 'mean_number_likes': dic.values() }\n",
        "\n",
        "df = pd.DataFrame(data)"
      ],
      "metadata": {
        "id": "GLD6dMr10IVK"
      },
      "execution_count": null,
      "outputs": []
    },
    {
      "cell_type": "code",
      "source": [
        "plt.figure(figsize=(14,8))\n",
        "plt.bar(df.cts,df.mean_number_likes, color ='maroon',\n",
        "        width = 0.8);\n",
        "plt.title(\"Means of number of likes per hour time\")        \n",
        "plt.xticks(rotation=90);"
      ],
      "metadata": {
        "colab": {
          "base_uri": "https://localhost:8080/",
          "height": 533
        },
        "id": "UVIO1xD40zRT",
        "outputId": "14395cd8-3c97-499c-b7c0-3cf9e6c1a382"
      },
      "execution_count": null,
      "outputs": [
        {
          "output_type": "display_data",
          "data": {
            "text/plain": [
              "<Figure size 1008x576 with 1 Axes>"
            ],
            "image/png": "[encoded data removed]"
          },
          "metadata": {
            "needs_background": "light"
          }
        }
      ]
    },
    {
      "cell_type": "code",
      "source": [
        "grouping = posts.groupby(posts.cts).apply( lambda x : x.numbr_likes )\n",
        "g = pd.DataFrame(grouping)\n",
        "g.boxplot('numbr_likes', by='cts', figsize=(12, 8), showfliers= False , grid = False ,color = 'purple', showmeans= True);\n",
        "plt.xticks(rotation=90)"
      ],
      "metadata": {
        "colab": {
          "base_uri": "https://localhost:8080/",
          "height": 679
        },
        "id": "69zI4Gkr0_Cc",
        "outputId": "f72d1ea5-6087-4f76-81d4-531b41794b44"
      },
      "execution_count": null,
      "outputs": [
        {
          "output_type": "stream",
          "name": "stderr",
          "text": [
            "/usr/local/lib/python3.7/dist-packages/matplotlib/cbook/__init__.py:1376: VisibleDeprecationWarning: Creating an ndarray from ragged nested sequences (which is a list-or-tuple of lists-or-tuples-or ndarrays with different lengths or shapes) is deprecated. If you meant to do this, you must specify 'dtype=object' when creating the ndarray.\n",
            "  X = np.atleast_1d(X.T if isinstance(X, np.ndarray) else np.asarray(X))\n"
          ]
        },
        {
          "output_type": "execute_result",
          "data": {
            "text/plain": [
              "(array([ 1,  2,  3,  4,  5,  6,  7,  8,  9, 10, 11, 12, 13, 14, 15, 16, 17,\n",
              "        18, 19, 20, 21, 22, 23, 24]),\n",
              " <a list of 24 Text major ticklabel objects>)"
            ]
          },
          "metadata": {},
          "execution_count": 36
        },
        {
          "output_type": "display_data",
          "data": {
            "text/plain": [
              "<Figure size 864x576 with 1 Axes>"
            ],
            "image/png": "[encoded data removed]"
          },
          "metadata": {
            "needs_background": "light"
          }
        }
      ]
    },
    {
      "cell_type": "code",
      "source": [
        "ctrl = posts['numbr_likes'][posts.cts == 'cts']\n",
        "grps = pd.unique(posts.cts.values)\n",
        "d_data = {grp: posts['numbr_likes'][posts.cts == grp] for grp in grps}"
      ],
      "metadata": {
        "id": "F148j6YH1Rw-"
      },
      "execution_count": null,
      "outputs": []
    },
    {
      "cell_type": "code",
      "source": [
        "l=list(d_data.keys())\n",
        "\n",
        "F, p = stats.f_oneway(\n",
        "    d_data[l[0]], d_data[l[1]]  , d_data[l[2]], d_data[l[3]], d_data[l[4]], d_data[l[5]],\n",
        "    d_data[l[6]], d_data[l[7]]  , d_data[l[8]],d_data[l[9]], d_data[l[10]], d_data[l[12]],\n",
        "    d_data[l[13]], d_data[l[14]], d_data[l[15]],d_data[l[16]], d_data[l[17]], d_data[l[18]],\n",
        "    d_data[l[19]], d_data[l[20]], d_data[l[21]],d_data[l[22]], d_data[l[23]])\n",
        "print(F , p ,\"\\n\", \"We reject the null hypothesis \\n Data provides significant difference among the means of the time slots\")"
      ],
      "metadata": {
        "colab": {
          "base_uri": "https://localhost:8080/"
        },
        "id": "i2IAqnuM1Uza",
        "outputId": "0aa2f172-acd7-444b-affc-b767c3d5a052"
      },
      "execution_count": null,
      "outputs": [
        {
          "output_type": "stream",
          "name": "stdout",
          "text": [
            "3.362977726002919 1.5387976263440646e-07 \n",
            " We reject the null hypothesis \n",
            " Data provides significant difference among the means of the time slots\n"
          ]
        }
      ]
    },
    {
      "cell_type": "code",
      "source": [
        "# ANOVA for medians for day hour\n",
        "F1 ,p1 = stats.mannwhitneyu( d_data[l[1]], d_data[l[2]] )\n",
        "# ANOVA for medians for night hour\n",
        "F2 ,p2 =  stats.mannwhitneyu( d_data[l[11]], d_data[l[12]] )\n",
        "# ANOVA for medians for night hour\n",
        "F3 ,p3 =  stats.mannwhitneyu( d_data[l[20]], d_data[l[14]] )\n",
        "\n",
        "print(F1 ,p1, \"\\n\", \n",
        "      \"Daytime comparision:\" , \"\\n\"\n",
        "      \"We accept the null hypothesis \", \"\\n\"\n",
        "      \"Data don't provide significante median changes  between  daily time slots \")\n",
        "print(\"\\n\")\n",
        "print(F2 ,p3, \"\\n\", \n",
        "      \"Nighttime comparision:\" , \"\\n\"\n",
        "      \"We reject the null hypothesis \", \"\\n\"\n",
        "      \"Data provide significante median changes between night time slots \")\n",
        "print(\"\\n\")\n",
        "print(F3,p3, \"\\n\", \n",
        "      \"Daytime and Nightime comparision:\" , \"\\n\"\n",
        "      \"We reject the null hypothesis \", \"\\n\"\n",
        "      \"Data provide significante median changes  between daily and night time slots \")\n"
      ],
      "metadata": {
        "colab": {
          "base_uri": "https://localhost:8080/"
        },
        "id": "4XJ3hdQDVEnp",
        "outputId": "70886722-3b14-4b94-aa6e-7bb2650a55fa"
      },
      "execution_count": null,
      "outputs": [
        {
          "output_type": "stream",
          "name": "stdout",
          "text": [
            "19954570492.5 0.9867073714009481 \n",
            " Daytime comparision: \n",
            "We accept the null hypothesis  \n",
            "Data don't provide significante median changes  between  daily time slots \n",
            "\n",
            "\n",
            "25102514231.0 3.196322547293318e-113 \n",
            " Nighttime comparision: \n",
            "We accept the null hypothesis  \n",
            "Data don't provide significante median changes between night time slots \n",
            "\n",
            "\n",
            "19201011378.5 3.196322547293318e-113 \n",
            " Daytime and Nightime comparision: \n",
            "We reject the null hypothesis  \n",
            "Data provide significante median changes  between daily and night time slots \n"
          ]
        }
      ]
    },
    {
      "cell_type": "markdown",
      "source": [
        "8.3) What’s the distribution of followers? Plot the empirical distribution of followers amongst all users and extract the mean, mode, and quantiles. Interpret those figures.\n",
        "----"
      ],
      "metadata": {
        "id": "ZHajtIhg7RJM"
      }
    },
    {
      "cell_type": "code",
      "source": [
        "profiles =pd.read_csv(\"/content/drive/MyDrive/ADM_HW2/instagram_profiles.csv\",sep='\\t')"
      ],
      "metadata": {
        "id": "6yTOALbZ9WAY"
      },
      "execution_count": null,
      "outputs": []
    },
    {
      "cell_type": "code",
      "source": [
        "followers_outliers= profiles.followers[profiles.followers < profiles.followers.quantile(.95)]\n",
        "followers_outliers= followers_outliers[profiles.followers > profiles.followers.quantile(.05)]\n"
      ],
      "metadata": {
        "id": "uufhSi5M75XL"
      },
      "execution_count": null,
      "outputs": []
    },
    {
      "cell_type": "code",
      "source": [
        "sns.distplot(followers_outliers, hist=True, kde=True, \n",
        "             bins=int(180/5), color = 'lightblue', \n",
        "             hist_kws={'edgecolor':'lightblue'},\n",
        "             kde_kws={'linewidth': 4}).set(title='Distribution of followers per profile')\n"
      ],
      "metadata": {
        "id": "QN2aZgt57q7_",
        "colab": {
          "base_uri": "https://localhost:8080/",
          "height": 366
        },
        "outputId": "c6eae778-ee3a-4be2-d536-6cd77057d367"
      },
      "execution_count": null,
      "outputs": [
        {
          "output_type": "stream",
          "name": "stderr",
          "text": [
            "/usr/local/lib/python3.7/dist-packages/seaborn/distributions.py:2619: FutureWarning: `distplot` is a deprecated function and will be removed in a future version. Please adapt your code to use either `displot` (a figure-level function with similar flexibility) or `histplot` (an axes-level function for histograms).\n",
            "  warnings.warn(msg, FutureWarning)\n"
          ]
        },
        {
          "output_type": "execute_result",
          "data": {
            "text/plain": [
              "[Text(0.5, 1.0, 'Distribution of followers per profile')]"
            ]
          },
          "metadata": {},
          "execution_count": 80
        },
        {
          "output_type": "display_data",
          "data": {
            "text/plain": [
              "<Figure size 432x288 with 1 Axes>"
            ],
            "image/png": "[encoded data removed]"
          },
          "metadata": {
            "needs_background": "light"
          }
        }
      ]
    },
    {
      "cell_type": "code",
      "source": [
        "print(\"The actual mean of followers distribution is \" , profiles.followers.mean())\n",
        "print(\"The actual mode of followers distribution is \", profiles.followers.mode())\n",
        "print(\"The actual median of followers distribution is \",profiles.followers.median())\n",
        "print(\"The actual 1st quartile of followers distribution is \",profiles.followers.quantile(.25))\n",
        "print(\"The actual 3rd quartile of followers distribution is \",profiles.followers.quantile(.75))"
      ],
      "metadata": {
        "colab": {
          "base_uri": "https://localhost:8080/"
        },
        "id": "c_4IlsjG9Iu3",
        "outputId": "9ca92d41-0a3b-4e8b-a90c-7ce12bfed198"
      },
      "execution_count": null,
      "outputs": [
        {
          "output_type": "stream",
          "name": "stdout",
          "text": [
            "The actual mean of followers distribution is  4739.899180397426\n",
            "The actual mode of followers distribution is  0    0.0\n",
            "dtype: float64\n",
            "The actual median of followers distribution is  406.0\n",
            "The actual 1st quartile of followers distribution is  159.0\n",
            "The actual 3rd quartile of followers distribution is  974.0\n"
          ]
        }
      ]
    },
    {
      "cell_type": "code",
      "source": [
        "print(\"The  mean of truncate followers distribution is \" , followers_outliers.mean())\n",
        "print(\"The  mode of truncate followers distribution is \", followers_outliers.mode())\n",
        "print(\"The  median of truncate followers distribution is \",followers_outliers.median())\n",
        "print(\"The 1st quartile of truncate followers distribution is \",followers_outliers.quantile(.25))\n",
        "print(\"The  3rd quartile of truncate followers distribution is \",followers_outliers.quantile(.75))"
      ],
      "metadata": {
        "colab": {
          "base_uri": "https://localhost:8080/"
        },
        "id": "GjA3Cd4o9TH1",
        "outputId": "38ccdad8-9f4f-450f-f692-5494135972aa"
      },
      "execution_count": null,
      "outputs": [
        {
          "output_type": "stream",
          "name": "stdout",
          "text": [
            "The  mean of truncate followers distribution is  740.7206838108066\n",
            "The  mode of truncate followers distribution is  0    50.0\n",
            "dtype: float64\n",
            "The  median of truncate followers distribution is  407.0\n",
            "The 1st quartile of truncate followers distribution is  179.0\n",
            "The  3rd quartile of truncate followers distribution is  886.0\n"
          ]
        }
      ]
    },
    {
      "cell_type": "markdown",
      "source": [
        "The mean is not a robust indicator, it is heavily influenced by outliers, so in the non-truncated distribution it does not represent a good representation of the distribution.\n",
        "\n",
        "Fashion is the character that occurs most often in distribution, in true distribution it is 0, which is not very representative, as it represents unused or false profiles.\n",
        "\n",
        "The median, being a robust index, is a good statistic to represent the distribution. It is not influenced by the outliers, so it is almost similar between the true distribution and the truncated distribution.\n",
        "\n",
        "First and third quartiles are similar both in the truncated and untreated distribution, this is because like the median, they are position indices and therefore are not influenced by outliers."
      ],
      "metadata": {
        "id": "qQUcnfrT-9Up"
      }
    },
    {
      "cell_type": "markdown",
      "source": [
        "8.4) What are histograms, bar plots, scatterplots and pie charts used for?\n",
        "----\n",
        "*   **Histograms:** is a graphical rappresentation to demonstrate how many of a certain type of variable occur within a specific range. It is used for give an approximation of the distribution of data points we are dealing with.\n",
        "*   **Scatterplots:** is a graphical rappresentation of data points on a two-dimensional plane. It is used for show the relationship between the two variables of interest.\n",
        "*   **Pie charts:** is a graphical rappresentation divided into slices (groups) to illustrate numerical proportion of the data points within the slices."
      ],
      "metadata": {
        "id": "KG2nAQWUNDEA"
      }
    },
    {
      "cell_type": "markdown",
      "source": [
        "8.5) What insights can you extract from a Box Plot?\n",
        "----\n",
        "The information that a boxplot provides are:\n",
        "\n",
        "The minimun of the distribution\n",
        "\n",
        "The maximum of the distribution\n",
        "\n",
        "The first quartile ( quantile of level .25)\n",
        "\n",
        "The Median ( second quartile or quantile of level .5)\n",
        "The third quartile ( quantile of level .75)\n",
        "Sometimes is worth to show also the mean of the distribution, in order to compare it with the median.\n",
        "\n",
        "With the boxplot rappresentation we see how much the distribution is skew."
      ],
      "metadata": {
        "id": "448jyGDwNVP7"
      }
    },
    {
      "cell_type": "markdown",
      "source": [
        "# Bonus point\n",
        "\n",
        "\n",
        "Bonus question a) Compare the mean of time intervals between posts for the two categories. Do you notice something relevant?\n",
        "----\n",
        "\n",
        "In order to do this task we split the profile dataset in two:\n",
        "\n",
        "Group 1 = \" the 10% of users with more number of followers\"\n",
        "\n",
        "Group 2 = \" the rest users\"\n",
        "\n",
        "For each profile we should compute all the differences between posts intervall and compute the mean. To handle this complex problem we use this property: The mean of all the differences of a list is: \n",
        "\\begin{equation}\\frac{maximum - minimum}{ lenght(list) -  1}\n",
        "\\end{equation}.\n",
        "\n",
        "To explain this property better we show an example:\n",
        "\n",
        "L=[ 10 , 9 , 4, 1 ]\n",
        "\n",
        "Doing the mean of the differences we are computing:\n",
        "\n",
        "\n",
        "\\begin{equation}\n",
        "\\frac{(10 - 9 ) + (9 - 4) + (4 - 1)}{3}  = \\frac{10 -1}{3}  =  \\frac{maximum - minimum}{lenght(list) -  1} \n",
        "\\end{equation}\n",
        "\n",
        "\n",
        "After computing the mean of time intervals between posts for each profile, we compute the mean of all the means for the two groups.\n",
        "\n",
        "Remark are shown below."
      ],
      "metadata": {
        "id": "Ijvfi0hJw_c6"
      }
    },
    {
      "cell_type": "code",
      "source": [
        "profiles =pd.read_csv(\"/content/drive/MyDrive/ADM_HW2/instagram_profiles.csv\",sep='\\t' , usecols=[\"followers\", \"sid\"])\n",
        "posts =pd.read_csv(\"/content/drive/MyDrive/ADM_HW2/instagram_posts.csv\",sep='\\t',usecols=['sid_profile' , 'cts' ])"
      ],
      "metadata": {
        "id": "lxYKNjLSxBo1"
      },
      "execution_count": null,
      "outputs": []
    },
    {
      "cell_type": "code",
      "source": [
        "group_1= profiles[profiles.followers > profiles.followers.quantile(.9)]\n",
        "group_2= profiles[profiles.followers <= profiles.followers.quantile(.9)]"
      ],
      "metadata": {
        "id": "iMQpFPmUxMkS"
      },
      "execution_count": null,
      "outputs": []
    },
    {
      "cell_type": "code",
      "source": [
        "posts['cts'] = pd.to_datetime(posts.cts)"
      ],
      "metadata": {
        "id": "nGcHMrndx4-I"
      },
      "execution_count": null,
      "outputs": []
    },
    {
      "cell_type": "code",
      "source": [
        "g = posts.cts.groupby(posts.sid_profile).apply(list).reset_index()          \n",
        "g['mean_time'] = g.cts.apply(lambda x: ((max(x)-min(x)) / (len(x)-1)))"
      ],
      "metadata": {
        "id": "43UkmmQr69xq"
      },
      "execution_count": null,
      "outputs": []
    },
    {
      "cell_type": "code",
      "source": [
        "df = pd.merge( g , group_1, left_on=\"sid_profile\", right_on=\"sid\").drop(['sid', 'followers'], axis=1)"
      ],
      "metadata": {
        "id": "g4HKCjIhi0Qs"
      },
      "execution_count": null,
      "outputs": []
    },
    {
      "cell_type": "code",
      "source": [
        "df2 = pd.merge( g , group_2, left_on=\"sid_profile\", right_on=\"sid\").drop(['sid', 'followers'], axis=1)"
      ],
      "metadata": {
        "id": "TwF3RPzu5M-Z"
      },
      "execution_count": null,
      "outputs": []
    },
    {
      "cell_type": "code",
      "source": [
        "print(\" The mean of time intervals between posts for 10% users with more followers is:\" , np.mean(df.mean_time))\n",
        "print(\"\\n\")\n",
        "print(\" The mean of time intervals between posts for the rest  is:\" , np.mean(df2.mean_time))"
      ],
      "metadata": {
        "id": "OPGT15g0ddcp",
        "colab": {
          "base_uri": "https://localhost:8080/"
        },
        "outputId": "064b6165-65a6-4c44-cfb7-abff81bc674f"
      },
      "execution_count": null,
      "outputs": [
        {
          "output_type": "stream",
          "name": "stdout",
          "text": [
            " The mean of time intervals between posts for 10% users with more followers is: 34 days 21:35:50.173154485\n",
            "\n",
            "\n",
            " The mean of time intervals between posts for the rest  is: 9 days 11:32:57.296799039\n"
          ]
        }
      ]
    },
    {
      "cell_type": "markdown",
      "source": [
        "\n",
        "Bonus question b) Are there users that have visited the same location on the same day? How about the same week? Extract the results and explain them.\n",
        "---\n",
        "\n",
        "We understood from this task that is required to count how many users have posted on the same day at the same location.\n",
        "\n",
        "To do this task we group by \"cts\" and \"location\" the dataset posts and we count how many users have posted the post the same day at the same location.\n",
        "\n",
        "The same procedure for doing the week."
      ],
      "metadata": {
        "id": "f4bTds-znAo4"
      }
    },
    {
      "cell_type": "code",
      "source": [
        "posts =pd.read_csv(\"/content/drive/MyDrive/ADM_HW2/instagram_posts.csv\",sep='\\t',usecols=['sid_profile' , 'cts', 'location_id' ], nrows= 1000000)"
      ],
      "metadata": {
        "id": "vKfdOP9ynDwF"
      },
      "execution_count": null,
      "outputs": []
    },
    {
      "cell_type": "code",
      "source": [
        "posts_day = posts[posts.sid_profile != -1]\n",
        "posts_week = posts[posts.sid_profile != -1]\n",
        "\n",
        "posts_day['cts'] = pd.to_datetime(posts_day['cts'], format='%Y-%m-%d')\n",
        "posts_day['cts'] = posts_day['cts'].dt.date\n",
        "\n",
        "posts_week['cts'] = pd.to_datetime(posts_week['cts'], format='%Y-%m-%d')\n",
        "posts_week['cts'] = posts_week['cts'].dt.isocalendar().week"
      ],
      "metadata": {
        "id": "ad1hs6EWnq3f"
      },
      "execution_count": null,
      "outputs": []
    },
    {
      "cell_type": "code",
      "source": [
        "l_day = posts_day.groupby(['cts' , 'location_id'] , group_keys=True).aggregate(\"count\")\n",
        "l_week = posts_week.groupby(['cts' , 'location_id'] , group_keys=True).aggregate(\"count\")"
      ],
      "metadata": {
        "id": "AzPwZIoBpMDE"
      },
      "execution_count": null,
      "outputs": []
    },
    {
      "cell_type": "code",
      "source": [
        "l_day = pd.DataFrame(l) \n",
        "l_week= pd.DataFrame(l) "
      ],
      "metadata": {
        "id": "2vmgO8jPpXtK"
      },
      "execution_count": null,
      "outputs": []
    },
    {
      "cell_type": "code",
      "source": [
        "print(\"there are \" ,sum(l_day.sid_profile > 1), \" users who visited the same location on the same day\")"
      ],
      "metadata": {
        "colab": {
          "base_uri": "https://localhost:8080/"
        },
        "id": "UXmPjT4G_ycF",
        "outputId": "13baf4c3-53f6-4547-e9f9-50bc82e5e1b4"
      },
      "execution_count": null,
      "outputs": [
        {
          "output_type": "stream",
          "name": "stdout",
          "text": [
            "there are  5395  who visited the same location on the same day\n"
          ]
        }
      ]
    },
    {
      "cell_type": "code",
      "source": [
        "print(\"there are \" ,sum(l_week.sid_profile > 1), \" users who visited the same location on the same day\")"
      ],
      "metadata": {
        "colab": {
          "base_uri": "https://localhost:8080/"
        },
        "id": "iHMjCBXbDmM6",
        "outputId": "a46cbd8c-2ca3-45eb-e31c-ce0854c3c617"
      },
      "execution_count": null,
      "outputs": [
        {
          "output_type": "stream",
          "name": "stdout",
          "text": [
            "there are  5395  who visited the same location on the same day\n"
          ]
        }
      ]
    },
    {
      "cell_type": "code",
      "source": [
        "posts =pd.read_csv(\"/content/drive/MyDrive/ADM_HW2/instagram_posts.csv\",sep='\\t',usecols=['description'], nrows= 1000000)\n",
        "nltk.download('stopwords')"
      ],
      "metadata": {
        "colab": {
          "base_uri": "https://localhost:8080/"
        },
        "id": "c65srLjw5TE0",
        "outputId": "ff8319f3-2896-46ec-8701-88c311783fc4"
      },
      "execution_count": 127,
      "outputs": [
        {
          "output_type": "stream",
          "name": "stderr",
          "text": [
            "[nltk_data] Downloading package stopwords to /root/nltk_data...\n",
            "[nltk_data]   Package stopwords is already up-to-date!\n"
          ]
        },
        {
          "output_type": "execute_result",
          "data": {
            "text/plain": [
              "True"
            ]
          },
          "metadata": {},
          "execution_count": 127
        }
      ]
    },
    {
      "cell_type": "code",
      "source": [
        "parole_inutili = set(stopwords.words(['english', 'spanish', \"italian\", 'french'] ))\n",
        "parole_inutili2 = set( i.capitalize() for i in parole_inutili) | parole_inutili\n",
        "def cond(a):\n",
        "  if a in parole_inutili2:\n",
        "    return False\n",
        "  s=\"qwertyuiopasdfghjklzxcvbnmQWERTYUIOPASDFGHJKLZXCVBNM\"\n",
        "  s2 = set()\n",
        "  for i in s:\n",
        "    s2.add(i)\n",
        "\n",
        "  if len(a)>2 :\n",
        "    if  all(x in s for x in a):\n",
        "      return True\n",
        "  return False\n",
        "\n",
        "\n",
        "\n",
        "d = {}\n",
        "arr=[]\n",
        "for x in posts.description:\n",
        "  if type(x)== str:\n",
        "    arr+=x.split(\" \")\n",
        "s=set()\n",
        "for j in range(len(arr)):\n",
        "  if  cond(arr[j]):\n",
        "    if arr[j] not in s:\n",
        "      d[arr[j]]=1\n",
        "      s.add(arr[j])\n",
        "    else:\n",
        "      d[arr[j]] += 1\n",
        "\n",
        "arr2=sorted([[d[i],i] for i in d], reverse = True)\n"
      ],
      "metadata": {
        "id": "gIR8fNdj5veM"
      },
      "execution_count": 128,
      "outputs": []
    },
    {
      "cell_type": "code",
      "source": [
        "df = pd.DataFrame(arr2)\n",
        "data = df.set_index(1).to_dict()[0]\n",
        "img = cv2.imread(\"/content/Instagram_mask.png\")"
      ],
      "metadata": {
        "id": "Sz8i_lDN6soe"
      },
      "execution_count": 129,
      "outputs": []
    },
    {
      "cell_type": "code",
      "source": [
        "wc = WordCloud(width=800, height=400, max_words=200).generate_from_frequencies(data)\n",
        "\n",
        "\n",
        "wc = WordCloud(background_color='white', width=800, height=400, max_words=200, mask=img).generate_from_frequencies(data)\n",
        "\n",
        "plt.figure(figsize=(10, 10));\n",
        "plt.imshow(wc, interpolation='bilinear');\n",
        "plt.axis(\"off\");\n"
      ],
      "metadata": {
        "colab": {
          "base_uri": "https://localhost:8080/",
          "height": 595
        },
        "id": "FcRizrpBOcMB",
        "outputId": "eb5f671d-ad59-4d12-fc89-e9e2c8800802"
      },
      "execution_count": 131,
      "outputs": [
        {
          "output_type": "display_data",
          "data": {
            "text/plain": [
              "<Figure size 720x720 with 1 Axes>"
            ],
            "image/png": "[encoded data removed]"
          },
          "metadata": {
            "needs_background": "light"
          }
        }
      ]
    }
  ]
}