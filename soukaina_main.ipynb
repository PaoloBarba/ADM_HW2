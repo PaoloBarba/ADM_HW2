{
  "nbformat": 4,
  "nbformat_minor": 0,
  "metadata": {
    "colab": {
      "provenance": [],
      "collapsed_sections": [],
      "include_colab_link": true
    },
    "kernelspec": {
      "name": "python3",
      "display_name": "Python 3"
    },
    "language_info": {
      "name": "python"
    },
    "accelerator": "GPU"
  },
  "cells": [
    {
      "cell_type": "markdown",
      "metadata": {
        "id": "view-in-github",
        "colab_type": "text"
      },
      "source": [
        "<a href=\"https://colab.research.google.com/github/PaoloBarba/ADM_HW2-Group18/blob/main/soukaina_main.ipynb\" target=\"_parent\"><img src=\"https://colab.research.google.com/assets/colab-badge.svg\" alt=\"Open In Colab\"/></a>"
      ]
    },
    {
      "cell_type": "markdown",
      "source": [
        "# **Algorithmic Methods of Data Mining**\n",
        "\n",
        "#Academic year 2022–2023\n",
        "\n",
        "# Homework 2 - Instagram Profiles & Posts\n",
        "\n",
        "Authors: Barba Paolo, Bellaroba Albachiara, Soukaina Alaoui, Gasbarri Francesca."
      ],
      "metadata": {
        "id": "kYur1faNzt2h"
      }
    },
    {
      "cell_type": "markdown",
      "source": [
        "#Import the packages and upload datasets\n"
      ],
      "metadata": {
        "id": "z4aPRI3HA63g"
      }
    },
    {
      "cell_type": "code",
      "execution_count": 1,
      "metadata": {
        "id": "wLM1xak2KwOU"
      },
      "outputs": [],
      "source": [
        "import pandas as pd\n",
        "import random\n",
        "import numpy as np\n",
        "import math\n",
        "import seaborn as sns\n",
        "import matplotlib.pyplot as plt\n",
        "import scipy.stats as stats\n",
        "from tqdm import tqdm     \n",
        "import statsmodels.api as sm\n",
        "from datetime import datetime\n",
        "from time import strptime\n",
        "sns.set()\n",
        "\n",
        "\n"
      ]
    },
    {
      "cell_type": "code",
      "source": [
        "from google.colab import drive \n",
        "drive.mount('/content/drive/')"
      ],
      "metadata": {
        "colab": {
          "base_uri": "https://localhost:8080/"
        },
        "id": "BGnoXZUTLWAw",
        "outputId": "4a4cd2f1-4f22-4225-bc11-2707e824814a"
      },
      "execution_count": 2,
      "outputs": [
        {
          "output_type": "stream",
          "name": "stdout",
          "text": [
            "Drive already mounted at /content/drive/; to attempt to forcibly remount, call drive.mount(\"/content/drive/\", force_remount=True).\n"
          ]
        }
      ]
    },
    {
      "cell_type": "markdown",
      "source": [
        "# [RQ3] Now it's important to understand the most common times in which users publish their posts\n"
      ],
      "metadata": {
        "id": "jL7pHfZwzzA-"
      }
    },
    {
      "cell_type": "code",
      "source": [
        "#What is the most common time in which users publish their posts?\n",
        "file =(\"/content/drive/MyDrive/ADM_HW2/instagram_posts.csv\" )\n",
        "posts = pd.read_csv(file, usecols= ['cts'], sep='\\t')\n",
        "def publishing_time(data, count):\n",
        "    #convert cts column to datetime\n",
        "    pub_time = pd.to_datetime(data.cts).dt.floor('Min').dt.time\n",
        "    #group by publishing time\n",
        "    grouping = pub_time.groupby(pub_time).size().sort_values(ascending=False).head(count)\n",
        "    timing = grouping.index.to_list()\n",
        "    for i in timing:\n",
        "        print('{:02d}:{:02d}:{:02d}'.format(i.hour, i.minute, i.second))\n",
        "#publishing_time(posts, 1)\n",
        "print('The most common time in which users publish their posts is at:', end=' ')\n",
        "publishing_time(posts, 1)"
      ],
      "metadata": {
        "colab": {
          "base_uri": "https://localhost:8080/"
        },
        "id": "4jNgE8BLzxUo",
        "outputId": "980005dc-66fb-4595-fcbe-e35a6d083f36"
      },
      "execution_count": null,
      "outputs": [
        {
          "output_type": "stream",
          "name": "stdout",
          "text": [
            "The most common time in which users publish their posts is at: 18:00:00\n"
          ]
        }
      ]
    },
    {
      "cell_type": "code",
      "source": [
        "#Create a function that receives a time intervals list as a parameter and returns a plot with the number of posts for each given interval.\n",
        "\n",
        "def time_interval(data, intervals):\n",
        "    date = pd.DataFrame(pd.to_datetime(data.cts))\n",
        "    date.set_index(pd.DatetimeIndex(date.cts), inplace=True)\n",
        "    value_counts = pd.DataFrame()\n",
        "    #loop over interval list\n",
        "    for interval in intervals:\n",
        "        start, end = interval\n",
        "        tot = date.between_time(start, end).count()\n",
        "        RES = pd.DataFrame({'time interval (start, end)' : [interval], 'total posts' : tot})\n",
        "        value_counts = value_counts.append(RES)\n",
        "    value_counts.reset_index(drop = True, inplace = True)\n",
        "    print(value_counts)\n",
        "    value_counts.plot(figsize=(14,8), kind='bar', color = 'firebrick', zorder=3)\n",
        "    plt.xticks([0,1,2,3,4,5,6],intervals,rotation = 90)  \n",
        "    plt.xlabel('The time intervals')\n",
        "    plt.ylabel('Number of posts')\n",
        "    plt.title('Posts for each time interval')\n",
        "    plt.show()"
      ],
      "metadata": {
        "id": "tSR2t3YO0Alh"
      },
      "execution_count": null,
      "outputs": []
    },
    {
      "cell_type": "code",
      "source": [
        "#Use the function that you created in the previous literal to plot the number of posts between the following time intervals:\n",
        "\n",
        "#list of tuple of time intervals\n",
        "time_intervals = [('06:00:00', '10:59:59'),('11:00:00', '13:59:59'),('14:00:00', '16:59:59'),('17:00:00', '19:59:59'),('20:00:00', '23:59:59'),('00:00:00', '02:59:59'),('03:00:00', '05:59:59')]\n",
        "#plot the number of posts between the given time intervals \n",
        "time_interval(posts, time_intervals)\n"
      ],
      "metadata": {
        "colab": {
          "base_uri": "https://localhost:8080/",
          "height": 773
        },
        "id": "wl5tk0etzxzL",
        "outputId": "5577b069-e85e-46c1-e7fa-52b8bd876c68"
      },
      "execution_count": null,
      "outputs": [
        {
          "output_type": "stream",
          "name": "stdout",
          "text": [
            "  time interval (start, end)  total posts\n",
            "0       (06:00:00, 10:59:59)      6378572\n",
            "1       (11:00:00, 13:59:59)      5614715\n",
            "2       (14:00:00, 16:59:59)      6763037\n",
            "3       (17:00:00, 19:59:59)      7409907\n",
            "4       (20:00:00, 23:59:59)      8915794\n",
            "5       (00:00:00, 02:59:59)      4213617\n",
            "6       (03:00:00, 05:59:59)      3411223\n"
          ]
        },
        {
          "output_type": "display_data",
          "data": {
            "text/plain": [
              "<Figure size 1008x576 with 1 Axes>"
            ],
            "image/png": "[encoded data removed]"
          },
          "metadata": {}
        }
      ]
    },
    {
      "cell_type": "markdown",
      "source": [
        "# [RQ6] It's time to get information from the user posting effectiveness."
      ],
      "metadata": {
        "id": "OSPSZYlRhrP2"
      }
    },
    {
      "cell_type": "code",
      "source": [
        "#What is the average time (days and minutes) a user lets pass before publishing another post? \n",
        "#Plot the top 3 users that publish posts more frequently (calculate the average time that passes between posts), including their amount of followers and following. Provide insights from that chart.\n",
        "\n",
        "file =(\"/content/drive/MyDrive/ADM_HW2/instagram_posts.csv\" )\n",
        "posts = pd.read_csv(file, usecols= ['profile_id','cts'], sep='\\t')\n",
        "\n"
      ],
      "metadata": {
        "id": "oa_sadDghteb"
      },
      "execution_count": 4,
      "outputs": []
    },
    {
      "cell_type": "code",
      "source": [
        "time = pd.DataFrame(posts[['profile_id','cts']])\n",
        "\n",
        "time[['cts']] = time[['cts']].apply(pd.to_datetime)\n",
        "time=time.sort_values(by=['cts'])\n"
      ],
      "metadata": {
        "id": "3UCdiiUg_49q"
      },
      "execution_count": null,
      "outputs": []
    },
    {
      "cell_type": "code",
      "source": [
        "time=time.assign(cts2=time.groupby('profile_id').cts.shift(-1))\n",
        "time = pd.DataFrame(time[['profile_id','cts','cts2']])\n",
        "time['time_passed'] = time['cts2'] - time['cts']\n",
        "print('Average time before publishing another post is: ',time['time_passed'].mean())\n",
        "time.head(5)"
      ],
      "metadata": {
        "colab": {
          "base_uri": "https://localhost:8080/",
          "height": 223
        },
        "id": "3KpJA9A0ODVj",
        "outputId": "44948e23-b780-4778-a337-825f5c49c753"
      },
      "execution_count": null,
      "outputs": [
        {
          "output_type": "stream",
          "name": "stdout",
          "text": [
            "Average time before publishing another post is:  33 days 04:45:21.097663469\n"
          ]
        },
        {
          "output_type": "execute_result",
          "data": {
            "text/plain": [
              "          profile_id                 cts                cts2       time_passed\n",
              "35149671         3.0 2010-07-19 01:12:23 2010-08-21 06:40:27  33 days 05:28:04\n",
              "34345686         4.0 2010-07-22 12:19:51 2010-07-24 03:18:08   1 days 14:58:17\n",
              "7017555          4.0 2010-07-24 03:18:08 2010-09-03 07:22:03  41 days 04:03:55\n",
              "4225968          3.0 2010-08-21 06:40:27 2010-09-05 21:48:24  15 days 15:07:57\n",
              "30838561         4.0 2010-09-03 07:22:03 2011-01-30 20:18:02 149 days 12:55:59"
            ],
            "text/html": [
              "\n",
              "  <div id=\"df-29a89996-8eff-4459-8d75-0bf960ef7cb5\">\n",
              "    <div class=\"colab-df-container\">\n",
              "      <div>\n",
              "<style scoped>\n",
              "    .dataframe tbody tr th:only-of-type {\n",
              "        vertical-align: middle;\n",
              "    }\n",
              "\n",
              "    .dataframe tbody tr th {\n",
              "        vertical-align: top;\n",
              "    }\n",
              "\n",
              "    .dataframe thead th {\n",
              "        text-align: right;\n",
              "    }\n",
              "</style>\n",
              "<table border=\"1\" class=\"dataframe\">\n",
              "  <thead>\n",
              "    <tr style=\"text-align: right;\">\n",
              "      <th></th>\n",
              "      <th>profile_id</th>\n",
              "      <th>cts</th>\n",
              "      <th>cts2</th>\n",
              "      <th>time_passed</th>\n",
              "    </tr>\n",
              "  </thead>\n",
              "  <tbody>\n",
              "    <tr>\n",
              "      <th>35149671</th>\n",
              "      <td>3.0</td>\n",
              "      <td>2010-07-19 01:12:23</td>\n",
              "      <td>2010-08-21 06:40:27</td>\n",
              "      <td>33 days 05:28:04</td>\n",
              "    </tr>\n",
              "    <tr>\n",
              "      <th>34345686</th>\n",
              "      <td>4.0</td>\n",
              "      <td>2010-07-22 12:19:51</td>\n",
              "      <td>2010-07-24 03:18:08</td>\n",
              "      <td>1 days 14:58:17</td>\n",
              "    </tr>\n",
              "    <tr>\n",
              "      <th>7017555</th>\n",
              "      <td>4.0</td>\n",
              "      <td>2010-07-24 03:18:08</td>\n",
              "      <td>2010-09-03 07:22:03</td>\n",
              "      <td>41 days 04:03:55</td>\n",
              "    </tr>\n",
              "    <tr>\n",
              "      <th>4225968</th>\n",
              "      <td>3.0</td>\n",
              "      <td>2010-08-21 06:40:27</td>\n",
              "      <td>2010-09-05 21:48:24</td>\n",
              "      <td>15 days 15:07:57</td>\n",
              "    </tr>\n",
              "    <tr>\n",
              "      <th>30838561</th>\n",
              "      <td>4.0</td>\n",
              "      <td>2010-09-03 07:22:03</td>\n",
              "      <td>2011-01-30 20:18:02</td>\n",
              "      <td>149 days 12:55:59</td>\n",
              "    </tr>\n",
              "  </tbody>\n",
              "</table>\n",
              "</div>\n",
              "      <button class=\"colab-df-convert\" onclick=\"convertToInteractive('df-29a89996-8eff-4459-8d75-0bf960ef7cb5')\"\n",
              "              title=\"Convert this dataframe to an interactive table.\"\n",
              "              style=\"display:none;\">\n",
              "        \n",
              "  <svg xmlns=\"http://www.w3.org/2000/svg\" height=\"24px\"viewBox=\"0 0 24 24\"\n",
              "       width=\"24px\">\n",
              "    <path d=\"M0 0h24v24H0V0z\" fill=\"none\"/>\n",
              "    <path d=\"M18.56 5.44l.94 2.06.94-2.06 2.06-.94-2.06-.94-.94-2.06-.94 2.06-2.06.94zm-11 1L8.5 8.5l.94-2.06 2.06-.94-2.06-.94L8.5 2.5l-.94 2.06-2.06.94zm10 10l.94 2.06.94-2.06 2.06-.94-2.06-.94-.94-2.06-.94 2.06-2.06.94z\"/><path d=\"M17.41 7.96l-1.37-1.37c-.4-.4-.92-.59-1.43-.59-.52 0-1.04.2-1.43.59L10.3 9.45l-7.72 7.72c-.78.78-.78 2.05 0 2.83L4 21.41c.39.39.9.59 1.41.59.51 0 1.02-.2 1.41-.59l7.78-7.78 2.81-2.81c.8-.78.8-2.07 0-2.86zM5.41 20L4 18.59l7.72-7.72 1.47 1.35L5.41 20z\"/>\n",
              "  </svg>\n",
              "      </button>\n",
              "      \n",
              "  <style>\n",
              "    .colab-df-container {\n",
              "      display:flex;\n",
              "      flex-wrap:wrap;\n",
              "      gap: 12px;\n",
              "    }\n",
              "\n",
              "    .colab-df-convert {\n",
              "      background-color: #E8F0FE;\n",
              "      border: none;\n",
              "      border-radius: 50%;\n",
              "      cursor: pointer;\n",
              "      display: none;\n",
              "      fill: #1967D2;\n",
              "      height: 32px;\n",
              "      padding: 0 0 0 0;\n",
              "      width: 32px;\n",
              "    }\n",
              "\n",
              "    .colab-df-convert:hover {\n",
              "      background-color: #E2EBFA;\n",
              "      box-shadow: 0px 1px 2px rgba(60, 64, 67, 0.3), 0px 1px 3px 1px rgba(60, 64, 67, 0.15);\n",
              "      fill: #174EA6;\n",
              "    }\n",
              "\n",
              "    [theme=dark] .colab-df-convert {\n",
              "      background-color: #3B4455;\n",
              "      fill: #D2E3FC;\n",
              "    }\n",
              "\n",
              "    [theme=dark] .colab-df-convert:hover {\n",
              "      background-color: #434B5C;\n",
              "      box-shadow: 0px 1px 3px 1px rgba(0, 0, 0, 0.15);\n",
              "      filter: drop-shadow(0px 1px 2px rgba(0, 0, 0, 0.3));\n",
              "      fill: #FFFFFF;\n",
              "    }\n",
              "  </style>\n",
              "\n",
              "      <script>\n",
              "        const buttonEl =\n",
              "          document.querySelector('#df-29a89996-8eff-4459-8d75-0bf960ef7cb5 button.colab-df-convert');\n",
              "        buttonEl.style.display =\n",
              "          google.colab.kernel.accessAllowed ? 'block' : 'none';\n",
              "\n",
              "        async function convertToInteractive(key) {\n",
              "          const element = document.querySelector('#df-29a89996-8eff-4459-8d75-0bf960ef7cb5');\n",
              "          const dataTable =\n",
              "            await google.colab.kernel.invokeFunction('convertToInteractive',\n",
              "                                                     [key], {});\n",
              "          if (!dataTable) return;\n",
              "\n",
              "          const docLinkHtml = 'Like what you see? Visit the ' +\n",
              "            '<a target=\"_blank\" href=https://colab.research.google.com/notebooks/data_table.ipynb>data table notebook</a>'\n",
              "            + ' to learn more about interactive tables.';\n",
              "          element.innerHTML = '';\n",
              "          dataTable['output_type'] = 'display_data';\n",
              "          await google.colab.output.renderOutput(dataTable, element);\n",
              "          const docLink = document.createElement('div');\n",
              "          docLink.innerHTML = docLinkHtml;\n",
              "          element.appendChild(docLink);\n",
              "        }\n",
              "      </script>\n",
              "    </div>\n",
              "  </div>\n",
              "  "
            ]
          },
          "metadata": {},
          "execution_count": 5
        }
      ]
    },
    {
      "cell_type": "code",
      "source": [
        "file2 =(\"/content/drive/MyDrive/ADM_HW2/instagram_profiles.csv\" )\n",
        "profiles = pd.read_csv(file2, usecols= ['profile_id','following','followers'], sep='\\t')\n",
        "timepass1 = pd.DataFrame(profiles[['profile_id','following','followers']])\n",
        "timepass1.head(3)\n"
      ],
      "metadata": {
        "colab": {
          "base_uri": "https://localhost:8080/",
          "height": 143
        },
        "id": "BZ6-vXzdrL6S",
        "outputId": "5eca2deb-0b65-49bc-f225-5fa18215604f"
      },
      "execution_count": null,
      "outputs": [
        {
          "output_type": "execute_result",
          "data": {
            "text/plain": [
              "     profile_id  following  followers\n",
              "0  4.721050e+09      250.0      146.0\n",
              "1  5.905830e+08      534.0     1145.0\n",
              "2  1.074147e+09      469.0      324.0"
            ],
            "text/html": [
              "\n",
              "  <div id=\"df-b59deb47-7b73-4bc0-93bb-3cdd9280fbbc\">\n",
              "    <div class=\"colab-df-container\">\n",
              "      <div>\n",
              "<style scoped>\n",
              "    .dataframe tbody tr th:only-of-type {\n",
              "        vertical-align: middle;\n",
              "    }\n",
              "\n",
              "    .dataframe tbody tr th {\n",
              "        vertical-align: top;\n",
              "    }\n",
              "\n",
              "    .dataframe thead th {\n",
              "        text-align: right;\n",
              "    }\n",
              "</style>\n",
              "<table border=\"1\" class=\"dataframe\">\n",
              "  <thead>\n",
              "    <tr style=\"text-align: right;\">\n",
              "      <th></th>\n",
              "      <th>profile_id</th>\n",
              "      <th>following</th>\n",
              "      <th>followers</th>\n",
              "    </tr>\n",
              "  </thead>\n",
              "  <tbody>\n",
              "    <tr>\n",
              "      <th>0</th>\n",
              "      <td>4.721050e+09</td>\n",
              "      <td>250.0</td>\n",
              "      <td>146.0</td>\n",
              "    </tr>\n",
              "    <tr>\n",
              "      <th>1</th>\n",
              "      <td>5.905830e+08</td>\n",
              "      <td>534.0</td>\n",
              "      <td>1145.0</td>\n",
              "    </tr>\n",
              "    <tr>\n",
              "      <th>2</th>\n",
              "      <td>1.074147e+09</td>\n",
              "      <td>469.0</td>\n",
              "      <td>324.0</td>\n",
              "    </tr>\n",
              "  </tbody>\n",
              "</table>\n",
              "</div>\n",
              "      <button class=\"colab-df-convert\" onclick=\"convertToInteractive('df-b59deb47-7b73-4bc0-93bb-3cdd9280fbbc')\"\n",
              "              title=\"Convert this dataframe to an interactive table.\"\n",
              "              style=\"display:none;\">\n",
              "        \n",
              "  <svg xmlns=\"http://www.w3.org/2000/svg\" height=\"24px\"viewBox=\"0 0 24 24\"\n",
              "       width=\"24px\">\n",
              "    <path d=\"M0 0h24v24H0V0z\" fill=\"none\"/>\n",
              "    <path d=\"M18.56 5.44l.94 2.06.94-2.06 2.06-.94-2.06-.94-.94-2.06-.94 2.06-2.06.94zm-11 1L8.5 8.5l.94-2.06 2.06-.94-2.06-.94L8.5 2.5l-.94 2.06-2.06.94zm10 10l.94 2.06.94-2.06 2.06-.94-2.06-.94-.94-2.06-.94 2.06-2.06.94z\"/><path d=\"M17.41 7.96l-1.37-1.37c-.4-.4-.92-.59-1.43-.59-.52 0-1.04.2-1.43.59L10.3 9.45l-7.72 7.72c-.78.78-.78 2.05 0 2.83L4 21.41c.39.39.9.59 1.41.59.51 0 1.02-.2 1.41-.59l7.78-7.78 2.81-2.81c.8-.78.8-2.07 0-2.86zM5.41 20L4 18.59l7.72-7.72 1.47 1.35L5.41 20z\"/>\n",
              "  </svg>\n",
              "      </button>\n",
              "      \n",
              "  <style>\n",
              "    .colab-df-container {\n",
              "      display:flex;\n",
              "      flex-wrap:wrap;\n",
              "      gap: 12px;\n",
              "    }\n",
              "\n",
              "    .colab-df-convert {\n",
              "      background-color: #E8F0FE;\n",
              "      border: none;\n",
              "      border-radius: 50%;\n",
              "      cursor: pointer;\n",
              "      display: none;\n",
              "      fill: #1967D2;\n",
              "      height: 32px;\n",
              "      padding: 0 0 0 0;\n",
              "      width: 32px;\n",
              "    }\n",
              "\n",
              "    .colab-df-convert:hover {\n",
              "      background-color: #E2EBFA;\n",
              "      box-shadow: 0px 1px 2px rgba(60, 64, 67, 0.3), 0px 1px 3px 1px rgba(60, 64, 67, 0.15);\n",
              "      fill: #174EA6;\n",
              "    }\n",
              "\n",
              "    [theme=dark] .colab-df-convert {\n",
              "      background-color: #3B4455;\n",
              "      fill: #D2E3FC;\n",
              "    }\n",
              "\n",
              "    [theme=dark] .colab-df-convert:hover {\n",
              "      background-color: #434B5C;\n",
              "      box-shadow: 0px 1px 3px 1px rgba(0, 0, 0, 0.15);\n",
              "      filter: drop-shadow(0px 1px 2px rgba(0, 0, 0, 0.3));\n",
              "      fill: #FFFFFF;\n",
              "    }\n",
              "  </style>\n",
              "\n",
              "      <script>\n",
              "        const buttonEl =\n",
              "          document.querySelector('#df-b59deb47-7b73-4bc0-93bb-3cdd9280fbbc button.colab-df-convert');\n",
              "        buttonEl.style.display =\n",
              "          google.colab.kernel.accessAllowed ? 'block' : 'none';\n",
              "\n",
              "        async function convertToInteractive(key) {\n",
              "          const element = document.querySelector('#df-b59deb47-7b73-4bc0-93bb-3cdd9280fbbc');\n",
              "          const dataTable =\n",
              "            await google.colab.kernel.invokeFunction('convertToInteractive',\n",
              "                                                     [key], {});\n",
              "          if (!dataTable) return;\n",
              "\n",
              "          const docLinkHtml = 'Like what you see? Visit the ' +\n",
              "            '<a target=\"_blank\" href=https://colab.research.google.com/notebooks/data_table.ipynb>data table notebook</a>'\n",
              "            + ' to learn more about interactive tables.';\n",
              "          element.innerHTML = '';\n",
              "          dataTable['output_type'] = 'display_data';\n",
              "          await google.colab.output.renderOutput(dataTable, element);\n",
              "          const docLink = document.createElement('div');\n",
              "          docLink.innerHTML = docLinkHtml;\n",
              "          element.appendChild(docLink);\n",
              "        }\n",
              "      </script>\n",
              "    </div>\n",
              "  </div>\n",
              "  "
            ]
          },
          "metadata": {},
          "execution_count": 6
        }
      ]
    },
    {
      "cell_type": "code",
      "source": [
        "time=time.sort_values(by=['time_passed'])\n",
        "time = pd.concat([time, timepass1], ignore_index=True, sort=False)\n"
      ],
      "metadata": {
        "id": "5VHh1qNNwn00"
      },
      "execution_count": null,
      "outputs": []
    },
    {
      "cell_type": "code",
      "source": [
        "time.head(3)"
      ],
      "metadata": {
        "colab": {
          "base_uri": "https://localhost:8080/",
          "height": 143
        },
        "id": "Lr9bMUZGpD27",
        "outputId": "360055dc-a18d-4fa8-cfad-c96045cfa5ac"
      },
      "execution_count": null,
      "outputs": [
        {
          "output_type": "execute_result",
          "data": {
            "text/plain": [
              "     profile_id                 cts                cts2 time_passed  \\\n",
              "0  2.322199e+09 2019-03-09 14:30:01 2019-03-09 14:30:01      0 days   \n",
              "1  1.176368e+10 2019-04-02 15:58:42 2019-04-02 15:58:42      0 days   \n",
              "2  1.522211e+09 2016-05-16 16:46:07 2016-05-16 16:46:07      0 days   \n",
              "\n",
              "   following  followers  \n",
              "0        NaN        NaN  \n",
              "1        NaN        NaN  \n",
              "2        NaN        NaN  "
            ],
            "text/html": [
              "\n",
              "  <div id=\"df-3d4b2f3a-9601-40a9-b8c5-d9ce5db34420\">\n",
              "    <div class=\"colab-df-container\">\n",
              "      <div>\n",
              "<style scoped>\n",
              "    .dataframe tbody tr th:only-of-type {\n",
              "        vertical-align: middle;\n",
              "    }\n",
              "\n",
              "    .dataframe tbody tr th {\n",
              "        vertical-align: top;\n",
              "    }\n",
              "\n",
              "    .dataframe thead th {\n",
              "        text-align: right;\n",
              "    }\n",
              "</style>\n",
              "<table border=\"1\" class=\"dataframe\">\n",
              "  <thead>\n",
              "    <tr style=\"text-align: right;\">\n",
              "      <th></th>\n",
              "      <th>profile_id</th>\n",
              "      <th>cts</th>\n",
              "      <th>cts2</th>\n",
              "      <th>time_passed</th>\n",
              "      <th>following</th>\n",
              "      <th>followers</th>\n",
              "    </tr>\n",
              "  </thead>\n",
              "  <tbody>\n",
              "    <tr>\n",
              "      <th>0</th>\n",
              "      <td>2.322199e+09</td>\n",
              "      <td>2019-03-09 14:30:01</td>\n",
              "      <td>2019-03-09 14:30:01</td>\n",
              "      <td>0 days</td>\n",
              "      <td>NaN</td>\n",
              "      <td>NaN</td>\n",
              "    </tr>\n",
              "    <tr>\n",
              "      <th>1</th>\n",
              "      <td>1.176368e+10</td>\n",
              "      <td>2019-04-02 15:58:42</td>\n",
              "      <td>2019-04-02 15:58:42</td>\n",
              "      <td>0 days</td>\n",
              "      <td>NaN</td>\n",
              "      <td>NaN</td>\n",
              "    </tr>\n",
              "    <tr>\n",
              "      <th>2</th>\n",
              "      <td>1.522211e+09</td>\n",
              "      <td>2016-05-16 16:46:07</td>\n",
              "      <td>2016-05-16 16:46:07</td>\n",
              "      <td>0 days</td>\n",
              "      <td>NaN</td>\n",
              "      <td>NaN</td>\n",
              "    </tr>\n",
              "  </tbody>\n",
              "</table>\n",
              "</div>\n",
              "      <button class=\"colab-df-convert\" onclick=\"convertToInteractive('df-3d4b2f3a-9601-40a9-b8c5-d9ce5db34420')\"\n",
              "              title=\"Convert this dataframe to an interactive table.\"\n",
              "              style=\"display:none;\">\n",
              "        \n",
              "  <svg xmlns=\"http://www.w3.org/2000/svg\" height=\"24px\"viewBox=\"0 0 24 24\"\n",
              "       width=\"24px\">\n",
              "    <path d=\"M0 0h24v24H0V0z\" fill=\"none\"/>\n",
              "    <path d=\"M18.56 5.44l.94 2.06.94-2.06 2.06-.94-2.06-.94-.94-2.06-.94 2.06-2.06.94zm-11 1L8.5 8.5l.94-2.06 2.06-.94-2.06-.94L8.5 2.5l-.94 2.06-2.06.94zm10 10l.94 2.06.94-2.06 2.06-.94-2.06-.94-.94-2.06-.94 2.06-2.06.94z\"/><path d=\"M17.41 7.96l-1.37-1.37c-.4-.4-.92-.59-1.43-.59-.52 0-1.04.2-1.43.59L10.3 9.45l-7.72 7.72c-.78.78-.78 2.05 0 2.83L4 21.41c.39.39.9.59 1.41.59.51 0 1.02-.2 1.41-.59l7.78-7.78 2.81-2.81c.8-.78.8-2.07 0-2.86zM5.41 20L4 18.59l7.72-7.72 1.47 1.35L5.41 20z\"/>\n",
              "  </svg>\n",
              "      </button>\n",
              "      \n",
              "  <style>\n",
              "    .colab-df-container {\n",
              "      display:flex;\n",
              "      flex-wrap:wrap;\n",
              "      gap: 12px;\n",
              "    }\n",
              "\n",
              "    .colab-df-convert {\n",
              "      background-color: #E8F0FE;\n",
              "      border: none;\n",
              "      border-radius: 50%;\n",
              "      cursor: pointer;\n",
              "      display: none;\n",
              "      fill: #1967D2;\n",
              "      height: 32px;\n",
              "      padding: 0 0 0 0;\n",
              "      width: 32px;\n",
              "    }\n",
              "\n",
              "    .colab-df-convert:hover {\n",
              "      background-color: #E2EBFA;\n",
              "      box-shadow: 0px 1px 2px rgba(60, 64, 67, 0.3), 0px 1px 3px 1px rgba(60, 64, 67, 0.15);\n",
              "      fill: #174EA6;\n",
              "    }\n",
              "\n",
              "    [theme=dark] .colab-df-convert {\n",
              "      background-color: #3B4455;\n",
              "      fill: #D2E3FC;\n",
              "    }\n",
              "\n",
              "    [theme=dark] .colab-df-convert:hover {\n",
              "      background-color: #434B5C;\n",
              "      box-shadow: 0px 1px 3px 1px rgba(0, 0, 0, 0.15);\n",
              "      filter: drop-shadow(0px 1px 2px rgba(0, 0, 0, 0.3));\n",
              "      fill: #FFFFFF;\n",
              "    }\n",
              "  </style>\n",
              "\n",
              "      <script>\n",
              "        const buttonEl =\n",
              "          document.querySelector('#df-3d4b2f3a-9601-40a9-b8c5-d9ce5db34420 button.colab-df-convert');\n",
              "        buttonEl.style.display =\n",
              "          google.colab.kernel.accessAllowed ? 'block' : 'none';\n",
              "\n",
              "        async function convertToInteractive(key) {\n",
              "          const element = document.querySelector('#df-3d4b2f3a-9601-40a9-b8c5-d9ce5db34420');\n",
              "          const dataTable =\n",
              "            await google.colab.kernel.invokeFunction('convertToInteractive',\n",
              "                                                     [key], {});\n",
              "          if (!dataTable) return;\n",
              "\n",
              "          const docLinkHtml = 'Like what you see? Visit the ' +\n",
              "            '<a target=\"_blank\" href=https://colab.research.google.com/notebooks/data_table.ipynb>data table notebook</a>'\n",
              "            + ' to learn more about interactive tables.';\n",
              "          element.innerHTML = '';\n",
              "          dataTable['output_type'] = 'display_data';\n",
              "          await google.colab.output.renderOutput(dataTable, element);\n",
              "          const docLink = document.createElement('div');\n",
              "          docLink.innerHTML = docLinkHtml;\n",
              "          element.appendChild(docLink);\n",
              "        }\n",
              "      </script>\n",
              "    </div>\n",
              "  </div>\n",
              "  "
            ]
          },
          "metadata": {},
          "execution_count": 8
        }
      ]
    },
    {
      "cell_type": "code",
      "source": [
        "from datetime import timedelta\n",
        "users_pub = time.loc[time['time_passed'] != timedelta(days = 0, minutes = 0, seconds = 0), 'profile_id'].value_counts().head(3)\n",
        "users_pub"
      ],
      "metadata": {
        "colab": {
          "base_uri": "https://localhost:8080/"
        },
        "id": "iEgF4o47v-SR",
        "outputId": "18e8ec0d-f0d9-46e8-ef34-2da1bb3f34ab"
      },
      "execution_count": null,
      "outputs": [
        {
          "output_type": "execute_result",
          "data": {
            "text/plain": [
              "5.421037e+09    600\n",
              "1.287812e+10    587\n",
              "1.241325e+10    570\n",
              "Name: profile_id, dtype: int64"
            ]
          },
          "metadata": {},
          "execution_count": 9
        }
      ]
    },
    {
      "cell_type": "code",
      "source": [
        "import seaborn as sns\n",
        "sns.set()\n",
        "\n",
        "#users_pub = time.loc[time['time_passed'] != timedelta(days = 0, minutes = 0, seconds = 0), 'profile_id'].value_counts().head(3)\n",
        "\n",
        "users_pub.plot.bar(figsize = (14,8), color = 'firebrick', zorder=3)\n",
        "plt.title('The users that publish posts more frequently')\n",
        "plt.xlabel('User id')\n",
        "plt.ylabel('Number of posts')\n",
        "plt.show()\n",
        "\n"
      ],
      "metadata": {
        "colab": {
          "base_uri": "https://localhost:8080/",
          "height": 595
        },
        "id": "3GD7UZboqwd-",
        "outputId": "6a31dc4d-2618-4d93-9d96-e5945035b4a7"
      },
      "execution_count": null,
      "outputs": [
        {
          "output_type": "display_data",
          "data": {
            "text/plain": [
              "<Figure size 1008x576 with 1 Axes>"
            ],
            "image/png": "[encoded data removed]"
          },
          "metadata": {}
        }
      ]
    },
    {
      "cell_type": "code",
      "source": [
        "#Using the function you previously coded, plot the time intervals with the highest average number of “likes” and the ones with the highest average number of comments on posts.\n",
        "\n",
        "filepo =(\"/content/drive/MyDrive/ADM_HW2/instagram_posts.csv\" )\n",
        "post = pd.read_csv(filepo, usecols= ['profile_id','cts','numbr_likes','number_comments'], sep='\\t')\n",
        "post = pd.DataFrame(post[['profile_id','cts','numbr_likes','number_comments']])\n",
        "\n",
        "\n",
        "\n"
      ],
      "metadata": {
        "id": "C0WmiKffjdi3"
      },
      "execution_count": 3,
      "outputs": []
    },
    {
      "cell_type": "code",
      "source": [
        "post['cts']=pd.DatetimeIndex(post['cts']).hour\n",
        "post['cts']= post['cts'].multiply(10000)\n",
        "post = pd.DataFrame(post[['profile_id','cts','numbr_likes','number_comments']])"
      ],
      "metadata": {
        "id": "ndchs7_1nQIr"
      },
      "execution_count": 4,
      "outputs": []
    },
    {
      "cell_type": "code",
      "source": [
        "def time_interval_like(df, time, intervals):\n",
        "    time_inter = {}\n",
        "    for i in intervals:\n",
        "        result = (df[(time >= i[0]) & (time < i[1])]).mean()\n",
        "        time_inter[str(i)] = result\n",
        "    \n",
        "    plt.subplots(figsize =(14, 8))\n",
        "    plt.bar(list(time_inter.keys()), time_inter.values(), color = 'firebrick')\n",
        "    plt.xticks([r for r in range(len(time_inter.values()))],\n",
        "        [('06:00:00', '10:59:59'),('11:00:00', '13:59:59'),('14:00:00', '16:59:59'),('17:00:00', '19:59:59'),('20:00:00', '23:59:59'),('00:00:00', '02:59:59'),('03:00:00', '05:59:59')]\n",
        "        ,rotation = 90)\n",
        "    plt.xlabel('The time interval')\n",
        "    plt.ylabel('The average number of likes')\n",
        "    plt.title('The average number of likes for each given interval')\n",
        "    plt.show() \n",
        "time_intervals = [(60000, 105959), (110000, 135959), (140000, 165959), (170000, 195959), (200000, 235959), (00000, 25959), (30000, 55959)]\n"
      ],
      "metadata": {
        "id": "TSVnU1oH0IT3"
      },
      "execution_count": 19,
      "outputs": []
    },
    {
      "cell_type": "code",
      "source": [
        "#Use the function that you created in the previous literal to plot the number of posts between the following time intervals:\n",
        "interval=[('06:00:00', '10:59:59'),('11:00:00', '13:59:59'),('14:00:00', '16:59:59'),('17:00:00', '19:59:59'),('20:00:00', '23:59:59'),('00:00:00', '02:59:59'),('03:00:00', '05:59:59')]\n",
        "#plot the time intervals of average number of likes \n",
        "time_interval_like(post.numbr_likes,post.cts,time_intervals)"
      ],
      "metadata": {
        "colab": {
          "base_uri": "https://localhost:8080/",
          "height": 644
        },
        "id": "mQA_ZOyvyHrf",
        "outputId": "79e650f0-5472-4edd-8db4-a73fbd0b8c7f"
      },
      "execution_count": 17,
      "outputs": [
        {
          "output_type": "display_data",
          "data": {
            "text/plain": [
              "<Figure size 1008x576 with 1 Axes>"
            ],
            "image/png": "[encoded data removed]"
          },
          "metadata": {}
        }
      ]
    },
    {
      "cell_type": "markdown",
      "source": [
        "-the time intervals with the highest average number of likes is: '17:00:00', '19:59:59'\n",
        "\n",
        "\n"
      ],
      "metadata": {
        "id": "WM2mcUvqP4PT"
      }
    },
    {
      "cell_type": "code",
      "source": [
        "def time_interval_comments(df, time, intervals):\n",
        "    time_inter = {}\n",
        "    for i in intervals:\n",
        "        result = (df[(time >= i[0]) & (time < i[1])]).mean()\n",
        "        time_inter[str(i)] = result\n",
        "    \n",
        "    plt.subplots(figsize =(14, 8))\n",
        "    plt.bar(list(time_inter.keys()), time_inter.values(), color = 'firebrick')\n",
        "    plt.xticks([r for r in range(len(time_inter.values()))],\n",
        "        [('06:00:00', '10:59:59'),('11:00:00', '13:59:59'),('14:00:00', '16:59:59'),('17:00:00', '19:59:59'),('20:00:00', '23:59:59'),('00:00:00', '02:59:59'),('03:00:00', '05:59:59')]\n",
        "        ,rotation = 90)\n",
        "    plt.xlabel('The time interval')\n",
        "    plt.ylabel('The average number of comments')\n",
        "    plt.title('The average number of likes for each given comments')\n",
        "    plt.show() \n",
        "time_intervals = [(60000, 105959), (110000, 135959), (140000, 165959), (170000, 195959), (200000, 235959), (00000, 25959), (30000, 55959)]\n"
      ],
      "metadata": {
        "id": "5zA-ejKPQMS_"
      },
      "execution_count": 21,
      "outputs": []
    },
    {
      "cell_type": "code",
      "source": [
        "#Use the function that you created in the previous literal to plot the number of posts between the following time intervals:\n",
        "interval=[('06:00:00', '10:59:59'),('11:00:00', '13:59:59'),('14:00:00', '16:59:59'),('17:00:00', '19:59:59'),('20:00:00', '23:59:59'),('00:00:00', '02:59:59'),('03:00:00', '05:59:59')]\n",
        "#plot the time intervals of average number of comments \n",
        "time_interval_comments(post.number_comments,post.cts,time_intervals)"
      ],
      "metadata": {
        "id": "iC-gzo5zQXnQ",
        "outputId": "2da2356a-3840-4efd-d1e8-7cae6b69c24d",
        "colab": {
          "base_uri": "https://localhost:8080/",
          "height": 634
        }
      },
      "execution_count": 23,
      "outputs": [
        {
          "output_type": "display_data",
          "data": {
            "text/plain": [
              "<Figure size 1008x576 with 1 Axes>"
            ],
            "image/png": "[encoded data removed]"
          },
          "metadata": {}
        }
      ]
    },
    {
      "cell_type": "markdown",
      "source": [
        "-the time intervals with the highest average number of comments is: '17:00:00', '19:59:59'\n",
        "\n",
        "\n"
      ],
      "metadata": {
        "id": "CMnhJKymQ3Sa"
      }
    },
    {
      "cell_type": "markdown",
      "source": [
        "# **Algorithmic Question**"
      ],
      "metadata": {
        "id": "cNzjYxFsoKnA"
      }
    },
    {
      "cell_type": "markdown",
      "source": [
        "#[AQ1] Given the following pseudocode, answer the questions:\n"
      ],
      "metadata": {
        "id": "gus78WoDohjJ"
      }
    },
    {
      "cell_type": "code",
      "source": [
        "#What is the output of this algorithm? Describe the mechanism of the algorithm in detail . We do not want to know only its final result. (Describe one example on your own)\n"
      ],
      "metadata": {
        "id": "pXCDG7A-oJ-W"
      },
      "execution_count": null,
      "outputs": []
    },
    {
      "cell_type": "code",
      "source": [
        "#What is asymptotically (i.e., we are asking for big-O complexity) the algorithm's running time as a function of N?\n"
      ],
      "metadata": {
        "id": "qoo8Nmat3xQk"
      },
      "execution_count": null,
      "outputs": []
    },
    {
      "cell_type": "code",
      "source": [
        "#Is this algorithm the optimal one to produce this output? If not, can you suggest a better algorithm to perform the same task?"
      ],
      "metadata": {
        "id": "R0dADSf43xeP"
      },
      "execution_count": null,
      "outputs": []
    },
    {
      "cell_type": "markdown",
      "source": [
        "# [AQ2] Considering the following problem, answer the questions:\n"
      ],
      "metadata": {
        "id": "wmt8XPESolcN"
      }
    },
    {
      "cell_type": "markdown",
      "source": [
        "1- Implement a recursive algorithm to help Alex find the maximum possible value after multiplying the length of the pieces. Explain your algorithm in detail."
      ],
      "metadata": {
        "id": "sLVZe1myv3_C"
      }
    },
    {
      "cell_type": "code",
      "source": [
        "#Implement a recursive algorithm to help Alex find the maximum possible value after multiplying the length of the pieces. Explain your algorithm in detail.\n",
        "\n",
        "def cut_recursive(N):\n",
        "    # base case 1 = 0 + 1 zero cut one piece\n",
        "    if (N == 1):\n",
        "        return 0\n",
        "    # base case 2 = 1 + 1 one cuts two pieces\n",
        "    elif (N == 2):\n",
        "        return 1\n",
        "    #  base case 3 = 2 + 1 two cuts three pieces\n",
        "    elif (N == 3):\n",
        "        return 2\n",
        "    # More than two cuts\n",
        "    else:\n",
        "        # Make cuts in different places, take the maximum possible\n",
        "        max_possible = 0\n",
        "        for i in range(2, N - 1):\n",
        "            max_possible = max(max_possible, max(i * (N - i), i * cut_recursive(N - i)))\n",
        "    # Return the maximum possible value \n",
        "    return max_possible\n"
      ],
      "metadata": {
        "id": "7QEyp4Qooqu3"
      },
      "execution_count": null,
      "outputs": []
    },
    {
      "cell_type": "markdown",
      "source": [
        "2- Show that the algorithm has exponential running time.\n",
        "\n",
        "- The recusive algorithm while calculating the max_possible the function calls itself several times which form a tree most of it's nodes are redundant, therefore the time complexity is exponential O(2^n)."
      ],
      "metadata": {
        "id": "xFR7vumKZ4y6"
      }
    },
    {
      "cell_type": "markdown",
      "source": [
        "3- Now provide a polynomial solution, based on dynamic programming, and compute its running-time complexity."
      ],
      "metadata": {
        "id": "u_QpcCAXwM-a"
      }
    },
    {
      "cell_type": "code",
      "source": [
        "#Now provide a polynomial solution, based on dynamic programming, and compute its running-time complexity.\n",
        "\n",
        "def cut_dypro(N):\n",
        "    pol=[]\n",
        "    for i in range(N + 1):\n",
        "        pol.append(0)\n",
        "    for i in range(1, N + 1):\n",
        "        max_possible = 0\n",
        "        for j in range(1, i):\n",
        "            max_possible = max(max_possible, (i - j) * j, j * pol[i - j])\n",
        "            pol[i] = max_possible\n",
        "    return pol[N]\n"
      ],
      "metadata": {
        "id": "FxhQRRjt3NtV"
      },
      "execution_count": null,
      "outputs": []
    },
    {
      "cell_type": "markdown",
      "source": [
        "- Compute its running-time complexity.\n",
        "\n",
        "\n",
        "Time Complexity of the Dynamic Programming solution is O(n^2) "
      ],
      "metadata": {
        "id": "aRV2YiCKadoI"
      }
    },
    {
      "cell_type": "markdown",
      "source": [
        "4- Evaluate the running time of your algorithm for the sizes (Ns) in the range of [2, 25], plot the results, and interpret it (if you have implemented two algorithms, please include both in the plot and compare them)."
      ],
      "metadata": {
        "id": "KlczSH5XwSkC"
      }
    },
    {
      "cell_type": "code",
      "source": [
        "#Evaluate the running time of your algorithm for the sizes (Ns) in the range of [2, 25], plot the results, and interpret it (if you have implemented two algorithms, please include both in the plot and compare them).\n",
        "\n",
        "#The running time of recursive algorithm for the sizes in the range of [2, 25]\n",
        "\n",
        "import time\n",
        "from datetime import timedelta\n",
        "start_time = time.monotonic()\n",
        "print([cut_recursive(n) for n in range(2,25)])\n",
        "end_time = time.monotonic()\n",
        "print(timedelta(seconds=end_time - start_time))\n"
      ],
      "metadata": {
        "colab": {
          "base_uri": "https://localhost:8080/"
        },
        "id": "5WBekr-73Px9",
        "outputId": "b65717e9-64fe-41ed-86bc-9f6cbb1ccfce"
      },
      "execution_count": null,
      "outputs": [
        {
          "output_type": "stream",
          "name": "stdout",
          "text": [
            "[1, 2, 4, 6, 9, 12, 18, 27, 36, 54, 81, 108, 162, 243, 324, 486, 729, 972, 1458, 2187, 2916, 4374, 6561]\n",
            "0:00:00.048916\n"
          ]
        }
      ]
    },
    {
      "cell_type": "code",
      "source": [
        "#The running time of dynamic programming algorithm for the sizes in the range of [2, 25]\n",
        "\n",
        "import time\n",
        "from datetime import timedelta\n",
        "start_time = time.monotonic()\n",
        "print([cut_dypro(n) for n in range(2,25)])\n",
        "end_time = time.monotonic()\n",
        "print(timedelta(seconds=end_time - start_time))\n"
      ],
      "metadata": {
        "colab": {
          "base_uri": "https://localhost:8080/"
        },
        "id": "AAQ7bGzk_r5K",
        "outputId": "b9eec995-0b5e-4167-dec8-f2d012ba0be3"
      },
      "execution_count": null,
      "outputs": [
        {
          "output_type": "stream",
          "name": "stdout",
          "text": [
            "[1, 2, 4, 6, 9, 12, 18, 27, 36, 54, 81, 108, 162, 243, 324, 486, 729, 972, 1458, 2187, 2916, 4374, 6561]\n",
            "0:00:00.000964\n"
          ]
        }
      ]
    },
    {
      "cell_type": "code",
      "source": [
        "#plot the results, and interpret it (if you have implemented two algorithms, please include both in the plot and compare them).\n",
        "\n",
        "from matplotlib import pyplot as plt\n",
        "from matplotlib.pyplot import figure\n",
        "import timeit\n",
        "\n",
        "ns1 = range(2,25)\n",
        "ts1 = [timeit.timeit('cut_recursive({})'.format(n),\n",
        "                    globals=globals(),\n",
        "                    number=1)\n",
        "         for n in ns1]\n",
        "ns2 = range(2,25)\n",
        "ts2 = [timeit.timeit('cut_dypro({})'.format(n),\n",
        "                    globals=globals(),\n",
        "                    number=1)\n",
        "         for n in ns2]\n",
        "sns.set()\n",
        "figure(figsize=(14, 8))\n",
        "plt.plot(ns1, ts1, '-r', label= 'recursive')\n",
        "plt.plot(ns2, ts2, '-b', label= 'dynamic programming')\n",
        "plt.xlabel('The range(2, 25)') \n",
        "plt.ylabel('The running time of the algorithm') \n",
        "plt.title('The running time of the algorithms on the range of [2, 25]')\n",
        "plt.legend()\n",
        "plt.show()\n"
      ],
      "metadata": {
        "colab": {
          "base_uri": "https://localhost:8080/",
          "height": 518
        },
        "id": "WjK_8URJa77v",
        "outputId": "3e3273ce-9f02-442e-84db-6ea425b694e3"
      },
      "execution_count": null,
      "outputs": [
        {
          "output_type": "display_data",
          "data": {
            "text/plain": [
              "<Figure size 1008x576 with 1 Axes>"
            ],
            "image/png": "[encoded data removed]"
          },
          "metadata": {}
        }
      ]
    },
    {
      "cell_type": "markdown",
      "source": [
        "\n",
        "\n",
        "From the plot we can see that the dynamic programming algorithm running time is much less than the recursive algorithm, hence it makes the code run faster and reduce the time complexity.\n",
        "\n",
        "\n"
      ],
      "metadata": {
        "id": "__rjt2ZclqfX"
      }
    },
    {
      "cell_type": "markdown",
      "source": [
        "5- (Optional, mini bonus) Is the algorithm of question 3 optimal? If you belive it, can you prove it? If not, can you find a faster algorithm? In case you found a faster algorithm implement it and explain your algorithm in detail."
      ],
      "metadata": {
        "id": "FIZrZkqKVHK9"
      }
    },
    {
      "cell_type": "code",
      "source": [
        "#(Optional, mini bonus) Is the algorithm of question 3 optimal? If you belive it, can you prove it? If not, can you find a faster algorithm? In case you found a faster algorithm implement it and explain your algorithm in detail.\n",
        "\n",
        "def cut_rub(n):\n",
        "    # n less or equals than 3\n",
        "    if (n <= 3):\n",
        "        return (n - 1)\n",
        "    # while n is greater than 4 we remove parts of size 3\n",
        "    num = 1\n",
        "    while (n > 4):\n",
        "        n = n - 3; \n",
        "        # we multiply num by 3\n",
        "        num = num * 3;\n",
        "    # finaly we multiply the last part with the previous ones\n",
        "    nf=n * num\n",
        "    return nf"
      ],
      "metadata": {
        "id": "47si1oDZN8bw"
      },
      "execution_count": null,
      "outputs": []
    },
    {
      "cell_type": "code",
      "source": [
        "import time\n",
        "from datetime import timedelta\n",
        "start_time = time.monotonic()\n",
        "print([cut_rub(n) for n in range(2,25)])\n",
        "end_time = time.monotonic()\n",
        "print(timedelta(seconds=end_time - start_time))\n"
      ],
      "metadata": {
        "colab": {
          "base_uri": "https://localhost:8080/"
        },
        "id": "iwv_AqTrVYra",
        "outputId": "6b887af1-7566-4a1c-e496-f5376050f06a"
      },
      "execution_count": null,
      "outputs": [
        {
          "output_type": "stream",
          "name": "stdout",
          "text": [
            "[1, 2, 4, 6, 9, 12, 18, 27, 36, 54, 81, 108, 162, 243, 324, 486, 729, 972, 1458, 2187, 2916, 4374, 6561]\n",
            "0:00:00.000704\n"
          ]
        }
      ]
    },
    {
      "cell_type": "markdown",
      "source": [
        "- As we can see this algorithm is faster than the dynamical programming algorithm, as conclusion we can say that the dynamical programming algorithm is not optimal."
      ],
      "metadata": {
        "id": "MYb-7KxHVz7j"
      }
    }
  ]
}